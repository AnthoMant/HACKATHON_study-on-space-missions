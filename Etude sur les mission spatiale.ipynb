{
  "nbformat": 4,
  "nbformat_minor": 0,
  "metadata": {
    "colab": {
      "name": "HACKATON- Anthony MANTERNACH .ipynb",
      "provenance": [],
      "collapsed_sections": [
        "IC6qH-TEAFaq",
        "1HOhj9-7AK04",
        "hnR77gvyKhzt",
        "mKpWJMzAwSMG",
        "dJz45339tOJR",
        "z5WpJxCotYQO",
        "JlVEFPWg1Yn8",
        "RTy24RfEwSQi",
        "jLDGdTxgmzJN",
        "kemcDn4kwSIh",
        "47feZ_LEwj0T",
        "2aj3ismLwjw3"
      ],
      "include_colab_link": true
    },
    "kernelspec": {
      "name": "python3",
      "display_name": "Python 3"
    },
    "language_info": {
      "name": "python"
    }
  },
  "cells": [
    {
      "cell_type": "markdown",
      "metadata": {
        "id": "view-in-github",
        "colab_type": "text"
      },
      "source": [
        "<a href=\"https://colab.research.google.com/github/AnthoMant/HACKATHON_study-on-space-missions/blob/main/Etude%20sur%20les%20mission%20spatiale.ipynb\" target=\"_parent\"><img src=\"https://colab.research.google.com/assets/colab-badge.svg\" alt=\"Open In Colab\"/></a>"
      ]
    },
    {
      "cell_type": "code",
      "metadata": {
        "id": "_H-pzUq8QRIl"
      },
      "source": [
        "#data viz\n",
        "import matplotlib.pyplot as plt\n",
        "import seaborn as sns\n",
        "\n",
        "#importing plotting libraries\n",
        "import pandas as pd\n",
        "import numpy as np\n",
        "import plotly.graph_objs as go\n",
        "import plotly.express as px\n",
        "from plotly.subplots import make_subplots\n",
        "\n",
        "#preprocess\n",
        "from sklearn.preprocessing import LabelEncoder\n",
        "from sklearn.preprocessing import StandardScaler\n",
        "from sklearn.utils import resample\n",
        "from sklearn.model_selection import train_test_split\n",
        "\n",
        "#importing modeling libraries\n",
        "import xgboost as xgb\n",
        "from sklearn.ensemble import RandomForestClassifier\n",
        "\n",
        "#models\n",
        "from sklearn.linear_model import LogisticRegression\n",
        "from sklearn.tree import DecisionTreeClassifier\n",
        "from sklearn.neighbors import KNeighborsClassifier\n",
        "\n",
        "#metrics \n",
        "from sklearn.metrics import classification_report\n",
        "from sklearn.metrics import roc_curve\n",
        "from sklearn.metrics import f1_score, precision_score,recall_score\n",
        "from sklearn.metrics import roc_auc_score\n",
        "from sklearn.metrics import accuracy_score, confusion_matrix\n",
        "from sklearn.metrics import mean_squared_error\n",
        "from sklearn.model_selection import cross_val_score\n",
        "from sklearn.model_selection import GridSearchCV\n",
        "\n",
        "#autres:\n",
        "import time\n",
        "import math as m\n",
        "from scipy.spatial import distance\n",
        "from google.colab import drive\n",
        "from datetime import datetime\n",
        "import re"
      ],
      "execution_count": null,
      "outputs": []
    },
    {
      "cell_type": "code",
      "metadata": {
        "colab": {
          "base_uri": "https://localhost:8080/",
          "height": 273
        },
        "id": "_hO-EAO8_nRh",
        "outputId": "e891c125-14b5-4b0a-b14a-e4d76d2231df"
      },
      "source": [
        "!pip install --upgrade plotly"
      ],
      "execution_count": null,
      "outputs": [
        {
          "output_type": "stream",
          "text": [
            "Collecting plotly\n",
            "\u001b[?25l  Downloading https://files.pythonhosted.org/packages/1f/f6/bd3c17c8003b6641df1228e80e1acac97ed8402635e46c2571f8e1ef63af/plotly-4.14.3-py2.py3-none-any.whl (13.2MB)\n",
            "\u001b[K     |████████████████████████████████| 13.2MB 271kB/s \n",
            "\u001b[?25hRequirement already satisfied, skipping upgrade: six in /usr/local/lib/python3.7/dist-packages (from plotly) (1.15.0)\n",
            "Requirement already satisfied, skipping upgrade: retrying>=1.3.3 in /usr/local/lib/python3.7/dist-packages (from plotly) (1.3.3)\n",
            "Installing collected packages: plotly\n",
            "  Found existing installation: plotly 4.4.1\n",
            "    Uninstalling plotly-4.4.1:\n",
            "      Successfully uninstalled plotly-4.4.1\n",
            "Successfully installed plotly-4.14.3\n"
          ],
          "name": "stdout"
        },
        {
          "output_type": "display_data",
          "data": {
            "application/vnd.colab-display-data+json": {
              "pip_warning": {
                "packages": [
                  "_plotly_utils",
                  "plotly"
                ]
              }
            }
          },
          "metadata": {
            "tags": []
          }
        }
      ]
    },
    {
      "cell_type": "markdown",
      "metadata": {
        "id": "IC6qH-TEAFaq"
      },
      "source": [
        "# Importation de la base de données"
      ]
    },
    {
      "cell_type": "code",
      "metadata": {
        "colab": {
          "base_uri": "https://localhost:8080/"
        },
        "id": "w4X6dlQDQXMk",
        "outputId": "e17d74e5-15ed-4283-c057-68ee7afa7e38"
      },
      "source": [
        "drive.mount('/content/drive')"
      ],
      "execution_count": null,
      "outputs": [
        {
          "output_type": "stream",
          "text": [
            "Mounted at /content/drive\n"
          ],
          "name": "stdout"
        }
      ]
    },
    {
      "cell_type": "code",
      "metadata": {
        "id": "K-IpmUwUQeZh"
      },
      "source": [
        "space_cor=pd.read_csv('/content/drive/MyDrive/Les évadés/CSV/Space_Corrected.csv')"
      ],
      "execution_count": null,
      "outputs": []
    },
    {
      "cell_type": "markdown",
      "metadata": {
        "id": "1HOhj9-7AK04"
      },
      "source": [
        "# Exploration de la base de données"
      ]
    },
    {
      "cell_type": "code",
      "metadata": {
        "colab": {
          "base_uri": "https://localhost:8080/"
        },
        "id": "dPR43d-78Kpe",
        "outputId": "f9165f45-8214-4bf5-80a9-224cdf51635b"
      },
      "source": [
        "space_cor.head(30)"
      ],
      "execution_count": null,
      "outputs": [
        {
          "output_type": "execute_result",
          "data": {
            "text/html": [
              "<div>\n",
              "<style scoped>\n",
              "    .dataframe tbody tr th:only-of-type {\n",
              "        vertical-align: middle;\n",
              "    }\n",
              "\n",
              "    .dataframe tbody tr th {\n",
              "        vertical-align: top;\n",
              "    }\n",
              "\n",
              "    .dataframe thead th {\n",
              "        text-align: right;\n",
              "    }\n",
              "</style>\n",
              "<table border=\"1\" class=\"dataframe\">\n",
              "  <thead>\n",
              "    <tr style=\"text-align: right;\">\n",
              "      <th></th>\n",
              "      <th>Unnamed: 0</th>\n",
              "      <th>Unnamed: 0.1</th>\n",
              "      <th>Company Name</th>\n",
              "      <th>Location</th>\n",
              "      <th>Datum</th>\n",
              "      <th>Detail</th>\n",
              "      <th>Status Rocket</th>\n",
              "      <th>Rocket</th>\n",
              "      <th>Status Mission</th>\n",
              "    </tr>\n",
              "  </thead>\n",
              "  <tbody>\n",
              "    <tr>\n",
              "      <th>0</th>\n",
              "      <td>0</td>\n",
              "      <td>0</td>\n",
              "      <td>SpaceX</td>\n",
              "      <td>LC-39A, Kennedy Space Center, Florida, USA</td>\n",
              "      <td>Fri Aug 07, 2020 05:12 UTC</td>\n",
              "      <td>Falcon 9 Block 5 | Starlink V1 L9 &amp; BlackSky</td>\n",
              "      <td>StatusActive</td>\n",
              "      <td>50.0</td>\n",
              "      <td>Success</td>\n",
              "    </tr>\n",
              "    <tr>\n",
              "      <th>1</th>\n",
              "      <td>1</td>\n",
              "      <td>1</td>\n",
              "      <td>CASC</td>\n",
              "      <td>Site 9401 (SLS-2), Jiuquan Satellite Launch Ce...</td>\n",
              "      <td>Thu Aug 06, 2020 04:01 UTC</td>\n",
              "      <td>Long March 2D | Gaofen-9 04 &amp; Q-SAT</td>\n",
              "      <td>StatusActive</td>\n",
              "      <td>29.75</td>\n",
              "      <td>Success</td>\n",
              "    </tr>\n",
              "    <tr>\n",
              "      <th>2</th>\n",
              "      <td>2</td>\n",
              "      <td>2</td>\n",
              "      <td>SpaceX</td>\n",
              "      <td>Pad A, Boca Chica, Texas, USA</td>\n",
              "      <td>Tue Aug 04, 2020 23:57 UTC</td>\n",
              "      <td>Starship Prototype | 150 Meter Hop</td>\n",
              "      <td>StatusActive</td>\n",
              "      <td>NaN</td>\n",
              "      <td>Success</td>\n",
              "    </tr>\n",
              "    <tr>\n",
              "      <th>3</th>\n",
              "      <td>3</td>\n",
              "      <td>3</td>\n",
              "      <td>Roscosmos</td>\n",
              "      <td>Site 200/39, Baikonur Cosmodrome, Kazakhstan</td>\n",
              "      <td>Thu Jul 30, 2020 21:25 UTC</td>\n",
              "      <td>Proton-M/Briz-M | Ekspress-80 &amp; Ekspress-103</td>\n",
              "      <td>StatusActive</td>\n",
              "      <td>65.0</td>\n",
              "      <td>Success</td>\n",
              "    </tr>\n",
              "    <tr>\n",
              "      <th>4</th>\n",
              "      <td>4</td>\n",
              "      <td>4</td>\n",
              "      <td>ULA</td>\n",
              "      <td>SLC-41, Cape Canaveral AFS, Florida, USA</td>\n",
              "      <td>Thu Jul 30, 2020 11:50 UTC</td>\n",
              "      <td>Atlas V 541 | Perseverance</td>\n",
              "      <td>StatusActive</td>\n",
              "      <td>145.0</td>\n",
              "      <td>Success</td>\n",
              "    </tr>\n",
              "    <tr>\n",
              "      <th>5</th>\n",
              "      <td>5</td>\n",
              "      <td>5</td>\n",
              "      <td>CASC</td>\n",
              "      <td>LC-9, Taiyuan Satellite Launch Center, China</td>\n",
              "      <td>Sat Jul 25, 2020 03:13 UTC</td>\n",
              "      <td>Long March 4B | Ziyuan-3 03, Apocalypse-10 &amp; N...</td>\n",
              "      <td>StatusActive</td>\n",
              "      <td>64.68</td>\n",
              "      <td>Success</td>\n",
              "    </tr>\n",
              "    <tr>\n",
              "      <th>6</th>\n",
              "      <td>6</td>\n",
              "      <td>6</td>\n",
              "      <td>Roscosmos</td>\n",
              "      <td>Site 31/6, Baikonur Cosmodrome, Kazakhstan</td>\n",
              "      <td>Thu Jul 23, 2020 14:26 UTC</td>\n",
              "      <td>Soyuz 2.1a | Progress MS-15</td>\n",
              "      <td>StatusActive</td>\n",
              "      <td>48.5</td>\n",
              "      <td>Success</td>\n",
              "    </tr>\n",
              "    <tr>\n",
              "      <th>7</th>\n",
              "      <td>7</td>\n",
              "      <td>7</td>\n",
              "      <td>CASC</td>\n",
              "      <td>LC-101, Wenchang Satellite Launch Center, China</td>\n",
              "      <td>Thu Jul 23, 2020 04:41 UTC</td>\n",
              "      <td>Long March 5 | Tianwen-1</td>\n",
              "      <td>StatusActive</td>\n",
              "      <td>NaN</td>\n",
              "      <td>Success</td>\n",
              "    </tr>\n",
              "    <tr>\n",
              "      <th>8</th>\n",
              "      <td>8</td>\n",
              "      <td>8</td>\n",
              "      <td>SpaceX</td>\n",
              "      <td>SLC-40, Cape Canaveral AFS, Florida, USA</td>\n",
              "      <td>Mon Jul 20, 2020 21:30 UTC</td>\n",
              "      <td>Falcon 9 Block 5 | ANASIS-II</td>\n",
              "      <td>StatusActive</td>\n",
              "      <td>50.0</td>\n",
              "      <td>Success</td>\n",
              "    </tr>\n",
              "    <tr>\n",
              "      <th>9</th>\n",
              "      <td>9</td>\n",
              "      <td>9</td>\n",
              "      <td>JAXA</td>\n",
              "      <td>LA-Y1, Tanegashima Space Center, Japan</td>\n",
              "      <td>Sun Jul 19, 2020 21:58 UTC</td>\n",
              "      <td>H-IIA 202 | Hope Mars Mission</td>\n",
              "      <td>StatusActive</td>\n",
              "      <td>90.0</td>\n",
              "      <td>Success</td>\n",
              "    </tr>\n",
              "    <tr>\n",
              "      <th>10</th>\n",
              "      <td>10</td>\n",
              "      <td>10</td>\n",
              "      <td>Northrop</td>\n",
              "      <td>LP-0B, Wallops Flight Facility, Virginia, USA</td>\n",
              "      <td>Wed Jul 15, 2020 13:46 UTC</td>\n",
              "      <td>Minotaur IV | NROL-129</td>\n",
              "      <td>StatusActive</td>\n",
              "      <td>46.0</td>\n",
              "      <td>Success</td>\n",
              "    </tr>\n",
              "    <tr>\n",
              "      <th>11</th>\n",
              "      <td>11</td>\n",
              "      <td>11</td>\n",
              "      <td>ExPace</td>\n",
              "      <td>Site 95, Jiuquan Satellite Launch Center, China</td>\n",
              "      <td>Fri Jul 10, 2020 04:17 UTC</td>\n",
              "      <td>Kuaizhou 11 | Jilin-1 02E, CentiSpace-1 S2</td>\n",
              "      <td>StatusActive</td>\n",
              "      <td>28.3</td>\n",
              "      <td>Failure</td>\n",
              "    </tr>\n",
              "    <tr>\n",
              "      <th>12</th>\n",
              "      <td>12</td>\n",
              "      <td>12</td>\n",
              "      <td>CASC</td>\n",
              "      <td>LC-3, Xichang Satellite Launch Center, China</td>\n",
              "      <td>Thu Jul 09, 2020 12:11 UTC</td>\n",
              "      <td>Long March 3B/E | Apstar-6D</td>\n",
              "      <td>StatusActive</td>\n",
              "      <td>29.15</td>\n",
              "      <td>Success</td>\n",
              "    </tr>\n",
              "    <tr>\n",
              "      <th>13</th>\n",
              "      <td>13</td>\n",
              "      <td>13</td>\n",
              "      <td>IAI</td>\n",
              "      <td>Pad 1, Palmachim Airbase, Israel</td>\n",
              "      <td>Mon Jul 06, 2020 01:00 UTC</td>\n",
              "      <td>Shavit-2 | Ofek-16</td>\n",
              "      <td>StatusActive</td>\n",
              "      <td>NaN</td>\n",
              "      <td>Success</td>\n",
              "    </tr>\n",
              "    <tr>\n",
              "      <th>14</th>\n",
              "      <td>14</td>\n",
              "      <td>14</td>\n",
              "      <td>CASC</td>\n",
              "      <td>Site 9401 (SLS-2), Jiuquan Satellite Launch Ce...</td>\n",
              "      <td>Sat Jul 04, 2020 23:44 UTC</td>\n",
              "      <td>Long March 2D | Shiyan-6 02</td>\n",
              "      <td>StatusActive</td>\n",
              "      <td>29.75</td>\n",
              "      <td>Success</td>\n",
              "    </tr>\n",
              "    <tr>\n",
              "      <th>15</th>\n",
              "      <td>15</td>\n",
              "      <td>15</td>\n",
              "      <td>Rocket Lab</td>\n",
              "      <td>Rocket Lab LC-1A, M?hia Peninsula, New Zealand</td>\n",
              "      <td>Sat Jul 04, 2020 21:19 UTC</td>\n",
              "      <td>Electron/Curie | Pics Or It Didn??¦t Happen</td>\n",
              "      <td>StatusActive</td>\n",
              "      <td>7.5</td>\n",
              "      <td>Failure</td>\n",
              "    </tr>\n",
              "    <tr>\n",
              "      <th>16</th>\n",
              "      <td>16</td>\n",
              "      <td>16</td>\n",
              "      <td>CASC</td>\n",
              "      <td>LC-9, Taiyuan Satellite Launch Center, China</td>\n",
              "      <td>Fri Jul 03, 2020 03:10 UTC</td>\n",
              "      <td>Long March 4B | Gaofen Duomo &amp; BY-02</td>\n",
              "      <td>StatusActive</td>\n",
              "      <td>64.68</td>\n",
              "      <td>Success</td>\n",
              "    </tr>\n",
              "    <tr>\n",
              "      <th>17</th>\n",
              "      <td>17</td>\n",
              "      <td>17</td>\n",
              "      <td>SpaceX</td>\n",
              "      <td>SLC-40, Cape Canaveral AFS, Florida, USA</td>\n",
              "      <td>Tue Jun 30, 2020 20:10 UTC</td>\n",
              "      <td>Falcon 9 Block 5 | GPS III SV03</td>\n",
              "      <td>StatusActive</td>\n",
              "      <td>50.0</td>\n",
              "      <td>Success</td>\n",
              "    </tr>\n",
              "    <tr>\n",
              "      <th>18</th>\n",
              "      <td>18</td>\n",
              "      <td>18</td>\n",
              "      <td>CASC</td>\n",
              "      <td>LC-2, Xichang Satellite Launch Center, China</td>\n",
              "      <td>Tue Jun 23, 2020 01:43 UTC</td>\n",
              "      <td>Long March 3B/E | Beidou-3 G3</td>\n",
              "      <td>StatusActive</td>\n",
              "      <td>29.15</td>\n",
              "      <td>Success</td>\n",
              "    </tr>\n",
              "    <tr>\n",
              "      <th>19</th>\n",
              "      <td>19</td>\n",
              "      <td>19</td>\n",
              "      <td>CASC</td>\n",
              "      <td>Site 9401 (SLS-2), Jiuquan Satellite Launch Ce...</td>\n",
              "      <td>Wed Jun 17, 2020 07:19 UTC</td>\n",
              "      <td>Long March 2D | Gaofen-9 03, Pixing III A &amp; HE...</td>\n",
              "      <td>StatusActive</td>\n",
              "      <td>29.75</td>\n",
              "      <td>Success</td>\n",
              "    </tr>\n",
              "    <tr>\n",
              "      <th>20</th>\n",
              "      <td>20</td>\n",
              "      <td>20</td>\n",
              "      <td>SpaceX</td>\n",
              "      <td>SLC-40, Cape Canaveral AFS, Florida, USA</td>\n",
              "      <td>Sat Jun 13, 2020 09:21 UTC</td>\n",
              "      <td>Falcon 9 Block 5 | Starlink V1 L8 &amp; SkySat 16 ...</td>\n",
              "      <td>StatusActive</td>\n",
              "      <td>50.0</td>\n",
              "      <td>Success</td>\n",
              "    </tr>\n",
              "    <tr>\n",
              "      <th>21</th>\n",
              "      <td>21</td>\n",
              "      <td>21</td>\n",
              "      <td>Rocket Lab</td>\n",
              "      <td>Rocket Lab LC-1A, M?hia Peninsula, New Zealand</td>\n",
              "      <td>Sat Jun 13, 2020 05:12 UTC</td>\n",
              "      <td>Electron/Curie | Don't stop me now!</td>\n",
              "      <td>StatusActive</td>\n",
              "      <td>7.5</td>\n",
              "      <td>Success</td>\n",
              "    </tr>\n",
              "    <tr>\n",
              "      <th>22</th>\n",
              "      <td>22</td>\n",
              "      <td>22</td>\n",
              "      <td>CASC</td>\n",
              "      <td>LC-9, Taiyuan Satellite Launch Center, China</td>\n",
              "      <td>Wed Jun 10, 2020 18:31 UTC</td>\n",
              "      <td>Long March 2C | Haiyang-1D</td>\n",
              "      <td>StatusActive</td>\n",
              "      <td>30.8</td>\n",
              "      <td>Success</td>\n",
              "    </tr>\n",
              "    <tr>\n",
              "      <th>23</th>\n",
              "      <td>23</td>\n",
              "      <td>23</td>\n",
              "      <td>SpaceX</td>\n",
              "      <td>SLC-40, Cape Canaveral AFS, Florida, USA</td>\n",
              "      <td>Thu Jun 04, 2020 01:25 UTC</td>\n",
              "      <td>Falcon 9 Block 5 | Starlink V1 L7</td>\n",
              "      <td>StatusActive</td>\n",
              "      <td>50.0</td>\n",
              "      <td>Success</td>\n",
              "    </tr>\n",
              "    <tr>\n",
              "      <th>24</th>\n",
              "      <td>24</td>\n",
              "      <td>24</td>\n",
              "      <td>CASC</td>\n",
              "      <td>Site 9401 (SLS-2), Jiuquan Satellite Launch Ce...</td>\n",
              "      <td>Sun May 31, 2020 08:53 UTC</td>\n",
              "      <td>Long March 2D | Gaofen-9-02 &amp; HEAD-4</td>\n",
              "      <td>StatusActive</td>\n",
              "      <td>29.75</td>\n",
              "      <td>Success</td>\n",
              "    </tr>\n",
              "    <tr>\n",
              "      <th>25</th>\n",
              "      <td>25</td>\n",
              "      <td>25</td>\n",
              "      <td>SpaceX</td>\n",
              "      <td>LC-39A, Kennedy Space Center, Florida, USA</td>\n",
              "      <td>Sat May 30, 2020 19:22 UTC</td>\n",
              "      <td>Falcon 9 Block 5 | SpaceX Demo-2</td>\n",
              "      <td>StatusActive</td>\n",
              "      <td>50.0</td>\n",
              "      <td>Success</td>\n",
              "    </tr>\n",
              "    <tr>\n",
              "      <th>26</th>\n",
              "      <td>26</td>\n",
              "      <td>26</td>\n",
              "      <td>CASC</td>\n",
              "      <td>Xichang Satellite Launch Center, China</td>\n",
              "      <td>Fri May 29, 2020 20:13 UTC</td>\n",
              "      <td>Long March 11 | XJS-G and XJS-H</td>\n",
              "      <td>StatusActive</td>\n",
              "      <td>5.3</td>\n",
              "      <td>Success</td>\n",
              "    </tr>\n",
              "    <tr>\n",
              "      <th>27</th>\n",
              "      <td>27</td>\n",
              "      <td>27</td>\n",
              "      <td>Virgin Orbit</td>\n",
              "      <td>Cosmic Girl, Mojave Air and Space Port, Califo...</td>\n",
              "      <td>Mon May 25, 2020 19:50 UTC</td>\n",
              "      <td>LauncherOne | Demo Flight</td>\n",
              "      <td>StatusActive</td>\n",
              "      <td>12.0</td>\n",
              "      <td>Failure</td>\n",
              "    </tr>\n",
              "    <tr>\n",
              "      <th>28</th>\n",
              "      <td>28</td>\n",
              "      <td>28</td>\n",
              "      <td>VKS RF</td>\n",
              "      <td>Site 43/4, Plesetsk Cosmodrome, Russia</td>\n",
              "      <td>Fri May 22, 2020 07:31 UTC</td>\n",
              "      <td>Soyuz 2.1b/Fregat-M | Cosmos 2546</td>\n",
              "      <td>StatusActive</td>\n",
              "      <td>NaN</td>\n",
              "      <td>Success</td>\n",
              "    </tr>\n",
              "    <tr>\n",
              "      <th>29</th>\n",
              "      <td>29</td>\n",
              "      <td>29</td>\n",
              "      <td>MHI</td>\n",
              "      <td>LA-Y2, Tanegashima Space Center, Japan</td>\n",
              "      <td>Wed May 20, 2020 17:31 UTC</td>\n",
              "      <td>H-IIB | HTV-9</td>\n",
              "      <td>StatusRetired</td>\n",
              "      <td>112.5</td>\n",
              "      <td>Success</td>\n",
              "    </tr>\n",
              "  </tbody>\n",
              "</table>\n",
              "</div>"
            ],
            "text/plain": [
              "    Unnamed: 0  Unnamed: 0.1  ...  Rocket Status Mission\n",
              "0            0             0  ...   50.0         Success\n",
              "1            1             1  ...  29.75         Success\n",
              "2            2             2  ...     NaN        Success\n",
              "3            3             3  ...   65.0         Success\n",
              "4            4             4  ...  145.0         Success\n",
              "5            5             5  ...  64.68         Success\n",
              "6            6             6  ...   48.5         Success\n",
              "7            7             7  ...     NaN        Success\n",
              "8            8             8  ...   50.0         Success\n",
              "9            9             9  ...   90.0         Success\n",
              "10          10            10  ...   46.0         Success\n",
              "11          11            11  ...   28.3         Failure\n",
              "12          12            12  ...  29.15         Success\n",
              "13          13            13  ...     NaN        Success\n",
              "14          14            14  ...  29.75         Success\n",
              "15          15            15  ...    7.5         Failure\n",
              "16          16            16  ...  64.68         Success\n",
              "17          17            17  ...   50.0         Success\n",
              "18          18            18  ...  29.15         Success\n",
              "19          19            19  ...  29.75         Success\n",
              "20          20            20  ...   50.0         Success\n",
              "21          21            21  ...    7.5         Success\n",
              "22          22            22  ...   30.8         Success\n",
              "23          23            23  ...   50.0         Success\n",
              "24          24            24  ...  29.75         Success\n",
              "25          25            25  ...   50.0         Success\n",
              "26          26            26  ...    5.3         Success\n",
              "27          27            27  ...   12.0         Failure\n",
              "28          28            28  ...     NaN        Success\n",
              "29          29            29  ...  112.5         Success\n",
              "\n",
              "[30 rows x 9 columns]"
            ]
          },
          "metadata": {
            "tags": []
          },
          "execution_count": 4
        }
      ]
    },
    {
      "cell_type": "code",
      "metadata": {
        "id": "NbIj8aHVISrJ"
      },
      "source": [
        "space_cor.drop([\"Unnamed: 0\" ,\t\"Unnamed: 0.1\"], axis=1, inplace=True)"
      ],
      "execution_count": null,
      "outputs": []
    },
    {
      "cell_type": "markdown",
      "metadata": {
        "id": "hnR77gvyKhzt"
      },
      "source": [
        "##Récuperation du mois et de l'année"
      ]
    },
    {
      "cell_type": "code",
      "metadata": {
        "id": "yRiJaW6CARmv"
      },
      "source": [
        "space_cor['Datum'] = pd.to_datetime(space_cor['Datum'])\n",
        "space_cor['Year'] = space_cor['Datum'].apply(lambda datetime: datetime.year)\n",
        "space_cor['Month'] = space_cor['Datum'].apply(lambda datetime: datetime.month)"
      ],
      "execution_count": null,
      "outputs": []
    },
    {
      "cell_type": "code",
      "metadata": {
        "id": "Nvp22f3eFmGx"
      },
      "source": [
        "space_cor.drop(\"Datum\",axis=1,inplace=True)"
      ],
      "execution_count": null,
      "outputs": []
    },
    {
      "cell_type": "markdown",
      "metadata": {
        "id": "hYLbMWDlKtaZ"
      },
      "source": [
        "##Nettoyage préliminaire de la base de données"
      ]
    },
    {
      "cell_type": "code",
      "metadata": {
        "id": "w0pQCszsC7f5"
      },
      "source": [
        "#function to extract the name of the country from the location\n",
        "def extract_country_name(location):\n",
        "    country = location.split(',')[-1]\n",
        "    country = country.strip()\n",
        "    return country\n",
        "\n",
        "#dictionary to help in mapping to get consistent and correct Country Names\n",
        "countries_dict = {\n",
        "    'Russia' : 'Russian Federation',\n",
        "    'New Mexico' : 'USA',\n",
        "    \"Yellow Sea\": 'China',\n",
        "    \"Shahrud Missile Test Site\": \"Iran\",\n",
        "    \"Pacific Missile Range Facility\": 'USA',\n",
        "    \"Barents Sea\": 'Russian Federation',\n",
        "    \"Gran Canaria\": 'USA'\n",
        "}"
      ],
      "execution_count": null,
      "outputs": []
    },
    {
      "cell_type": "code",
      "metadata": {
        "id": "N-VgT4MRDZCR"
      },
      "source": [
        "space_cor['Country'] = space_cor['Location'].apply(lambda x: extract_country_name(x))\n",
        "space_cor['Country'] = space_cor['Country'].replace(countries_dict)"
      ],
      "execution_count": null,
      "outputs": []
    },
    {
      "cell_type": "code",
      "metadata": {
        "id": "TEqmbdwKYr92"
      },
      "source": [
        "space_cor[['Launcher', 'Navette']] = space_cor['Detail'].str.split('|', 1, expand=True)"
      ],
      "execution_count": null,
      "outputs": []
    },
    {
      "cell_type": "code",
      "metadata": {
        "id": "9A66fKk4vwzV",
        "colab": {
          "base_uri": "https://localhost:8080/"
        },
        "outputId": "74e52b4d-bf26-4ff9-ce69-d4e63fc6841c"
      },
      "source": [
        "space_cor.columns"
      ],
      "execution_count": null,
      "outputs": [
        {
          "output_type": "execute_result",
          "data": {
            "text/plain": [
              "Index(['Company Name', 'Location', 'Detail', 'Status Rocket', ' Rocket',\n",
              "       'Status Mission', 'Year', 'Month', 'Country', 'Launcher', 'Navette'],\n",
              "      dtype='object')"
            ]
          },
          "metadata": {
            "tags": []
          },
          "execution_count": 11
        }
      ]
    },
    {
      "cell_type": "code",
      "metadata": {
        "id": "r8gpg7b_J_ic"
      },
      "source": [
        "space_cor.columns = ['Company Name','Location','Detail', 'Status Rocket', 'Rocket', 'Status Mission','Year','Month','Country', 'Launcher', 'Shuttle']"
      ],
      "execution_count": null,
      "outputs": []
    },
    {
      "cell_type": "code",
      "metadata": {
        "id": "Spf8yrokTIOk"
      },
      "source": [
        "space_cor[\"Rocket\"]=space_cor[\"Rocket\"].str.replace(\",\",\"\")"
      ],
      "execution_count": null,
      "outputs": []
    },
    {
      "cell_type": "code",
      "metadata": {
        "id": "UeterdYUJdCO"
      },
      "source": [
        "space_cor[\"Rocket\"]=pd.to_numeric(space_cor[\"Rocket\"])"
      ],
      "execution_count": null,
      "outputs": []
    },
    {
      "cell_type": "code",
      "metadata": {
        "id": "O_wmRVvacqi8"
      },
      "source": [
        "space_cor.drop([\"Location\",\"Detail\"], axis=1, inplace=True)"
      ],
      "execution_count": null,
      "outputs": []
    },
    {
      "cell_type": "code",
      "metadata": {
        "id": "jyW_obQedQTq"
      },
      "source": [
        "space_cor=space_cor.reindex(columns = [\"Company Name\",\"Country\",\"Launcher\",\"Shuttle\",\"Rocket\",\"Status Rocket\",\"Year\",\"Month\",\"Status Mission\"])"
      ],
      "execution_count": null,
      "outputs": []
    },
    {
      "cell_type": "code",
      "metadata": {
        "id": "F63V6KiEv-XB",
        "colab": {
          "base_uri": "https://localhost:8080/"
        },
        "outputId": "357e77fd-c48a-4a91-fc99-6397705a9562"
      },
      "source": [
        "space_cor.info()"
      ],
      "execution_count": null,
      "outputs": [
        {
          "output_type": "stream",
          "text": [
            "<class 'pandas.core.frame.DataFrame'>\n",
            "RangeIndex: 4324 entries, 0 to 4323\n",
            "Data columns (total 9 columns):\n",
            " #   Column          Non-Null Count  Dtype  \n",
            "---  ------          --------------  -----  \n",
            " 0   Company Name    4324 non-null   object \n",
            " 1   Country         4324 non-null   object \n",
            " 2   Launcher        4324 non-null   object \n",
            " 3   Shuttle         4324 non-null   object \n",
            " 4   Rocket          964 non-null    float64\n",
            " 5   Status Rocket   4324 non-null   object \n",
            " 6   Year            4324 non-null   int64  \n",
            " 7   Month           4324 non-null   int64  \n",
            " 8   Status Mission  4324 non-null   object \n",
            "dtypes: float64(1), int64(2), object(6)\n",
            "memory usage: 304.2+ KB\n"
          ],
          "name": "stdout"
        }
      ]
    },
    {
      "cell_type": "markdown",
      "metadata": {
        "id": "mKpWJMzAwSMG"
      },
      "source": [
        "#Etude \"Country\""
      ]
    },
    {
      "cell_type": "code",
      "metadata": {
        "colab": {
          "base_uri": "https://localhost:8080/",
          "height": 35
        },
        "id": "bEc8DkamdxyF",
        "outputId": "c8aa094b-38a4-4383-f6f7-7c369d8f0b5e"
      },
      "source": [
        "space_cor[\"Launcher\"][0][-1]"
      ],
      "execution_count": null,
      "outputs": [
        {
          "output_type": "execute_result",
          "data": {
            "application/vnd.google.colaboratory.intrinsic+json": {
              "type": "string"
            },
            "text/plain": [
              "' '"
            ]
          },
          "metadata": {
            "tags": []
          },
          "execution_count": 18
        }
      ]
    },
    {
      "cell_type": "code",
      "metadata": {
        "colab": {
          "base_uri": "https://localhost:8080/",
          "height": 198
        },
        "id": "i8JFS0Pl1QZg",
        "outputId": "144b2eba-18c0-47c9-c271-dc49f3f96169"
      },
      "source": [
        "space_cor.head()"
      ],
      "execution_count": null,
      "outputs": [
        {
          "output_type": "execute_result",
          "data": {
            "text/html": [
              "<div>\n",
              "<style scoped>\n",
              "    .dataframe tbody tr th:only-of-type {\n",
              "        vertical-align: middle;\n",
              "    }\n",
              "\n",
              "    .dataframe tbody tr th {\n",
              "        vertical-align: top;\n",
              "    }\n",
              "\n",
              "    .dataframe thead th {\n",
              "        text-align: right;\n",
              "    }\n",
              "</style>\n",
              "<table border=\"1\" class=\"dataframe\">\n",
              "  <thead>\n",
              "    <tr style=\"text-align: right;\">\n",
              "      <th></th>\n",
              "      <th>Company Name</th>\n",
              "      <th>Country</th>\n",
              "      <th>Launcher</th>\n",
              "      <th>Shuttle</th>\n",
              "      <th>Rocket</th>\n",
              "      <th>Status Rocket</th>\n",
              "      <th>Year</th>\n",
              "      <th>Month</th>\n",
              "      <th>Status Mission</th>\n",
              "    </tr>\n",
              "  </thead>\n",
              "  <tbody>\n",
              "    <tr>\n",
              "      <th>0</th>\n",
              "      <td>SpaceX</td>\n",
              "      <td>USA</td>\n",
              "      <td>Falcon 9 Block 5</td>\n",
              "      <td>Starlink V1 L9 &amp; BlackSky</td>\n",
              "      <td>50.00</td>\n",
              "      <td>StatusActive</td>\n",
              "      <td>2020</td>\n",
              "      <td>8</td>\n",
              "      <td>Success</td>\n",
              "    </tr>\n",
              "    <tr>\n",
              "      <th>1</th>\n",
              "      <td>CASC</td>\n",
              "      <td>China</td>\n",
              "      <td>Long March 2D</td>\n",
              "      <td>Gaofen-9 04 &amp; Q-SAT</td>\n",
              "      <td>29.75</td>\n",
              "      <td>StatusActive</td>\n",
              "      <td>2020</td>\n",
              "      <td>8</td>\n",
              "      <td>Success</td>\n",
              "    </tr>\n",
              "    <tr>\n",
              "      <th>2</th>\n",
              "      <td>SpaceX</td>\n",
              "      <td>USA</td>\n",
              "      <td>Starship Prototype</td>\n",
              "      <td>150 Meter Hop</td>\n",
              "      <td>NaN</td>\n",
              "      <td>StatusActive</td>\n",
              "      <td>2020</td>\n",
              "      <td>8</td>\n",
              "      <td>Success</td>\n",
              "    </tr>\n",
              "    <tr>\n",
              "      <th>3</th>\n",
              "      <td>Roscosmos</td>\n",
              "      <td>Kazakhstan</td>\n",
              "      <td>Proton-M/Briz-M</td>\n",
              "      <td>Ekspress-80 &amp; Ekspress-103</td>\n",
              "      <td>65.00</td>\n",
              "      <td>StatusActive</td>\n",
              "      <td>2020</td>\n",
              "      <td>7</td>\n",
              "      <td>Success</td>\n",
              "    </tr>\n",
              "    <tr>\n",
              "      <th>4</th>\n",
              "      <td>ULA</td>\n",
              "      <td>USA</td>\n",
              "      <td>Atlas V 541</td>\n",
              "      <td>Perseverance</td>\n",
              "      <td>145.00</td>\n",
              "      <td>StatusActive</td>\n",
              "      <td>2020</td>\n",
              "      <td>7</td>\n",
              "      <td>Success</td>\n",
              "    </tr>\n",
              "  </tbody>\n",
              "</table>\n",
              "</div>"
            ],
            "text/plain": [
              "  Company Name     Country             Launcher  ...  Year  Month Status Mission\n",
              "0       SpaceX         USA    Falcon 9 Block 5   ...  2020      8        Success\n",
              "1         CASC       China       Long March 2D   ...  2020      8        Success\n",
              "2       SpaceX         USA  Starship Prototype   ...  2020      8        Success\n",
              "3    Roscosmos  Kazakhstan     Proton-M/Briz-M   ...  2020      7        Success\n",
              "4          ULA         USA         Atlas V 541   ...  2020      7        Success\n",
              "\n",
              "[5 rows x 9 columns]"
            ]
          },
          "metadata": {
            "tags": []
          },
          "execution_count": 19
        }
      ]
    },
    {
      "cell_type": "code",
      "metadata": {
        "colab": {
          "base_uri": "https://localhost:8080/",
          "height": 318
        },
        "id": "ZBe61FhwrViG",
        "outputId": "f9342396-dc0e-4af4-ecf0-5a0a8b07cf42"
      },
      "source": [
        "space_cor.loc[(space_cor[\"Country\"]==\"Kenya\")]"
      ],
      "execution_count": null,
      "outputs": [
        {
          "output_type": "execute_result",
          "data": {
            "text/html": [
              "<div>\n",
              "<style scoped>\n",
              "    .dataframe tbody tr th:only-of-type {\n",
              "        vertical-align: middle;\n",
              "    }\n",
              "\n",
              "    .dataframe tbody tr th {\n",
              "        vertical-align: top;\n",
              "    }\n",
              "\n",
              "    .dataframe thead th {\n",
              "        text-align: right;\n",
              "    }\n",
              "</style>\n",
              "<table border=\"1\" class=\"dataframe\">\n",
              "  <thead>\n",
              "    <tr style=\"text-align: right;\">\n",
              "      <th></th>\n",
              "      <th>Company Name</th>\n",
              "      <th>Country</th>\n",
              "      <th>Launcher</th>\n",
              "      <th>Shuttle</th>\n",
              "      <th>Rocket</th>\n",
              "      <th>Status Rocket</th>\n",
              "      <th>Year</th>\n",
              "      <th>Month</th>\n",
              "      <th>Status Mission</th>\n",
              "    </tr>\n",
              "  </thead>\n",
              "  <tbody>\n",
              "    <tr>\n",
              "      <th>1952</th>\n",
              "      <td>ASI</td>\n",
              "      <td>Kenya</td>\n",
              "      <td>Scout G1</td>\n",
              "      <td>San Marco 5</td>\n",
              "      <td>NaN</td>\n",
              "      <td>StatusRetired</td>\n",
              "      <td>1988</td>\n",
              "      <td>3</td>\n",
              "      <td>Success</td>\n",
              "    </tr>\n",
              "    <tr>\n",
              "      <th>2936</th>\n",
              "      <td>ASI</td>\n",
              "      <td>Kenya</td>\n",
              "      <td>Scout F1</td>\n",
              "      <td>Explorer 53</td>\n",
              "      <td>NaN</td>\n",
              "      <td>StatusRetired</td>\n",
              "      <td>1975</td>\n",
              "      <td>5</td>\n",
              "      <td>Success</td>\n",
              "    </tr>\n",
              "    <tr>\n",
              "      <th>2998</th>\n",
              "      <td>ASI</td>\n",
              "      <td>Kenya</td>\n",
              "      <td>Scout B1</td>\n",
              "      <td>Ariel 5</td>\n",
              "      <td>NaN</td>\n",
              "      <td>StatusRetired</td>\n",
              "      <td>1974</td>\n",
              "      <td>10</td>\n",
              "      <td>Success</td>\n",
              "    </tr>\n",
              "    <tr>\n",
              "      <th>3061</th>\n",
              "      <td>ASI</td>\n",
              "      <td>Kenya</td>\n",
              "      <td>Scout D1</td>\n",
              "      <td>San Marco 4</td>\n",
              "      <td>NaN</td>\n",
              "      <td>StatusRetired</td>\n",
              "      <td>1974</td>\n",
              "      <td>2</td>\n",
              "      <td>Success</td>\n",
              "    </tr>\n",
              "    <tr>\n",
              "      <th>3187</th>\n",
              "      <td>ASI</td>\n",
              "      <td>Kenya</td>\n",
              "      <td>Scout D1</td>\n",
              "      <td>Explorer 48</td>\n",
              "      <td>NaN</td>\n",
              "      <td>StatusRetired</td>\n",
              "      <td>1972</td>\n",
              "      <td>11</td>\n",
              "      <td>Success</td>\n",
              "    </tr>\n",
              "    <tr>\n",
              "      <th>3298</th>\n",
              "      <td>ASI</td>\n",
              "      <td>Kenya</td>\n",
              "      <td>Scout B</td>\n",
              "      <td>Explorer 45</td>\n",
              "      <td>NaN</td>\n",
              "      <td>StatusRetired</td>\n",
              "      <td>1971</td>\n",
              "      <td>11</td>\n",
              "      <td>Success</td>\n",
              "    </tr>\n",
              "    <tr>\n",
              "      <th>3357</th>\n",
              "      <td>ASI</td>\n",
              "      <td>Kenya</td>\n",
              "      <td>Scout B</td>\n",
              "      <td>San Marco 3</td>\n",
              "      <td>NaN</td>\n",
              "      <td>StatusRetired</td>\n",
              "      <td>1971</td>\n",
              "      <td>4</td>\n",
              "      <td>Success</td>\n",
              "    </tr>\n",
              "    <tr>\n",
              "      <th>3400</th>\n",
              "      <td>ASI</td>\n",
              "      <td>Kenya</td>\n",
              "      <td>Scout B</td>\n",
              "      <td>Explorer 42</td>\n",
              "      <td>NaN</td>\n",
              "      <td>StatusRetired</td>\n",
              "      <td>1970</td>\n",
              "      <td>12</td>\n",
              "      <td>Success</td>\n",
              "    </tr>\n",
              "    <tr>\n",
              "      <th>3780</th>\n",
              "      <td>ASI</td>\n",
              "      <td>Kenya</td>\n",
              "      <td>Scout B</td>\n",
              "      <td>San Marco 2</td>\n",
              "      <td>NaN</td>\n",
              "      <td>StatusRetired</td>\n",
              "      <td>1967</td>\n",
              "      <td>4</td>\n",
              "      <td>Success</td>\n",
              "    </tr>\n",
              "  </tbody>\n",
              "</table>\n",
              "</div>"
            ],
            "text/plain": [
              "     Company Name Country   Launcher  ...  Year  Month Status Mission\n",
              "1952          ASI   Kenya  Scout G1   ...  1988      3        Success\n",
              "2936          ASI   Kenya  Scout F1   ...  1975      5        Success\n",
              "2998          ASI   Kenya  Scout B1   ...  1974     10        Success\n",
              "3061          ASI   Kenya  Scout D1   ...  1974      2        Success\n",
              "3187          ASI   Kenya  Scout D1   ...  1972     11        Success\n",
              "3298          ASI   Kenya   Scout B   ...  1971     11        Success\n",
              "3357          ASI   Kenya   Scout B   ...  1971      4        Success\n",
              "3400          ASI   Kenya   Scout B   ...  1970     12        Success\n",
              "3780          ASI   Kenya   Scout B   ...  1967      4        Success\n",
              "\n",
              "[9 rows x 9 columns]"
            ]
          },
          "metadata": {
            "tags": []
          },
          "execution_count": 20
        }
      ]
    },
    {
      "cell_type": "markdown",
      "metadata": {
        "id": "dJz45339tOJR"
      },
      "source": [
        "##Status des missions pour chaque Pays"
      ]
    },
    {
      "cell_type": "code",
      "metadata": {
        "id": "7yAs6lMPWKq1"
      },
      "source": [
        "space_cor_pivot_table = space_cor.pivot_table(values=\"Launcher\", index=\"Country\", columns=\"Status Mission\", aggfunc='count')"
      ],
      "execution_count": null,
      "outputs": []
    },
    {
      "cell_type": "code",
      "metadata": {
        "id": "LRpzn2kwWKoc"
      },
      "source": [
        "space_cor_pivot_table= space_cor_pivot_table.fillna(0)"
      ],
      "execution_count": null,
      "outputs": []
    },
    {
      "cell_type": "code",
      "metadata": {
        "id": "zFJD7kzLWKl8"
      },
      "source": [
        "space_cor_pivot_table[\"Total\"]=(space_cor_pivot_table[\"Failure\"]+space_cor_pivot_table[\"Partial Failure\"]+space_cor_pivot_table[\"Prelaunch Failure\"]+space_cor_pivot_table[\"Success\"])"
      ],
      "execution_count": null,
      "outputs": []
    },
    {
      "cell_type": "code",
      "metadata": {
        "id": "AaRQdnyhp81W"
      },
      "source": [
        "space_cor_pivot_table[\"Success_rate\"]=(space_cor_pivot_table[\"Success\"]/(space_cor_pivot_table[\"Failure\"]+space_cor_pivot_table[\"Partial Failure\"]+space_cor_pivot_table[\"Prelaunch Failure\"]+space_cor_pivot_table[\"Success\"]))*100"
      ],
      "execution_count": null,
      "outputs": []
    },
    {
      "cell_type": "code",
      "metadata": {
        "id": "8-5nqZy5WKjf"
      },
      "source": [
        "space_cor_pivot_table=space_cor_pivot_table.sort_values(\"Total\",ascending=False)"
      ],
      "execution_count": null,
      "outputs": []
    },
    {
      "cell_type": "code",
      "metadata": {
        "colab": {
          "base_uri": "https://localhost:8080/",
          "height": 558
        },
        "id": "eI4SWCDluYYE",
        "outputId": "81818e9b-eb35-4330-de63-b32ffc86a18e"
      },
      "source": [
        "space_cor_pivot_table"
      ],
      "execution_count": null,
      "outputs": [
        {
          "output_type": "execute_result",
          "data": {
            "text/html": [
              "<div>\n",
              "<style scoped>\n",
              "    .dataframe tbody tr th:only-of-type {\n",
              "        vertical-align: middle;\n",
              "    }\n",
              "\n",
              "    .dataframe tbody tr th {\n",
              "        vertical-align: top;\n",
              "    }\n",
              "\n",
              "    .dataframe thead th {\n",
              "        text-align: right;\n",
              "    }\n",
              "</style>\n",
              "<table border=\"1\" class=\"dataframe\">\n",
              "  <thead>\n",
              "    <tr style=\"text-align: right;\">\n",
              "      <th>Status Mission</th>\n",
              "      <th>Failure</th>\n",
              "      <th>Partial Failure</th>\n",
              "      <th>Prelaunch Failure</th>\n",
              "      <th>Success</th>\n",
              "      <th>Total</th>\n",
              "      <th>Success_rate</th>\n",
              "    </tr>\n",
              "    <tr>\n",
              "      <th>Country</th>\n",
              "      <th></th>\n",
              "      <th></th>\n",
              "      <th></th>\n",
              "      <th></th>\n",
              "      <th></th>\n",
              "      <th></th>\n",
              "    </tr>\n",
              "  </thead>\n",
              "  <tbody>\n",
              "    <tr>\n",
              "      <th>Russian Federation</th>\n",
              "      <td>63.0</td>\n",
              "      <td>30.0</td>\n",
              "      <td>0.0</td>\n",
              "      <td>1305.0</td>\n",
              "      <td>1398.0</td>\n",
              "      <td>93.347639</td>\n",
              "    </tr>\n",
              "    <tr>\n",
              "      <th>USA</th>\n",
              "      <td>129.0</td>\n",
              "      <td>33.0</td>\n",
              "      <td>1.0</td>\n",
              "      <td>1188.0</td>\n",
              "      <td>1351.0</td>\n",
              "      <td>87.934863</td>\n",
              "    </tr>\n",
              "    <tr>\n",
              "      <th>Kazakhstan</th>\n",
              "      <td>72.0</td>\n",
              "      <td>20.0</td>\n",
              "      <td>1.0</td>\n",
              "      <td>608.0</td>\n",
              "      <td>701.0</td>\n",
              "      <td>86.733238</td>\n",
              "    </tr>\n",
              "    <tr>\n",
              "      <th>France</th>\n",
              "      <td>13.0</td>\n",
              "      <td>5.0</td>\n",
              "      <td>0.0</td>\n",
              "      <td>285.0</td>\n",
              "      <td>303.0</td>\n",
              "      <td>94.059406</td>\n",
              "    </tr>\n",
              "    <tr>\n",
              "      <th>China</th>\n",
              "      <td>19.0</td>\n",
              "      <td>6.0</td>\n",
              "      <td>0.0</td>\n",
              "      <td>244.0</td>\n",
              "      <td>269.0</td>\n",
              "      <td>90.706320</td>\n",
              "    </tr>\n",
              "    <tr>\n",
              "      <th>Japan</th>\n",
              "      <td>10.0</td>\n",
              "      <td>3.0</td>\n",
              "      <td>0.0</td>\n",
              "      <td>113.0</td>\n",
              "      <td>126.0</td>\n",
              "      <td>89.682540</td>\n",
              "    </tr>\n",
              "    <tr>\n",
              "      <th>India</th>\n",
              "      <td>8.0</td>\n",
              "      <td>5.0</td>\n",
              "      <td>0.0</td>\n",
              "      <td>63.0</td>\n",
              "      <td>76.0</td>\n",
              "      <td>82.894737</td>\n",
              "    </tr>\n",
              "    <tr>\n",
              "      <th>Pacific Ocean</th>\n",
              "      <td>3.0</td>\n",
              "      <td>0.0</td>\n",
              "      <td>0.0</td>\n",
              "      <td>33.0</td>\n",
              "      <td>36.0</td>\n",
              "      <td>91.666667</td>\n",
              "    </tr>\n",
              "    <tr>\n",
              "      <th>Iran</th>\n",
              "      <td>8.0</td>\n",
              "      <td>0.0</td>\n",
              "      <td>1.0</td>\n",
              "      <td>5.0</td>\n",
              "      <td>14.0</td>\n",
              "      <td>35.714286</td>\n",
              "    </tr>\n",
              "    <tr>\n",
              "      <th>New Zealand</th>\n",
              "      <td>2.0</td>\n",
              "      <td>0.0</td>\n",
              "      <td>0.0</td>\n",
              "      <td>11.0</td>\n",
              "      <td>13.0</td>\n",
              "      <td>84.615385</td>\n",
              "    </tr>\n",
              "    <tr>\n",
              "      <th>Israel</th>\n",
              "      <td>2.0</td>\n",
              "      <td>0.0</td>\n",
              "      <td>0.0</td>\n",
              "      <td>9.0</td>\n",
              "      <td>11.0</td>\n",
              "      <td>81.818182</td>\n",
              "    </tr>\n",
              "    <tr>\n",
              "      <th>Kenya</th>\n",
              "      <td>0.0</td>\n",
              "      <td>0.0</td>\n",
              "      <td>0.0</td>\n",
              "      <td>9.0</td>\n",
              "      <td>9.0</td>\n",
              "      <td>100.000000</td>\n",
              "    </tr>\n",
              "    <tr>\n",
              "      <th>Australia</th>\n",
              "      <td>3.0</td>\n",
              "      <td>0.0</td>\n",
              "      <td>0.0</td>\n",
              "      <td>3.0</td>\n",
              "      <td>6.0</td>\n",
              "      <td>50.000000</td>\n",
              "    </tr>\n",
              "    <tr>\n",
              "      <th>North Korea</th>\n",
              "      <td>3.0</td>\n",
              "      <td>0.0</td>\n",
              "      <td>0.0</td>\n",
              "      <td>2.0</td>\n",
              "      <td>5.0</td>\n",
              "      <td>40.000000</td>\n",
              "    </tr>\n",
              "    <tr>\n",
              "      <th>Brazil</th>\n",
              "      <td>2.0</td>\n",
              "      <td>0.0</td>\n",
              "      <td>1.0</td>\n",
              "      <td>0.0</td>\n",
              "      <td>3.0</td>\n",
              "      <td>0.000000</td>\n",
              "    </tr>\n",
              "    <tr>\n",
              "      <th>South Korea</th>\n",
              "      <td>2.0</td>\n",
              "      <td>0.0</td>\n",
              "      <td>0.0</td>\n",
              "      <td>1.0</td>\n",
              "      <td>3.0</td>\n",
              "      <td>33.333333</td>\n",
              "    </tr>\n",
              "  </tbody>\n",
              "</table>\n",
              "</div>"
            ],
            "text/plain": [
              "Status Mission      Failure  Partial Failure  ...   Total  Success_rate\n",
              "Country                                       ...                      \n",
              "Russian Federation     63.0             30.0  ...  1398.0     93.347639\n",
              "USA                   129.0             33.0  ...  1351.0     87.934863\n",
              "Kazakhstan             72.0             20.0  ...   701.0     86.733238\n",
              "France                 13.0              5.0  ...   303.0     94.059406\n",
              "China                  19.0              6.0  ...   269.0     90.706320\n",
              "Japan                  10.0              3.0  ...   126.0     89.682540\n",
              "India                   8.0              5.0  ...    76.0     82.894737\n",
              "Pacific Ocean           3.0              0.0  ...    36.0     91.666667\n",
              "Iran                    8.0              0.0  ...    14.0     35.714286\n",
              "New Zealand             2.0              0.0  ...    13.0     84.615385\n",
              "Israel                  2.0              0.0  ...    11.0     81.818182\n",
              "Kenya                   0.0              0.0  ...     9.0    100.000000\n",
              "Australia               3.0              0.0  ...     6.0     50.000000\n",
              "North Korea             3.0              0.0  ...     5.0     40.000000\n",
              "Brazil                  2.0              0.0  ...     3.0      0.000000\n",
              "South Korea             2.0              0.0  ...     3.0     33.333333\n",
              "\n",
              "[16 rows x 6 columns]"
            ]
          },
          "metadata": {
            "tags": []
          },
          "execution_count": 26
        }
      ]
    },
    {
      "cell_type": "code",
      "metadata": {
        "id": "1WipK7JW_qpc"
      },
      "source": [
        "from sklearn.preprocessing import LabelEncoder\n",
        "encoder = LabelEncoder()\n",
        "encoder.fit(space_cor['Status Mission'])\n",
        "colors = {0 : 'red', 1 : 'Orange', 2 : 'Yellow', 3 : 'Green'}"
      ],
      "execution_count": null,
      "outputs": []
    },
    {
      "cell_type": "code",
      "metadata": {
        "colab": {
          "base_uri": "https://localhost:8080/",
          "height": 1000
        },
        "id": "giFaJ8J1MBh7",
        "outputId": "0cc4e03a-3310-425d-8729-97eab8facc5c"
      },
      "source": [
        "CMS = fig = make_subplots(rows = 4 ,cols = 4,subplot_titles=space_cor['Country'].unique())\n",
        "\n",
        "for i, country in enumerate(space_cor['Country'].unique()):\n",
        "\n",
        "    counts = space_cor[space_cor['Country'] == country]['Status Mission'].value_counts(normalize = True) * 100\n",
        "    color = [colors[x] for x in encoder.transform(counts.index)]\n",
        "    trace = go.Bar(x = counts.index, y = counts.values, name = country,showlegend=False,marker={'color' : color})\n",
        "    fig.add_trace(trace, row = (i//4)+1, col = (i%4)+1)\n",
        "\n",
        "fig.update_layout(margin=dict(l=80, r=80, t=100, b=10), title = { 'text' : '<b>Status des missions pour chaque Pays</b>', 'x' : 0.5}, font_family = 'Fira Code',title_font_color= '#cacaca',height = 1000,width = 1100,template = 'plotly_dark')\n",
        "\n",
        "for i in range(1,5):\n",
        "    fig.update_yaxes(title_text = 'Percentage',row = i, col = 1)\n",
        "fig.show()"
      ],
      "execution_count": null,
      "outputs": [
        {
          "output_type": "display_data",
          "data": {
            "text/html": [
              "<html>\n",
              "<head><meta charset=\"utf-8\" /></head>\n",
              "<body>\n",
              "    <div>            <script src=\"https://cdnjs.cloudflare.com/ajax/libs/mathjax/2.7.5/MathJax.js?config=TeX-AMS-MML_SVG\"></script><script type=\"text/javascript\">if (window.MathJax) {MathJax.Hub.Config({SVG: {font: \"STIX-Web\"}});}</script>                <script type=\"text/javascript\">window.PlotlyConfig = {MathJaxConfig: 'local'};</script>\n",
              "        <script src=\"https://cdn.plot.ly/plotly-latest.min.js\"></script>                <div id=\"bb2aa65c-708a-4a3f-b78f-8d31a4f864ea\" class=\"plotly-graph-div\" style=\"height:1000px; width:1100px;\"></div>            <script type=\"text/javascript\">                                    window.PLOTLYENV=window.PLOTLYENV || {};                                    if (document.getElementById(\"bb2aa65c-708a-4a3f-b78f-8d31a4f864ea\")) {                    Plotly.newPlot(                        \"bb2aa65c-708a-4a3f-b78f-8d31a4f864ea\",                        [{\"marker\": {\"color\": [\"Green\", \"red\", \"Orange\", \"Yellow\"]}, \"name\": \"USA\", \"showlegend\": false, \"type\": \"bar\", \"x\": [\"Success\", \"Failure\", \"Partial Failure\", \"Prelaunch Failure\"], \"xaxis\": \"x\", \"y\": [87.93486306439674, 9.548482605477423, 2.4426350851221317, 0.07401924500370095], \"yaxis\": \"y\"}, {\"marker\": {\"color\": [\"Green\", \"red\", \"Orange\"]}, \"name\": \"China\", \"showlegend\": false, \"type\": \"bar\", \"x\": [\"Success\", \"Failure\", \"Partial Failure\"], \"xaxis\": \"x2\", \"y\": [90.70631970260223, 7.063197026022305, 2.2304832713754648], \"yaxis\": \"y2\"}, {\"marker\": {\"color\": [\"Green\", \"red\", \"Orange\", \"Yellow\"]}, \"name\": \"Kazakhstan\", \"showlegend\": false, \"type\": \"bar\", \"x\": [\"Success\", \"Failure\", \"Partial Failure\", \"Prelaunch Failure\"], \"xaxis\": \"x3\", \"y\": [86.73323823109843, 10.271041369472183, 2.8530670470756063, 0.14265335235378032], \"yaxis\": \"y3\"}, {\"marker\": {\"color\": [\"Green\", \"red\", \"Orange\"]}, \"name\": \"Japan\", \"showlegend\": false, \"type\": \"bar\", \"x\": [\"Success\", \"Failure\", \"Partial Failure\"], \"xaxis\": \"x4\", \"y\": [89.68253968253968, 7.936507936507936, 2.380952380952381], \"yaxis\": \"y4\"}, {\"marker\": {\"color\": [\"Green\", \"red\"]}, \"name\": \"Israel\", \"showlegend\": false, \"type\": \"bar\", \"x\": [\"Success\", \"Failure\"], \"xaxis\": \"x5\", \"y\": [81.81818181818183, 18.181818181818183], \"yaxis\": \"y5\"}, {\"marker\": {\"color\": [\"Green\", \"red\"]}, \"name\": \"New Zealand\", \"showlegend\": false, \"type\": \"bar\", \"x\": [\"Success\", \"Failure\"], \"xaxis\": \"x6\", \"y\": [84.61538461538461, 15.384615384615385], \"yaxis\": \"y6\"}, {\"marker\": {\"color\": [\"Green\", \"red\", \"Orange\"]}, \"name\": \"Russian Federation\", \"showlegend\": false, \"type\": \"bar\", \"x\": [\"Success\", \"Failure\", \"Partial Failure\"], \"xaxis\": \"x7\", \"y\": [93.34763948497854, 4.506437768240343, 2.1459227467811157], \"yaxis\": \"y7\"}, {\"marker\": {\"color\": [\"red\", \"Green\", \"Yellow\"]}, \"name\": \"Iran\", \"showlegend\": false, \"type\": \"bar\", \"x\": [\"Failure\", \"Success\", \"Prelaunch Failure\"], \"xaxis\": \"x8\", \"y\": [57.14285714285714, 35.714285714285715, 7.142857142857142], \"yaxis\": \"y8\"}, {\"marker\": {\"color\": [\"Green\", \"red\", \"Orange\"]}, \"name\": \"France\", \"showlegend\": false, \"type\": \"bar\", \"x\": [\"Success\", \"Failure\", \"Partial Failure\"], \"xaxis\": \"x9\", \"y\": [94.05940594059405, 4.29042904290429, 1.65016501650165], \"yaxis\": \"y9\"}, {\"marker\": {\"color\": [\"Green\", \"red\", \"Orange\"]}, \"name\": \"India\", \"showlegend\": false, \"type\": \"bar\", \"x\": [\"Success\", \"Failure\", \"Partial Failure\"], \"xaxis\": \"x10\", \"y\": [82.89473684210526, 10.526315789473683, 6.578947368421052], \"yaxis\": \"y10\"}, {\"marker\": {\"color\": [\"red\", \"Green\"]}, \"name\": \"North Korea\", \"showlegend\": false, \"type\": \"bar\", \"x\": [\"Failure\", \"Success\"], \"xaxis\": \"x11\", \"y\": [60.0, 40.0], \"yaxis\": \"y11\"}, {\"marker\": {\"color\": [\"Green\", \"red\"]}, \"name\": \"Pacific Ocean\", \"showlegend\": false, \"type\": \"bar\", \"x\": [\"Success\", \"Failure\"], \"xaxis\": \"x12\", \"y\": [91.66666666666666, 8.333333333333332], \"yaxis\": \"y12\"}, {\"marker\": {\"color\": [\"red\", \"Green\"]}, \"name\": \"South Korea\", \"showlegend\": false, \"type\": \"bar\", \"x\": [\"Failure\", \"Success\"], \"xaxis\": \"x13\", \"y\": [66.66666666666666, 33.33333333333333], \"yaxis\": \"y13\"}, {\"marker\": {\"color\": [\"red\", \"Yellow\"]}, \"name\": \"Brazil\", \"showlegend\": false, \"type\": \"bar\", \"x\": [\"Failure\", \"Prelaunch Failure\"], \"xaxis\": \"x14\", \"y\": [66.66666666666666, 33.33333333333333], \"yaxis\": \"y14\"}, {\"marker\": {\"color\": [\"Green\"]}, \"name\": \"Kenya\", \"showlegend\": false, \"type\": \"bar\", \"x\": [\"Success\"], \"xaxis\": \"x15\", \"y\": [100.0], \"yaxis\": \"y15\"}, {\"marker\": {\"color\": [\"Green\", \"red\"]}, \"name\": \"Australia\", \"showlegend\": false, \"type\": \"bar\", \"x\": [\"Success\", \"Failure\"], \"xaxis\": \"x16\", \"y\": [50.0, 50.0], \"yaxis\": \"y16\"}],                        {\"annotations\": [{\"font\": {\"size\": 16}, \"showarrow\": false, \"text\": \"USA\", \"x\": 0.10625, \"xanchor\": \"center\", \"xref\": \"paper\", \"y\": 1.0, \"yanchor\": \"bottom\", \"yref\": \"paper\"}, {\"font\": {\"size\": 16}, \"showarrow\": false, \"text\": \"China\", \"x\": 0.36875, \"xanchor\": \"center\", \"xref\": \"paper\", \"y\": 1.0, \"yanchor\": \"bottom\", \"yref\": \"paper\"}, {\"font\": {\"size\": 16}, \"showarrow\": false, \"text\": \"Kazakhstan\", \"x\": 0.6312500000000001, \"xanchor\": \"center\", \"xref\": \"paper\", \"y\": 1.0, \"yanchor\": \"bottom\", \"yref\": \"paper\"}, {\"font\": {\"size\": 16}, \"showarrow\": false, \"text\": \"Japan\", \"x\": 0.89375, \"xanchor\": \"center\", \"xref\": \"paper\", \"y\": 1.0, \"yanchor\": \"bottom\", \"yref\": \"paper\"}, {\"font\": {\"size\": 16}, \"showarrow\": false, \"text\": \"Israel\", \"x\": 0.10625, \"xanchor\": \"center\", \"xref\": \"paper\", \"y\": 0.71875, \"yanchor\": \"bottom\", \"yref\": \"paper\"}, {\"font\": {\"size\": 16}, \"showarrow\": false, \"text\": \"New Zealand\", \"x\": 0.36875, \"xanchor\": \"center\", \"xref\": \"paper\", \"y\": 0.71875, \"yanchor\": \"bottom\", \"yref\": \"paper\"}, {\"font\": {\"size\": 16}, \"showarrow\": false, \"text\": \"Russian Federation\", \"x\": 0.6312500000000001, \"xanchor\": \"center\", \"xref\": \"paper\", \"y\": 0.71875, \"yanchor\": \"bottom\", \"yref\": \"paper\"}, {\"font\": {\"size\": 16}, \"showarrow\": false, \"text\": \"Iran\", \"x\": 0.89375, \"xanchor\": \"center\", \"xref\": \"paper\", \"y\": 0.71875, \"yanchor\": \"bottom\", \"yref\": \"paper\"}, {\"font\": {\"size\": 16}, \"showarrow\": false, \"text\": \"France\", \"x\": 0.10625, \"xanchor\": \"center\", \"xref\": \"paper\", \"y\": 0.4375, \"yanchor\": \"bottom\", \"yref\": \"paper\"}, {\"font\": {\"size\": 16}, \"showarrow\": false, \"text\": \"India\", \"x\": 0.36875, \"xanchor\": \"center\", \"xref\": \"paper\", \"y\": 0.4375, \"yanchor\": \"bottom\", \"yref\": \"paper\"}, {\"font\": {\"size\": 16}, \"showarrow\": false, \"text\": \"North Korea\", \"x\": 0.6312500000000001, \"xanchor\": \"center\", \"xref\": \"paper\", \"y\": 0.4375, \"yanchor\": \"bottom\", \"yref\": \"paper\"}, {\"font\": {\"size\": 16}, \"showarrow\": false, \"text\": \"Pacific Ocean\", \"x\": 0.89375, \"xanchor\": \"center\", \"xref\": \"paper\", \"y\": 0.4375, \"yanchor\": \"bottom\", \"yref\": \"paper\"}, {\"font\": {\"size\": 16}, \"showarrow\": false, \"text\": \"South Korea\", \"x\": 0.10625, \"xanchor\": \"center\", \"xref\": \"paper\", \"y\": 0.15625, \"yanchor\": \"bottom\", \"yref\": \"paper\"}, {\"font\": {\"size\": 16}, \"showarrow\": false, \"text\": \"Brazil\", \"x\": 0.36875, \"xanchor\": \"center\", \"xref\": \"paper\", \"y\": 0.15625, \"yanchor\": \"bottom\", \"yref\": \"paper\"}, {\"font\": {\"size\": 16}, \"showarrow\": false, \"text\": \"Kenya\", \"x\": 0.6312500000000001, \"xanchor\": \"center\", \"xref\": \"paper\", \"y\": 0.15625, \"yanchor\": \"bottom\", \"yref\": \"paper\"}, {\"font\": {\"size\": 16}, \"showarrow\": false, \"text\": \"Australia\", \"x\": 0.89375, \"xanchor\": \"center\", \"xref\": \"paper\", \"y\": 0.15625, \"yanchor\": \"bottom\", \"yref\": \"paper\"}], \"font\": {\"family\": \"Fira Code\"}, \"height\": 1000, \"margin\": {\"b\": 10, \"l\": 80, \"r\": 80, \"t\": 100}, \"template\": {\"data\": {\"bar\": [{\"error_x\": {\"color\": \"#f2f5fa\"}, \"error_y\": {\"color\": \"#f2f5fa\"}, \"marker\": {\"line\": {\"color\": \"rgb(17,17,17)\", \"width\": 0.5}}, \"type\": \"bar\"}], \"barpolar\": [{\"marker\": {\"line\": {\"color\": \"rgb(17,17,17)\", \"width\": 0.5}}, \"type\": \"barpolar\"}], \"carpet\": [{\"aaxis\": {\"endlinecolor\": \"#A2B1C6\", \"gridcolor\": \"#506784\", \"linecolor\": \"#506784\", \"minorgridcolor\": \"#506784\", \"startlinecolor\": \"#A2B1C6\"}, \"baxis\": {\"endlinecolor\": \"#A2B1C6\", \"gridcolor\": \"#506784\", \"linecolor\": \"#506784\", \"minorgridcolor\": \"#506784\", \"startlinecolor\": \"#A2B1C6\"}, \"type\": \"carpet\"}], \"choropleth\": [{\"colorbar\": {\"outlinewidth\": 0, \"ticks\": \"\"}, \"type\": \"choropleth\"}], \"contour\": [{\"colorbar\": {\"outlinewidth\": 0, \"ticks\": \"\"}, \"colorscale\": [[0.0, \"#0d0887\"], [0.1111111111111111, \"#46039f\"], [0.2222222222222222, \"#7201a8\"], [0.3333333333333333, \"#9c179e\"], [0.4444444444444444, \"#bd3786\"], [0.5555555555555556, \"#d8576b\"], [0.6666666666666666, \"#ed7953\"], [0.7777777777777778, \"#fb9f3a\"], [0.8888888888888888, \"#fdca26\"], [1.0, \"#f0f921\"]], \"type\": \"contour\"}], \"contourcarpet\": [{\"colorbar\": {\"outlinewidth\": 0, \"ticks\": \"\"}, \"type\": \"contourcarpet\"}], \"heatmap\": [{\"colorbar\": {\"outlinewidth\": 0, \"ticks\": \"\"}, \"colorscale\": [[0.0, \"#0d0887\"], [0.1111111111111111, \"#46039f\"], [0.2222222222222222, \"#7201a8\"], [0.3333333333333333, \"#9c179e\"], [0.4444444444444444, \"#bd3786\"], [0.5555555555555556, \"#d8576b\"], [0.6666666666666666, \"#ed7953\"], [0.7777777777777778, \"#fb9f3a\"], [0.8888888888888888, \"#fdca26\"], [1.0, \"#f0f921\"]], \"type\": \"heatmap\"}], \"heatmapgl\": [{\"colorbar\": {\"outlinewidth\": 0, \"ticks\": \"\"}, \"colorscale\": [[0.0, \"#0d0887\"], [0.1111111111111111, \"#46039f\"], [0.2222222222222222, \"#7201a8\"], [0.3333333333333333, \"#9c179e\"], [0.4444444444444444, \"#bd3786\"], [0.5555555555555556, \"#d8576b\"], [0.6666666666666666, \"#ed7953\"], [0.7777777777777778, \"#fb9f3a\"], [0.8888888888888888, \"#fdca26\"], [1.0, \"#f0f921\"]], \"type\": \"heatmapgl\"}], \"histogram\": [{\"marker\": {\"colorbar\": {\"outlinewidth\": 0, \"ticks\": \"\"}}, \"type\": \"histogram\"}], \"histogram2d\": [{\"colorbar\": {\"outlinewidth\": 0, \"ticks\": \"\"}, \"colorscale\": [[0.0, \"#0d0887\"], [0.1111111111111111, \"#46039f\"], [0.2222222222222222, \"#7201a8\"], [0.3333333333333333, \"#9c179e\"], [0.4444444444444444, \"#bd3786\"], [0.5555555555555556, \"#d8576b\"], [0.6666666666666666, \"#ed7953\"], [0.7777777777777778, \"#fb9f3a\"], [0.8888888888888888, \"#fdca26\"], [1.0, \"#f0f921\"]], \"type\": \"histogram2d\"}], \"histogram2dcontour\": [{\"colorbar\": {\"outlinewidth\": 0, \"ticks\": \"\"}, \"colorscale\": [[0.0, \"#0d0887\"], [0.1111111111111111, \"#46039f\"], [0.2222222222222222, \"#7201a8\"], [0.3333333333333333, \"#9c179e\"], [0.4444444444444444, \"#bd3786\"], [0.5555555555555556, \"#d8576b\"], [0.6666666666666666, \"#ed7953\"], [0.7777777777777778, \"#fb9f3a\"], [0.8888888888888888, \"#fdca26\"], [1.0, \"#f0f921\"]], \"type\": \"histogram2dcontour\"}], \"mesh3d\": [{\"colorbar\": {\"outlinewidth\": 0, \"ticks\": \"\"}, \"type\": \"mesh3d\"}], \"parcoords\": [{\"line\": {\"colorbar\": {\"outlinewidth\": 0, \"ticks\": \"\"}}, \"type\": \"parcoords\"}], \"pie\": [{\"automargin\": true, \"type\": \"pie\"}], \"scatter\": [{\"marker\": {\"line\": {\"color\": \"#283442\"}}, \"type\": \"scatter\"}], \"scatter3d\": [{\"line\": {\"colorbar\": {\"outlinewidth\": 0, \"ticks\": \"\"}}, \"marker\": {\"colorbar\": {\"outlinewidth\": 0, \"ticks\": \"\"}}, \"type\": \"scatter3d\"}], \"scattercarpet\": [{\"marker\": {\"colorbar\": {\"outlinewidth\": 0, \"ticks\": \"\"}}, \"type\": \"scattercarpet\"}], \"scattergeo\": [{\"marker\": {\"colorbar\": {\"outlinewidth\": 0, \"ticks\": \"\"}}, \"type\": \"scattergeo\"}], \"scattergl\": [{\"marker\": {\"line\": {\"color\": \"#283442\"}}, \"type\": \"scattergl\"}], \"scattermapbox\": [{\"marker\": {\"colorbar\": {\"outlinewidth\": 0, \"ticks\": \"\"}}, \"type\": \"scattermapbox\"}], \"scatterpolar\": [{\"marker\": {\"colorbar\": {\"outlinewidth\": 0, \"ticks\": \"\"}}, \"type\": \"scatterpolar\"}], \"scatterpolargl\": [{\"marker\": {\"colorbar\": {\"outlinewidth\": 0, \"ticks\": \"\"}}, \"type\": \"scatterpolargl\"}], \"scatterternary\": [{\"marker\": {\"colorbar\": {\"outlinewidth\": 0, \"ticks\": \"\"}}, \"type\": \"scatterternary\"}], \"surface\": [{\"colorbar\": {\"outlinewidth\": 0, \"ticks\": \"\"}, \"colorscale\": [[0.0, \"#0d0887\"], [0.1111111111111111, \"#46039f\"], [0.2222222222222222, \"#7201a8\"], [0.3333333333333333, \"#9c179e\"], [0.4444444444444444, \"#bd3786\"], [0.5555555555555556, \"#d8576b\"], [0.6666666666666666, \"#ed7953\"], [0.7777777777777778, \"#fb9f3a\"], [0.8888888888888888, \"#fdca26\"], [1.0, \"#f0f921\"]], \"type\": \"surface\"}], \"table\": [{\"cells\": {\"fill\": {\"color\": \"#506784\"}, \"line\": {\"color\": \"rgb(17,17,17)\"}}, \"header\": {\"fill\": {\"color\": \"#2a3f5f\"}, \"line\": {\"color\": \"rgb(17,17,17)\"}}, \"type\": \"table\"}]}, \"layout\": {\"annotationdefaults\": {\"arrowcolor\": \"#f2f5fa\", \"arrowhead\": 0, \"arrowwidth\": 1}, \"autotypenumbers\": \"strict\", \"coloraxis\": {\"colorbar\": {\"outlinewidth\": 0, \"ticks\": \"\"}}, \"colorscale\": {\"diverging\": [[0, \"#8e0152\"], [0.1, \"#c51b7d\"], [0.2, \"#de77ae\"], [0.3, \"#f1b6da\"], [0.4, \"#fde0ef\"], [0.5, \"#f7f7f7\"], [0.6, \"#e6f5d0\"], [0.7, \"#b8e186\"], [0.8, \"#7fbc41\"], [0.9, \"#4d9221\"], [1, \"#276419\"]], \"sequential\": [[0.0, \"#0d0887\"], [0.1111111111111111, \"#46039f\"], [0.2222222222222222, \"#7201a8\"], [0.3333333333333333, \"#9c179e\"], [0.4444444444444444, \"#bd3786\"], [0.5555555555555556, \"#d8576b\"], [0.6666666666666666, \"#ed7953\"], [0.7777777777777778, \"#fb9f3a\"], [0.8888888888888888, \"#fdca26\"], [1.0, \"#f0f921\"]], \"sequentialminus\": [[0.0, \"#0d0887\"], [0.1111111111111111, \"#46039f\"], [0.2222222222222222, \"#7201a8\"], [0.3333333333333333, \"#9c179e\"], [0.4444444444444444, \"#bd3786\"], [0.5555555555555556, \"#d8576b\"], [0.6666666666666666, \"#ed7953\"], [0.7777777777777778, \"#fb9f3a\"], [0.8888888888888888, \"#fdca26\"], [1.0, \"#f0f921\"]]}, \"colorway\": [\"#636efa\", \"#EF553B\", \"#00cc96\", \"#ab63fa\", \"#FFA15A\", \"#19d3f3\", \"#FF6692\", \"#B6E880\", \"#FF97FF\", \"#FECB52\"], \"font\": {\"color\": \"#f2f5fa\"}, \"geo\": {\"bgcolor\": \"rgb(17,17,17)\", \"lakecolor\": \"rgb(17,17,17)\", \"landcolor\": \"rgb(17,17,17)\", \"showlakes\": true, \"showland\": true, \"subunitcolor\": \"#506784\"}, \"hoverlabel\": {\"align\": \"left\"}, \"hovermode\": \"closest\", \"mapbox\": {\"style\": \"dark\"}, \"paper_bgcolor\": \"rgb(17,17,17)\", \"plot_bgcolor\": \"rgb(17,17,17)\", \"polar\": {\"angularaxis\": {\"gridcolor\": \"#506784\", \"linecolor\": \"#506784\", \"ticks\": \"\"}, \"bgcolor\": \"rgb(17,17,17)\", \"radialaxis\": {\"gridcolor\": \"#506784\", \"linecolor\": \"#506784\", \"ticks\": \"\"}}, \"scene\": {\"xaxis\": {\"backgroundcolor\": \"rgb(17,17,17)\", \"gridcolor\": \"#506784\", \"gridwidth\": 2, \"linecolor\": \"#506784\", \"showbackground\": true, \"ticks\": \"\", \"zerolinecolor\": \"#C8D4E3\"}, \"yaxis\": {\"backgroundcolor\": \"rgb(17,17,17)\", \"gridcolor\": \"#506784\", \"gridwidth\": 2, \"linecolor\": \"#506784\", \"showbackground\": true, \"ticks\": \"\", \"zerolinecolor\": \"#C8D4E3\"}, \"zaxis\": {\"backgroundcolor\": \"rgb(17,17,17)\", \"gridcolor\": \"#506784\", \"gridwidth\": 2, \"linecolor\": \"#506784\", \"showbackground\": true, \"ticks\": \"\", \"zerolinecolor\": \"#C8D4E3\"}}, \"shapedefaults\": {\"line\": {\"color\": \"#f2f5fa\"}}, \"sliderdefaults\": {\"bgcolor\": \"#C8D4E3\", \"bordercolor\": \"rgb(17,17,17)\", \"borderwidth\": 1, \"tickwidth\": 0}, \"ternary\": {\"aaxis\": {\"gridcolor\": \"#506784\", \"linecolor\": \"#506784\", \"ticks\": \"\"}, \"baxis\": {\"gridcolor\": \"#506784\", \"linecolor\": \"#506784\", \"ticks\": \"\"}, \"bgcolor\": \"rgb(17,17,17)\", \"caxis\": {\"gridcolor\": \"#506784\", \"linecolor\": \"#506784\", \"ticks\": \"\"}}, \"title\": {\"x\": 0.05}, \"updatemenudefaults\": {\"bgcolor\": \"#506784\", \"borderwidth\": 0}, \"xaxis\": {\"automargin\": true, \"gridcolor\": \"#283442\", \"linecolor\": \"#506784\", \"ticks\": \"\", \"title\": {\"standoff\": 15}, \"zerolinecolor\": \"#283442\", \"zerolinewidth\": 2}, \"yaxis\": {\"automargin\": true, \"gridcolor\": \"#283442\", \"linecolor\": \"#506784\", \"ticks\": \"\", \"title\": {\"standoff\": 15}, \"zerolinecolor\": \"#283442\", \"zerolinewidth\": 2}}}, \"title\": {\"font\": {\"color\": \"#cacaca\"}, \"text\": \"<b>Status des missions pour chaque Pays</b>\", \"x\": 0.5}, \"width\": 1100, \"xaxis\": {\"anchor\": \"y\", \"domain\": [0.0, 0.2125]}, \"xaxis10\": {\"anchor\": \"y10\", \"domain\": [0.2625, 0.475]}, \"xaxis11\": {\"anchor\": \"y11\", \"domain\": [0.525, 0.7375]}, \"xaxis12\": {\"anchor\": \"y12\", \"domain\": [0.7875, 1.0]}, \"xaxis13\": {\"anchor\": \"y13\", \"domain\": [0.0, 0.2125]}, \"xaxis14\": {\"anchor\": \"y14\", \"domain\": [0.2625, 0.475]}, \"xaxis15\": {\"anchor\": \"y15\", \"domain\": [0.525, 0.7375]}, \"xaxis16\": {\"anchor\": \"y16\", \"domain\": [0.7875, 1.0]}, \"xaxis2\": {\"anchor\": \"y2\", \"domain\": [0.2625, 0.475]}, \"xaxis3\": {\"anchor\": \"y3\", \"domain\": [0.525, 0.7375]}, \"xaxis4\": {\"anchor\": \"y4\", \"domain\": [0.7875, 1.0]}, \"xaxis5\": {\"anchor\": \"y5\", \"domain\": [0.0, 0.2125]}, \"xaxis6\": {\"anchor\": \"y6\", \"domain\": [0.2625, 0.475]}, \"xaxis7\": {\"anchor\": \"y7\", \"domain\": [0.525, 0.7375]}, \"xaxis8\": {\"anchor\": \"y8\", \"domain\": [0.7875, 1.0]}, \"xaxis9\": {\"anchor\": \"y9\", \"domain\": [0.0, 0.2125]}, \"yaxis\": {\"anchor\": \"x\", \"domain\": [0.84375, 1.0], \"title\": {\"text\": \"Percentage\"}}, \"yaxis10\": {\"anchor\": \"x10\", \"domain\": [0.28125, 0.4375]}, \"yaxis11\": {\"anchor\": \"x11\", \"domain\": [0.28125, 0.4375]}, \"yaxis12\": {\"anchor\": \"x12\", \"domain\": [0.28125, 0.4375]}, \"yaxis13\": {\"anchor\": \"x13\", \"domain\": [0.0, 0.15625], \"title\": {\"text\": \"Percentage\"}}, \"yaxis14\": {\"anchor\": \"x14\", \"domain\": [0.0, 0.15625]}, \"yaxis15\": {\"anchor\": \"x15\", \"domain\": [0.0, 0.15625]}, \"yaxis16\": {\"anchor\": \"x16\", \"domain\": [0.0, 0.15625]}, \"yaxis2\": {\"anchor\": \"x2\", \"domain\": [0.84375, 1.0]}, \"yaxis3\": {\"anchor\": \"x3\", \"domain\": [0.84375, 1.0]}, \"yaxis4\": {\"anchor\": \"x4\", \"domain\": [0.84375, 1.0]}, \"yaxis5\": {\"anchor\": \"x5\", \"domain\": [0.5625, 0.71875], \"title\": {\"text\": \"Percentage\"}}, \"yaxis6\": {\"anchor\": \"x6\", \"domain\": [0.5625, 0.71875]}, \"yaxis7\": {\"anchor\": \"x7\", \"domain\": [0.5625, 0.71875]}, \"yaxis8\": {\"anchor\": \"x8\", \"domain\": [0.5625, 0.71875]}, \"yaxis9\": {\"anchor\": \"x9\", \"domain\": [0.28125, 0.4375], \"title\": {\"text\": \"Percentage\"}}},                        {\"responsive\": true}                    ).then(function(){\n",
              "                            \n",
              "var gd = document.getElementById('bb2aa65c-708a-4a3f-b78f-8d31a4f864ea');\n",
              "var x = new MutationObserver(function (mutations, observer) {{\n",
              "        var display = window.getComputedStyle(gd).display;\n",
              "        if (!display || display === 'none') {{\n",
              "            console.log([gd, 'removed!']);\n",
              "            Plotly.purge(gd);\n",
              "            observer.disconnect();\n",
              "        }}\n",
              "}});\n",
              "\n",
              "// Listen for the removal of the full notebook cells\n",
              "var notebookContainer = gd.closest('#notebook-container');\n",
              "if (notebookContainer) {{\n",
              "    x.observe(notebookContainer, {childList: true});\n",
              "}}\n",
              "\n",
              "// Listen for the clearing of the current output cell\n",
              "var outputEl = gd.closest('.output');\n",
              "if (outputEl) {{\n",
              "    x.observe(outputEl, {childList: true});\n",
              "}}\n",
              "\n",
              "                        })                };                            </script>        </div>\n",
              "</body>\n",
              "</html>"
            ]
          },
          "metadata": {
            "tags": []
          }
        }
      ]
    },
    {
      "cell_type": "code",
      "metadata": {
        "colab": {
          "base_uri": "https://localhost:8080/",
          "height": 1000
        },
        "id": "dsZbQypt5XHL",
        "outputId": "7fc1460b-e401-4c56-a69d-849debc671f9"
      },
      "source": [
        "\n",
        "\n",
        "CcMS = fig= px.sunburst(space_cor,path = ['Status Mission','Country'] ,color= 'Status Mission', color_discrete_map={\"Success\":\"green\", \"Failure\":\"red\" , \"Partial Failure\":'orange' , \"Prelauch Failure\": 'yellow'}, template = 'plotly_dark' , width=1000, height=1000)\n",
        "\n",
        "fig.update_layout(margin=dict(l=80, r=80, t=80, b=100), title = { 'text' : '<b>Company and Mission Status</b>', 'x' : 0.5},   uniformtext=dict(minsize=12, mode='hide'))\n",
        "fig.show()"
      ],
      "execution_count": null,
      "outputs": [
        {
          "output_type": "display_data",
          "data": {
            "text/html": [
              "<html>\n",
              "<head><meta charset=\"utf-8\" /></head>\n",
              "<body>\n",
              "    <div>            <script src=\"https://cdnjs.cloudflare.com/ajax/libs/mathjax/2.7.5/MathJax.js?config=TeX-AMS-MML_SVG\"></script><script type=\"text/javascript\">if (window.MathJax) {MathJax.Hub.Config({SVG: {font: \"STIX-Web\"}});}</script>                <script type=\"text/javascript\">window.PlotlyConfig = {MathJaxConfig: 'local'};</script>\n",
              "        <script src=\"https://cdn.plot.ly/plotly-latest.min.js\"></script>                <div id=\"e4982746-2819-43b6-917c-b273421a20de\" class=\"plotly-graph-div\" style=\"height:1000px; width:1000px;\"></div>            <script type=\"text/javascript\">                                    window.PLOTLYENV=window.PLOTLYENV || {};                                    if (document.getElementById(\"e4982746-2819-43b6-917c-b273421a20de\")) {                    Plotly.newPlot(                        \"e4982746-2819-43b6-917c-b273421a20de\",                        [{\"branchvalues\": \"total\", \"customdata\": [[\"Partial Failure\"], [\"Success\"], [\"Success\"], [\"Success\"], [\"Prelaunch Failure\"], [\"Partial Failure\"], [\"Success\"], [\"Failure\"], [\"Partial Failure\"], [\"Failure\"], [\"Success\"], [\"Failure\"], [\"Failure\"], [\"Success\"], [\"Failure\"], [\"Success\"], [\"Partial Failure\"], [\"Success\"], [\"Failure\"], [\"Success\"], [\"Failure\"], [\"Prelaunch Failure\"], [\"Failure\"], [\"Partial Failure\"], [\"Failure\"], [\"Success\"], [\"Failure\"], [\"Prelaunch Failure\"], [\"Failure\"], [\"Partial Failure\"], [\"Success\"], [\"Failure\"], [\"Partial Failure\"], [\"Prelaunch Failure\"], [\"Success\"], [\"Success\"], [\"Failure\"], [\"Prelaunch Failure\"], [\"Failure\"], [\"Success\"], [\"Failure\"], [\"Partial Failure\"], [\"Success\"], [\"Failure\"], [\"Success\"]], \"domain\": {\"x\": [0.0, 1.0], \"y\": [0.0, 1.0]}, \"hovertemplate\": \"labels=%{label}<br>count=%{value}<br>parent=%{parent}<br>id=%{id}<br>Status Mission=%{customdata[0]}<extra></extra>\", \"ids\": [\"Partial Failure/India\", \"Success/New Zealand\", \"Success/Iran\", \"Success/South Korea\", \"Prelaunch Failure\", \"Partial Failure/USA\", \"Success/Kenya\", \"Failure/New Zealand\", \"Partial Failure\", \"Failure/North Korea\", \"Success/North Korea\", \"Failure\", \"Failure/Pacific Ocean\", \"Success/Pacific Ocean\", \"Failure/Russian Federation\", \"Success/Kazakhstan\", \"Partial Failure/Russian Federation\", \"Success/Russian Federation\", \"Failure/South Korea\", \"Success/USA\", \"Failure/USA\", \"Prelaunch Failure/USA\", \"Failure/Australia\", \"Partial Failure/Kazakhstan\", \"Failure/Kazakhstan\", \"Success/Australia\", \"Failure/Brazil\", \"Prelaunch Failure/Brazil\", \"Failure/China\", \"Partial Failure/China\", \"Success/China\", \"Failure/France\", \"Partial Failure/France\", \"Prelaunch Failure/Kazakhstan\", \"Success/France\", \"Success/India\", \"Failure/Iran\", \"Prelaunch Failure/Iran\", \"Failure/Israel\", \"Success/Israel\", \"Failure/Japan\", \"Partial Failure/Japan\", \"Success/Japan\", \"Failure/India\", \"Success\"], \"labels\": [\"India\", \"New Zealand\", \"Iran\", \"South Korea\", \"Prelaunch Failure\", \"USA\", \"Kenya\", \"New Zealand\", \"Partial Failure\", \"North Korea\", \"North Korea\", \"Failure\", \"Pacific Ocean\", \"Pacific Ocean\", \"Russian Federation\", \"Kazakhstan\", \"Russian Federation\", \"Russian Federation\", \"South Korea\", \"USA\", \"USA\", \"USA\", \"Australia\", \"Kazakhstan\", \"Kazakhstan\", \"Australia\", \"Brazil\", \"Brazil\", \"China\", \"China\", \"China\", \"France\", \"France\", \"Kazakhstan\", \"France\", \"India\", \"Iran\", \"Iran\", \"Israel\", \"Israel\", \"Japan\", \"Japan\", \"Japan\", \"India\", \"Success\"], \"marker\": {\"colors\": [\"orange\", \"green\", \"green\", \"green\", \"#FFA15A\", \"orange\", \"green\", \"red\", \"orange\", \"red\", \"green\", \"red\", \"red\", \"green\", \"red\", \"green\", \"orange\", \"green\", \"red\", \"green\", \"red\", \"#FFA15A\", \"red\", \"orange\", \"red\", \"green\", \"red\", \"#FFA15A\", \"red\", \"orange\", \"green\", \"red\", \"orange\", \"#FFA15A\", \"green\", \"green\", \"red\", \"#FFA15A\", \"red\", \"green\", \"red\", \"orange\", \"green\", \"red\", \"green\"]}, \"name\": \"\", \"parents\": [\"Partial Failure\", \"Success\", \"Success\", \"Success\", \"\", \"Partial Failure\", \"Success\", \"Failure\", \"\", \"Failure\", \"Success\", \"\", \"Failure\", \"Success\", \"Failure\", \"Success\", \"Partial Failure\", \"Success\", \"Failure\", \"Success\", \"Failure\", \"Prelaunch Failure\", \"Failure\", \"Partial Failure\", \"Failure\", \"Success\", \"Failure\", \"Prelaunch Failure\", \"Failure\", \"Partial Failure\", \"Success\", \"Failure\", \"Partial Failure\", \"Prelaunch Failure\", \"Success\", \"Success\", \"Failure\", \"Prelaunch Failure\", \"Failure\", \"Success\", \"Failure\", \"Partial Failure\", \"Success\", \"Failure\", \"\"], \"type\": \"sunburst\", \"values\": [5, 11, 5, 1, 4, 33, 9, 2, 102, 3, 2, 339, 3, 33, 63, 608, 30, 1305, 2, 1188, 129, 1, 3, 20, 72, 3, 2, 1, 19, 6, 244, 13, 5, 1, 285, 63, 8, 1, 2, 9, 10, 3, 113, 8, 3879]}],                        {\"height\": 1000, \"legend\": {\"tracegroupgap\": 0}, \"margin\": {\"b\": 100, \"l\": 80, \"r\": 80, \"t\": 80}, \"template\": {\"data\": {\"bar\": [{\"error_x\": {\"color\": \"#f2f5fa\"}, \"error_y\": {\"color\": \"#f2f5fa\"}, \"marker\": {\"line\": {\"color\": \"rgb(17,17,17)\", \"width\": 0.5}}, \"type\": \"bar\"}], \"barpolar\": [{\"marker\": {\"line\": {\"color\": \"rgb(17,17,17)\", \"width\": 0.5}}, \"type\": \"barpolar\"}], \"carpet\": [{\"aaxis\": {\"endlinecolor\": \"#A2B1C6\", \"gridcolor\": \"#506784\", \"linecolor\": \"#506784\", \"minorgridcolor\": \"#506784\", \"startlinecolor\": \"#A2B1C6\"}, \"baxis\": {\"endlinecolor\": \"#A2B1C6\", \"gridcolor\": \"#506784\", \"linecolor\": \"#506784\", \"minorgridcolor\": \"#506784\", \"startlinecolor\": \"#A2B1C6\"}, \"type\": \"carpet\"}], \"choropleth\": [{\"colorbar\": {\"outlinewidth\": 0, \"ticks\": \"\"}, \"type\": \"choropleth\"}], \"contour\": [{\"colorbar\": {\"outlinewidth\": 0, \"ticks\": \"\"}, \"colorscale\": [[0.0, \"#0d0887\"], [0.1111111111111111, \"#46039f\"], [0.2222222222222222, \"#7201a8\"], [0.3333333333333333, \"#9c179e\"], [0.4444444444444444, \"#bd3786\"], [0.5555555555555556, \"#d8576b\"], [0.6666666666666666, \"#ed7953\"], [0.7777777777777778, \"#fb9f3a\"], [0.8888888888888888, \"#fdca26\"], [1.0, \"#f0f921\"]], \"type\": \"contour\"}], \"contourcarpet\": [{\"colorbar\": {\"outlinewidth\": 0, \"ticks\": \"\"}, \"type\": \"contourcarpet\"}], \"heatmap\": [{\"colorbar\": {\"outlinewidth\": 0, \"ticks\": \"\"}, \"colorscale\": [[0.0, \"#0d0887\"], [0.1111111111111111, \"#46039f\"], [0.2222222222222222, \"#7201a8\"], [0.3333333333333333, \"#9c179e\"], [0.4444444444444444, \"#bd3786\"], [0.5555555555555556, \"#d8576b\"], [0.6666666666666666, \"#ed7953\"], [0.7777777777777778, \"#fb9f3a\"], [0.8888888888888888, \"#fdca26\"], [1.0, \"#f0f921\"]], \"type\": \"heatmap\"}], \"heatmapgl\": [{\"colorbar\": {\"outlinewidth\": 0, \"ticks\": \"\"}, \"colorscale\": [[0.0, \"#0d0887\"], [0.1111111111111111, \"#46039f\"], [0.2222222222222222, \"#7201a8\"], [0.3333333333333333, \"#9c179e\"], [0.4444444444444444, \"#bd3786\"], [0.5555555555555556, \"#d8576b\"], [0.6666666666666666, \"#ed7953\"], [0.7777777777777778, \"#fb9f3a\"], [0.8888888888888888, \"#fdca26\"], [1.0, \"#f0f921\"]], \"type\": \"heatmapgl\"}], \"histogram\": [{\"marker\": {\"colorbar\": {\"outlinewidth\": 0, \"ticks\": \"\"}}, \"type\": \"histogram\"}], \"histogram2d\": [{\"colorbar\": {\"outlinewidth\": 0, \"ticks\": \"\"}, \"colorscale\": [[0.0, \"#0d0887\"], [0.1111111111111111, \"#46039f\"], [0.2222222222222222, \"#7201a8\"], [0.3333333333333333, \"#9c179e\"], [0.4444444444444444, \"#bd3786\"], [0.5555555555555556, \"#d8576b\"], [0.6666666666666666, \"#ed7953\"], [0.7777777777777778, \"#fb9f3a\"], [0.8888888888888888, \"#fdca26\"], [1.0, \"#f0f921\"]], \"type\": \"histogram2d\"}], \"histogram2dcontour\": [{\"colorbar\": {\"outlinewidth\": 0, \"ticks\": \"\"}, \"colorscale\": [[0.0, \"#0d0887\"], [0.1111111111111111, \"#46039f\"], [0.2222222222222222, \"#7201a8\"], [0.3333333333333333, \"#9c179e\"], [0.4444444444444444, \"#bd3786\"], [0.5555555555555556, \"#d8576b\"], [0.6666666666666666, \"#ed7953\"], [0.7777777777777778, \"#fb9f3a\"], [0.8888888888888888, \"#fdca26\"], [1.0, \"#f0f921\"]], \"type\": \"histogram2dcontour\"}], \"mesh3d\": [{\"colorbar\": {\"outlinewidth\": 0, \"ticks\": \"\"}, \"type\": \"mesh3d\"}], \"parcoords\": [{\"line\": {\"colorbar\": {\"outlinewidth\": 0, \"ticks\": \"\"}}, \"type\": \"parcoords\"}], \"pie\": [{\"automargin\": true, \"type\": \"pie\"}], \"scatter\": [{\"marker\": {\"line\": {\"color\": \"#283442\"}}, \"type\": \"scatter\"}], \"scatter3d\": [{\"line\": {\"colorbar\": {\"outlinewidth\": 0, \"ticks\": \"\"}}, \"marker\": {\"colorbar\": {\"outlinewidth\": 0, \"ticks\": \"\"}}, \"type\": \"scatter3d\"}], \"scattercarpet\": [{\"marker\": {\"colorbar\": {\"outlinewidth\": 0, \"ticks\": \"\"}}, \"type\": \"scattercarpet\"}], \"scattergeo\": [{\"marker\": {\"colorbar\": {\"outlinewidth\": 0, \"ticks\": \"\"}}, \"type\": \"scattergeo\"}], \"scattergl\": [{\"marker\": {\"line\": {\"color\": \"#283442\"}}, \"type\": \"scattergl\"}], \"scattermapbox\": [{\"marker\": {\"colorbar\": {\"outlinewidth\": 0, \"ticks\": \"\"}}, \"type\": \"scattermapbox\"}], \"scatterpolar\": [{\"marker\": {\"colorbar\": {\"outlinewidth\": 0, \"ticks\": \"\"}}, \"type\": \"scatterpolar\"}], \"scatterpolargl\": [{\"marker\": {\"colorbar\": {\"outlinewidth\": 0, \"ticks\": \"\"}}, \"type\": \"scatterpolargl\"}], \"scatterternary\": [{\"marker\": {\"colorbar\": {\"outlinewidth\": 0, \"ticks\": \"\"}}, \"type\": \"scatterternary\"}], \"surface\": [{\"colorbar\": {\"outlinewidth\": 0, \"ticks\": \"\"}, \"colorscale\": [[0.0, \"#0d0887\"], [0.1111111111111111, \"#46039f\"], [0.2222222222222222, \"#7201a8\"], [0.3333333333333333, \"#9c179e\"], [0.4444444444444444, \"#bd3786\"], [0.5555555555555556, \"#d8576b\"], [0.6666666666666666, \"#ed7953\"], [0.7777777777777778, \"#fb9f3a\"], [0.8888888888888888, \"#fdca26\"], [1.0, \"#f0f921\"]], \"type\": \"surface\"}], \"table\": [{\"cells\": {\"fill\": {\"color\": \"#506784\"}, \"line\": {\"color\": \"rgb(17,17,17)\"}}, \"header\": {\"fill\": {\"color\": \"#2a3f5f\"}, \"line\": {\"color\": \"rgb(17,17,17)\"}}, \"type\": \"table\"}]}, \"layout\": {\"annotationdefaults\": {\"arrowcolor\": \"#f2f5fa\", \"arrowhead\": 0, \"arrowwidth\": 1}, \"autotypenumbers\": \"strict\", \"coloraxis\": {\"colorbar\": {\"outlinewidth\": 0, \"ticks\": \"\"}}, \"colorscale\": {\"diverging\": [[0, \"#8e0152\"], [0.1, \"#c51b7d\"], [0.2, \"#de77ae\"], [0.3, \"#f1b6da\"], [0.4, \"#fde0ef\"], [0.5, \"#f7f7f7\"], [0.6, \"#e6f5d0\"], [0.7, \"#b8e186\"], [0.8, \"#7fbc41\"], [0.9, \"#4d9221\"], [1, \"#276419\"]], \"sequential\": [[0.0, \"#0d0887\"], [0.1111111111111111, \"#46039f\"], [0.2222222222222222, \"#7201a8\"], [0.3333333333333333, \"#9c179e\"], [0.4444444444444444, \"#bd3786\"], [0.5555555555555556, \"#d8576b\"], [0.6666666666666666, \"#ed7953\"], [0.7777777777777778, \"#fb9f3a\"], [0.8888888888888888, \"#fdca26\"], [1.0, \"#f0f921\"]], \"sequentialminus\": [[0.0, \"#0d0887\"], [0.1111111111111111, \"#46039f\"], [0.2222222222222222, \"#7201a8\"], [0.3333333333333333, \"#9c179e\"], [0.4444444444444444, \"#bd3786\"], [0.5555555555555556, \"#d8576b\"], [0.6666666666666666, \"#ed7953\"], [0.7777777777777778, \"#fb9f3a\"], [0.8888888888888888, \"#fdca26\"], [1.0, \"#f0f921\"]]}, \"colorway\": [\"#636efa\", \"#EF553B\", \"#00cc96\", \"#ab63fa\", \"#FFA15A\", \"#19d3f3\", \"#FF6692\", \"#B6E880\", \"#FF97FF\", \"#FECB52\"], \"font\": {\"color\": \"#f2f5fa\"}, \"geo\": {\"bgcolor\": \"rgb(17,17,17)\", \"lakecolor\": \"rgb(17,17,17)\", \"landcolor\": \"rgb(17,17,17)\", \"showlakes\": true, \"showland\": true, \"subunitcolor\": \"#506784\"}, \"hoverlabel\": {\"align\": \"left\"}, \"hovermode\": \"closest\", \"mapbox\": {\"style\": \"dark\"}, \"paper_bgcolor\": \"rgb(17,17,17)\", \"plot_bgcolor\": \"rgb(17,17,17)\", \"polar\": {\"angularaxis\": {\"gridcolor\": \"#506784\", \"linecolor\": \"#506784\", \"ticks\": \"\"}, \"bgcolor\": \"rgb(17,17,17)\", \"radialaxis\": {\"gridcolor\": \"#506784\", \"linecolor\": \"#506784\", \"ticks\": \"\"}}, \"scene\": {\"xaxis\": {\"backgroundcolor\": \"rgb(17,17,17)\", \"gridcolor\": \"#506784\", \"gridwidth\": 2, \"linecolor\": \"#506784\", \"showbackground\": true, \"ticks\": \"\", \"zerolinecolor\": \"#C8D4E3\"}, \"yaxis\": {\"backgroundcolor\": \"rgb(17,17,17)\", \"gridcolor\": \"#506784\", \"gridwidth\": 2, \"linecolor\": \"#506784\", \"showbackground\": true, \"ticks\": \"\", \"zerolinecolor\": \"#C8D4E3\"}, \"zaxis\": {\"backgroundcolor\": \"rgb(17,17,17)\", \"gridcolor\": \"#506784\", \"gridwidth\": 2, \"linecolor\": \"#506784\", \"showbackground\": true, \"ticks\": \"\", \"zerolinecolor\": \"#C8D4E3\"}}, \"shapedefaults\": {\"line\": {\"color\": \"#f2f5fa\"}}, \"sliderdefaults\": {\"bgcolor\": \"#C8D4E3\", \"bordercolor\": \"rgb(17,17,17)\", \"borderwidth\": 1, \"tickwidth\": 0}, \"ternary\": {\"aaxis\": {\"gridcolor\": \"#506784\", \"linecolor\": \"#506784\", \"ticks\": \"\"}, \"baxis\": {\"gridcolor\": \"#506784\", \"linecolor\": \"#506784\", \"ticks\": \"\"}, \"bgcolor\": \"rgb(17,17,17)\", \"caxis\": {\"gridcolor\": \"#506784\", \"linecolor\": \"#506784\", \"ticks\": \"\"}}, \"title\": {\"x\": 0.05}, \"updatemenudefaults\": {\"bgcolor\": \"#506784\", \"borderwidth\": 0}, \"xaxis\": {\"automargin\": true, \"gridcolor\": \"#283442\", \"linecolor\": \"#506784\", \"ticks\": \"\", \"title\": {\"standoff\": 15}, \"zerolinecolor\": \"#283442\", \"zerolinewidth\": 2}, \"yaxis\": {\"automargin\": true, \"gridcolor\": \"#283442\", \"linecolor\": \"#506784\", \"ticks\": \"\", \"title\": {\"standoff\": 15}, \"zerolinecolor\": \"#283442\", \"zerolinewidth\": 2}}}, \"title\": {\"text\": \"<b>Company and Mission Status</b>\", \"x\": 0.5}, \"uniformtext\": {\"minsize\": 12, \"mode\": \"hide\"}, \"width\": 1000},                        {\"responsive\": true}                    ).then(function(){\n",
              "                            \n",
              "var gd = document.getElementById('e4982746-2819-43b6-917c-b273421a20de');\n",
              "var x = new MutationObserver(function (mutations, observer) {{\n",
              "        var display = window.getComputedStyle(gd).display;\n",
              "        if (!display || display === 'none') {{\n",
              "            console.log([gd, 'removed!']);\n",
              "            Plotly.purge(gd);\n",
              "            observer.disconnect();\n",
              "        }}\n",
              "}});\n",
              "\n",
              "// Listen for the removal of the full notebook cells\n",
              "var notebookContainer = gd.closest('#notebook-container');\n",
              "if (notebookContainer) {{\n",
              "    x.observe(notebookContainer, {childList: true});\n",
              "}}\n",
              "\n",
              "// Listen for the clearing of the current output cell\n",
              "var outputEl = gd.closest('.output');\n",
              "if (outputEl) {{\n",
              "    x.observe(outputEl, {childList: true});\n",
              "}}\n",
              "\n",
              "                        })                };                            </script>        </div>\n",
              "</body>\n",
              "</html>"
            ]
          },
          "metadata": {
            "tags": []
          }
        }
      ]
    },
    {
      "cell_type": "markdown",
      "metadata": {
        "id": "z5WpJxCotYQO"
      },
      "source": [
        "## Nombre de compagnie par pays"
      ]
    },
    {
      "cell_type": "code",
      "metadata": {
        "id": "qcvKlGpKWKg2"
      },
      "source": [
        "compag_pivot_table = space_cor.pivot_table(values=\"Company Name\", index=\"Country\", aggfunc=lambda x: len(x.unique())).sort_values(\"Company Name\",ascending=False)"
      ],
      "execution_count": null,
      "outputs": []
    },
    {
      "cell_type": "code",
      "metadata": {
        "id": "96o_G1yTcyRt"
      },
      "source": [
        "compag_pivot_table.columns = [\"Amount of company\"]"
      ],
      "execution_count": null,
      "outputs": []
    },
    {
      "cell_type": "code",
      "metadata": {
        "id": "O04vj8q6qXBb"
      },
      "source": [
        "compag_pivot_table.reset_index(inplace=True)"
      ],
      "execution_count": null,
      "outputs": []
    },
    {
      "cell_type": "code",
      "metadata": {
        "colab": {
          "base_uri": "https://localhost:8080/",
          "height": 542
        },
        "id": "ZDUjSriBbvHb",
        "outputId": "cbe08754-949a-481d-88d2-073a28570402"
      },
      "source": [
        "df = px.data.tips()\n",
        "CQC = fig = px.bar(compag_pivot_table, x=\"Country\" , y='Amount of company',color=\"Country\", color_discrete_sequence=px.colors.qualitative.Plotly , title=\"Quantité de compagnie par Pays\" , template = 'plotly_dark', labels={\"x\":\"Country\"})\n",
        "fig.show()"
      ],
      "execution_count": null,
      "outputs": [
        {
          "output_type": "display_data",
          "data": {
            "text/html": [
              "<html>\n",
              "<head><meta charset=\"utf-8\" /></head>\n",
              "<body>\n",
              "    <div>            <script src=\"https://cdnjs.cloudflare.com/ajax/libs/mathjax/2.7.5/MathJax.js?config=TeX-AMS-MML_SVG\"></script><script type=\"text/javascript\">if (window.MathJax) {MathJax.Hub.Config({SVG: {font: \"STIX-Web\"}});}</script>                <script type=\"text/javascript\">window.PlotlyConfig = {MathJaxConfig: 'local'};</script>\n",
              "        <script src=\"https://cdn.plot.ly/plotly-latest.min.js\"></script>                <div id=\"e02949e9-7a6d-4ed7-b712-624bb0515928\" class=\"plotly-graph-div\" style=\"height:525px; width:100%;\"></div>            <script type=\"text/javascript\">                                    window.PLOTLYENV=window.PLOTLYENV || {};                                    if (document.getElementById(\"e02949e9-7a6d-4ed7-b712-624bb0515928\")) {                    Plotly.newPlot(                        \"e02949e9-7a6d-4ed7-b712-624bb0515928\",                        [{\"alignmentgroup\": \"True\", \"hovertemplate\": \"Country=%{x}<br>Amount of company=%{y}<extra></extra>\", \"legendgroup\": \"USA\", \"marker\": {\"color\": \"#636EFA\"}, \"name\": \"USA\", \"offsetgroup\": \"USA\", \"orientation\": \"v\", \"showlegend\": true, \"textposition\": \"auto\", \"type\": \"bar\", \"x\": [\"USA\"], \"xaxis\": \"x\", \"y\": [18], \"yaxis\": \"y\"}, {\"alignmentgroup\": \"True\", \"hovertemplate\": \"Country=%{x}<br>Amount of company=%{y}<extra></extra>\", \"legendgroup\": \"Kazakhstan\", \"marker\": {\"color\": \"#EF553B\"}, \"name\": \"Kazakhstan\", \"offsetgroup\": \"Kazakhstan\", \"orientation\": \"v\", \"showlegend\": true, \"textposition\": \"auto\", \"type\": \"bar\", \"x\": [\"Kazakhstan\"], \"xaxis\": \"x\", \"y\": [10], \"yaxis\": \"y\"}, {\"alignmentgroup\": \"True\", \"hovertemplate\": \"Country=%{x}<br>Amount of company=%{y}<extra></extra>\", \"legendgroup\": \"Russian Federation\", \"marker\": {\"color\": \"#00CC96\"}, \"name\": \"Russian Federation\", \"offsetgroup\": \"Russian Federation\", \"orientation\": \"v\", \"showlegend\": true, \"textposition\": \"auto\", \"type\": \"bar\", \"x\": [\"Russian Federation\"], \"xaxis\": \"x\", \"y\": [9], \"yaxis\": \"y\"}, {\"alignmentgroup\": \"True\", \"hovertemplate\": \"Country=%{x}<br>Amount of company=%{y}<extra></extra>\", \"legendgroup\": \"China\", \"marker\": {\"color\": \"#AB63FA\"}, \"name\": \"China\", \"offsetgroup\": \"China\", \"orientation\": \"v\", \"showlegend\": true, \"textposition\": \"auto\", \"type\": \"bar\", \"x\": [\"China\"], \"xaxis\": \"x\", \"y\": [6], \"yaxis\": \"y\"}, {\"alignmentgroup\": \"True\", \"hovertemplate\": \"Country=%{x}<br>Amount of company=%{y}<extra></extra>\", \"legendgroup\": \"France\", \"marker\": {\"color\": \"#FFA15A\"}, \"name\": \"France\", \"offsetgroup\": \"France\", \"orientation\": \"v\", \"showlegend\": true, \"textposition\": \"auto\", \"type\": \"bar\", \"x\": [\"France\"], \"xaxis\": \"x\", \"y\": [5], \"yaxis\": \"y\"}, {\"alignmentgroup\": \"True\", \"hovertemplate\": \"Country=%{x}<br>Amount of company=%{y}<extra></extra>\", \"legendgroup\": \"Japan\", \"marker\": {\"color\": \"#19D3F3\"}, \"name\": \"Japan\", \"offsetgroup\": \"Japan\", \"orientation\": \"v\", \"showlegend\": true, \"textposition\": \"auto\", \"type\": \"bar\", \"x\": [\"Japan\"], \"xaxis\": \"x\", \"y\": [4], \"yaxis\": \"y\"}, {\"alignmentgroup\": \"True\", \"hovertemplate\": \"Country=%{x}<br>Amount of company=%{y}<extra></extra>\", \"legendgroup\": \"Australia\", \"marker\": {\"color\": \"#FF6692\"}, \"name\": \"Australia\", \"offsetgroup\": \"Australia\", \"orientation\": \"v\", \"showlegend\": true, \"textposition\": \"auto\", \"type\": \"bar\", \"x\": [\"Australia\"], \"xaxis\": \"x\", \"y\": [3], \"yaxis\": \"y\"}, {\"alignmentgroup\": \"True\", \"hovertemplate\": \"Country=%{x}<br>Amount of company=%{y}<extra></extra>\", \"legendgroup\": \"Iran\", \"marker\": {\"color\": \"#B6E880\"}, \"name\": \"Iran\", \"offsetgroup\": \"Iran\", \"orientation\": \"v\", \"showlegend\": true, \"textposition\": \"auto\", \"type\": \"bar\", \"x\": [\"Iran\"], \"xaxis\": \"x\", \"y\": [2], \"yaxis\": \"y\"}, {\"alignmentgroup\": \"True\", \"hovertemplate\": \"Country=%{x}<br>Amount of company=%{y}<extra></extra>\", \"legendgroup\": \"Brazil\", \"marker\": {\"color\": \"#FF97FF\"}, \"name\": \"Brazil\", \"offsetgroup\": \"Brazil\", \"orientation\": \"v\", \"showlegend\": true, \"textposition\": \"auto\", \"type\": \"bar\", \"x\": [\"Brazil\"], \"xaxis\": \"x\", \"y\": [1], \"yaxis\": \"y\"}, {\"alignmentgroup\": \"True\", \"hovertemplate\": \"Country=%{x}<br>Amount of company=%{y}<extra></extra>\", \"legendgroup\": \"India\", \"marker\": {\"color\": \"#FECB52\"}, \"name\": \"India\", \"offsetgroup\": \"India\", \"orientation\": \"v\", \"showlegend\": true, \"textposition\": \"auto\", \"type\": \"bar\", \"x\": [\"India\"], \"xaxis\": \"x\", \"y\": [1], \"yaxis\": \"y\"}, {\"alignmentgroup\": \"True\", \"hovertemplate\": \"Country=%{x}<br>Amount of company=%{y}<extra></extra>\", \"legendgroup\": \"Israel\", \"marker\": {\"color\": \"#636EFA\"}, \"name\": \"Israel\", \"offsetgroup\": \"Israel\", \"orientation\": \"v\", \"showlegend\": true, \"textposition\": \"auto\", \"type\": \"bar\", \"x\": [\"Israel\"], \"xaxis\": \"x\", \"y\": [1], \"yaxis\": \"y\"}, {\"alignmentgroup\": \"True\", \"hovertemplate\": \"Country=%{x}<br>Amount of company=%{y}<extra></extra>\", \"legendgroup\": \"Kenya\", \"marker\": {\"color\": \"#EF553B\"}, \"name\": \"Kenya\", \"offsetgroup\": \"Kenya\", \"orientation\": \"v\", \"showlegend\": true, \"textposition\": \"auto\", \"type\": \"bar\", \"x\": [\"Kenya\"], \"xaxis\": \"x\", \"y\": [1], \"yaxis\": \"y\"}, {\"alignmentgroup\": \"True\", \"hovertemplate\": \"Country=%{x}<br>Amount of company=%{y}<extra></extra>\", \"legendgroup\": \"New Zealand\", \"marker\": {\"color\": \"#00CC96\"}, \"name\": \"New Zealand\", \"offsetgroup\": \"New Zealand\", \"orientation\": \"v\", \"showlegend\": true, \"textposition\": \"auto\", \"type\": \"bar\", \"x\": [\"New Zealand\"], \"xaxis\": \"x\", \"y\": [1], \"yaxis\": \"y\"}, {\"alignmentgroup\": \"True\", \"hovertemplate\": \"Country=%{x}<br>Amount of company=%{y}<extra></extra>\", \"legendgroup\": \"North Korea\", \"marker\": {\"color\": \"#AB63FA\"}, \"name\": \"North Korea\", \"offsetgroup\": \"North Korea\", \"orientation\": \"v\", \"showlegend\": true, \"textposition\": \"auto\", \"type\": \"bar\", \"x\": [\"North Korea\"], \"xaxis\": \"x\", \"y\": [1], \"yaxis\": \"y\"}, {\"alignmentgroup\": \"True\", \"hovertemplate\": \"Country=%{x}<br>Amount of company=%{y}<extra></extra>\", \"legendgroup\": \"Pacific Ocean\", \"marker\": {\"color\": \"#FFA15A\"}, \"name\": \"Pacific Ocean\", \"offsetgroup\": \"Pacific Ocean\", \"orientation\": \"v\", \"showlegend\": true, \"textposition\": \"auto\", \"type\": \"bar\", \"x\": [\"Pacific Ocean\"], \"xaxis\": \"x\", \"y\": [1], \"yaxis\": \"y\"}, {\"alignmentgroup\": \"True\", \"hovertemplate\": \"Country=%{x}<br>Amount of company=%{y}<extra></extra>\", \"legendgroup\": \"South Korea\", \"marker\": {\"color\": \"#19D3F3\"}, \"name\": \"South Korea\", \"offsetgroup\": \"South Korea\", \"orientation\": \"v\", \"showlegend\": true, \"textposition\": \"auto\", \"type\": \"bar\", \"x\": [\"South Korea\"], \"xaxis\": \"x\", \"y\": [1], \"yaxis\": \"y\"}],                        {\"barmode\": \"relative\", \"legend\": {\"title\": {\"text\": \"Country\"}, \"tracegroupgap\": 0}, \"template\": {\"data\": {\"bar\": [{\"error_x\": {\"color\": \"#f2f5fa\"}, \"error_y\": {\"color\": \"#f2f5fa\"}, \"marker\": {\"line\": {\"color\": \"rgb(17,17,17)\", \"width\": 0.5}}, \"type\": \"bar\"}], \"barpolar\": [{\"marker\": {\"line\": {\"color\": \"rgb(17,17,17)\", \"width\": 0.5}}, \"type\": \"barpolar\"}], \"carpet\": [{\"aaxis\": {\"endlinecolor\": \"#A2B1C6\", \"gridcolor\": \"#506784\", \"linecolor\": \"#506784\", \"minorgridcolor\": \"#506784\", \"startlinecolor\": \"#A2B1C6\"}, \"baxis\": {\"endlinecolor\": \"#A2B1C6\", \"gridcolor\": \"#506784\", \"linecolor\": \"#506784\", \"minorgridcolor\": \"#506784\", \"startlinecolor\": \"#A2B1C6\"}, \"type\": \"carpet\"}], \"choropleth\": [{\"colorbar\": {\"outlinewidth\": 0, \"ticks\": \"\"}, \"type\": \"choropleth\"}], \"contour\": [{\"colorbar\": {\"outlinewidth\": 0, \"ticks\": \"\"}, \"colorscale\": [[0.0, \"#0d0887\"], [0.1111111111111111, \"#46039f\"], [0.2222222222222222, \"#7201a8\"], [0.3333333333333333, \"#9c179e\"], [0.4444444444444444, \"#bd3786\"], [0.5555555555555556, \"#d8576b\"], [0.6666666666666666, \"#ed7953\"], [0.7777777777777778, \"#fb9f3a\"], [0.8888888888888888, \"#fdca26\"], [1.0, \"#f0f921\"]], \"type\": \"contour\"}], \"contourcarpet\": [{\"colorbar\": {\"outlinewidth\": 0, \"ticks\": \"\"}, \"type\": \"contourcarpet\"}], \"heatmap\": [{\"colorbar\": {\"outlinewidth\": 0, \"ticks\": \"\"}, \"colorscale\": [[0.0, \"#0d0887\"], [0.1111111111111111, \"#46039f\"], [0.2222222222222222, \"#7201a8\"], [0.3333333333333333, \"#9c179e\"], [0.4444444444444444, \"#bd3786\"], [0.5555555555555556, \"#d8576b\"], [0.6666666666666666, \"#ed7953\"], [0.7777777777777778, \"#fb9f3a\"], [0.8888888888888888, \"#fdca26\"], [1.0, \"#f0f921\"]], \"type\": \"heatmap\"}], \"heatmapgl\": [{\"colorbar\": {\"outlinewidth\": 0, \"ticks\": \"\"}, \"colorscale\": [[0.0, \"#0d0887\"], [0.1111111111111111, \"#46039f\"], [0.2222222222222222, \"#7201a8\"], [0.3333333333333333, \"#9c179e\"], [0.4444444444444444, \"#bd3786\"], [0.5555555555555556, \"#d8576b\"], [0.6666666666666666, \"#ed7953\"], [0.7777777777777778, \"#fb9f3a\"], [0.8888888888888888, \"#fdca26\"], [1.0, \"#f0f921\"]], \"type\": \"heatmapgl\"}], \"histogram\": [{\"marker\": {\"colorbar\": {\"outlinewidth\": 0, \"ticks\": \"\"}}, \"type\": \"histogram\"}], \"histogram2d\": [{\"colorbar\": {\"outlinewidth\": 0, \"ticks\": \"\"}, \"colorscale\": [[0.0, \"#0d0887\"], [0.1111111111111111, \"#46039f\"], [0.2222222222222222, \"#7201a8\"], [0.3333333333333333, \"#9c179e\"], [0.4444444444444444, \"#bd3786\"], [0.5555555555555556, \"#d8576b\"], [0.6666666666666666, \"#ed7953\"], [0.7777777777777778, \"#fb9f3a\"], [0.8888888888888888, \"#fdca26\"], [1.0, \"#f0f921\"]], \"type\": \"histogram2d\"}], \"histogram2dcontour\": [{\"colorbar\": {\"outlinewidth\": 0, \"ticks\": \"\"}, \"colorscale\": [[0.0, \"#0d0887\"], [0.1111111111111111, \"#46039f\"], [0.2222222222222222, \"#7201a8\"], [0.3333333333333333, \"#9c179e\"], [0.4444444444444444, \"#bd3786\"], [0.5555555555555556, \"#d8576b\"], [0.6666666666666666, \"#ed7953\"], [0.7777777777777778, \"#fb9f3a\"], [0.8888888888888888, \"#fdca26\"], [1.0, \"#f0f921\"]], \"type\": \"histogram2dcontour\"}], \"mesh3d\": [{\"colorbar\": {\"outlinewidth\": 0, \"ticks\": \"\"}, \"type\": \"mesh3d\"}], \"parcoords\": [{\"line\": {\"colorbar\": {\"outlinewidth\": 0, \"ticks\": \"\"}}, \"type\": \"parcoords\"}], \"pie\": [{\"automargin\": true, \"type\": \"pie\"}], \"scatter\": [{\"marker\": {\"line\": {\"color\": \"#283442\"}}, \"type\": \"scatter\"}], \"scatter3d\": [{\"line\": {\"colorbar\": {\"outlinewidth\": 0, \"ticks\": \"\"}}, \"marker\": {\"colorbar\": {\"outlinewidth\": 0, \"ticks\": \"\"}}, \"type\": \"scatter3d\"}], \"scattercarpet\": [{\"marker\": {\"colorbar\": {\"outlinewidth\": 0, \"ticks\": \"\"}}, \"type\": \"scattercarpet\"}], \"scattergeo\": [{\"marker\": {\"colorbar\": {\"outlinewidth\": 0, \"ticks\": \"\"}}, \"type\": \"scattergeo\"}], \"scattergl\": [{\"marker\": {\"line\": {\"color\": \"#283442\"}}, \"type\": \"scattergl\"}], \"scattermapbox\": [{\"marker\": {\"colorbar\": {\"outlinewidth\": 0, \"ticks\": \"\"}}, \"type\": \"scattermapbox\"}], \"scatterpolar\": [{\"marker\": {\"colorbar\": {\"outlinewidth\": 0, \"ticks\": \"\"}}, \"type\": \"scatterpolar\"}], \"scatterpolargl\": [{\"marker\": {\"colorbar\": {\"outlinewidth\": 0, \"ticks\": \"\"}}, \"type\": \"scatterpolargl\"}], \"scatterternary\": [{\"marker\": {\"colorbar\": {\"outlinewidth\": 0, \"ticks\": \"\"}}, \"type\": \"scatterternary\"}], \"surface\": [{\"colorbar\": {\"outlinewidth\": 0, \"ticks\": \"\"}, \"colorscale\": [[0.0, \"#0d0887\"], [0.1111111111111111, \"#46039f\"], [0.2222222222222222, \"#7201a8\"], [0.3333333333333333, \"#9c179e\"], [0.4444444444444444, \"#bd3786\"], [0.5555555555555556, \"#d8576b\"], [0.6666666666666666, \"#ed7953\"], [0.7777777777777778, \"#fb9f3a\"], [0.8888888888888888, \"#fdca26\"], [1.0, \"#f0f921\"]], \"type\": \"surface\"}], \"table\": [{\"cells\": {\"fill\": {\"color\": \"#506784\"}, \"line\": {\"color\": \"rgb(17,17,17)\"}}, \"header\": {\"fill\": {\"color\": \"#2a3f5f\"}, \"line\": {\"color\": \"rgb(17,17,17)\"}}, \"type\": \"table\"}]}, \"layout\": {\"annotationdefaults\": {\"arrowcolor\": \"#f2f5fa\", \"arrowhead\": 0, \"arrowwidth\": 1}, \"autotypenumbers\": \"strict\", \"coloraxis\": {\"colorbar\": {\"outlinewidth\": 0, \"ticks\": \"\"}}, \"colorscale\": {\"diverging\": [[0, \"#8e0152\"], [0.1, \"#c51b7d\"], [0.2, \"#de77ae\"], [0.3, \"#f1b6da\"], [0.4, \"#fde0ef\"], [0.5, \"#f7f7f7\"], [0.6, \"#e6f5d0\"], [0.7, \"#b8e186\"], [0.8, \"#7fbc41\"], [0.9, \"#4d9221\"], [1, \"#276419\"]], \"sequential\": [[0.0, \"#0d0887\"], [0.1111111111111111, \"#46039f\"], [0.2222222222222222, \"#7201a8\"], [0.3333333333333333, \"#9c179e\"], [0.4444444444444444, \"#bd3786\"], [0.5555555555555556, \"#d8576b\"], [0.6666666666666666, \"#ed7953\"], [0.7777777777777778, \"#fb9f3a\"], [0.8888888888888888, \"#fdca26\"], [1.0, \"#f0f921\"]], \"sequentialminus\": [[0.0, \"#0d0887\"], [0.1111111111111111, \"#46039f\"], [0.2222222222222222, \"#7201a8\"], [0.3333333333333333, \"#9c179e\"], [0.4444444444444444, \"#bd3786\"], [0.5555555555555556, \"#d8576b\"], [0.6666666666666666, \"#ed7953\"], [0.7777777777777778, \"#fb9f3a\"], [0.8888888888888888, \"#fdca26\"], [1.0, \"#f0f921\"]]}, \"colorway\": [\"#636efa\", \"#EF553B\", \"#00cc96\", \"#ab63fa\", \"#FFA15A\", \"#19d3f3\", \"#FF6692\", \"#B6E880\", \"#FF97FF\", \"#FECB52\"], \"font\": {\"color\": \"#f2f5fa\"}, \"geo\": {\"bgcolor\": \"rgb(17,17,17)\", \"lakecolor\": \"rgb(17,17,17)\", \"landcolor\": \"rgb(17,17,17)\", \"showlakes\": true, \"showland\": true, \"subunitcolor\": \"#506784\"}, \"hoverlabel\": {\"align\": \"left\"}, \"hovermode\": \"closest\", \"mapbox\": {\"style\": \"dark\"}, \"paper_bgcolor\": \"rgb(17,17,17)\", \"plot_bgcolor\": \"rgb(17,17,17)\", \"polar\": {\"angularaxis\": {\"gridcolor\": \"#506784\", \"linecolor\": \"#506784\", \"ticks\": \"\"}, \"bgcolor\": \"rgb(17,17,17)\", \"radialaxis\": {\"gridcolor\": \"#506784\", \"linecolor\": \"#506784\", \"ticks\": \"\"}}, \"scene\": {\"xaxis\": {\"backgroundcolor\": \"rgb(17,17,17)\", \"gridcolor\": \"#506784\", \"gridwidth\": 2, \"linecolor\": \"#506784\", \"showbackground\": true, \"ticks\": \"\", \"zerolinecolor\": \"#C8D4E3\"}, \"yaxis\": {\"backgroundcolor\": \"rgb(17,17,17)\", \"gridcolor\": \"#506784\", \"gridwidth\": 2, \"linecolor\": \"#506784\", \"showbackground\": true, \"ticks\": \"\", \"zerolinecolor\": \"#C8D4E3\"}, \"zaxis\": {\"backgroundcolor\": \"rgb(17,17,17)\", \"gridcolor\": \"#506784\", \"gridwidth\": 2, \"linecolor\": \"#506784\", \"showbackground\": true, \"ticks\": \"\", \"zerolinecolor\": \"#C8D4E3\"}}, \"shapedefaults\": {\"line\": {\"color\": \"#f2f5fa\"}}, \"sliderdefaults\": {\"bgcolor\": \"#C8D4E3\", \"bordercolor\": \"rgb(17,17,17)\", \"borderwidth\": 1, \"tickwidth\": 0}, \"ternary\": {\"aaxis\": {\"gridcolor\": \"#506784\", \"linecolor\": \"#506784\", \"ticks\": \"\"}, \"baxis\": {\"gridcolor\": \"#506784\", \"linecolor\": \"#506784\", \"ticks\": \"\"}, \"bgcolor\": \"rgb(17,17,17)\", \"caxis\": {\"gridcolor\": \"#506784\", \"linecolor\": \"#506784\", \"ticks\": \"\"}}, \"title\": {\"x\": 0.05}, \"updatemenudefaults\": {\"bgcolor\": \"#506784\", \"borderwidth\": 0}, \"xaxis\": {\"automargin\": true, \"gridcolor\": \"#283442\", \"linecolor\": \"#506784\", \"ticks\": \"\", \"title\": {\"standoff\": 15}, \"zerolinecolor\": \"#283442\", \"zerolinewidth\": 2}, \"yaxis\": {\"automargin\": true, \"gridcolor\": \"#283442\", \"linecolor\": \"#506784\", \"ticks\": \"\", \"title\": {\"standoff\": 15}, \"zerolinecolor\": \"#283442\", \"zerolinewidth\": 2}}}, \"title\": {\"text\": \"Quantit\\u00e9 de compagnie par Pays\"}, \"xaxis\": {\"anchor\": \"y\", \"categoryarray\": [\"USA\", \"Kazakhstan\", \"Russian Federation\", \"China\", \"France\", \"Japan\", \"Australia\", \"Iran\", \"Brazil\", \"India\", \"Israel\", \"Kenya\", \"New Zealand\", \"North Korea\", \"Pacific Ocean\", \"South Korea\"], \"categoryorder\": \"array\", \"domain\": [0.0, 1.0], \"title\": {\"text\": \"Country\"}}, \"yaxis\": {\"anchor\": \"x\", \"domain\": [0.0, 1.0], \"title\": {\"text\": \"Amount of company\"}}},                        {\"responsive\": true}                    ).then(function(){\n",
              "                            \n",
              "var gd = document.getElementById('e02949e9-7a6d-4ed7-b712-624bb0515928');\n",
              "var x = new MutationObserver(function (mutations, observer) {{\n",
              "        var display = window.getComputedStyle(gd).display;\n",
              "        if (!display || display === 'none') {{\n",
              "            console.log([gd, 'removed!']);\n",
              "            Plotly.purge(gd);\n",
              "            observer.disconnect();\n",
              "        }}\n",
              "}});\n",
              "\n",
              "// Listen for the removal of the full notebook cells\n",
              "var notebookContainer = gd.closest('#notebook-container');\n",
              "if (notebookContainer) {{\n",
              "    x.observe(notebookContainer, {childList: true});\n",
              "}}\n",
              "\n",
              "// Listen for the clearing of the current output cell\n",
              "var outputEl = gd.closest('.output');\n",
              "if (outputEl) {{\n",
              "    x.observe(outputEl, {childList: true});\n",
              "}}\n",
              "\n",
              "                        })                };                            </script>        </div>\n",
              "</body>\n",
              "</html>"
            ]
          },
          "metadata": {
            "tags": []
          }
        }
      ]
    },
    {
      "cell_type": "markdown",
      "metadata": {
        "id": "JlVEFPWg1Yn8"
      },
      "source": [
        "##Cout par pays"
      ]
    },
    {
      "cell_type": "code",
      "metadata": {
        "id": "jD22DkOh1XpD"
      },
      "source": [
        "cout_pivot_table = space_cor.pivot_table(values=\"Rocket\", index=\"Country\", aggfunc=\"sum\").sort_values(\"Rocket\",ascending=False)"
      ],
      "execution_count": null,
      "outputs": []
    },
    {
      "cell_type": "code",
      "metadata": {
        "id": "ArVN0fLJ152W"
      },
      "source": [
        "cout_pivot_table.columns = [\"Cost\"]"
      ],
      "execution_count": null,
      "outputs": []
    },
    {
      "cell_type": "code",
      "metadata": {
        "colab": {
          "base_uri": "https://localhost:8080/",
          "height": 558
        },
        "id": "EFv8w3NN8m_u",
        "outputId": "4931a845-5a36-496e-8e67-5a11f6bb612f"
      },
      "source": [
        "cout_pivot_table"
      ],
      "execution_count": null,
      "outputs": [
        {
          "output_type": "execute_result",
          "data": {
            "text/html": [
              "<div>\n",
              "<style scoped>\n",
              "    .dataframe tbody tr th:only-of-type {\n",
              "        vertical-align: middle;\n",
              "    }\n",
              "\n",
              "    .dataframe tbody tr th {\n",
              "        vertical-align: top;\n",
              "    }\n",
              "\n",
              "    .dataframe thead th {\n",
              "        text-align: right;\n",
              "    }\n",
              "</style>\n",
              "<table border=\"1\" class=\"dataframe\">\n",
              "  <thead>\n",
              "    <tr style=\"text-align: right;\">\n",
              "      <th></th>\n",
              "      <th>Cost</th>\n",
              "    </tr>\n",
              "    <tr>\n",
              "      <th>Country</th>\n",
              "      <th></th>\n",
              "    </tr>\n",
              "  </thead>\n",
              "  <tbody>\n",
              "    <tr>\n",
              "      <th>USA</th>\n",
              "      <td>105287.32</td>\n",
              "    </tr>\n",
              "    <tr>\n",
              "      <th>France</th>\n",
              "      <td>16285.00</td>\n",
              "    </tr>\n",
              "    <tr>\n",
              "      <th>Kazakhstan</th>\n",
              "      <td>12150.50</td>\n",
              "    </tr>\n",
              "    <tr>\n",
              "      <th>China</th>\n",
              "      <td>6368.56</td>\n",
              "    </tr>\n",
              "    <tr>\n",
              "      <th>Japan</th>\n",
              "      <td>3700.50</td>\n",
              "    </tr>\n",
              "    <tr>\n",
              "      <th>Russian Federation</th>\n",
              "      <td>2189.30</td>\n",
              "    </tr>\n",
              "    <tr>\n",
              "      <th>India</th>\n",
              "      <td>2177.00</td>\n",
              "    </tr>\n",
              "    <tr>\n",
              "      <th>New Zealand</th>\n",
              "      <td>97.50</td>\n",
              "    </tr>\n",
              "    <tr>\n",
              "      <th>Australia</th>\n",
              "      <td>0.00</td>\n",
              "    </tr>\n",
              "    <tr>\n",
              "      <th>Brazil</th>\n",
              "      <td>0.00</td>\n",
              "    </tr>\n",
              "    <tr>\n",
              "      <th>Iran</th>\n",
              "      <td>0.00</td>\n",
              "    </tr>\n",
              "    <tr>\n",
              "      <th>Israel</th>\n",
              "      <td>0.00</td>\n",
              "    </tr>\n",
              "    <tr>\n",
              "      <th>Kenya</th>\n",
              "      <td>0.00</td>\n",
              "    </tr>\n",
              "    <tr>\n",
              "      <th>North Korea</th>\n",
              "      <td>0.00</td>\n",
              "    </tr>\n",
              "    <tr>\n",
              "      <th>Pacific Ocean</th>\n",
              "      <td>0.00</td>\n",
              "    </tr>\n",
              "    <tr>\n",
              "      <th>South Korea</th>\n",
              "      <td>0.00</td>\n",
              "    </tr>\n",
              "  </tbody>\n",
              "</table>\n",
              "</div>"
            ],
            "text/plain": [
              "                         Cost\n",
              "Country                      \n",
              "USA                 105287.32\n",
              "France               16285.00\n",
              "Kazakhstan           12150.50\n",
              "China                 6368.56\n",
              "Japan                 3700.50\n",
              "Russian Federation    2189.30\n",
              "India                 2177.00\n",
              "New Zealand             97.50\n",
              "Australia                0.00\n",
              "Brazil                   0.00\n",
              "Iran                     0.00\n",
              "Israel                   0.00\n",
              "Kenya                    0.00\n",
              "North Korea              0.00\n",
              "Pacific Ocean            0.00\n",
              "South Korea              0.00"
            ]
          },
          "metadata": {
            "tags": []
          },
          "execution_count": 94
        }
      ]
    },
    {
      "cell_type": "code",
      "metadata": {
        "colab": {
          "base_uri": "https://localhost:8080/",
          "height": 717
        },
        "id": "abrYYcQhgPYH",
        "outputId": "4507d9b4-f0ef-45df-f0e8-01700d315208"
      },
      "source": [
        "df = px.data.tips()\n",
        "DPP = fig = px.pie(cout_pivot_table[:8], values='Cost', names=(cout_pivot_table[:8].index),template = 'plotly_dark', hover_data=[(cout_pivot_table[:8].index)])\n",
        "fig.update_traces(textposition='inside', textinfo='percent+label+value')\n",
        "fig.update_layout(margin=dict(l=20, r=20, t=40, b=10), title = { 'text' : '<b>Dépense des pays pour les projets spatiaux (en M de $)</b>', 'x' : 0.5}, font_family = 'Fira Code',title_font_color= '#cacaca',height = 700,width = 700,template = 'plotly_dark')\n",
        "fig.show()"
      ],
      "execution_count": null,
      "outputs": [
        {
          "output_type": "display_data",
          "data": {
            "text/html": [
              "<html>\n",
              "<head><meta charset=\"utf-8\" /></head>\n",
              "<body>\n",
              "    <div>            <script src=\"https://cdnjs.cloudflare.com/ajax/libs/mathjax/2.7.5/MathJax.js?config=TeX-AMS-MML_SVG\"></script><script type=\"text/javascript\">if (window.MathJax) {MathJax.Hub.Config({SVG: {font: \"STIX-Web\"}});}</script>                <script type=\"text/javascript\">window.PlotlyConfig = {MathJaxConfig: 'local'};</script>\n",
              "        <script src=\"https://cdn.plot.ly/plotly-latest.min.js\"></script>                <div id=\"e025bdbc-4289-40c7-924c-1e3853b89a9b\" class=\"plotly-graph-div\" style=\"height:700px; width:700px;\"></div>            <script type=\"text/javascript\">                                    window.PLOTLYENV=window.PLOTLYENV || {};                                    if (document.getElementById(\"e025bdbc-4289-40c7-924c-1e3853b89a9b\")) {                    Plotly.newPlot(                        \"e025bdbc-4289-40c7-924c-1e3853b89a9b\",                        [{\"customdata\": [[\"USA\"], [\"France\"], [\"Kazakhstan\"], [\"China\"], [\"Japan\"], [\"Russian Federation\"], [\"India\"], [\"New Zealand\"]], \"domain\": {\"x\": [0.0, 1.0], \"y\": [0.0, 1.0]}, \"hovertemplate\": \"label=%{label}<br>Cost=%{value}<br>hover_data_0=%{customdata[0]}<extra></extra>\", \"labels\": [\"USA\", \"France\", \"Kazakhstan\", \"China\", \"Japan\", \"Russian Federation\", \"India\", \"New Zealand\"], \"legendgroup\": \"\", \"name\": \"\", \"showlegend\": true, \"textinfo\": \"percent+label+value\", \"textposition\": \"inside\", \"type\": \"pie\", \"values\": [105287.32, 16285.0, 12150.5, 6368.560000000006, 3700.5, 2189.2999999999997, 2177.0, 97.5]}],                        {\"font\": {\"family\": \"Fira Code\"}, \"height\": 700, \"legend\": {\"tracegroupgap\": 0}, \"margin\": {\"b\": 10, \"l\": 20, \"r\": 20, \"t\": 40}, \"template\": {\"data\": {\"bar\": [{\"error_x\": {\"color\": \"#f2f5fa\"}, \"error_y\": {\"color\": \"#f2f5fa\"}, \"marker\": {\"line\": {\"color\": \"rgb(17,17,17)\", \"width\": 0.5}}, \"type\": \"bar\"}], \"barpolar\": [{\"marker\": {\"line\": {\"color\": \"rgb(17,17,17)\", \"width\": 0.5}}, \"type\": \"barpolar\"}], \"carpet\": [{\"aaxis\": {\"endlinecolor\": \"#A2B1C6\", \"gridcolor\": \"#506784\", \"linecolor\": \"#506784\", \"minorgridcolor\": \"#506784\", \"startlinecolor\": \"#A2B1C6\"}, \"baxis\": {\"endlinecolor\": \"#A2B1C6\", \"gridcolor\": \"#506784\", \"linecolor\": \"#506784\", \"minorgridcolor\": \"#506784\", \"startlinecolor\": \"#A2B1C6\"}, \"type\": \"carpet\"}], \"choropleth\": [{\"colorbar\": {\"outlinewidth\": 0, \"ticks\": \"\"}, \"type\": \"choropleth\"}], \"contour\": [{\"colorbar\": {\"outlinewidth\": 0, \"ticks\": \"\"}, \"colorscale\": [[0.0, \"#0d0887\"], [0.1111111111111111, \"#46039f\"], [0.2222222222222222, \"#7201a8\"], [0.3333333333333333, \"#9c179e\"], [0.4444444444444444, \"#bd3786\"], [0.5555555555555556, \"#d8576b\"], [0.6666666666666666, \"#ed7953\"], [0.7777777777777778, \"#fb9f3a\"], [0.8888888888888888, \"#fdca26\"], [1.0, \"#f0f921\"]], \"type\": \"contour\"}], \"contourcarpet\": [{\"colorbar\": {\"outlinewidth\": 0, \"ticks\": \"\"}, \"type\": \"contourcarpet\"}], \"heatmap\": [{\"colorbar\": {\"outlinewidth\": 0, \"ticks\": \"\"}, \"colorscale\": [[0.0, \"#0d0887\"], [0.1111111111111111, \"#46039f\"], [0.2222222222222222, \"#7201a8\"], [0.3333333333333333, \"#9c179e\"], [0.4444444444444444, \"#bd3786\"], [0.5555555555555556, \"#d8576b\"], [0.6666666666666666, \"#ed7953\"], [0.7777777777777778, \"#fb9f3a\"], [0.8888888888888888, \"#fdca26\"], [1.0, \"#f0f921\"]], \"type\": \"heatmap\"}], \"heatmapgl\": [{\"colorbar\": {\"outlinewidth\": 0, \"ticks\": \"\"}, \"colorscale\": [[0.0, \"#0d0887\"], [0.1111111111111111, \"#46039f\"], [0.2222222222222222, \"#7201a8\"], [0.3333333333333333, \"#9c179e\"], [0.4444444444444444, \"#bd3786\"], [0.5555555555555556, \"#d8576b\"], [0.6666666666666666, \"#ed7953\"], [0.7777777777777778, \"#fb9f3a\"], [0.8888888888888888, \"#fdca26\"], [1.0, \"#f0f921\"]], \"type\": \"heatmapgl\"}], \"histogram\": [{\"marker\": {\"colorbar\": {\"outlinewidth\": 0, \"ticks\": \"\"}}, \"type\": \"histogram\"}], \"histogram2d\": [{\"colorbar\": {\"outlinewidth\": 0, \"ticks\": \"\"}, \"colorscale\": [[0.0, \"#0d0887\"], [0.1111111111111111, \"#46039f\"], [0.2222222222222222, \"#7201a8\"], [0.3333333333333333, \"#9c179e\"], [0.4444444444444444, \"#bd3786\"], [0.5555555555555556, \"#d8576b\"], [0.6666666666666666, \"#ed7953\"], [0.7777777777777778, \"#fb9f3a\"], [0.8888888888888888, \"#fdca26\"], [1.0, \"#f0f921\"]], \"type\": \"histogram2d\"}], \"histogram2dcontour\": [{\"colorbar\": {\"outlinewidth\": 0, \"ticks\": \"\"}, \"colorscale\": [[0.0, \"#0d0887\"], [0.1111111111111111, \"#46039f\"], [0.2222222222222222, \"#7201a8\"], [0.3333333333333333, \"#9c179e\"], [0.4444444444444444, \"#bd3786\"], [0.5555555555555556, \"#d8576b\"], [0.6666666666666666, \"#ed7953\"], [0.7777777777777778, \"#fb9f3a\"], [0.8888888888888888, \"#fdca26\"], [1.0, \"#f0f921\"]], \"type\": \"histogram2dcontour\"}], \"mesh3d\": [{\"colorbar\": {\"outlinewidth\": 0, \"ticks\": \"\"}, \"type\": \"mesh3d\"}], \"parcoords\": [{\"line\": {\"colorbar\": {\"outlinewidth\": 0, \"ticks\": \"\"}}, \"type\": \"parcoords\"}], \"pie\": [{\"automargin\": true, \"type\": \"pie\"}], \"scatter\": [{\"marker\": {\"line\": {\"color\": \"#283442\"}}, \"type\": \"scatter\"}], \"scatter3d\": [{\"line\": {\"colorbar\": {\"outlinewidth\": 0, \"ticks\": \"\"}}, \"marker\": {\"colorbar\": {\"outlinewidth\": 0, \"ticks\": \"\"}}, \"type\": \"scatter3d\"}], \"scattercarpet\": [{\"marker\": {\"colorbar\": {\"outlinewidth\": 0, \"ticks\": \"\"}}, \"type\": \"scattercarpet\"}], \"scattergeo\": [{\"marker\": {\"colorbar\": {\"outlinewidth\": 0, \"ticks\": \"\"}}, \"type\": \"scattergeo\"}], \"scattergl\": [{\"marker\": {\"line\": {\"color\": \"#283442\"}}, \"type\": \"scattergl\"}], \"scattermapbox\": [{\"marker\": {\"colorbar\": {\"outlinewidth\": 0, \"ticks\": \"\"}}, \"type\": \"scattermapbox\"}], \"scatterpolar\": [{\"marker\": {\"colorbar\": {\"outlinewidth\": 0, \"ticks\": \"\"}}, \"type\": \"scatterpolar\"}], \"scatterpolargl\": [{\"marker\": {\"colorbar\": {\"outlinewidth\": 0, \"ticks\": \"\"}}, \"type\": \"scatterpolargl\"}], \"scatterternary\": [{\"marker\": {\"colorbar\": {\"outlinewidth\": 0, \"ticks\": \"\"}}, \"type\": \"scatterternary\"}], \"surface\": [{\"colorbar\": {\"outlinewidth\": 0, \"ticks\": \"\"}, \"colorscale\": [[0.0, \"#0d0887\"], [0.1111111111111111, \"#46039f\"], [0.2222222222222222, \"#7201a8\"], [0.3333333333333333, \"#9c179e\"], [0.4444444444444444, \"#bd3786\"], [0.5555555555555556, \"#d8576b\"], [0.6666666666666666, \"#ed7953\"], [0.7777777777777778, \"#fb9f3a\"], [0.8888888888888888, \"#fdca26\"], [1.0, \"#f0f921\"]], \"type\": \"surface\"}], \"table\": [{\"cells\": {\"fill\": {\"color\": \"#506784\"}, \"line\": {\"color\": \"rgb(17,17,17)\"}}, \"header\": {\"fill\": {\"color\": \"#2a3f5f\"}, \"line\": {\"color\": \"rgb(17,17,17)\"}}, \"type\": \"table\"}]}, \"layout\": {\"annotationdefaults\": {\"arrowcolor\": \"#f2f5fa\", \"arrowhead\": 0, \"arrowwidth\": 1}, \"autotypenumbers\": \"strict\", \"coloraxis\": {\"colorbar\": {\"outlinewidth\": 0, \"ticks\": \"\"}}, \"colorscale\": {\"diverging\": [[0, \"#8e0152\"], [0.1, \"#c51b7d\"], [0.2, \"#de77ae\"], [0.3, \"#f1b6da\"], [0.4, \"#fde0ef\"], [0.5, \"#f7f7f7\"], [0.6, \"#e6f5d0\"], [0.7, \"#b8e186\"], [0.8, \"#7fbc41\"], [0.9, \"#4d9221\"], [1, \"#276419\"]], \"sequential\": [[0.0, \"#0d0887\"], [0.1111111111111111, \"#46039f\"], [0.2222222222222222, \"#7201a8\"], [0.3333333333333333, \"#9c179e\"], [0.4444444444444444, \"#bd3786\"], [0.5555555555555556, \"#d8576b\"], [0.6666666666666666, \"#ed7953\"], [0.7777777777777778, \"#fb9f3a\"], [0.8888888888888888, \"#fdca26\"], [1.0, \"#f0f921\"]], \"sequentialminus\": [[0.0, \"#0d0887\"], [0.1111111111111111, \"#46039f\"], [0.2222222222222222, \"#7201a8\"], [0.3333333333333333, \"#9c179e\"], [0.4444444444444444, \"#bd3786\"], [0.5555555555555556, \"#d8576b\"], [0.6666666666666666, \"#ed7953\"], [0.7777777777777778, \"#fb9f3a\"], [0.8888888888888888, \"#fdca26\"], [1.0, \"#f0f921\"]]}, \"colorway\": [\"#636efa\", \"#EF553B\", \"#00cc96\", \"#ab63fa\", \"#FFA15A\", \"#19d3f3\", \"#FF6692\", \"#B6E880\", \"#FF97FF\", \"#FECB52\"], \"font\": {\"color\": \"#f2f5fa\"}, \"geo\": {\"bgcolor\": \"rgb(17,17,17)\", \"lakecolor\": \"rgb(17,17,17)\", \"landcolor\": \"rgb(17,17,17)\", \"showlakes\": true, \"showland\": true, \"subunitcolor\": \"#506784\"}, \"hoverlabel\": {\"align\": \"left\"}, \"hovermode\": \"closest\", \"mapbox\": {\"style\": \"dark\"}, \"paper_bgcolor\": \"rgb(17,17,17)\", \"plot_bgcolor\": \"rgb(17,17,17)\", \"polar\": {\"angularaxis\": {\"gridcolor\": \"#506784\", \"linecolor\": \"#506784\", \"ticks\": \"\"}, \"bgcolor\": \"rgb(17,17,17)\", \"radialaxis\": {\"gridcolor\": \"#506784\", \"linecolor\": \"#506784\", \"ticks\": \"\"}}, \"scene\": {\"xaxis\": {\"backgroundcolor\": \"rgb(17,17,17)\", \"gridcolor\": \"#506784\", \"gridwidth\": 2, \"linecolor\": \"#506784\", \"showbackground\": true, \"ticks\": \"\", \"zerolinecolor\": \"#C8D4E3\"}, \"yaxis\": {\"backgroundcolor\": \"rgb(17,17,17)\", \"gridcolor\": \"#506784\", \"gridwidth\": 2, \"linecolor\": \"#506784\", \"showbackground\": true, \"ticks\": \"\", \"zerolinecolor\": \"#C8D4E3\"}, \"zaxis\": {\"backgroundcolor\": \"rgb(17,17,17)\", \"gridcolor\": \"#506784\", \"gridwidth\": 2, \"linecolor\": \"#506784\", \"showbackground\": true, \"ticks\": \"\", \"zerolinecolor\": \"#C8D4E3\"}}, \"shapedefaults\": {\"line\": {\"color\": \"#f2f5fa\"}}, \"sliderdefaults\": {\"bgcolor\": \"#C8D4E3\", \"bordercolor\": \"rgb(17,17,17)\", \"borderwidth\": 1, \"tickwidth\": 0}, \"ternary\": {\"aaxis\": {\"gridcolor\": \"#506784\", \"linecolor\": \"#506784\", \"ticks\": \"\"}, \"baxis\": {\"gridcolor\": \"#506784\", \"linecolor\": \"#506784\", \"ticks\": \"\"}, \"bgcolor\": \"rgb(17,17,17)\", \"caxis\": {\"gridcolor\": \"#506784\", \"linecolor\": \"#506784\", \"ticks\": \"\"}}, \"title\": {\"x\": 0.05}, \"updatemenudefaults\": {\"bgcolor\": \"#506784\", \"borderwidth\": 0}, \"xaxis\": {\"automargin\": true, \"gridcolor\": \"#283442\", \"linecolor\": \"#506784\", \"ticks\": \"\", \"title\": {\"standoff\": 15}, \"zerolinecolor\": \"#283442\", \"zerolinewidth\": 2}, \"yaxis\": {\"automargin\": true, \"gridcolor\": \"#283442\", \"linecolor\": \"#506784\", \"ticks\": \"\", \"title\": {\"standoff\": 15}, \"zerolinecolor\": \"#283442\", \"zerolinewidth\": 2}}}, \"title\": {\"font\": {\"color\": \"#cacaca\"}, \"text\": \"<b>D\\u00e9pense des pays pour les projets spatiaux (en M de $)</b>\", \"x\": 0.5}, \"width\": 700},                        {\"responsive\": true}                    ).then(function(){\n",
              "                            \n",
              "var gd = document.getElementById('e025bdbc-4289-40c7-924c-1e3853b89a9b');\n",
              "var x = new MutationObserver(function (mutations, observer) {{\n",
              "        var display = window.getComputedStyle(gd).display;\n",
              "        if (!display || display === 'none') {{\n",
              "            console.log([gd, 'removed!']);\n",
              "            Plotly.purge(gd);\n",
              "            observer.disconnect();\n",
              "        }}\n",
              "}});\n",
              "\n",
              "// Listen for the removal of the full notebook cells\n",
              "var notebookContainer = gd.closest('#notebook-container');\n",
              "if (notebookContainer) {{\n",
              "    x.observe(notebookContainer, {childList: true});\n",
              "}}\n",
              "\n",
              "// Listen for the clearing of the current output cell\n",
              "var outputEl = gd.closest('.output');\n",
              "if (outputEl) {{\n",
              "    x.observe(outputEl, {childList: true});\n",
              "}}\n",
              "\n",
              "                        })                };                            </script>        </div>\n",
              "</body>\n",
              "</html>"
            ]
          },
          "metadata": {
            "tags": []
          }
        }
      ]
    },
    {
      "cell_type": "markdown",
      "metadata": {
        "id": "RTy24RfEwSQi"
      },
      "source": [
        "#Etude \"Company Name\""
      ]
    },
    {
      "cell_type": "markdown",
      "metadata": {
        "id": "jLDGdTxgmzJN"
      },
      "source": [
        "##Status des missions pour chaque compagnies"
      ]
    },
    {
      "cell_type": "code",
      "metadata": {
        "colab": {
          "base_uri": "https://localhost:8080/",
          "height": 1000
        },
        "id": "UQq_QjVwjxMJ",
        "outputId": "03be6b41-5edd-4eb5-ed4b-613b197e127c"
      },
      "source": [
        "ECMS = fig = make_subplots(rows = 8 ,cols = 8,subplot_titles=space_cor[\"Company Name\"].unique())\n",
        "\n",
        "for i, country in enumerate(space_cor[\"Company Name\"].unique()):\n",
        "\n",
        "    counts = space_cor[space_cor[\"Company Name\"] == country]['Status Mission'].value_counts(normalize = True) * 100\n",
        "    color = [colors[x] for x in encoder.transform(counts.index)]\n",
        "    trace = go.Bar(x = counts.index, y = counts.values, name = country,showlegend=False,marker={'color' : color})\n",
        "    fig.add_trace(trace, row = (i//8)+1, col = (i%8)+1)\n",
        "\n",
        "fig.update_layout(margin=dict(l=80, r=80, t=80, b=10), title = { 'text' : '<b>Status des missions pour chaque compagnies</b>', 'x' : 0.5}, font_family = 'Fira Code',title_font_color= '#cacaca',height = 2000,width = 1500,template = 'plotly_dark')\n",
        "\n",
        "for i in range(1,5):\n",
        "    fig.update_yaxes(title_text = 'Percentage',row = i, col = 1)\n",
        "fig.show()"
      ],
      "execution_count": null,
      "outputs": [
        {
          "output_type": "display_data",
          "data": {
            "text/html": [
              "<html>\n",
              "<head><meta charset=\"utf-8\" /></head>\n",
              "<body>\n",
              "    <div>            <script src=\"https://cdnjs.cloudflare.com/ajax/libs/mathjax/2.7.5/MathJax.js?config=TeX-AMS-MML_SVG\"></script><script type=\"text/javascript\">if (window.MathJax) {MathJax.Hub.Config({SVG: {font: \"STIX-Web\"}});}</script>                <script type=\"text/javascript\">window.PlotlyConfig = {MathJaxConfig: 'local'};</script>\n",
              "        <script src=\"https://cdn.plot.ly/plotly-latest.min.js\"></script>                <div id=\"917b3e28-3ee3-4a19-95aa-8a4529bc34f4\" class=\"plotly-graph-div\" style=\"height:2000px; width:1500px;\"></div>            <script type=\"text/javascript\">                                    window.PLOTLYENV=window.PLOTLYENV || {};                                    if (document.getElementById(\"917b3e28-3ee3-4a19-95aa-8a4529bc34f4\")) {                    Plotly.newPlot(                        \"917b3e28-3ee3-4a19-95aa-8a4529bc34f4\",                        [{\"marker\": {\"color\": [\"Green\", \"red\", \"Yellow\", \"Orange\"]}, \"name\": \"SpaceX\", \"showlegend\": false, \"type\": \"bar\", \"x\": [\"Success\", \"Failure\", \"Prelaunch Failure\", \"Partial Failure\"], \"xaxis\": \"x\", \"y\": [94.0, 4.0, 1.0, 1.0], \"yaxis\": \"y\"}, {\"marker\": {\"color\": [\"Green\", \"red\", \"Orange\"]}, \"name\": \"CASC\", \"showlegend\": false, \"type\": \"bar\", \"x\": [\"Success\", \"Failure\", \"Partial Failure\"], \"xaxis\": \"x2\", \"y\": [92.03187250996015, 5.577689243027888, 2.3904382470119523], \"yaxis\": \"y2\"}, {\"marker\": {\"color\": [\"Green\", \"red\", \"Orange\"]}, \"name\": \"Roscosmos\", \"showlegend\": false, \"type\": \"bar\", \"x\": [\"Success\", \"Failure\", \"Partial Failure\"], \"xaxis\": \"x3\", \"y\": [92.72727272727272, 5.454545454545454, 1.8181818181818181], \"yaxis\": \"y3\"}, {\"marker\": {\"color\": [\"Green\", \"Orange\"]}, \"name\": \"ULA\", \"showlegend\": false, \"type\": \"bar\", \"x\": [\"Success\", \"Partial Failure\"], \"xaxis\": \"x4\", \"y\": [99.28571428571429, 0.7142857142857143], \"yaxis\": \"y4\"}, {\"marker\": {\"color\": [\"Green\", \"red\"]}, \"name\": \"JAXA\", \"showlegend\": false, \"type\": \"bar\", \"x\": [\"Success\", \"Failure\"], \"xaxis\": \"x5\", \"y\": [85.71428571428571, 14.285714285714285], \"yaxis\": \"y5\"}, {\"marker\": {\"color\": [\"Green\", \"red\", \"Orange\"]}, \"name\": \"Northrop\", \"showlegend\": false, \"type\": \"bar\", \"x\": [\"Success\", \"Failure\", \"Partial Failure\"], \"xaxis\": \"x6\", \"y\": [89.1566265060241, 8.433734939759036, 2.4096385542168677], \"yaxis\": \"y6\"}, {\"marker\": {\"color\": [\"Green\", \"red\"]}, \"name\": \"ExPace\", \"showlegend\": false, \"type\": \"bar\", \"x\": [\"Success\", \"Failure\"], \"xaxis\": \"x7\", \"y\": [90.0, 10.0], \"yaxis\": \"y7\"}, {\"marker\": {\"color\": [\"Green\", \"red\"]}, \"name\": \"IAI\", \"showlegend\": false, \"type\": \"bar\", \"x\": [\"Success\", \"Failure\"], \"xaxis\": \"x8\", \"y\": [81.81818181818183, 18.181818181818183], \"yaxis\": \"y8\"}, {\"marker\": {\"color\": [\"Green\", \"red\"]}, \"name\": \"Rocket Lab\", \"showlegend\": false, \"type\": \"bar\", \"x\": [\"Success\", \"Failure\"], \"xaxis\": \"x9\", \"y\": [84.61538461538461, 15.384615384615385], \"yaxis\": \"y9\"}, {\"marker\": {\"color\": [\"red\"]}, \"name\": \"Virgin Orbit\", \"showlegend\": false, \"type\": \"bar\", \"x\": [\"Failure\"], \"xaxis\": \"x10\", \"y\": [100.0], \"yaxis\": \"y10\"}, {\"marker\": {\"color\": [\"Green\", \"red\", \"Orange\"]}, \"name\": \"VKS RF\", \"showlegend\": false, \"type\": \"bar\", \"x\": [\"Success\", \"Failure\", \"Partial Failure\"], \"xaxis\": \"x11\", \"y\": [93.53233830845771, 3.482587064676617, 2.9850746268656714], \"yaxis\": \"y11\"}, {\"marker\": {\"color\": [\"Green\", \"Orange\", \"red\"]}, \"name\": \"MHI\", \"showlegend\": false, \"type\": \"bar\", \"x\": [\"Success\", \"Partial Failure\", \"Failure\"], \"xaxis\": \"x12\", \"y\": [95.23809523809523, 2.380952380952381, 2.380952380952381], \"yaxis\": \"y12\"}, {\"marker\": {\"color\": [\"Green\"]}, \"name\": \"IRGC\", \"showlegend\": false, \"type\": \"bar\", \"x\": [\"Success\"], \"xaxis\": \"x13\", \"y\": [100.0], \"yaxis\": \"y13\"}, {\"marker\": {\"color\": [\"Green\", \"red\", \"Orange\"]}, \"name\": \"Arianespace\", \"showlegend\": false, \"type\": \"bar\", \"x\": [\"Success\", \"Failure\", \"Partial Failure\"], \"xaxis\": \"x14\", \"y\": [96.415770609319, 2.5089605734767026, 1.0752688172043012], \"yaxis\": \"y14\"}, {\"marker\": {\"color\": [\"red\", \"Green\", \"Yellow\"]}, \"name\": \"ISA\", \"showlegend\": false, \"type\": \"bar\", \"x\": [\"Failure\", \"Success\", \"Prelaunch Failure\"], \"xaxis\": \"x15\", \"y\": [61.53846153846154, 30.76923076923077, 7.6923076923076925], \"yaxis\": \"y15\"}, {\"marker\": {\"color\": [\"Green\"]}, \"name\": \"Blue Origin\", \"showlegend\": false, \"type\": \"bar\", \"x\": [\"Success\"], \"xaxis\": \"x16\", \"y\": [100.0], \"yaxis\": \"y16\"}, {\"marker\": {\"color\": [\"Green\", \"red\", \"Orange\"]}, \"name\": \"ISRO\", \"showlegend\": false, \"type\": \"bar\", \"x\": [\"Success\", \"Failure\", \"Partial Failure\"], \"xaxis\": \"x17\", \"y\": [82.89473684210526, 10.526315789473683, 6.578947368421052], \"yaxis\": \"y17\"}, {\"marker\": {\"color\": [\"Orange\", \"red\"]}, \"name\": \"Exos\", \"showlegend\": false, \"type\": \"bar\", \"x\": [\"Partial Failure\", \"Failure\"], \"xaxis\": \"x18\", \"y\": [75.0, 25.0], \"yaxis\": \"y18\"}, {\"marker\": {\"color\": [\"Green\", \"Orange\"]}, \"name\": \"ILS\", \"showlegend\": false, \"type\": \"bar\", \"x\": [\"Success\", \"Partial Failure\"], \"xaxis\": \"x19\", \"y\": [97.82608695652173, 2.1739130434782608], \"yaxis\": \"y19\"}, {\"marker\": {\"color\": [\"Green\"]}, \"name\": \"i-Space\", \"showlegend\": false, \"type\": \"bar\", \"x\": [\"Success\"], \"xaxis\": \"x20\", \"y\": [100.0], \"yaxis\": \"y20\"}, {\"marker\": {\"color\": [\"red\"]}, \"name\": \"OneSpace\", \"showlegend\": false, \"type\": \"bar\", \"x\": [\"Failure\"], \"xaxis\": \"x21\", \"y\": [100.0], \"yaxis\": \"y21\"}, {\"marker\": {\"color\": [\"red\"]}, \"name\": \"Landspace\", \"showlegend\": false, \"type\": \"bar\", \"x\": [\"Failure\"], \"xaxis\": \"x22\", \"y\": [100.0], \"yaxis\": \"y22\"}, {\"marker\": {\"color\": [\"Green\", \"red\"]}, \"name\": \"Eurockot\", \"showlegend\": false, \"type\": \"bar\", \"x\": [\"Success\", \"Failure\"], \"xaxis\": \"x23\", \"y\": [92.3076923076923, 7.6923076923076925], \"yaxis\": \"y23\"}, {\"marker\": {\"color\": [\"Green\", \"Orange\"]}, \"name\": \"Land Launch\", \"showlegend\": false, \"type\": \"bar\", \"x\": [\"Success\", \"Partial Failure\"], \"xaxis\": \"x24\", \"y\": [85.71428571428571, 14.285714285714285], \"yaxis\": \"y24\"}, {\"marker\": {\"color\": [\"Green\", \"red\"]}, \"name\": \"CASIC\", \"showlegend\": false, \"type\": \"bar\", \"x\": [\"Success\", \"Failure\"], \"xaxis\": \"x25\", \"y\": [60.0, 40.0], \"yaxis\": \"y25\"}, {\"marker\": {\"color\": [\"red\", \"Green\"]}, \"name\": \"KCST\", \"showlegend\": false, \"type\": \"bar\", \"x\": [\"Failure\", \"Success\"], \"xaxis\": \"x26\", \"y\": [60.0, 40.0], \"yaxis\": \"y26\"}, {\"marker\": {\"color\": [\"red\"]}, \"name\": \"Sandia\", \"showlegend\": false, \"type\": \"bar\", \"x\": [\"Failure\"], \"xaxis\": \"x27\", \"y\": [100.0], \"yaxis\": \"y27\"}, {\"marker\": {\"color\": [\"Green\", \"red\"]}, \"name\": \"Kosmotras\", \"showlegend\": false, \"type\": \"bar\", \"x\": [\"Success\", \"Failure\"], \"xaxis\": \"x28\", \"y\": [95.45454545454545, 4.545454545454546], \"yaxis\": \"y28\"}, {\"marker\": {\"color\": [\"Green\"]}, \"name\": \"Khrunichev\", \"showlegend\": false, \"type\": \"bar\", \"x\": [\"Success\"], \"xaxis\": \"x29\", \"y\": [100.0], \"yaxis\": \"y29\"}, {\"marker\": {\"color\": [\"Green\", \"red\"]}, \"name\": \"Sea Launch\", \"showlegend\": false, \"type\": \"bar\", \"x\": [\"Success\", \"Failure\"], \"xaxis\": \"x30\", \"y\": [91.66666666666666, 8.333333333333332], \"yaxis\": \"y30\"}, {\"marker\": {\"color\": [\"red\", \"Green\"]}, \"name\": \"KARI\", \"showlegend\": false, \"type\": \"bar\", \"x\": [\"Failure\", \"Success\"], \"xaxis\": \"x31\", \"y\": [66.66666666666666, 33.33333333333333], \"yaxis\": \"y31\"}, {\"marker\": {\"color\": [\"Green\", \"red\", \"Orange\"]}, \"name\": \"ESA\", \"showlegend\": false, \"type\": \"bar\", \"x\": [\"Success\", \"Failure\", \"Partial Failure\"], \"xaxis\": \"x32\", \"y\": [69.23076923076923, 23.076923076923077, 7.6923076923076925], \"yaxis\": \"y32\"}, {\"marker\": {\"color\": [\"Green\", \"red\", \"Orange\"]}, \"name\": \"NASA\", \"showlegend\": false, \"type\": \"bar\", \"x\": [\"Success\", \"Failure\", \"Partial Failure\"], \"xaxis\": \"x33\", \"y\": [91.62561576354679, 5.41871921182266, 2.955665024630542], \"yaxis\": \"y33\"}, {\"marker\": {\"color\": [\"Green\", \"red\", \"Orange\"]}, \"name\": \"Boeing\", \"showlegend\": false, \"type\": \"bar\", \"x\": [\"Success\", \"Failure\", \"Partial Failure\"], \"xaxis\": \"x34\", \"y\": [96.32352941176471, 2.2058823529411766, 1.4705882352941175], \"yaxis\": \"y34\"}, {\"marker\": {\"color\": [\"Green\", \"red\", \"Orange\"]}, \"name\": \"ISAS\", \"showlegend\": false, \"type\": \"bar\", \"x\": [\"Success\", \"Failure\", \"Partial Failure\"], \"xaxis\": \"x35\", \"y\": [86.66666666666667, 10.0, 3.3333333333333335], \"yaxis\": \"y35\"}, {\"marker\": {\"color\": [\"Green\", \"red\"]}, \"name\": \"SRC\", \"showlegend\": false, \"type\": \"bar\", \"x\": [\"Success\", \"Failure\"], \"xaxis\": \"x36\", \"y\": [66.66666666666666, 33.33333333333333], \"yaxis\": \"y36\"}, {\"marker\": {\"color\": [\"Green\", \"red\"]}, \"name\": \"MITT\", \"showlegend\": false, \"type\": \"bar\", \"x\": [\"Success\", \"Failure\"], \"xaxis\": \"x37\", \"y\": [85.71428571428571, 14.285714285714285], \"yaxis\": \"y37\"}, {\"marker\": {\"color\": [\"Green\", \"red\"]}, \"name\": \"Lockheed\", \"showlegend\": false, \"type\": \"bar\", \"x\": [\"Success\", \"Failure\"], \"xaxis\": \"x38\", \"y\": [93.67088607594937, 6.329113924050633], \"yaxis\": \"y38\"}, {\"marker\": {\"color\": [\"red\", \"Yellow\"]}, \"name\": \"AEB\", \"showlegend\": false, \"type\": \"bar\", \"x\": [\"Failure\", \"Prelaunch Failure\"], \"xaxis\": \"x39\", \"y\": [66.66666666666666, 33.33333333333333], \"yaxis\": \"y39\"}, {\"marker\": {\"color\": [\"Green\"]}, \"name\": \"Starsem\", \"showlegend\": false, \"type\": \"bar\", \"x\": [\"Success\"], \"xaxis\": \"x40\", \"y\": [100.0], \"yaxis\": \"y40\"}, {\"marker\": {\"color\": [\"Green\", \"red\", \"Orange\", \"Yellow\"]}, \"name\": \"RVSN USSR\", \"showlegend\": false, \"type\": \"bar\", \"x\": [\"Success\", \"Failure\", \"Partial Failure\", \"Prelaunch Failure\"], \"xaxis\": \"x41\", \"y\": [90.82723691615081, 6.809229037703996, 2.3072594259988746, 0.056274620146314014], \"yaxis\": \"y41\"}, {\"marker\": {\"color\": [\"red\"]}, \"name\": \"EER\", \"showlegend\": false, \"type\": \"bar\", \"x\": [\"Failure\"], \"xaxis\": \"x42\", \"y\": [100.0], \"yaxis\": \"y42\"}, {\"marker\": {\"color\": [\"Green\", \"red\", \"Orange\"]}, \"name\": \"General Dynamics\", \"showlegend\": false, \"type\": \"bar\", \"x\": [\"Success\", \"Failure\", \"Partial Failure\"], \"xaxis\": \"x43\", \"y\": [80.87649402390437, 14.741035856573706, 4.382470119521913], \"yaxis\": \"y43\"}, {\"marker\": {\"color\": [\"Green\", \"red\", \"Orange\"]}, \"name\": \"Martin Marietta\", \"showlegend\": false, \"type\": \"bar\", \"x\": [\"Success\", \"Failure\", \"Partial Failure\"], \"xaxis\": \"x44\", \"y\": [87.71929824561403, 9.649122807017543, 2.631578947368421], \"yaxis\": \"y44\"}, {\"marker\": {\"color\": [\"Green\"]}, \"name\": \"Yuzhmash\", \"showlegend\": false, \"type\": \"bar\", \"x\": [\"Success\"], \"xaxis\": \"x45\", \"y\": [100.0], \"yaxis\": \"y45\"}, {\"marker\": {\"color\": [\"Green\"]}, \"name\": \"Douglas\", \"showlegend\": false, \"type\": \"bar\", \"x\": [\"Success\"], \"xaxis\": \"x46\", \"y\": [100.0], \"yaxis\": \"y46\"}, {\"marker\": {\"color\": [\"Green\"]}, \"name\": \"ASI\", \"showlegend\": false, \"type\": \"bar\", \"x\": [\"Success\"], \"xaxis\": \"x47\", \"y\": [100.0], \"yaxis\": \"y47\"}, {\"marker\": {\"color\": [\"Green\", \"red\", \"Orange\"]}, \"name\": \"US Air Force\", \"showlegend\": false, \"type\": \"bar\", \"x\": [\"Success\", \"Failure\", \"Partial Failure\"], \"xaxis\": \"x48\", \"y\": [80.12422360248446, 18.633540372670808, 1.2422360248447204], \"yaxis\": \"y48\"}, {\"marker\": {\"color\": [\"Green\", \"red\"]}, \"name\": \"CNES\", \"showlegend\": false, \"type\": \"bar\", \"x\": [\"Success\", \"Failure\"], \"xaxis\": \"x49\", \"y\": [75.0, 25.0], \"yaxis\": \"y49\"}, {\"marker\": {\"color\": [\"red\", \"Green\"]}, \"name\": \"CECLES\", \"showlegend\": false, \"type\": \"bar\", \"x\": [\"Failure\", \"Success\"], \"xaxis\": \"x50\", \"y\": [75.0, 25.0], \"yaxis\": \"y50\"}, {\"marker\": {\"color\": [\"Green\", \"red\"]}, \"name\": \"RAE\", \"showlegend\": false, \"type\": \"bar\", \"x\": [\"Success\", \"Failure\"], \"xaxis\": \"x51\", \"y\": [50.0, 50.0], \"yaxis\": \"y51\"}, {\"marker\": {\"color\": [\"red\", \"Green\"]}, \"name\": \"UT\", \"showlegend\": false, \"type\": \"bar\", \"x\": [\"Failure\", \"Success\"], \"xaxis\": \"x52\", \"y\": [80.0, 20.0], \"yaxis\": \"y52\"}, {\"marker\": {\"color\": [\"Green\"]}, \"name\": \"OKB-586\", \"showlegend\": false, \"type\": \"bar\", \"x\": [\"Success\"], \"xaxis\": \"x53\", \"y\": [100.0], \"yaxis\": \"y53\"}, {\"marker\": {\"color\": [\"Green\", \"red\", \"Orange\"]}, \"name\": \"AMBA\", \"showlegend\": false, \"type\": \"bar\", \"x\": [\"Success\", \"Failure\", \"Partial Failure\"], \"xaxis\": \"x54\", \"y\": [50.0, 37.5, 12.5], \"yaxis\": \"y54\"}, {\"marker\": {\"color\": [\"Green\", \"Orange\"]}, \"name\": \"Arm??e de l'Air\", \"showlegend\": false, \"type\": \"bar\", \"x\": [\"Success\", \"Partial Failure\"], \"xaxis\": \"x55\", \"y\": [75.0, 25.0], \"yaxis\": \"y55\"}, {\"marker\": {\"color\": [\"red\", \"Green\", \"Orange\"]}, \"name\": \"US Navy\", \"showlegend\": false, \"type\": \"bar\", \"x\": [\"Failure\", \"Success\", \"Partial Failure\"], \"xaxis\": \"x56\", \"y\": [82.35294117647058, 11.76470588235294, 5.88235294117647], \"yaxis\": \"y56\"}],                        {\"annotations\": [{\"font\": {\"size\": 16}, \"showarrow\": false, \"text\": \"SpaceX\", \"x\": 0.0515625, \"xanchor\": \"center\", \"xref\": \"paper\", \"y\": 1.0, \"yanchor\": \"bottom\", \"yref\": \"paper\"}, {\"font\": {\"size\": 16}, \"showarrow\": false, \"text\": \"CASC\", \"x\": 0.1796875, \"xanchor\": \"center\", \"xref\": \"paper\", \"y\": 1.0, \"yanchor\": \"bottom\", \"yref\": \"paper\"}, {\"font\": {\"size\": 16}, \"showarrow\": false, \"text\": \"Roscosmos\", \"x\": 0.3078125, \"xanchor\": \"center\", \"xref\": \"paper\", \"y\": 1.0, \"yanchor\": \"bottom\", \"yref\": \"paper\"}, {\"font\": {\"size\": 16}, \"showarrow\": false, \"text\": \"ULA\", \"x\": 0.4359375, \"xanchor\": \"center\", \"xref\": \"paper\", \"y\": 1.0, \"yanchor\": \"bottom\", \"yref\": \"paper\"}, {\"font\": {\"size\": 16}, \"showarrow\": false, \"text\": \"JAXA\", \"x\": 0.5640624999999999, \"xanchor\": \"center\", \"xref\": \"paper\", \"y\": 1.0, \"yanchor\": \"bottom\", \"yref\": \"paper\"}, {\"font\": {\"size\": 16}, \"showarrow\": false, \"text\": \"Northrop\", \"x\": 0.6921875, \"xanchor\": \"center\", \"xref\": \"paper\", \"y\": 1.0, \"yanchor\": \"bottom\", \"yref\": \"paper\"}, {\"font\": {\"size\": 16}, \"showarrow\": false, \"text\": \"ExPace\", \"x\": 0.8203125, \"xanchor\": \"center\", \"xref\": \"paper\", \"y\": 1.0, \"yanchor\": \"bottom\", \"yref\": \"paper\"}, {\"font\": {\"size\": 16}, \"showarrow\": false, \"text\": \"IAI\", \"x\": 0.9484375, \"xanchor\": \"center\", \"xref\": \"paper\", \"y\": 1.0, \"yanchor\": \"bottom\", \"yref\": \"paper\"}, {\"font\": {\"size\": 16}, \"showarrow\": false, \"text\": \"Rocket Lab\", \"x\": 0.0515625, \"xanchor\": \"center\", \"xref\": \"paper\", \"y\": 0.8671875, \"yanchor\": \"bottom\", \"yref\": \"paper\"}, {\"font\": {\"size\": 16}, \"showarrow\": false, \"text\": \"Virgin Orbit\", \"x\": 0.1796875, \"xanchor\": \"center\", \"xref\": \"paper\", \"y\": 0.8671875, \"yanchor\": \"bottom\", \"yref\": \"paper\"}, {\"font\": {\"size\": 16}, \"showarrow\": false, \"text\": \"VKS RF\", \"x\": 0.3078125, \"xanchor\": \"center\", \"xref\": \"paper\", \"y\": 0.8671875, \"yanchor\": \"bottom\", \"yref\": \"paper\"}, {\"font\": {\"size\": 16}, \"showarrow\": false, \"text\": \"MHI\", \"x\": 0.4359375, \"xanchor\": \"center\", \"xref\": \"paper\", \"y\": 0.8671875, \"yanchor\": \"bottom\", \"yref\": \"paper\"}, {\"font\": {\"size\": 16}, \"showarrow\": false, \"text\": \"IRGC\", \"x\": 0.5640624999999999, \"xanchor\": \"center\", \"xref\": \"paper\", \"y\": 0.8671875, \"yanchor\": \"bottom\", \"yref\": \"paper\"}, {\"font\": {\"size\": 16}, \"showarrow\": false, \"text\": \"Arianespace\", \"x\": 0.6921875, \"xanchor\": \"center\", \"xref\": \"paper\", \"y\": 0.8671875, \"yanchor\": \"bottom\", \"yref\": \"paper\"}, {\"font\": {\"size\": 16}, \"showarrow\": false, \"text\": \"ISA\", \"x\": 0.8203125, \"xanchor\": \"center\", \"xref\": \"paper\", \"y\": 0.8671875, \"yanchor\": \"bottom\", \"yref\": \"paper\"}, {\"font\": {\"size\": 16}, \"showarrow\": false, \"text\": \"Blue Origin\", \"x\": 0.9484375, \"xanchor\": \"center\", \"xref\": \"paper\", \"y\": 0.8671875, \"yanchor\": \"bottom\", \"yref\": \"paper\"}, {\"font\": {\"size\": 16}, \"showarrow\": false, \"text\": \"ISRO\", \"x\": 0.0515625, \"xanchor\": \"center\", \"xref\": \"paper\", \"y\": 0.734375, \"yanchor\": \"bottom\", \"yref\": \"paper\"}, {\"font\": {\"size\": 16}, \"showarrow\": false, \"text\": \"Exos\", \"x\": 0.1796875, \"xanchor\": \"center\", \"xref\": \"paper\", \"y\": 0.734375, \"yanchor\": \"bottom\", \"yref\": \"paper\"}, {\"font\": {\"size\": 16}, \"showarrow\": false, \"text\": \"ILS\", \"x\": 0.3078125, \"xanchor\": \"center\", \"xref\": \"paper\", \"y\": 0.734375, \"yanchor\": \"bottom\", \"yref\": \"paper\"}, {\"font\": {\"size\": 16}, \"showarrow\": false, \"text\": \"i-Space\", \"x\": 0.4359375, \"xanchor\": \"center\", \"xref\": \"paper\", \"y\": 0.734375, \"yanchor\": \"bottom\", \"yref\": \"paper\"}, {\"font\": {\"size\": 16}, \"showarrow\": false, \"text\": \"OneSpace\", \"x\": 0.5640624999999999, \"xanchor\": \"center\", \"xref\": \"paper\", \"y\": 0.734375, \"yanchor\": \"bottom\", \"yref\": \"paper\"}, {\"font\": {\"size\": 16}, \"showarrow\": false, \"text\": \"Landspace\", \"x\": 0.6921875, \"xanchor\": \"center\", \"xref\": \"paper\", \"y\": 0.734375, \"yanchor\": \"bottom\", \"yref\": \"paper\"}, {\"font\": {\"size\": 16}, \"showarrow\": false, \"text\": \"Eurockot\", \"x\": 0.8203125, \"xanchor\": \"center\", \"xref\": \"paper\", \"y\": 0.734375, \"yanchor\": \"bottom\", \"yref\": \"paper\"}, {\"font\": {\"size\": 16}, \"showarrow\": false, \"text\": \"Land Launch\", \"x\": 0.9484375, \"xanchor\": \"center\", \"xref\": \"paper\", \"y\": 0.734375, \"yanchor\": \"bottom\", \"yref\": \"paper\"}, {\"font\": {\"size\": 16}, \"showarrow\": false, \"text\": \"CASIC\", \"x\": 0.0515625, \"xanchor\": \"center\", \"xref\": \"paper\", \"y\": 0.6015625, \"yanchor\": \"bottom\", \"yref\": \"paper\"}, {\"font\": {\"size\": 16}, \"showarrow\": false, \"text\": \"KCST\", \"x\": 0.1796875, \"xanchor\": \"center\", \"xref\": \"paper\", \"y\": 0.6015625, \"yanchor\": \"bottom\", \"yref\": \"paper\"}, {\"font\": {\"size\": 16}, \"showarrow\": false, \"text\": \"Sandia\", \"x\": 0.3078125, \"xanchor\": \"center\", \"xref\": \"paper\", \"y\": 0.6015625, \"yanchor\": \"bottom\", \"yref\": \"paper\"}, {\"font\": {\"size\": 16}, \"showarrow\": false, \"text\": \"Kosmotras\", \"x\": 0.4359375, \"xanchor\": \"center\", \"xref\": \"paper\", \"y\": 0.6015625, \"yanchor\": \"bottom\", \"yref\": \"paper\"}, {\"font\": {\"size\": 16}, \"showarrow\": false, \"text\": \"Khrunichev\", \"x\": 0.5640624999999999, \"xanchor\": \"center\", \"xref\": \"paper\", \"y\": 0.6015625, \"yanchor\": \"bottom\", \"yref\": \"paper\"}, {\"font\": {\"size\": 16}, \"showarrow\": false, \"text\": \"Sea Launch\", \"x\": 0.6921875, \"xanchor\": \"center\", \"xref\": \"paper\", \"y\": 0.6015625, \"yanchor\": \"bottom\", \"yref\": \"paper\"}, {\"font\": {\"size\": 16}, \"showarrow\": false, \"text\": \"KARI\", \"x\": 0.8203125, \"xanchor\": \"center\", \"xref\": \"paper\", \"y\": 0.6015625, \"yanchor\": \"bottom\", \"yref\": \"paper\"}, {\"font\": {\"size\": 16}, \"showarrow\": false, \"text\": \"ESA\", \"x\": 0.9484375, \"xanchor\": \"center\", \"xref\": \"paper\", \"y\": 0.6015625, \"yanchor\": \"bottom\", \"yref\": \"paper\"}, {\"font\": {\"size\": 16}, \"showarrow\": false, \"text\": \"NASA\", \"x\": 0.0515625, \"xanchor\": \"center\", \"xref\": \"paper\", \"y\": 0.46875, \"yanchor\": \"bottom\", \"yref\": \"paper\"}, {\"font\": {\"size\": 16}, \"showarrow\": false, \"text\": \"Boeing\", \"x\": 0.1796875, \"xanchor\": \"center\", \"xref\": \"paper\", \"y\": 0.46875, \"yanchor\": \"bottom\", \"yref\": \"paper\"}, {\"font\": {\"size\": 16}, \"showarrow\": false, \"text\": \"ISAS\", \"x\": 0.3078125, \"xanchor\": \"center\", \"xref\": \"paper\", \"y\": 0.46875, \"yanchor\": \"bottom\", \"yref\": \"paper\"}, {\"font\": {\"size\": 16}, \"showarrow\": false, \"text\": \"SRC\", \"x\": 0.4359375, \"xanchor\": \"center\", \"xref\": \"paper\", \"y\": 0.46875, \"yanchor\": \"bottom\", \"yref\": \"paper\"}, {\"font\": {\"size\": 16}, \"showarrow\": false, \"text\": \"MITT\", \"x\": 0.5640624999999999, \"xanchor\": \"center\", \"xref\": \"paper\", \"y\": 0.46875, \"yanchor\": \"bottom\", \"yref\": \"paper\"}, {\"font\": {\"size\": 16}, \"showarrow\": false, \"text\": \"Lockheed\", \"x\": 0.6921875, \"xanchor\": \"center\", \"xref\": \"paper\", \"y\": 0.46875, \"yanchor\": \"bottom\", \"yref\": \"paper\"}, {\"font\": {\"size\": 16}, \"showarrow\": false, \"text\": \"AEB\", \"x\": 0.8203125, \"xanchor\": \"center\", \"xref\": \"paper\", \"y\": 0.46875, \"yanchor\": \"bottom\", \"yref\": \"paper\"}, {\"font\": {\"size\": 16}, \"showarrow\": false, \"text\": \"Starsem\", \"x\": 0.9484375, \"xanchor\": \"center\", \"xref\": \"paper\", \"y\": 0.46875, \"yanchor\": \"bottom\", \"yref\": \"paper\"}, {\"font\": {\"size\": 16}, \"showarrow\": false, \"text\": \"RVSN USSR\", \"x\": 0.0515625, \"xanchor\": \"center\", \"xref\": \"paper\", \"y\": 0.3359375, \"yanchor\": \"bottom\", \"yref\": \"paper\"}, {\"font\": {\"size\": 16}, \"showarrow\": false, \"text\": \"EER\", \"x\": 0.1796875, \"xanchor\": \"center\", \"xref\": \"paper\", \"y\": 0.3359375, \"yanchor\": \"bottom\", \"yref\": \"paper\"}, {\"font\": {\"size\": 16}, \"showarrow\": false, \"text\": \"General Dynamics\", \"x\": 0.3078125, \"xanchor\": \"center\", \"xref\": \"paper\", \"y\": 0.3359375, \"yanchor\": \"bottom\", \"yref\": \"paper\"}, {\"font\": {\"size\": 16}, \"showarrow\": false, \"text\": \"Martin Marietta\", \"x\": 0.4359375, \"xanchor\": \"center\", \"xref\": \"paper\", \"y\": 0.3359375, \"yanchor\": \"bottom\", \"yref\": \"paper\"}, {\"font\": {\"size\": 16}, \"showarrow\": false, \"text\": \"Yuzhmash\", \"x\": 0.5640624999999999, \"xanchor\": \"center\", \"xref\": \"paper\", \"y\": 0.3359375, \"yanchor\": \"bottom\", \"yref\": \"paper\"}, {\"font\": {\"size\": 16}, \"showarrow\": false, \"text\": \"Douglas\", \"x\": 0.6921875, \"xanchor\": \"center\", \"xref\": \"paper\", \"y\": 0.3359375, \"yanchor\": \"bottom\", \"yref\": \"paper\"}, {\"font\": {\"size\": 16}, \"showarrow\": false, \"text\": \"ASI\", \"x\": 0.8203125, \"xanchor\": \"center\", \"xref\": \"paper\", \"y\": 0.3359375, \"yanchor\": \"bottom\", \"yref\": \"paper\"}, {\"font\": {\"size\": 16}, \"showarrow\": false, \"text\": \"US Air Force\", \"x\": 0.9484375, \"xanchor\": \"center\", \"xref\": \"paper\", \"y\": 0.3359375, \"yanchor\": \"bottom\", \"yref\": \"paper\"}, {\"font\": {\"size\": 16}, \"showarrow\": false, \"text\": \"CNES\", \"x\": 0.0515625, \"xanchor\": \"center\", \"xref\": \"paper\", \"y\": 0.203125, \"yanchor\": \"bottom\", \"yref\": \"paper\"}, {\"font\": {\"size\": 16}, \"showarrow\": false, \"text\": \"CECLES\", \"x\": 0.1796875, \"xanchor\": \"center\", \"xref\": \"paper\", \"y\": 0.203125, \"yanchor\": \"bottom\", \"yref\": \"paper\"}, {\"font\": {\"size\": 16}, \"showarrow\": false, \"text\": \"RAE\", \"x\": 0.3078125, \"xanchor\": \"center\", \"xref\": \"paper\", \"y\": 0.203125, \"yanchor\": \"bottom\", \"yref\": \"paper\"}, {\"font\": {\"size\": 16}, \"showarrow\": false, \"text\": \"UT\", \"x\": 0.4359375, \"xanchor\": \"center\", \"xref\": \"paper\", \"y\": 0.203125, \"yanchor\": \"bottom\", \"yref\": \"paper\"}, {\"font\": {\"size\": 16}, \"showarrow\": false, \"text\": \"OKB-586\", \"x\": 0.5640624999999999, \"xanchor\": \"center\", \"xref\": \"paper\", \"y\": 0.203125, \"yanchor\": \"bottom\", \"yref\": \"paper\"}, {\"font\": {\"size\": 16}, \"showarrow\": false, \"text\": \"AMBA\", \"x\": 0.6921875, \"xanchor\": \"center\", \"xref\": \"paper\", \"y\": 0.203125, \"yanchor\": \"bottom\", \"yref\": \"paper\"}, {\"font\": {\"size\": 16}, \"showarrow\": false, \"text\": \"Arm??e de l'Air\", \"x\": 0.8203125, \"xanchor\": \"center\", \"xref\": \"paper\", \"y\": 0.203125, \"yanchor\": \"bottom\", \"yref\": \"paper\"}, {\"font\": {\"size\": 16}, \"showarrow\": false, \"text\": \"US Navy\", \"x\": 0.9484375, \"xanchor\": \"center\", \"xref\": \"paper\", \"y\": 0.203125, \"yanchor\": \"bottom\", \"yref\": \"paper\"}], \"font\": {\"family\": \"Fira Code\"}, \"height\": 2000, \"margin\": {\"b\": 10, \"l\": 80, \"r\": 80, \"t\": 80}, \"template\": {\"data\": {\"bar\": [{\"error_x\": {\"color\": \"#f2f5fa\"}, \"error_y\": {\"color\": \"#f2f5fa\"}, \"marker\": {\"line\": {\"color\": \"rgb(17,17,17)\", \"width\": 0.5}}, \"type\": \"bar\"}], \"barpolar\": [{\"marker\": {\"line\": {\"color\": \"rgb(17,17,17)\", \"width\": 0.5}}, \"type\": \"barpolar\"}], \"carpet\": [{\"aaxis\": {\"endlinecolor\": \"#A2B1C6\", \"gridcolor\": \"#506784\", \"linecolor\": \"#506784\", \"minorgridcolor\": \"#506784\", \"startlinecolor\": \"#A2B1C6\"}, \"baxis\": {\"endlinecolor\": \"#A2B1C6\", \"gridcolor\": \"#506784\", \"linecolor\": \"#506784\", \"minorgridcolor\": \"#506784\", \"startlinecolor\": \"#A2B1C6\"}, \"type\": \"carpet\"}], \"choropleth\": [{\"colorbar\": {\"outlinewidth\": 0, \"ticks\": \"\"}, \"type\": \"choropleth\"}], \"contour\": [{\"colorbar\": {\"outlinewidth\": 0, \"ticks\": \"\"}, \"colorscale\": [[0.0, \"#0d0887\"], [0.1111111111111111, \"#46039f\"], [0.2222222222222222, \"#7201a8\"], [0.3333333333333333, \"#9c179e\"], [0.4444444444444444, \"#bd3786\"], [0.5555555555555556, \"#d8576b\"], [0.6666666666666666, \"#ed7953\"], [0.7777777777777778, \"#fb9f3a\"], [0.8888888888888888, \"#fdca26\"], [1.0, \"#f0f921\"]], \"type\": \"contour\"}], \"contourcarpet\": [{\"colorbar\": {\"outlinewidth\": 0, \"ticks\": \"\"}, \"type\": \"contourcarpet\"}], \"heatmap\": [{\"colorbar\": {\"outlinewidth\": 0, \"ticks\": \"\"}, \"colorscale\": [[0.0, \"#0d0887\"], [0.1111111111111111, \"#46039f\"], [0.2222222222222222, \"#7201a8\"], [0.3333333333333333, \"#9c179e\"], [0.4444444444444444, \"#bd3786\"], [0.5555555555555556, \"#d8576b\"], [0.6666666666666666, \"#ed7953\"], [0.7777777777777778, \"#fb9f3a\"], [0.8888888888888888, \"#fdca26\"], [1.0, \"#f0f921\"]], \"type\": \"heatmap\"}], \"heatmapgl\": [{\"colorbar\": {\"outlinewidth\": 0, \"ticks\": \"\"}, \"colorscale\": [[0.0, \"#0d0887\"], [0.1111111111111111, \"#46039f\"], [0.2222222222222222, \"#7201a8\"], [0.3333333333333333, \"#9c179e\"], [0.4444444444444444, \"#bd3786\"], [0.5555555555555556, \"#d8576b\"], [0.6666666666666666, \"#ed7953\"], [0.7777777777777778, \"#fb9f3a\"], [0.8888888888888888, \"#fdca26\"], [1.0, \"#f0f921\"]], \"type\": \"heatmapgl\"}], \"histogram\": [{\"marker\": {\"colorbar\": {\"outlinewidth\": 0, \"ticks\": \"\"}}, \"type\": \"histogram\"}], \"histogram2d\": [{\"colorbar\": {\"outlinewidth\": 0, \"ticks\": \"\"}, \"colorscale\": [[0.0, \"#0d0887\"], [0.1111111111111111, \"#46039f\"], [0.2222222222222222, \"#7201a8\"], [0.3333333333333333, \"#9c179e\"], [0.4444444444444444, \"#bd3786\"], [0.5555555555555556, \"#d8576b\"], [0.6666666666666666, \"#ed7953\"], [0.7777777777777778, \"#fb9f3a\"], [0.8888888888888888, \"#fdca26\"], [1.0, \"#f0f921\"]], \"type\": \"histogram2d\"}], \"histogram2dcontour\": [{\"colorbar\": {\"outlinewidth\": 0, \"ticks\": \"\"}, \"colorscale\": [[0.0, \"#0d0887\"], [0.1111111111111111, \"#46039f\"], [0.2222222222222222, \"#7201a8\"], [0.3333333333333333, \"#9c179e\"], [0.4444444444444444, \"#bd3786\"], [0.5555555555555556, \"#d8576b\"], [0.6666666666666666, \"#ed7953\"], [0.7777777777777778, \"#fb9f3a\"], [0.8888888888888888, \"#fdca26\"], [1.0, \"#f0f921\"]], \"type\": \"histogram2dcontour\"}], \"mesh3d\": [{\"colorbar\": {\"outlinewidth\": 0, \"ticks\": \"\"}, \"type\": \"mesh3d\"}], \"parcoords\": [{\"line\": {\"colorbar\": {\"outlinewidth\": 0, \"ticks\": \"\"}}, \"type\": \"parcoords\"}], \"pie\": [{\"automargin\": true, \"type\": \"pie\"}], \"scatter\": [{\"marker\": {\"line\": {\"color\": \"#283442\"}}, \"type\": \"scatter\"}], \"scatter3d\": [{\"line\": {\"colorbar\": {\"outlinewidth\": 0, \"ticks\": \"\"}}, \"marker\": {\"colorbar\": {\"outlinewidth\": 0, \"ticks\": \"\"}}, \"type\": \"scatter3d\"}], \"scattercarpet\": [{\"marker\": {\"colorbar\": {\"outlinewidth\": 0, \"ticks\": \"\"}}, \"type\": \"scattercarpet\"}], \"scattergeo\": [{\"marker\": {\"colorbar\": {\"outlinewidth\": 0, \"ticks\": \"\"}}, \"type\": \"scattergeo\"}], \"scattergl\": [{\"marker\": {\"line\": {\"color\": \"#283442\"}}, \"type\": \"scattergl\"}], \"scattermapbox\": [{\"marker\": {\"colorbar\": {\"outlinewidth\": 0, \"ticks\": \"\"}}, \"type\": \"scattermapbox\"}], \"scatterpolar\": [{\"marker\": {\"colorbar\": {\"outlinewidth\": 0, \"ticks\": \"\"}}, \"type\": \"scatterpolar\"}], \"scatterpolargl\": [{\"marker\": {\"colorbar\": {\"outlinewidth\": 0, \"ticks\": \"\"}}, \"type\": \"scatterpolargl\"}], \"scatterternary\": [{\"marker\": {\"colorbar\": {\"outlinewidth\": 0, \"ticks\": \"\"}}, \"type\": \"scatterternary\"}], \"surface\": [{\"colorbar\": {\"outlinewidth\": 0, \"ticks\": \"\"}, \"colorscale\": [[0.0, \"#0d0887\"], [0.1111111111111111, \"#46039f\"], [0.2222222222222222, \"#7201a8\"], [0.3333333333333333, \"#9c179e\"], [0.4444444444444444, \"#bd3786\"], [0.5555555555555556, \"#d8576b\"], [0.6666666666666666, \"#ed7953\"], [0.7777777777777778, \"#fb9f3a\"], [0.8888888888888888, \"#fdca26\"], [1.0, \"#f0f921\"]], \"type\": \"surface\"}], \"table\": [{\"cells\": {\"fill\": {\"color\": \"#506784\"}, \"line\": {\"color\": \"rgb(17,17,17)\"}}, \"header\": {\"fill\": {\"color\": \"#2a3f5f\"}, \"line\": {\"color\": \"rgb(17,17,17)\"}}, \"type\": \"table\"}]}, \"layout\": {\"annotationdefaults\": {\"arrowcolor\": \"#f2f5fa\", \"arrowhead\": 0, \"arrowwidth\": 1}, \"autotypenumbers\": \"strict\", \"coloraxis\": {\"colorbar\": {\"outlinewidth\": 0, \"ticks\": \"\"}}, \"colorscale\": {\"diverging\": [[0, \"#8e0152\"], [0.1, \"#c51b7d\"], [0.2, \"#de77ae\"], [0.3, \"#f1b6da\"], [0.4, \"#fde0ef\"], [0.5, \"#f7f7f7\"], [0.6, \"#e6f5d0\"], [0.7, \"#b8e186\"], [0.8, \"#7fbc41\"], [0.9, \"#4d9221\"], [1, \"#276419\"]], \"sequential\": [[0.0, \"#0d0887\"], [0.1111111111111111, \"#46039f\"], [0.2222222222222222, \"#7201a8\"], [0.3333333333333333, \"#9c179e\"], [0.4444444444444444, \"#bd3786\"], [0.5555555555555556, \"#d8576b\"], [0.6666666666666666, \"#ed7953\"], [0.7777777777777778, \"#fb9f3a\"], [0.8888888888888888, \"#fdca26\"], [1.0, \"#f0f921\"]], \"sequentialminus\": [[0.0, \"#0d0887\"], [0.1111111111111111, \"#46039f\"], [0.2222222222222222, \"#7201a8\"], [0.3333333333333333, \"#9c179e\"], [0.4444444444444444, \"#bd3786\"], [0.5555555555555556, \"#d8576b\"], [0.6666666666666666, \"#ed7953\"], [0.7777777777777778, \"#fb9f3a\"], [0.8888888888888888, \"#fdca26\"], [1.0, \"#f0f921\"]]}, \"colorway\": [\"#636efa\", \"#EF553B\", \"#00cc96\", \"#ab63fa\", \"#FFA15A\", \"#19d3f3\", \"#FF6692\", \"#B6E880\", \"#FF97FF\", \"#FECB52\"], \"font\": {\"color\": \"#f2f5fa\"}, \"geo\": {\"bgcolor\": \"rgb(17,17,17)\", \"lakecolor\": \"rgb(17,17,17)\", \"landcolor\": \"rgb(17,17,17)\", \"showlakes\": true, \"showland\": true, \"subunitcolor\": \"#506784\"}, \"hoverlabel\": {\"align\": \"left\"}, \"hovermode\": \"closest\", \"mapbox\": {\"style\": \"dark\"}, \"paper_bgcolor\": \"rgb(17,17,17)\", \"plot_bgcolor\": \"rgb(17,17,17)\", \"polar\": {\"angularaxis\": {\"gridcolor\": \"#506784\", \"linecolor\": \"#506784\", \"ticks\": \"\"}, \"bgcolor\": \"rgb(17,17,17)\", \"radialaxis\": {\"gridcolor\": \"#506784\", \"linecolor\": \"#506784\", \"ticks\": \"\"}}, \"scene\": {\"xaxis\": {\"backgroundcolor\": \"rgb(17,17,17)\", \"gridcolor\": \"#506784\", \"gridwidth\": 2, \"linecolor\": \"#506784\", \"showbackground\": true, \"ticks\": \"\", \"zerolinecolor\": \"#C8D4E3\"}, \"yaxis\": {\"backgroundcolor\": \"rgb(17,17,17)\", \"gridcolor\": \"#506784\", \"gridwidth\": 2, \"linecolor\": \"#506784\", \"showbackground\": true, \"ticks\": \"\", \"zerolinecolor\": \"#C8D4E3\"}, \"zaxis\": {\"backgroundcolor\": \"rgb(17,17,17)\", \"gridcolor\": \"#506784\", \"gridwidth\": 2, \"linecolor\": \"#506784\", \"showbackground\": true, \"ticks\": \"\", \"zerolinecolor\": \"#C8D4E3\"}}, \"shapedefaults\": {\"line\": {\"color\": \"#f2f5fa\"}}, \"sliderdefaults\": {\"bgcolor\": \"#C8D4E3\", \"bordercolor\": \"rgb(17,17,17)\", \"borderwidth\": 1, \"tickwidth\": 0}, \"ternary\": {\"aaxis\": {\"gridcolor\": \"#506784\", \"linecolor\": \"#506784\", \"ticks\": \"\"}, \"baxis\": {\"gridcolor\": \"#506784\", \"linecolor\": \"#506784\", \"ticks\": \"\"}, \"bgcolor\": \"rgb(17,17,17)\", \"caxis\": {\"gridcolor\": \"#506784\", \"linecolor\": \"#506784\", \"ticks\": \"\"}}, \"title\": {\"x\": 0.05}, \"updatemenudefaults\": {\"bgcolor\": \"#506784\", \"borderwidth\": 0}, \"xaxis\": {\"automargin\": true, \"gridcolor\": \"#283442\", \"linecolor\": \"#506784\", \"ticks\": \"\", \"title\": {\"standoff\": 15}, \"zerolinecolor\": \"#283442\", \"zerolinewidth\": 2}, \"yaxis\": {\"automargin\": true, \"gridcolor\": \"#283442\", \"linecolor\": \"#506784\", \"ticks\": \"\", \"title\": {\"standoff\": 15}, \"zerolinecolor\": \"#283442\", \"zerolinewidth\": 2}}}, \"title\": {\"font\": {\"color\": \"#cacaca\"}, \"text\": \"<b>Status des missions pour chaque compagnies</b>\", \"x\": 0.5}, \"width\": 1500, \"xaxis\": {\"anchor\": \"y\", \"domain\": [0.0, 0.103125]}, \"xaxis10\": {\"anchor\": \"y10\", \"domain\": [0.128125, 0.23124999999999998]}, \"xaxis11\": {\"anchor\": \"y11\", \"domain\": [0.25625, 0.359375]}, \"xaxis12\": {\"anchor\": \"y12\", \"domain\": [0.38437499999999997, 0.48749999999999993]}, \"xaxis13\": {\"anchor\": \"y13\", \"domain\": [0.5125, 0.615625]}, \"xaxis14\": {\"anchor\": \"y14\", \"domain\": [0.640625, 0.74375]}, \"xaxis15\": {\"anchor\": \"y15\", \"domain\": [0.76875, 0.8718750000000001]}, \"xaxis16\": {\"anchor\": \"y16\", \"domain\": [0.8968750000000001, 1.0]}, \"xaxis17\": {\"anchor\": \"y17\", \"domain\": [0.0, 0.103125]}, \"xaxis18\": {\"anchor\": \"y18\", \"domain\": [0.128125, 0.23124999999999998]}, \"xaxis19\": {\"anchor\": \"y19\", \"domain\": [0.25625, 0.359375]}, \"xaxis2\": {\"anchor\": \"y2\", \"domain\": [0.128125, 0.23124999999999998]}, \"xaxis20\": {\"anchor\": \"y20\", \"domain\": [0.38437499999999997, 0.48749999999999993]}, \"xaxis21\": {\"anchor\": \"y21\", \"domain\": [0.5125, 0.615625]}, \"xaxis22\": {\"anchor\": \"y22\", \"domain\": [0.640625, 0.74375]}, \"xaxis23\": {\"anchor\": \"y23\", \"domain\": [0.76875, 0.8718750000000001]}, \"xaxis24\": {\"anchor\": \"y24\", \"domain\": [0.8968750000000001, 1.0]}, \"xaxis25\": {\"anchor\": \"y25\", \"domain\": [0.0, 0.103125]}, \"xaxis26\": {\"anchor\": \"y26\", \"domain\": [0.128125, 0.23124999999999998]}, \"xaxis27\": {\"anchor\": \"y27\", \"domain\": [0.25625, 0.359375]}, \"xaxis28\": {\"anchor\": \"y28\", \"domain\": [0.38437499999999997, 0.48749999999999993]}, \"xaxis29\": {\"anchor\": \"y29\", \"domain\": [0.5125, 0.615625]}, \"xaxis3\": {\"anchor\": \"y3\", \"domain\": [0.25625, 0.359375]}, \"xaxis30\": {\"anchor\": \"y30\", \"domain\": [0.640625, 0.74375]}, \"xaxis31\": {\"anchor\": \"y31\", \"domain\": [0.76875, 0.8718750000000001]}, \"xaxis32\": {\"anchor\": \"y32\", \"domain\": [0.8968750000000001, 1.0]}, \"xaxis33\": {\"anchor\": \"y33\", \"domain\": [0.0, 0.103125]}, \"xaxis34\": {\"anchor\": \"y34\", \"domain\": [0.128125, 0.23124999999999998]}, \"xaxis35\": {\"anchor\": \"y35\", \"domain\": [0.25625, 0.359375]}, \"xaxis36\": {\"anchor\": \"y36\", \"domain\": [0.38437499999999997, 0.48749999999999993]}, \"xaxis37\": {\"anchor\": \"y37\", \"domain\": [0.5125, 0.615625]}, \"xaxis38\": {\"anchor\": \"y38\", \"domain\": [0.640625, 0.74375]}, \"xaxis39\": {\"anchor\": \"y39\", \"domain\": [0.76875, 0.8718750000000001]}, \"xaxis4\": {\"anchor\": \"y4\", \"domain\": [0.38437499999999997, 0.48749999999999993]}, \"xaxis40\": {\"anchor\": \"y40\", \"domain\": [0.8968750000000001, 1.0]}, \"xaxis41\": {\"anchor\": \"y41\", \"domain\": [0.0, 0.103125]}, \"xaxis42\": {\"anchor\": \"y42\", \"domain\": [0.128125, 0.23124999999999998]}, \"xaxis43\": {\"anchor\": \"y43\", \"domain\": [0.25625, 0.359375]}, \"xaxis44\": {\"anchor\": \"y44\", \"domain\": [0.38437499999999997, 0.48749999999999993]}, \"xaxis45\": {\"anchor\": \"y45\", \"domain\": [0.5125, 0.615625]}, \"xaxis46\": {\"anchor\": \"y46\", \"domain\": [0.640625, 0.74375]}, \"xaxis47\": {\"anchor\": \"y47\", \"domain\": [0.76875, 0.8718750000000001]}, \"xaxis48\": {\"anchor\": \"y48\", \"domain\": [0.8968750000000001, 1.0]}, \"xaxis49\": {\"anchor\": \"y49\", \"domain\": [0.0, 0.103125]}, \"xaxis5\": {\"anchor\": \"y5\", \"domain\": [0.5125, 0.615625]}, \"xaxis50\": {\"anchor\": \"y50\", \"domain\": [0.128125, 0.23124999999999998]}, \"xaxis51\": {\"anchor\": \"y51\", \"domain\": [0.25625, 0.359375]}, \"xaxis52\": {\"anchor\": \"y52\", \"domain\": [0.38437499999999997, 0.48749999999999993]}, \"xaxis53\": {\"anchor\": \"y53\", \"domain\": [0.5125, 0.615625]}, \"xaxis54\": {\"anchor\": \"y54\", \"domain\": [0.640625, 0.74375]}, \"xaxis55\": {\"anchor\": \"y55\", \"domain\": [0.76875, 0.8718750000000001]}, \"xaxis56\": {\"anchor\": \"y56\", \"domain\": [0.8968750000000001, 1.0]}, \"xaxis57\": {\"anchor\": \"y57\", \"domain\": [0.0, 0.103125]}, \"xaxis58\": {\"anchor\": \"y58\", \"domain\": [0.128125, 0.23124999999999998]}, \"xaxis59\": {\"anchor\": \"y59\", \"domain\": [0.25625, 0.359375]}, \"xaxis6\": {\"anchor\": \"y6\", \"domain\": [0.640625, 0.74375]}, \"xaxis60\": {\"anchor\": \"y60\", \"domain\": [0.38437499999999997, 0.48749999999999993]}, \"xaxis61\": {\"anchor\": \"y61\", \"domain\": [0.5125, 0.615625]}, \"xaxis62\": {\"anchor\": \"y62\", \"domain\": [0.640625, 0.74375]}, \"xaxis63\": {\"anchor\": \"y63\", \"domain\": [0.76875, 0.8718750000000001]}, \"xaxis64\": {\"anchor\": \"y64\", \"domain\": [0.8968750000000001, 1.0]}, \"xaxis7\": {\"anchor\": \"y7\", \"domain\": [0.76875, 0.8718750000000001]}, \"xaxis8\": {\"anchor\": \"y8\", \"domain\": [0.8968750000000001, 1.0]}, \"xaxis9\": {\"anchor\": \"y9\", \"domain\": [0.0, 0.103125]}, \"yaxis\": {\"anchor\": \"x\", \"domain\": [0.9296875, 1.0], \"title\": {\"text\": \"Percentage\"}}, \"yaxis10\": {\"anchor\": \"x10\", \"domain\": [0.796875, 0.8671875]}, \"yaxis11\": {\"anchor\": \"x11\", \"domain\": [0.796875, 0.8671875]}, \"yaxis12\": {\"anchor\": \"x12\", \"domain\": [0.796875, 0.8671875]}, \"yaxis13\": {\"anchor\": \"x13\", \"domain\": [0.796875, 0.8671875]}, \"yaxis14\": {\"anchor\": \"x14\", \"domain\": [0.796875, 0.8671875]}, \"yaxis15\": {\"anchor\": \"x15\", \"domain\": [0.796875, 0.8671875]}, \"yaxis16\": {\"anchor\": \"x16\", \"domain\": [0.796875, 0.8671875]}, \"yaxis17\": {\"anchor\": \"x17\", \"domain\": [0.6640625, 0.734375], \"title\": {\"text\": \"Percentage\"}}, \"yaxis18\": {\"anchor\": \"x18\", \"domain\": [0.6640625, 0.734375]}, \"yaxis19\": {\"anchor\": \"x19\", \"domain\": [0.6640625, 0.734375]}, \"yaxis2\": {\"anchor\": \"x2\", \"domain\": [0.9296875, 1.0]}, \"yaxis20\": {\"anchor\": \"x20\", \"domain\": [0.6640625, 0.734375]}, \"yaxis21\": {\"anchor\": \"x21\", \"domain\": [0.6640625, 0.734375]}, \"yaxis22\": {\"anchor\": \"x22\", \"domain\": [0.6640625, 0.734375]}, \"yaxis23\": {\"anchor\": \"x23\", \"domain\": [0.6640625, 0.734375]}, \"yaxis24\": {\"anchor\": \"x24\", \"domain\": [0.6640625, 0.734375]}, \"yaxis25\": {\"anchor\": \"x25\", \"domain\": [0.53125, 0.6015625], \"title\": {\"text\": \"Percentage\"}}, \"yaxis26\": {\"anchor\": \"x26\", \"domain\": [0.53125, 0.6015625]}, \"yaxis27\": {\"anchor\": \"x27\", \"domain\": [0.53125, 0.6015625]}, \"yaxis28\": {\"anchor\": \"x28\", \"domain\": [0.53125, 0.6015625]}, \"yaxis29\": {\"anchor\": \"x29\", \"domain\": [0.53125, 0.6015625]}, \"yaxis3\": {\"anchor\": \"x3\", \"domain\": [0.9296875, 1.0]}, \"yaxis30\": {\"anchor\": \"x30\", \"domain\": [0.53125, 0.6015625]}, \"yaxis31\": {\"anchor\": \"x31\", \"domain\": [0.53125, 0.6015625]}, \"yaxis32\": {\"anchor\": \"x32\", \"domain\": [0.53125, 0.6015625]}, \"yaxis33\": {\"anchor\": \"x33\", \"domain\": [0.3984375, 0.46875]}, \"yaxis34\": {\"anchor\": \"x34\", \"domain\": [0.3984375, 0.46875]}, \"yaxis35\": {\"anchor\": \"x35\", \"domain\": [0.3984375, 0.46875]}, \"yaxis36\": {\"anchor\": \"x36\", \"domain\": [0.3984375, 0.46875]}, \"yaxis37\": {\"anchor\": \"x37\", \"domain\": [0.3984375, 0.46875]}, \"yaxis38\": {\"anchor\": \"x38\", \"domain\": [0.3984375, 0.46875]}, \"yaxis39\": {\"anchor\": \"x39\", \"domain\": [0.3984375, 0.46875]}, \"yaxis4\": {\"anchor\": \"x4\", \"domain\": [0.9296875, 1.0]}, \"yaxis40\": {\"anchor\": \"x40\", \"domain\": [0.3984375, 0.46875]}, \"yaxis41\": {\"anchor\": \"x41\", \"domain\": [0.265625, 0.3359375]}, \"yaxis42\": {\"anchor\": \"x42\", \"domain\": [0.265625, 0.3359375]}, \"yaxis43\": {\"anchor\": \"x43\", \"domain\": [0.265625, 0.3359375]}, \"yaxis44\": {\"anchor\": \"x44\", \"domain\": [0.265625, 0.3359375]}, \"yaxis45\": {\"anchor\": \"x45\", \"domain\": [0.265625, 0.3359375]}, \"yaxis46\": {\"anchor\": \"x46\", \"domain\": [0.265625, 0.3359375]}, \"yaxis47\": {\"anchor\": \"x47\", \"domain\": [0.265625, 0.3359375]}, \"yaxis48\": {\"anchor\": \"x48\", \"domain\": [0.265625, 0.3359375]}, \"yaxis49\": {\"anchor\": \"x49\", \"domain\": [0.1328125, 0.203125]}, \"yaxis5\": {\"anchor\": \"x5\", \"domain\": [0.9296875, 1.0]}, \"yaxis50\": {\"anchor\": \"x50\", \"domain\": [0.1328125, 0.203125]}, \"yaxis51\": {\"anchor\": \"x51\", \"domain\": [0.1328125, 0.203125]}, \"yaxis52\": {\"anchor\": \"x52\", \"domain\": [0.1328125, 0.203125]}, \"yaxis53\": {\"anchor\": \"x53\", \"domain\": [0.1328125, 0.203125]}, \"yaxis54\": {\"anchor\": \"x54\", \"domain\": [0.1328125, 0.203125]}, \"yaxis55\": {\"anchor\": \"x55\", \"domain\": [0.1328125, 0.203125]}, \"yaxis56\": {\"anchor\": \"x56\", \"domain\": [0.1328125, 0.203125]}, \"yaxis57\": {\"anchor\": \"x57\", \"domain\": [0.0, 0.0703125]}, \"yaxis58\": {\"anchor\": \"x58\", \"domain\": [0.0, 0.0703125]}, \"yaxis59\": {\"anchor\": \"x59\", \"domain\": [0.0, 0.0703125]}, \"yaxis6\": {\"anchor\": \"x6\", \"domain\": [0.9296875, 1.0]}, \"yaxis60\": {\"anchor\": \"x60\", \"domain\": [0.0, 0.0703125]}, \"yaxis61\": {\"anchor\": \"x61\", \"domain\": [0.0, 0.0703125]}, \"yaxis62\": {\"anchor\": \"x62\", \"domain\": [0.0, 0.0703125]}, \"yaxis63\": {\"anchor\": \"x63\", \"domain\": [0.0, 0.0703125]}, \"yaxis64\": {\"anchor\": \"x64\", \"domain\": [0.0, 0.0703125]}, \"yaxis7\": {\"anchor\": \"x7\", \"domain\": [0.9296875, 1.0]}, \"yaxis8\": {\"anchor\": \"x8\", \"domain\": [0.9296875, 1.0]}, \"yaxis9\": {\"anchor\": \"x9\", \"domain\": [0.796875, 0.8671875], \"title\": {\"text\": \"Percentage\"}}},                        {\"responsive\": true}                    ).then(function(){\n",
              "                            \n",
              "var gd = document.getElementById('917b3e28-3ee3-4a19-95aa-8a4529bc34f4');\n",
              "var x = new MutationObserver(function (mutations, observer) {{\n",
              "        var display = window.getComputedStyle(gd).display;\n",
              "        if (!display || display === 'none') {{\n",
              "            console.log([gd, 'removed!']);\n",
              "            Plotly.purge(gd);\n",
              "            observer.disconnect();\n",
              "        }}\n",
              "}});\n",
              "\n",
              "// Listen for the removal of the full notebook cells\n",
              "var notebookContainer = gd.closest('#notebook-container');\n",
              "if (notebookContainer) {{\n",
              "    x.observe(notebookContainer, {childList: true});\n",
              "}}\n",
              "\n",
              "// Listen for the clearing of the current output cell\n",
              "var outputEl = gd.closest('.output');\n",
              "if (outputEl) {{\n",
              "    x.observe(outputEl, {childList: true});\n",
              "}}\n",
              "\n",
              "                        })                };                            </script>        </div>\n",
              "</body>\n",
              "</html>"
            ]
          },
          "metadata": {
            "tags": []
          }
        }
      ]
    },
    {
      "cell_type": "code",
      "metadata": {
        "colab": {
          "base_uri": "https://localhost:8080/",
          "height": 78
        },
        "id": "oYlJ-ck9z6fS",
        "outputId": "c95cde0a-db2c-4104-86c8-f12e19319c80"
      },
      "source": [
        "space_cor.loc[(space_cor[\"Company Name\"].str.contains(\"Douglas\"))]"
      ],
      "execution_count": null,
      "outputs": [
        {
          "output_type": "execute_result",
          "data": {
            "text/html": [
              "<div>\n",
              "<style scoped>\n",
              "    .dataframe tbody tr th:only-of-type {\n",
              "        vertical-align: middle;\n",
              "    }\n",
              "\n",
              "    .dataframe tbody tr th {\n",
              "        vertical-align: top;\n",
              "    }\n",
              "\n",
              "    .dataframe thead th {\n",
              "        text-align: right;\n",
              "    }\n",
              "</style>\n",
              "<table border=\"1\" class=\"dataframe\">\n",
              "  <thead>\n",
              "    <tr style=\"text-align: right;\">\n",
              "      <th></th>\n",
              "      <th>Company Name</th>\n",
              "      <th>Country</th>\n",
              "      <th>Launcher</th>\n",
              "      <th>Shuttle</th>\n",
              "      <th>Rocket</th>\n",
              "      <th>Status Rocket</th>\n",
              "      <th>Year</th>\n",
              "      <th>Month</th>\n",
              "      <th>Status Mission</th>\n",
              "    </tr>\n",
              "  </thead>\n",
              "  <tbody>\n",
              "    <tr>\n",
              "      <th>1894</th>\n",
              "      <td>Douglas</td>\n",
              "      <td>USA</td>\n",
              "      <td>Delta 3920-8</td>\n",
              "      <td>Delta Star (USA 36)</td>\n",
              "      <td>NaN</td>\n",
              "      <td>StatusRetired</td>\n",
              "      <td>1989</td>\n",
              "      <td>3</td>\n",
              "      <td>Success</td>\n",
              "    </tr>\n",
              "  </tbody>\n",
              "</table>\n",
              "</div>"
            ],
            "text/plain": [
              "     Company Name Country       Launcher  ...  Year  Month Status Mission\n",
              "1894      Douglas     USA  Delta 3920-8   ...  1989      3        Success\n",
              "\n",
              "[1 rows x 9 columns]"
            ]
          },
          "metadata": {
            "tags": []
          },
          "execution_count": 96
        }
      ]
    },
    {
      "cell_type": "code",
      "metadata": {
        "colab": {
          "base_uri": "https://localhost:8080/"
        },
        "id": "btoOZlcq2BgS",
        "outputId": "21d2d933-b0fb-4dc4-b390-790ae14f8cdd"
      },
      "source": [
        "print(px.colors.qualitative.Set3)"
      ],
      "execution_count": null,
      "outputs": [
        {
          "output_type": "stream",
          "text": [
            "['rgb(141,211,199)', 'rgb(255,255,179)', 'rgb(190,186,218)', 'rgb(251,128,114)', 'rgb(128,177,211)', 'rgb(253,180,98)', 'rgb(179,222,105)', 'rgb(252,205,229)', 'rgb(217,217,217)', 'rgb(188,128,189)', 'rgb(204,235,197)', 'rgb(255,237,111)']\n"
          ],
          "name": "stdout"
        }
      ]
    },
    {
      "cell_type": "code",
      "metadata": {
        "colab": {
          "base_uri": "https://localhost:8080/",
          "height": 837
        },
        "id": "TvUxyGGsvGwR",
        "outputId": "79f80b80-286e-48c9-d8cc-fcff892ec588"
      },
      "source": [
        " CCMS = fig = px.bar(space_cor, x=\"Company Name\", y=\"Status Mission\", color=\"Status Mission\", title=\"Long-Form Input\", color_discrete_map={\"Success\":\"green\", \"Failure\":\"red\" , \"Partial Failure\":'rgb(200,120,98)' , \"Prelauch Failure\": 'rgb(255,255,255)'})\n",
        "      \n",
        "fig.update_layout(barmode='stack',bargap=0.3, bargroupgap =0.1,margin=dict(l=80, r=80, t=80, b=10), title = { 'text' : '<b>Status des missions pour chaque compagnies</b>', 'x' : 0.5}, font_family = 'Fira Code',title_font_color= '#cacaca',height = 800,width = 2000,template = 'plotly_dark')\n",
        "fig.show()"
      ],
      "execution_count": null,
      "outputs": [
        {
          "output_type": "display_data",
          "data": {
            "text/html": [
              "<html>\n",
              "<head><meta charset=\"utf-8\" /></head>\n",
              "<body>\n",
              "    <div>            <script src=\"https://cdnjs.cloudflare.com/ajax/libs/mathjax/2.7.5/MathJax.js?config=TeX-AMS-MML_SVG\"></script><script type=\"text/javascript\">if (window.MathJax) {MathJax.Hub.Config({SVG: {font: \"STIX-Web\"}});}</script>                <script type=\"text/javascript\">window.PlotlyConfig = {MathJaxConfig: 'local'};</script>\n",
              "        <script src=\"https://cdn.plot.ly/plotly-latest.min.js\"></script>                <div id=\"4f20b4be-fb8c-4e02-a69b-c03f1b4d2a79\" class=\"plotly-graph-div\" style=\"height:800px; width:2000px;\"></div>            <script type=\"text/javascript\">                                    window.PLOTLYENV=window.PLOTLYENV || {};                                    if (document.getElementById(\"4f20b4be-fb8c-4e02-a69b-c03f1b4d2a79\")) {                    Plotly.newPlot(                        \"4f20b4be-fb8c-4e02-a69b-c03f1b4d2a79\",                        [{\"alignmentgroup\": \"True\", \"hovertemplate\": \"Status Mission=%{y}<br>Company Name=%{x}<extra></extra>\", \"legendgroup\": \"Success\", \"marker\": {\"color\": \"green\"}, \"name\": \"Success\", \"offsetgroup\": \"Success\", \"orientation\": \"v\", \"showlegend\": true, \"textposition\": \"auto\", \"type\": \"bar\", \"x\": [\"SpaceX\", \"CASC\", \"SpaceX\", \"Roscosmos\", \"ULA\", \"CASC\", \"Roscosmos\", \"CASC\", \"SpaceX\", \"JAXA\", \"Northrop\", \"CASC\", \"IAI\", \"CASC\", \"CASC\", \"SpaceX\", \"CASC\", \"CASC\", \"SpaceX\", \"Rocket Lab\", \"CASC\", \"SpaceX\", \"CASC\", \"SpaceX\", \"CASC\", \"VKS RF\", \"MHI\", \"ULA\", \"ExPace\", \"CASC\", \"Roscosmos\", \"SpaceX\", \"IRGC\", \"Roscosmos\", \"ULA\", \"CASC\", \"Arianespace\", \"SpaceX\", \"VKS RF\", \"CASC\", \"SpaceX\", \"VKS RF\", \"CASC\", \"Arianespace\", \"SpaceX\", \"Northrop\", \"ULA\", \"MHI\", \"Arianespace\", \"Rocket Lab\", \"SpaceX\", \"SpaceX\", \"Arianespace\", \"ExPace\", \"CASC\", \"CASC\", \"SpaceX\", \"CASC\", \"VKS RF\", \"Roscosmos\", \"ULA\", \"CASC\", \"Arianespace\", \"SpaceX\", \"CASC\", \"Blue Origin\", \"ISRO\", \"VKS RF\", \"ExPace\", \"ExPace\", \"Roscosmos\", \"Rocket Lab\", \"SpaceX\", \"CASC\", \"ISRO\", \"Arianespace\", \"VKS RF\", \"CASC\", \"ExPace\", \"CASC\", \"ExPace\", \"SpaceX\", \"CASC\", \"CASC\", \"Northrop\", \"CASC\", \"Rocket Lab\", \"Northrop\", \"ILS\", \"CASC\", \"VKS RF\", \"Roscosmos\", \"CASC\", \"MHI\", \"CASC\", \"CASC\", \"CASC\", \"ExPace\", \"VKS RF\", \"ULA\", \"Roscosmos\", \"Rocket Lab\", \"CASC\", \"CASC\", \"ULA\", \"SpaceX\", \"Arianespace\", \"Roscosmos\", \"Roscosmos\", \"VKS RF\", \"CASC\", \"SpaceX\", \"i-Space\", \"ISRO\", \"Roscosmos\", \"Roscosmos\", \"VKS RF\", \"Roscosmos\", \"Rocket Lab\", \"SpaceX\", \"CASC\", \"Arianespace\", \"SpaceX\", \"CASC\", \"Roscosmos\", \"Roscosmos\", \"SpaceX\", \"ISRO\", \"CASC\", \"Rocket Lab\", \"SpaceX\", \"Blue Origin\", \"CASC\", \"CASC\", \"Northrop\", \"SpaceX\", \"Arianespace\", \"Roscosmos\", \"ISRO\", \"CASC\", \"Rocket Lab\", \"Arianespace\", \"ULA\", \"Roscosmos\", \"CASC\", \"SpaceX\", \"Arianespace\", \"SpaceX\", \"VKS RF\", \"Arianespace\", \"ISRO\", \"Blue Origin\", \"CASC\", \"ULA\", \"JAXA\", \"SpaceX\", \"CASC\", \"CASC\", \"Roscosmos\", \"CASC\", \"SpaceX\", \"CASC\", \"VKS RF\", \"Arianespace\", \"ISRO\", \"Rocket Lab\", \"CASC\", \"CASC\", \"SpaceX\", \"Arianespace\", \"SpaceX\", \"Roscosmos\", \"VKS RF\", \"ISRO\", \"Arianespace\", \"CASC\", \"CASC\", \"Northrop\", \"Roscosmos\", \"SpaceX\", \"ISRO\", \"Rocket Lab\", \"Arianespace\", \"VKS RF\", \"CASC\", \"MHI\", \"CASC\", \"Roscosmos\", \"CASC\", \"Arianespace\", \"ULA\", \"CASC\", \"CASC\", \"SpaceX\", \"ExPace\", \"Arianespace\", \"MHI\", \"CASC\", \"ISRO\", \"ULA\", \"SpaceX\", \"CASC\", \"CASC\", \"Arianespace\", \"ULA\", \"SpaceX\", \"CASC\", \"CASC\", \"SpaceX\", \"Arianespace\", \"SpaceX\", \"Blue Origin\", \"Roscosmos\", \"CASC\", \"CASC\", \"SpaceX\", \"CASC\", \"VKS RF\", \"MHI\", \"Roscosmos\", \"CASC\", \"SpaceX\", \"CASC\", \"SpaceX\", \"Northrop\", \"CASC\", \"SpaceX\", \"CASC\", \"ULA\", \"CASC\", \"Blue Origin\", \"CASC\", \"Eurockot\", \"SpaceX\", \"VKS RF\", \"ULA\", \"ISRO\", \"CASC\", \"Arianespace\", \"SpaceX\", \"CASC\", \"SpaceX\", \"CASC\", \"Roscosmos\", \"ISRO\", \"Roscosmos\", \"CASC\", \"Arianespace\", \"SpaceX\", \"ULA\", \"MHI\", \"SpaceX\", \"Roscosmos\", \"CASC\", \"SpaceX\", \"JAXA\", \"CASC\", \"Roscosmos\", \"SpaceX\", \"CASC\", \"Rocket Lab\", \"ULA\", \"CASC\", \"JAXA\", \"CASC\", \"ULA\", \"ISRO\", \"CASC\", \"CASC\", \"SpaceX\", \"Land Launch\", \"CASC\", \"CASC\", \"SpaceX\", \"MHI\", \"Roscosmos\", \"Blue Origin\", \"SpaceX\", \"Arianespace\", \"CASC\", \"CASC\", \"VKS RF\", \"CASC\", \"CASC\", \"ULA\", \"CASC\", \"Northrop\", \"Arianespace\", \"CASC\", \"Northrop\", \"SpaceX\", \"ULA\", \"Roscosmos\", \"Eurockot\", \"SpaceX\", \"MHI\", \"SpaceX\", \"CASC\", \"Arianespace\", \"CASC\", \"VKS RF\", \"ULA\", \"ILS\", \"SpaceX\", \"Northrop\", \"SpaceX\", \"VKS RF\", \"MHI\", \"ULA\", \"VKS RF\", \"SpaceX\", \"Roscosmos\", \"Arianespace\", \"Roscosmos\", \"SpaceX\", \"Arianespace\", \"SpaceX\", \"SpaceX\", \"VKS RF\", \"ISRO\", \"CASC\", \"Roscosmos\", \"ILS\", \"ISRO\", \"SpaceX\", \"Arianespace\", \"MHI\", \"VKS RF\", \"Arianespace\", \"SpaceX\", \"ISRO\", \"Arianespace\", \"SpaceX\", \"CASC\", \"Roscosmos\", \"ULA\", \"CASC\", \"SpaceX\", \"ULA\", \"MHI\", \"SpaceX\", \"Arianespace\", \"CASIC\", \"ULA\", \"Roscosmos\", \"SpaceX\", \"ISRO\", \"Arianespace\", \"Arianespace\", \"MHI\", \"ULA\", \"SpaceX\", \"ExPace\", \"CASC\", \"Arianespace\", \"CASC\", \"JAXA\", \"ULA\", \"Northrop\", \"CASC\", \"MHI\", \"ULA\", \"ISRO\", \"Arianespace\", \"CASC\", \"ULA\", \"Roscosmos\", \"Arianespace\", \"CASC\", \"ULA\", \"CASC\", \"CASC\", \"MHI\", \"Roscosmos\", \"Northrop\", \"CASC\", \"Blue Origin\", \"Arianespace\", \"ISRO\", \"Arianespace\", \"CASC\", \"IAI\", \"ULA\", \"ISRO\", \"Arianespace\", \"ULA\", \"CASC\", \"SpaceX\", \"CASC\", \"CASC\", \"ULA\", \"SpaceX\", \"Roscosmos\", \"Roscosmos\", \"CASC\", \"CASC\", \"ULA\", \"ISRO\", \"Blue Origin\", \"Arianespace\", \"SpaceX\", \"CASC\", \"ULA\", \"ILS\", \"VKS RF\", \"CASC\", \"VKS RF\", \"SpaceX\", \"Arianespace\", \"CASC\", \"SpaceX\", \"ISRO\", \"Roscosmos\", \"Arianespace\", \"SpaceX\", \"CASC\", \"Blue Origin\", \"Roscosmos\", \"CASC\", \"VKS RF\", \"ULA\", \"Roscosmos\", \"Roscosmos\", \"Roscosmos\", \"ISRO\", \"Arianespace\", \"SpaceX\", \"MHI\", \"Eurockot\", \"ULA\", \"KCST\", \"VKS RF\", \"ULA\", \"CASC\", \"ILS\", \"Arianespace\", \"Blue Origin\", \"ISRO\", \"SpaceX\", \"CASC\", \"SpaceX\", \"Arianespace\", \"ISRO\", \"Roscosmos\", \"ULA\", \"Arianespace\", \"MHI\", \"Blue Origin\", \"Arianespace\", \"ULA\", \"ULA\", \"ULA\", \"Arianespace\", \"ISRO\", \"CASC\", \"VKS RF\", \"CASC\", \"Arianespace\", \"ULA\", \"ISRO\", \"Arianespace\", \"MHI\", \"ULA\", \"Arianespace\", \"ULA\", \"ISRO\", \"Arianespace\", \"Arianespace\", \"ULA\", \"Blue Origin\", \"SpaceX\", \"Arianespace\", \"SpaceX\", \"VKS RF\", \"ISRO\", \"Arianespace\", \"MHI\", \"Kosmotras\", \"ULA\", \"ULA\", \"SpaceX\", \"SpaceX\", \"Arianespace\", \"ISA\", \"MHI\", \"ULA\", \"ULA\", \"SpaceX\", \"Khrunichev\", \"VKS RF\", \"Arianespace\", \"ISRO\", \"ULA\", \"Arianespace\", \"ULA\", \"MHI\", \"CASIC\", \"Kosmotras\", \"ULA\", \"Arianespace\", \"ISRO\", \"MHI\", \"SpaceX\", \"ULA\", \"Arianespace\", \"SpaceX\", \"ULA\", \"SpaceX\", \"ULA\", \"Arianespace\", \"ULA\", \"SpaceX\", \"Northrop\", \"Arianespace\", \"VKS RF\", \"VKS RF\", \"ULA\", \"ISRO\", \"Kosmotras\", \"Sea Launch\", \"MHI\", \"VKS RF\", \"ULA\", \"ULA\", \"Arianespace\", \"SpaceX\", \"ULA\", \"IAI\", \"ISRO\", \"Arianespace\", \"ULA\", \"Arianespace\", \"MHI\", \"ULA\", \"Arianespace\", \"ULA\", \"Northrop\", \"SpaceX\", \"ISRO\", \"VKS RF\", \"VKS RF\", \"Arianespace\", \"ULA\", \"SpaceX\", \"VKS RF\", \"Kosmotras\", \"Northrop\", \"ULA\", \"ISRO\", \"SpaceX\", \"CASIC\", \"ULA\", \"JAXA\", \"Northrop\", \"VKS RF\", \"Northrop\", \"Land Launch\", \"Arianespace\", \"ULA\", \"Kosmotras\", \"ULA\", \"MHI\", \"Arianespace\", \"ULA\", \"ISRO\", \"Northrop\", \"VKS RF\", \"Arianespace\", \"CASC\", \"Arianespace\", \"ULA\", \"ULA\", \"Arianespace\", \"Northrop\", \"ULA\", \"SpaceX\", \"ISRO\", \"ULA\", \"Arianespace\", \"ULA\", \"KARI\", \"MHI\", \"Arianespace\", \"KCST\", \"ULA\", \"Sea Launch\", \"Arianespace\", \"Arianespace\", \"Arianespace\", \"ULA\", \"Arianespace\", \"ULA\", \"ISRO\", \"ULA\", \"Sea Launch\", \"Arianespace\", \"VKS RF\", \"MHI\", \"Arianespace\", \"ULA\", \"ULA\", \"CASC\", \"Northrop\", \"Sea Launch\", \"SpaceX\", \"MHI\", \"Arianespace\", \"ULA\", \"ISRO\", \"ISRO\", \"ULA\", \"Arianespace\", \"ULA\", \"ESA\", \"ISA\", \"ULA\", \"Arianespace\", \"MHI\", \"ULA\", \"Roscosmos\", \"CASC\", \"ULA\", \"Arianespace\", \"ISRO\", \"Land Launch\", \"CASC\", \"Northrop\", \"Sea Launch\", \"MHI\", \"Arianespace\", \"MHI\", \"ULA\", \"Kosmotras\", \"Arianespace\", \"ULA\", \"Roscosmos\", \"ULA\", \"ISRO\", \"NASA\", \"Northrop\", \"ISA\", \"ULA\", \"Arianespace\", \"NASA\", \"ULA\", \"Arianespace\", \"ISRO\", \"ULA\", \"ULA\", \"ULA\", \"NASA\", \"Arianespace\", \"Northrop\", \"MHI\", \"ULA\", \"Roscosmos\", \"Arianespace\", \"SpaceX\", \"Arianespace\", \"ULA\", \"Northrop\", \"ULA\", \"Arianespace\", \"VKS RF\", \"Northrop\", \"ULA\", \"VKS RF\", \"ULA\", \"Arianespace\", \"ISRO\", \"Arianespace\", \"IAI\", \"Kosmotras\", \"Kosmotras\", \"SpaceX\", \"Eurockot\", \"ULA\", \"Arianespace\", \"NASA\", \"MHI\", \"Roscosmos\", \"VKS RF\", \"ULA\", \"Kosmotras\", \"NASA\", \"Roscosmos\", \"ULA\", \"ULA\", \"NASA\", \"Roscosmos\", \"Arianespace\", \"ULA\", \"ULA\", \"Land Launch\", \"MHI\", \"ULA\", \"NASA\", \"Eurockot\", \"Arianespace\", \"NASA\", \"ULA\", \"ULA\", \"Arianespace\", \"ULA\", \"ISRO\", \"MHI\", \"ULA\", \"NASA\", \"Arianespace\", \"ULA\", \"Kosmotras\", \"VKS RF\", \"NASA\", \"SpaceX\", \"VKS RF\", \"Arianespace\", \"ULA\", \"Land Launch\", \"ULA\", \"Northrop\", \"Arianespace\", \"NASA\", \"ULA\", \"Sea Launch\", \"ISRO\", \"ULA\", \"ULA\", \"Eurockot\", \"NASA\", \"ULA\", \"Land Launch\", \"Arianespace\", \"ULA\", \"ISA\", \"VKS RF\", \"MHI\", \"ULA\", \"Arianespace\", \"VKS RF\", \"NASA\", \"CASC\", \"CASC\", \"CASC\", \"ULA\", \"CASC\", \"ISRO\", \"Northrop\", \"Kosmotras\", \"SpaceX\", \"CASC\", \"Sea Launch\", \"ULA\", \"CASC\", \"Kosmotras\", \"Arianespace\", \"VKS RF\", \"Sea Launch\", \"Arianespace\", \"ULA\", \"VKS RF\", \"Arianespace\", \"ULA\", \"CASC\", \"NASA\", \"CASC\", \"VKS RF\", \"Sea Launch\", \"ISRO\", \"CASC\", \"Arianespace\", \"Northrop\", \"ULA\", \"VKS RF\", \"Sea Launch\", \"ULA\", \"ULA\", \"NASA\", \"Arianespace\", \"MHI\", \"NASA\", \"ISRO\", \"Sea Launch\", \"Arianespace\", \"ULA\", \"ULA\", \"ULA\", \"Arianespace\", \"CASC\", \"ULA\", \"VKS RF\", \"CASC\", \"VKS RF\", \"NASA\", \"ULA\", \"ULA\", \"Arianespace\", \"ULA\", \"CASC\", \"ULA\", \"MHI\", \"VKS RF\", \"Arianespace\", \"NASA\", \"ULA\", \"CASC\", \"VKS RF\", \"VKS RF\", \"Kosmotras\", \"Kosmotras\", \"IAI\", \"NASA\", \"ULA\", \"CASC\", \"CASC\", \"CASC\", \"Arianespace\", \"Northrop\", \"Northrop\", \"ISRO\", \"Kosmotras\", \"CASC\", \"CASC\", \"Arianespace\", \"ULA\", \"MHI\", \"ULA\", \"CASC\", \"ISRO\", \"VKS RF\", \"MHI\", \"Northrop\", \"ULA\", \"NASA\", \"Arianespace\", \"CASC\", \"Boeing\", \"Boeing\", \"Sea Launch\", \"CASC\", \"Boeing\", \"CASC\", \"Arianespace\", \"Boeing\", \"ISAS\", \"CASC\", \"MHI\", \"NASA\", \"CASC\", \"Sea Launch\", \"Arianespace\", \"Eurockot\", \"VKS RF\", \"Kosmotras\", \"NASA\", \"Boeing\", \"VKS RF\", \"Boeing\", \"Sea Launch\", \"Arianespace\", \"SRC\", \"Boeing\", \"Boeing\", \"CASC\", \"MITT\", \"ILS\", \"Northrop\", \"Sea Launch\", \"Northrop\", \"Arianespace\", \"ISAS\", \"MHI\", \"Sea Launch\", \"MHI\", \"ILS\", \"Arianespace\", \"VKS RF\", \"Arianespace\", \"Sea Launch\", \"VKS RF\", \"Lockheed\", \"CASC\", \"Arianespace\", \"Boeing\", \"Northrop\", \"CASC\", \"VKS RF\", \"Kosmotras\", \"ILS\", \"Arianespace\", \"CASC\", \"NASA\", \"ISAS\", \"CASC\", \"Sea Launch\", \"Boeing\", \"ISRO\", \"Lockheed\", \"Sea Launch\", \"Northrop\", \"CASC\", \"Northrop\", \"ILS\", \"Sea Launch\", \"MHI\", \"Arianespace\", \"Lockheed\", \"VKS RF\", \"Boeing\", \"Arianespace\", \"ILS\", \"Boeing\", \"CASC\", \"VKS RF\", \"Boeing\", \"CASC\", \"CASC\", \"CASC\", \"VKS RF\", \"ISRO\", \"CASC\", \"Lockheed\", \"CASC\", \"Boeing\", \"CASC\", \"VKS RF\", \"Arianespace\", \"Boeing\", \"Kosmotras\", \"Sea Launch\", \"Boeing\", \"VKS RF\", \"VKS RF\", \"Northrop\", \"Sea Launch\", \"Boeing\", \"ILS\", \"CASC\", \"ILS\", \"Boeing\", \"ILS\", \"Arianespace\", \"VKS RF\", \"Lockheed\", \"ILS\", \"Sea Launch\", \"CASC\", \"Boeing\", \"Lockheed\", \"VKS RF\", \"Lockheed\", \"CASC\", \"CASC\", \"Eurockot\", \"CASC\", \"Lockheed\", \"ISRO\", \"CASC\", \"Sea Launch\", \"Arianespace\", \"VKS RF\", \"Lockheed\", \"Boeing\", \"Boeing\", \"VKS RF\", \"Northrop\", \"Sea Launch\", \"ILS\", \"Boeing\", \"Eurockot\", \"Northrop\", \"VKS RF\", \"Arianespace\", \"Boeing\", \"Sea Launch\", \"VKS RF\", \"Starsem\", \"CASC\", \"ILS\", \"ISAS\", \"ISRO\", \"Northrop\", \"ILS\", \"Arianespace\", \"Lockheed\", \"VKS RF\", \"Boeing\", \"MHI\", \"Boeing\", \"Arianespace\", \"Boeing\", \"Northrop\", \"Boeing\", \"Lockheed\", \"CASC\", \"VKS RF\", \"Kosmotras\", \"Arianespace\", \"MHI\", \"Lockheed\", \"VKS RF\", \"NASA\", \"Boeing\", \"CASC\", \"NASA\", \"VKS RF\", \"ILS\", \"ISRO\", \"MHI\", \"Arianespace\", \"Arianespace\", \"ILS\", \"VKS RF\", \"Arianespace\", \"Boeing\", \"Arianespace\", \"Lockheed\", \"Eurockot\", \"Sea Launch\", \"NASA\", \"Arianespace\", \"IAI\", \"VKS RF\", \"CASC\", \"Boeing\", \"Arianespace\", \"NASA\", \"VKS RF\", \"Arianespace\", \"CASC\", \"Eurockot\", \"Lockheed\", \"NASA\", \"Arianespace\", \"Arianespace\", \"ILS\", \"Boeing\", \"Northrop\", \"MHI\", \"Arianespace\", \"Lockheed\", \"VKS RF\", \"VKS RF\", \"VKS RF\", \"Boeing\", \"NASA\", \"Arianespace\", \"VKS RF\", \"ISRO\", \"Boeing\", \"Lockheed\", \"Lockheed\", \"Lockheed\", \"Arianespace\", \"Lockheed\", \"Arianespace\", \"MHI\", \"NASA\", \"Boeing\", \"Lockheed\", \"Lockheed\", \"VKS RF\", \"NASA\", \"Boeing\", \"ILS\", \"Arianespace\", \"VKS RF\", \"Boeing\", \"Sea Launch\", \"NASA\", \"Boeing\", \"Sea Launch\", \"Arianespace\", \"NASA\", \"Lockheed\", \"MITT\", \"NASA\", \"Arianespace\", \"Boeing\", \"Arianespace\", \"CASC\", \"CASC\", \"Arianespace\", \"Lockheed\", \"MITT\", \"NASA\", \"Arianespace\", \"Boeing\", \"Arianespace\", \"Boeing\", \"CASC\", \"Arianespace\", \"Sea Launch\", \"Lockheed\", \"NASA\", \"Northrop\", \"Arianespace\", \"Kosmotras\", \"VKS RF\", \"Lockheed\", \"Arianespace\", \"NASA\", \"Arianespace\", \"Boeing\", \"Lockheed\", \"Arianespace\", \"Sea Launch\", \"Northrop\", \"Boeing\", \"VKS RF\", \"ILS\", \"Lockheed\", \"VKS RF\", \"CASC\", \"Northrop\", \"ILS\", \"NASA\", \"Eurockot\", \"Boeing\", \"Lockheed\", \"Lockheed\", \"Arianespace\", \"Boeing\", \"Arianespace\", \"Northrop\", \"VKS RF\", \"Arianespace\", \"NASA\", \"Boeing\", \"ILS\", \"Northrop\", \"CASC\", \"Arianespace\", \"Lockheed\", \"Northrop\", \"VKS RF\", \"VKS RF\", \"Arianespace\", \"NASA\", \"Lockheed\", \"Lockheed\", \"Arianespace\", \"Northrop\", \"Arianespace\", \"Lockheed\", \"CASC\", \"Arianespace\", \"Arianespace\", \"CASC\", \"Sea Launch\", \"Arianespace\", \"Lockheed\", \"ILS\", \"Arianespace\", \"VKS RF\", \"Boeing\", \"Arianespace\", \"Boeing\", \"Boeing\", \"NASA\", \"VKS RF\", \"Boeing\", \"VKS RF\", \"Boeing\", \"Lockheed\", \"CASC\", \"Boeing\", \"ISRO\", \"NASA\", \"Lockheed\", \"Northrop\", \"CASC\", \"VKS RF\", \"Kosmotras\", \"Boeing\", \"ILS\", \"Arianespace\", \"Sea Launch\", \"Northrop\", \"Arianespace\", \"Boeing\", \"ILS\", \"Boeing\", \"Lockheed\", \"Boeing\", \"VKS RF\", \"Arianespace\", \"CASC\", \"Boeing\", \"VKS RF\", \"Northrop\", \"Arianespace\", \"NASA\", \"Boeing\", \"Boeing\", \"NASA\", \"Arianespace\", \"Northrop\", \"ESA\", \"Lockheed\", \"ILS\", \"Arianespace\", \"Northrop\", \"VKS RF\", \"Northrop\", \"Arianespace\", \"Boeing\", \"Arianespace\", \"Boeing\", \"CASC\", \"RVSN USSR\", \"Northrop\", \"VKS RF\", \"VKS RF\", \"SRC\", \"ISAS\", \"VKS RF\", \"ILS\", \"CASC\", \"Boeing\", \"NASA\", \"CASC\", \"Boeing\", \"Lockheed\", \"Lockheed\", \"VKS RF\", \"CASC\", \"Arianespace\", \"Boeing\", \"NASA\", \"Northrop\", \"Boeing\", \"CASC\", \"Arianespace\", \"Lockheed\", \"ILS\", \"Arianespace\", \"Northrop\", \"Boeing\", \"Boeing\", \"Northrop\", \"Arianespace\", \"Lockheed\", \"NASA\", \"Boeing\", \"Lockheed\", \"MITT\", \"Northrop\", \"Arianespace\", \"Boeing\", \"Arianespace\", \"VKS RF\", \"ILS\", \"CASC\", \"Arianespace\", \"MHI\", \"NASA\", \"Boeing\", \"Lockheed\", \"Boeing\", \"Lockheed\", \"Lockheed\", \"Northrop\", \"CASC\", \"Lockheed\", \"ILS\", \"Boeing\", \"NASA\", \"VKS RF\", \"Arianespace\", \"VKS RF\", \"ILS\", \"Arianespace\", \"CASC\", \"Northrop\", \"Boeing\", \"Lockheed\", \"Boeing\", \"CASC\", \"Arianespace\", \"NASA\", \"Northrop\", \"ILS\", \"Boeing\", \"Boeing\", \"NASA\", \"Arianespace\", \"CASC\", \"Arianespace\", \"Boeing\", \"NASA\", \"VKS RF\", \"CASC\", \"Boeing\", \"Lockheed\", \"Northrop\", \"VKS RF\", \"Arianespace\", \"NASA\", \"Lockheed\", \"ILS\", \"MITT\", \"Arianespace\", \"Lockheed\", \"ILS\", \"VKS RF\", \"ISAS\", \"NASA\", \"Arianespace\", \"NASA\", \"Lockheed\", \"VKS RF\", \"ILS\", \"VKS RF\", \"NASA\", \"Boeing\", \"ILS\", \"Arianespace\", \"Boeing\", \"VKS RF\", \"CASC\", \"NASA\", \"Boeing\", \"Arianespace\", \"ILS\", \"VKS RF\", \"VKS RF\", \"RVSN USSR\", \"Northrop\", \"MHI\", \"VKS RF\", \"Arianespace\", \"Lockheed\", \"Boeing\", \"Arianespace\", \"CASC\", \"Lockheed\", \"Northrop\", \"NASA\", \"Arianespace\", \"Boeing\", \"NASA\", \"Northrop\", \"Arianespace\", \"Lockheed\", \"Lockheed\", \"Lockheed\", \"VKS RF\", \"Boeing\", \"Arianespace\", \"ILS\", \"Boeing\", \"NASA\", \"ISRO\", \"Arianespace\", \"Northrop\", \"Boeing\", \"NASA\", \"VKS RF\", \"Boeing\", \"Arianespace\", \"ILS\", \"VKS RF\", \"Boeing\", \"Arianespace\", \"NASA\", \"Boeing\", \"CASC\", \"VKS RF\", \"VKS RF\", \"Lockheed\", \"Arianespace\", \"Lockheed\", \"Lockheed\", \"CASC\", \"Arianespace\", \"NASA\", \"Lockheed\", \"Boeing\", \"VKS RF\", \"Lockheed\", \"NASA\", \"Arianespace\", \"Arianespace\", \"NASA\", \"VKS RF\", \"Arianespace\", \"ILS\", \"VKS RF\", \"Arianespace\", \"RVSN USSR\", \"Lockheed\", \"NASA\", \"Lockheed\", \"Arianespace\", \"VKS RF\", \"NASA\", \"Arianespace\", \"VKS RF\", \"Lockheed\", \"VKS RF\", \"Lockheed\", \"Arianespace\", \"Lockheed\", \"Arianespace\", \"ILS\", \"IAI\", \"Northrop\", \"Arianespace\", \"General Dynamics\", \"ILS\", \"VKS RF\", \"MHI\", \"VKS RF\", \"NASA\", \"NASA\", \"Lockheed\", \"VKS RF\", \"ILS\", \"General Dynamics\", \"VKS RF\", \"VKS RF\", \"Martin Marietta\", \"VKS RF\", \"VKS RF\", \"Lockheed\", \"VKS RF\", \"VKS RF\", \"VKS RF\", \"NASA\", \"VKS RF\", \"Boeing\", \"Arianespace\", \"ISRO\", \"VKS RF\", \"Arianespace\", \"Lockheed\", \"NASA\", \"VKS RF\", \"NASA\", \"Arianespace\", \"Northrop\", \"General Dynamics\", \"MHI\", \"CASC\", \"Martin Marietta\", \"VKS RF\", \"VKS RF\", \"Arianespace\", \"VKS RF\", \"Lockheed\", \"VKS RF\", \"CASC\", \"VKS RF\", \"Arianespace\", \"NASA\", \"CASC\", \"Lockheed\", \"Arianespace\", \"ISRO\", \"Martin Marietta\", \"VKS RF\", \"VKS RF\", \"Lockheed\", \"NASA\", \"Boeing\", \"Northrop\", \"Boeing\", \"NASA\", \"VKS RF\", \"VKS RF\", \"CASC\", \"Martin Marietta\", \"MHI\", \"NASA\", \"Martin Marietta\", \"VKS RF\", \"VKS RF\", \"Arianespace\", \"General Dynamics\", \"Boeing\", \"NASA\", \"General Dynamics\", \"Arianespace\", \"VKS RF\", \"Boeing\", \"VKS RF\", \"Arianespace\", \"NASA\", \"CASC\", \"Arianespace\", \"VKS RF\", \"VKS RF\", \"NASA\", \"General Dynamics\", \"VKS RF\", \"Boeing\", \"VKS RF\", \"General Dynamics\", \"VKS RF\", \"Arianespace\", \"General Dynamics\", \"VKS RF\", \"Boeing\", \"Arianespace\", \"VKS RF\", \"NASA\", \"VKS RF\", \"VKS RF\", \"Boeing\", \"Arianespace\", \"VKS RF\", \"VKS RF\", \"NASA\", \"Northrop\", \"VKS RF\", \"VKS RF\", \"VKS RF\", \"NASA\", \"VKS RF\", \"VKS RF\", \"VKS RF\", \"Boeing\", \"VKS RF\", \"MITT\", \"VKS RF\", \"ISAS\", \"Northrop\", \"VKS RF\", \"Boeing\", \"VKS RF\", \"NASA\", \"VKS RF\", \"VKS RF\", \"VKS RF\", \"VKS RF\", \"VKS RF\", \"Boeing\", \"NASA\", \"VKS RF\", \"Arianespace\", \"Martin Marietta\", \"VKS RF\", \"VKS RF\", \"Boeing\", \"VKS RF\", \"VKS RF\", \"VKS RF\", \"Arianespace\", \"NASA\", \"VKS RF\", \"VKS RF\", \"Boeing\", \"CASC\", \"Martin Marietta\", \"NASA\", \"Arianespace\", \"Boeing\", \"CASC\", \"VKS RF\", \"Arianespace\", \"CASC\", \"VKS RF\", \"NASA\", \"Boeing\", \"Boeing\", \"RVSN USSR\", \"Arianespace\", \"RVSN USSR\", \"Boeing\", \"General Dynamics\", \"RVSN USSR\", \"NASA\", \"General Dynamics\", \"Boeing\", \"RVSN USSR\", \"Boeing\", \"NASA\", \"Martin Marietta\", \"Arianespace\", \"RVSN USSR\", \"Boeing\", \"NASA\", \"Boeing\", \"General Dynamics\", \"RVSN USSR\", \"VKS RF\", \"Arianespace\", \"RVSN USSR\", \"MHI\", \"General Dynamics\", \"RVSN USSR\", \"NASA\", \"RVSN USSR\", \"Yuzhmash\", \"Arianespace\", \"General Dynamics\", \"General Dynamics\", \"RVSN USSR\", \"NASA\", \"RVSN USSR\", \"Martin Marietta\", \"Arianespace\", \"RVSN USSR\", \"RVSN USSR\", \"Arianespace\", \"RVSN USSR\", \"NASA\", \"ISAS\", \"RVSN USSR\", \"MHI\", \"MHI\", \"RVSN USSR\", \"RVSN USSR\", \"Arianespace\", \"NASA\", \"RVSN USSR\", \"Arianespace\", \"Boeing\", \"RVSN USSR\", \"RVSN USSR\", \"RVSN USSR\", \"NASA\", \"RVSN USSR\", \"Boeing\", \"RVSN USSR\", \"General Dynamics\", \"NASA\", \"RVSN USSR\", \"RVSN USSR\", \"Boeing\", \"NASA\", \"Arianespace\", \"RVSN USSR\", \"RVSN USSR\", \"RVSN USSR\", \"Boeing\", \"Martin Marietta\", \"Arianespace\", \"RVSN USSR\", \"RVSN USSR\", \"RVSN USSR\", \"RVSN USSR\", \"RVSN USSR\", \"RVSN USSR\", \"Arianespace\", \"Boeing\", \"RVSN USSR\", \"RVSN USSR\", \"RVSN USSR\", \"NASA\", \"General Dynamics\", \"RVSN USSR\", \"Boeing\", \"RVSN USSR\", \"RVSN USSR\", \"Arianespace\", \"RVSN USSR\", \"NASA\", \"RVSN USSR\", \"Martin Marietta\", \"Boeing\", \"Boeing\", \"Arianespace\", \"NASA\", \"CASC\", \"Boeing\", \"RVSN USSR\", \"RVSN USSR\", \"RVSN USSR\", \"CASC\", \"Arianespace\", \"RVSN USSR\", \"MHI\", \"MHI\", \"RVSN USSR\", \"RVSN USSR\", \"RVSN USSR\", \"RVSN USSR\", \"RVSN USSR\", \"General Dynamics\", \"RVSN USSR\", \"Arianespace\", \"CASC\", \"RVSN USSR\", \"Martin Marietta\", \"RVSN USSR\", \"Boeing\", \"Martin Marietta\", \"Boeing\", \"RVSN USSR\", \"RVSN USSR\", \"RVSN USSR\", \"RVSN USSR\", \"NASA\", \"RVSN USSR\", \"Boeing\", \"Lockheed\", \"CASC\", \"RVSN USSR\", \"Northrop\", \"IAI\", \"RVSN USSR\", \"Boeing\", \"RVSN USSR\", \"RVSN USSR\", \"NASA\", \"RVSN USSR\", \"RVSN USSR\", \"Boeing\", \"MHI\", \"MHI\", \"RVSN USSR\", \"CASC\", \"Boeing\", \"RVSN USSR\", \"Boeing\", \"ISAS\", \"RVSN USSR\", \"Arianespace\", \"RVSN USSR\", \"NASA\", \"Martin Marietta\", \"RVSN USSR\", \"Boeing\", \"RVSN USSR\", \"RVSN USSR\", \"RVSN USSR\", \"NASA\", \"Arianespace\", \"RVSN USSR\", \"NASA\", \"RVSN USSR\", \"RVSN USSR\", \"RVSN USSR\", \"General Dynamics\", \"RVSN USSR\", \"Martin Marietta\", \"MHI\", \"Martin Marietta\", \"RVSN USSR\", \"Boeing\", \"Boeing\", \"Arianespace\", \"NASA\", \"RVSN USSR\", \"RVSN USSR\", \"Arianespace\", \"RVSN USSR\", \"Martin Marietta\", \"RVSN USSR\", \"Boeing\", \"RVSN USSR\", \"RVSN USSR\", \"Arianespace\", \"Martin Marietta\", \"NASA\", \"RVSN USSR\", \"Arianespace\", \"Douglas\", \"RVSN USSR\", \"NASA\", \"Arianespace\", \"RVSN USSR\", \"RVSN USSR\", \"RVSN USSR\", \"ISAS\", \"RVSN USSR\", \"RVSN USSR\", \"Boeing\", \"RVSN USSR\", \"RVSN USSR\", \"Arianespace\", \"RVSN USSR\", \"RVSN USSR\", \"RVSN USSR\", \"CASC\", \"Arianespace\", \"NASA\", \"RVSN USSR\", \"RVSN USSR\", \"RVSN USSR\", \"Martin Marietta\", \"Arianespace\", \"RVSN USSR\", \"RVSN USSR\", \"RVSN USSR\", \"NASA\", \"RVSN USSR\", \"General Dynamics\", \"IAI\", \"MHI\", \"Arianespace\", \"CASC\", \"Martin Marietta\", \"RVSN USSR\", \"CASC\", \"RVSN USSR\", \"RVSN USSR\", \"Arianespace\", \"RVSN USSR\", \"RVSN USSR\", \"RVSN USSR\", \"RVSN USSR\", \"RVSN USSR\", \"ESA\", \"RVSN USSR\", \"RVSN USSR\", \"RVSN USSR\", \"RVSN USSR\", \"RVSN USSR\", \"Arianespace\", \"RVSN USSR\", \"RVSN USSR\", \"RVSN USSR\", \"ASI\", \"RVSN USSR\", \"RVSN USSR\", \"RVSN USSR\", \"RVSN USSR\", \"RVSN USSR\", \"Arianespace\", \"RVSN USSR\", \"RVSN USSR\", \"CASC\", \"RVSN USSR\", \"MHI\", \"General Dynamics\", \"RVSN USSR\", \"RVSN USSR\", \"RVSN USSR\", \"RVSN USSR\", \"RVSN USSR\", \"RVSN USSR\", \"RVSN USSR\", \"RVSN USSR\", \"Martin Marietta\", \"Arianespace\", \"Martin Marietta\", \"RVSN USSR\", \"RVSN USSR\", \"RVSN USSR\", \"Arianespace\", \"CASC\", \"RVSN USSR\", \"RVSN USSR\", \"RVSN USSR\", \"MHI\", \"RVSN USSR\", \"CASC\", \"RVSN USSR\", \"RVSN USSR\", \"RVSN USSR\", \"RVSN USSR\", \"RVSN USSR\", \"RVSN USSR\", \"RVSN USSR\", \"General Dynamics\", \"RVSN USSR\", \"RVSN USSR\", \"RVSN USSR\", \"RVSN USSR\", \"RVSN USSR\", \"RVSN USSR\", \"General Dynamics\", \"RVSN USSR\", \"RVSN USSR\", \"RVSN USSR\", \"RVSN USSR\", \"RVSN USSR\", \"RVSN USSR\", \"RVSN USSR\", \"MHI\", \"RVSN USSR\", \"RVSN USSR\", \"Martin Marietta\", \"ISAS\", \"RVSN USSR\", \"RVSN USSR\", \"RVSN USSR\", \"RVSN USSR\", \"RVSN USSR\", \"RVSN USSR\", \"RVSN USSR\", \"RVSN USSR\", \"RVSN USSR\", \"RVSN USSR\", \"RVSN USSR\", \"RVSN USSR\", \"General Dynamics\", \"RVSN USSR\", \"RVSN USSR\", \"RVSN USSR\", \"RVSN USSR\", \"RVSN USSR\", \"RVSN USSR\", \"RVSN USSR\", \"RVSN USSR\", \"RVSN USSR\", \"RVSN USSR\", \"CASC\", \"RVSN USSR\", \"General Dynamics\", \"RVSN USSR\", \"RVSN USSR\", \"RVSN USSR\", \"RVSN USSR\", \"RVSN USSR\", \"MHI\", \"RVSN USSR\", \"RVSN USSR\", \"RVSN USSR\", \"RVSN USSR\", \"RVSN USSR\", \"RVSN USSR\", \"RVSN USSR\", \"RVSN USSR\", \"RVSN USSR\", \"RVSN USSR\", \"RVSN USSR\", \"RVSN USSR\", \"RVSN USSR\", \"RVSN USSR\", \"Arianespace\", \"RVSN USSR\", \"RVSN USSR\", \"RVSN USSR\", \"Arianespace\", \"RVSN USSR\", \"MHI\", \"RVSN USSR\", \"General Dynamics\", \"RVSN USSR\", \"CASC\", \"RVSN USSR\", \"RVSN USSR\", \"RVSN USSR\", \"NASA\", \"RVSN USSR\", \"RVSN USSR\", \"RVSN USSR\", \"RVSN USSR\", \"RVSN USSR\", \"RVSN USSR\", \"NASA\", \"RVSN USSR\", \"RVSN USSR\", \"NASA\", \"RVSN USSR\", \"RVSN USSR\", \"RVSN USSR\", \"RVSN USSR\", \"RVSN USSR\", \"CASC\", \"RVSN USSR\", \"General Dynamics\", \"NASA\", \"RVSN USSR\", \"RVSN USSR\", \"RVSN USSR\", \"RVSN USSR\", \"General Dynamics\", \"RVSN USSR\", \"RVSN USSR\", \"RVSN USSR\", \"NASA\", \"RVSN USSR\", \"RVSN USSR\", \"ISAS\", \"RVSN USSR\", \"RVSN USSR\", \"NASA\", \"RVSN USSR\", \"RVSN USSR\", \"Arianespace\", \"General Dynamics\", \"RVSN USSR\", \"RVSN USSR\", \"NASA\", \"RVSN USSR\", \"RVSN USSR\", \"RVSN USSR\", \"RVSN USSR\", \"RVSN USSR\", \"Arianespace\", \"NASA\", \"RVSN USSR\", \"RVSN USSR\", \"RVSN USSR\", \"NASA\", \"General Dynamics\", \"RVSN USSR\", \"RVSN USSR\", \"General Dynamics\", \"RVSN USSR\", \"RVSN USSR\", \"Arianespace\", \"Martin Marietta\", \"ISAS\", \"RVSN USSR\", \"RVSN USSR\", \"NASA\", \"RVSN USSR\", \"RVSN USSR\", \"RVSN USSR\", \"RVSN USSR\", \"RVSN USSR\", \"Martin Marietta\", \"RVSN USSR\", \"RVSN USSR\", \"RVSN USSR\", \"General Dynamics\", \"Martin Marietta\", \"RVSN USSR\", \"Arianespace\", \"NASA\", \"RVSN USSR\", \"RVSN USSR\", \"RVSN USSR\", \"NASA\", \"RVSN USSR\", \"RVSN USSR\", \"RVSN USSR\", \"RVSN USSR\", \"CASC\", \"General Dynamics\", \"RVSN USSR\", \"NASA\", \"RVSN USSR\", \"Martin Marietta\", \"RVSN USSR\", \"RVSN USSR\", \"RVSN USSR\", \"RVSN USSR\", \"Arianespace\", \"MHI\", \"RVSN USSR\", \"RVSN USSR\", \"RVSN USSR\", \"RVSN USSR\", \"RVSN USSR\", \"Martin Marietta\", \"RVSN USSR\", \"General Dynamics\", \"RVSN USSR\", \"RVSN USSR\", \"RVSN USSR\", \"RVSN USSR\", \"RVSN USSR\", \"Arianespace\", \"RVSN USSR\", \"RVSN USSR\", \"RVSN USSR\", \"US Air Force\", \"Martin Marietta\", \"CASC\", \"NASA\", \"RVSN USSR\", \"RVSN USSR\", \"RVSN USSR\", \"RVSN USSR\", \"ESA\", \"RVSN USSR\", \"ISAS\", \"RVSN USSR\", \"General Dynamics\", \"NASA\", \"RVSN USSR\", \"Martin Marietta\", \"RVSN USSR\", \"MHI\", \"RVSN USSR\", \"RVSN USSR\", \"RVSN USSR\", \"RVSN USSR\", \"RVSN USSR\", \"RVSN USSR\", \"RVSN USSR\", \"NASA\", \"RVSN USSR\", \"RVSN USSR\", \"General Dynamics\", \"RVSN USSR\", \"RVSN USSR\", \"RVSN USSR\", \"RVSN USSR\", \"ESA\", \"RVSN USSR\", \"RVSN USSR\", \"RVSN USSR\", \"RVSN USSR\", \"NASA\", \"RVSN USSR\", \"RVSN USSR\", \"CASC\", \"MHI\", \"RVSN USSR\", \"Martin Marietta\", \"RVSN USSR\", \"RVSN USSR\", \"General Dynamics\", \"RVSN USSR\", \"RVSN USSR\", \"RVSN USSR\", \"RVSN USSR\", \"Martin Marietta\", \"NASA\", \"ESA\", \"General Dynamics\", \"RVSN USSR\", \"RVSN USSR\", \"General Dynamics\", \"RVSN USSR\", \"RVSN USSR\", \"RVSN USSR\", \"RVSN USSR\", \"RVSN USSR\", \"RVSN USSR\", \"RVSN USSR\", \"US Air Force\", \"ISRO\", \"RVSN USSR\", \"RVSN USSR\", \"NASA\", \"RVSN USSR\", \"RVSN USSR\", \"General Dynamics\", \"RVSN USSR\", \"RVSN USSR\", \"RVSN USSR\", \"RVSN USSR\", \"ISAS\", \"RVSN USSR\", \"General Dynamics\", \"MHI\", \"RVSN USSR\", \"RVSN USSR\", \"RVSN USSR\", \"RVSN USSR\", \"General Dynamics\", \"RVSN USSR\", \"Martin Marietta\", \"NASA\", \"RVSN USSR\", \"Martin Marietta\", \"RVSN USSR\", \"RVSN USSR\", \"General Dynamics\", \"RVSN USSR\", \"RVSN USSR\", \"RVSN USSR\", \"CASC\", \"RVSN USSR\", \"MHI\", \"RVSN USSR\", \"RVSN USSR\", \"RVSN USSR\", \"RVSN USSR\", \"RVSN USSR\", \"RVSN USSR\", \"RVSN USSR\", \"RVSN USSR\", \"RVSN USSR\", \"RVSN USSR\", \"NASA\", \"RVSN USSR\", \"RVSN USSR\", \"RVSN USSR\", \"RVSN USSR\", \"RVSN USSR\", \"RVSN USSR\", \"RVSN USSR\", \"RVSN USSR\", \"RVSN USSR\", \"RVSN USSR\", \"Martin Marietta\", \"RVSN USSR\", \"RVSN USSR\", \"RVSN USSR\", \"RVSN USSR\", \"RVSN USSR\", \"RVSN USSR\", \"RVSN USSR\", \"RVSN USSR\", \"RVSN USSR\", \"RVSN USSR\", \"RVSN USSR\", \"RVSN USSR\", \"NASA\", \"Martin Marietta\", \"General Dynamics\", \"RVSN USSR\", \"RVSN USSR\", \"RVSN USSR\", \"RVSN USSR\", \"RVSN USSR\", \"RVSN USSR\", \"US Air Force\", \"RVSN USSR\", \"RVSN USSR\", \"RVSN USSR\", \"ESA\", \"RVSN USSR\", \"General Dynamics\", \"RVSN USSR\", \"RVSN USSR\", \"RVSN USSR\", \"RVSN USSR\", \"NASA\", \"RVSN USSR\", \"Martin Marietta\", \"RVSN USSR\", \"RVSN USSR\", \"RVSN USSR\", \"RVSN USSR\", \"RVSN USSR\", \"RVSN USSR\", \"CASC\", \"RVSN USSR\", \"RVSN USSR\", \"Martin Marietta\", \"RVSN USSR\", \"RVSN USSR\", \"RVSN USSR\", \"RVSN USSR\", \"MHI\", \"RVSN USSR\", \"RVSN USSR\", \"RVSN USSR\", \"RVSN USSR\", \"RVSN USSR\", \"RVSN USSR\", \"General Dynamics\", \"RVSN USSR\", \"ESA\", \"RVSN USSR\", \"RVSN USSR\", \"General Dynamics\", \"RVSN USSR\", \"RVSN USSR\", \"RVSN USSR\", \"Martin Marietta\", \"NASA\", \"RVSN USSR\", \"RVSN USSR\", \"RVSN USSR\", \"RVSN USSR\", \"RVSN USSR\", \"Martin Marietta\", \"RVSN USSR\", \"RVSN USSR\", \"RVSN USSR\", \"US Air Force\", \"General Dynamics\", \"ISAS\", \"RVSN USSR\", \"RVSN USSR\", \"MHI\", \"RVSN USSR\", \"RVSN USSR\", \"RVSN USSR\", \"RVSN USSR\", \"RVSN USSR\", \"RVSN USSR\", \"RVSN USSR\", \"RVSN USSR\", \"Martin Marietta\", \"RVSN USSR\", \"General Dynamics\", \"RVSN USSR\", \"RVSN USSR\", \"RVSN USSR\", \"RVSN USSR\", \"RVSN USSR\", \"RVSN USSR\", \"General Dynamics\", \"RVSN USSR\", \"RVSN USSR\", \"RVSN USSR\", \"RVSN USSR\", \"RVSN USSR\", \"RVSN USSR\", \"ISRO\", \"RVSN USSR\", \"RVSN USSR\", \"RVSN USSR\", \"RVSN USSR\", \"Martin Marietta\", \"RVSN USSR\", \"RVSN USSR\", \"RVSN USSR\", \"RVSN USSR\", \"RVSN USSR\", \"RVSN USSR\", \"RVSN USSR\", \"General Dynamics\", \"RVSN USSR\", \"RVSN USSR\", \"RVSN USSR\", \"RVSN USSR\", \"RVSN USSR\", \"RVSN USSR\", \"General Dynamics\", \"MHI\", \"ISAS\", \"RVSN USSR\", \"General Dynamics\", \"Martin Marietta\", \"RVSN USSR\", \"RVSN USSR\", \"RVSN USSR\", \"General Dynamics\", \"RVSN USSR\", \"RVSN USSR\", \"ESA\", \"RVSN USSR\", \"RVSN USSR\", \"Martin Marietta\", \"RVSN USSR\", \"RVSN USSR\", \"RVSN USSR\", \"RVSN USSR\", \"RVSN USSR\", \"RVSN USSR\", \"Martin Marietta\", \"RVSN USSR\", \"General Dynamics\", \"RVSN USSR\", \"RVSN USSR\", \"RVSN USSR\", \"RVSN USSR\", \"RVSN USSR\", \"RVSN USSR\", \"RVSN USSR\", \"RVSN USSR\", \"General Dynamics\", \"Martin Marietta\", \"RVSN USSR\", \"RVSN USSR\", \"RVSN USSR\", \"US Air Force\", \"General Dynamics\", \"RVSN USSR\", \"RVSN USSR\", \"RVSN USSR\", \"RVSN USSR\", \"RVSN USSR\", \"RVSN USSR\", \"RVSN USSR\", \"Martin Marietta\", \"RVSN USSR\", \"RVSN USSR\", \"RVSN USSR\", \"General Dynamics\", \"RVSN USSR\", \"RVSN USSR\", \"RVSN USSR\", \"RVSN USSR\", \"RVSN USSR\", \"RVSN USSR\", \"RVSN USSR\", \"RVSN USSR\", \"RVSN USSR\", \"RVSN USSR\", \"RVSN USSR\", \"RVSN USSR\", \"RVSN USSR\", \"Martin Marietta\", \"General Dynamics\", \"RVSN USSR\", \"RVSN USSR\", \"RVSN USSR\", \"RVSN USSR\", \"RVSN USSR\", \"RVSN USSR\", \"RVSN USSR\", \"General Dynamics\", \"RVSN USSR\", \"RVSN USSR\", \"RVSN USSR\", \"RVSN USSR\", \"RVSN USSR\", \"General Dynamics\", \"RVSN USSR\", \"RVSN USSR\", \"General Dynamics\", \"RVSN USSR\", \"RVSN USSR\", \"RVSN USSR\", \"RVSN USSR\", \"ISAS\", \"RVSN USSR\", \"RVSN USSR\", \"RVSN USSR\", \"RVSN USSR\", \"General Dynamics\", \"RVSN USSR\", \"Martin Marietta\", \"RVSN USSR\", \"RVSN USSR\", \"General Dynamics\", \"RVSN USSR\", \"RVSN USSR\", \"General Dynamics\", \"RVSN USSR\", \"Martin Marietta\", \"RVSN USSR\", \"Martin Marietta\", \"RVSN USSR\", \"RVSN USSR\", \"RVSN USSR\", \"RVSN USSR\", \"RVSN USSR\", \"General Dynamics\", \"RVSN USSR\", \"RVSN USSR\", \"RVSN USSR\", \"General Dynamics\", \"RVSN USSR\", \"RVSN USSR\", \"RVSN USSR\", \"RVSN USSR\", \"CASC\", \"General Dynamics\", \"RVSN USSR\", \"General Dynamics\", \"RVSN USSR\", \"RVSN USSR\", \"RVSN USSR\", \"RVSN USSR\", \"Martin Marietta\", \"RVSN USSR\", \"RVSN USSR\", \"RVSN USSR\", \"RVSN USSR\", \"RVSN USSR\", \"Martin Marietta\", \"General Dynamics\", \"RVSN USSR\", \"MHI\", \"RVSN USSR\", \"General Dynamics\", \"RVSN USSR\", \"ISAS\", \"RVSN USSR\", \"CASC\", \"RVSN USSR\", \"RVSN USSR\", \"RVSN USSR\", \"RVSN USSR\", \"RVSN USSR\", \"RVSN USSR\", \"General Dynamics\", \"RVSN USSR\", \"RVSN USSR\", \"RVSN USSR\", \"RVSN USSR\", \"RVSN USSR\", \"RVSN USSR\", \"RVSN USSR\", \"RVSN USSR\", \"RVSN USSR\", \"RVSN USSR\", \"General Dynamics\", \"RVSN USSR\", \"General Dynamics\", \"RVSN USSR\", \"RVSN USSR\", \"RVSN USSR\", \"RVSN USSR\", \"RVSN USSR\", \"RVSN USSR\", \"RVSN USSR\", \"RVSN USSR\", \"RVSN USSR\", \"RVSN USSR\", \"RVSN USSR\", \"RVSN USSR\", \"RVSN USSR\", \"US Air Force\", \"RVSN USSR\", \"RVSN USSR\", \"RVSN USSR\", \"RVSN USSR\", \"RVSN USSR\", \"CASC\", \"RVSN USSR\", \"RVSN USSR\", \"RVSN USSR\", \"Martin Marietta\", \"RVSN USSR\", \"RVSN USSR\", \"RVSN USSR\", \"RVSN USSR\", \"RVSN USSR\", \"RVSN USSR\", \"Martin Marietta\", \"General Dynamics\", \"RVSN USSR\", \"RVSN USSR\", \"RVSN USSR\", \"RVSN USSR\", \"RVSN USSR\", \"RVSN USSR\", \"RVSN USSR\", \"RVSN USSR\", \"RVSN USSR\", \"RVSN USSR\", \"RVSN USSR\", \"RVSN USSR\", \"RVSN USSR\", \"RVSN USSR\", \"RVSN USSR\", \"Martin Marietta\", \"RVSN USSR\", \"RVSN USSR\", \"General Dynamics\", \"RVSN USSR\", \"RVSN USSR\", \"RVSN USSR\", \"RVSN USSR\", \"RVSN USSR\", \"RVSN USSR\", \"RVSN USSR\", \"RVSN USSR\", \"RVSN USSR\", \"General Dynamics\", \"RVSN USSR\", \"RVSN USSR\", \"General Dynamics\", \"RVSN USSR\", \"RVSN USSR\", \"RVSN USSR\", \"Martin Marietta\", \"RVSN USSR\", \"RVSN USSR\", \"RVSN USSR\", \"RVSN USSR\", \"RVSN USSR\", \"RVSN USSR\", \"RVSN USSR\", \"RVSN USSR\", \"RVSN USSR\", \"RVSN USSR\", \"RVSN USSR\", \"RVSN USSR\", \"RVSN USSR\", \"US Air Force\", \"RVSN USSR\", \"RVSN USSR\", \"RVSN USSR\", \"MHI\", \"RVSN USSR\", \"ISAS\", \"RVSN USSR\", \"RVSN USSR\", \"RVSN USSR\", \"RVSN USSR\", \"Martin Marietta\", \"RVSN USSR\", \"RVSN USSR\", \"RVSN USSR\", \"RVSN USSR\", \"RVSN USSR\", \"RVSN USSR\", \"RVSN USSR\", \"RVSN USSR\", \"Martin Marietta\", \"RVSN USSR\", \"RVSN USSR\", \"RVSN USSR\", \"RVSN USSR\", \"RVSN USSR\", \"RVSN USSR\", \"CASC\", \"RVSN USSR\", \"RVSN USSR\", \"RVSN USSR\", \"RVSN USSR\", \"RVSN USSR\", \"RVSN USSR\", \"RVSN USSR\", \"RVSN USSR\", \"RVSN USSR\", \"RVSN USSR\", \"RVSN USSR\", \"RVSN USSR\", \"RVSN USSR\", \"RVSN USSR\", \"RVSN USSR\", \"RVSN USSR\", \"RVSN USSR\", \"RVSN USSR\", \"RVSN USSR\", \"RVSN USSR\", \"US Air Force\", \"RVSN USSR\", \"RVSN USSR\", \"CASC\", \"RVSN USSR\", \"RVSN USSR\", \"RVSN USSR\", \"RVSN USSR\", \"RVSN USSR\", \"Martin Marietta\", \"RVSN USSR\", \"RVSN USSR\", \"RVSN USSR\", \"RVSN USSR\", \"RVSN USSR\", \"General Dynamics\", \"RVSN USSR\", \"RVSN USSR\", \"RVSN USSR\", \"RVSN USSR\", \"RVSN USSR\", \"RVSN USSR\", \"Martin Marietta\", \"RVSN USSR\", \"RVSN USSR\", \"RVSN USSR\", \"RVSN USSR\", \"Martin Marietta\", \"RVSN USSR\", \"RVSN USSR\", \"RVSN USSR\", \"RVSN USSR\", \"RVSN USSR\", \"RVSN USSR\", \"Martin Marietta\", \"RVSN USSR\", \"RVSN USSR\", \"RVSN USSR\", \"RVSN USSR\", \"RVSN USSR\", \"General Dynamics\", \"RVSN USSR\", \"RVSN USSR\", \"RVSN USSR\", \"General Dynamics\", \"RVSN USSR\", \"RVSN USSR\", \"RVSN USSR\", \"RVSN USSR\", \"RVSN USSR\", \"RVSN USSR\", \"RVSN USSR\", \"US Air Force\", \"RVSN USSR\", \"RVSN USSR\", \"RVSN USSR\", \"Martin Marietta\", \"RVSN USSR\", \"RVSN USSR\", \"RVSN USSR\", \"RVSN USSR\", \"MHI\", \"RVSN USSR\", \"RVSN USSR\", \"RVSN USSR\", \"RVSN USSR\", \"RVSN USSR\", \"RVSN USSR\", \"General Dynamics\", \"RVSN USSR\", \"RVSN USSR\", \"RVSN USSR\", \"RVSN USSR\", \"RVSN USSR\", \"Martin Marietta\", \"RVSN USSR\", \"RVSN USSR\", \"RVSN USSR\", \"RVSN USSR\", \"RVSN USSR\", \"RVSN USSR\", \"RVSN USSR\", \"CASC\", \"Martin Marietta\", \"RVSN USSR\", \"RVSN USSR\", \"Martin Marietta\", \"RVSN USSR\", \"RVSN USSR\", \"RVSN USSR\", \"RVSN USSR\", \"RVSN USSR\", \"RVSN USSR\", \"CASC\", \"RVSN USSR\", \"RVSN USSR\", \"RVSN USSR\", \"RVSN USSR\", \"RVSN USSR\", \"US Air Force\", \"RVSN USSR\", \"RVSN USSR\", \"RVSN USSR\", \"CNES\", \"General Dynamics\", \"RVSN USSR\", \"RVSN USSR\", \"RVSN USSR\", \"RVSN USSR\", \"RVSN USSR\", \"RVSN USSR\", \"RVSN USSR\", \"Martin Marietta\", \"MHI\", \"RVSN USSR\", \"RVSN USSR\", \"RVSN USSR\", \"RVSN USSR\", \"RVSN USSR\", \"Martin Marietta\", \"RVSN USSR\", \"RVSN USSR\", \"RVSN USSR\", \"CASC\", \"RVSN USSR\", \"RVSN USSR\", \"RVSN USSR\", \"NASA\", \"RVSN USSR\", \"RVSN USSR\", \"RVSN USSR\", \"RVSN USSR\", \"RVSN USSR\", \"RVSN USSR\", \"RVSN USSR\", \"RVSN USSR\", \"RVSN USSR\", \"General Dynamics\", \"RVSN USSR\", \"Martin Marietta\", \"RVSN USSR\", \"RVSN USSR\", \"RVSN USSR\", \"RVSN USSR\", \"RVSN USSR\", \"RVSN USSR\", \"RVSN USSR\", \"General Dynamics\", \"RVSN USSR\", \"CNES\", \"ASI\", \"RVSN USSR\", \"RVSN USSR\", \"RVSN USSR\", \"RVSN USSR\", \"US Air Force\", \"RVSN USSR\", \"RVSN USSR\", \"RVSN USSR\", \"RVSN USSR\", \"RVSN USSR\", \"RVSN USSR\", \"RVSN USSR\", \"RVSN USSR\", \"RVSN USSR\", \"RVSN USSR\", \"RVSN USSR\", \"RVSN USSR\", \"RVSN USSR\", \"Martin Marietta\", \"RVSN USSR\", \"RVSN USSR\", \"ISAS\", \"RVSN USSR\", \"RVSN USSR\", \"CNES\", \"RVSN USSR\", \"RVSN USSR\", \"RVSN USSR\", \"RVSN USSR\", \"RVSN USSR\", \"RVSN USSR\", \"RVSN USSR\", \"RVSN USSR\", \"RVSN USSR\", \"RVSN USSR\", \"RVSN USSR\", \"RVSN USSR\", \"RVSN USSR\", \"RVSN USSR\", \"Martin Marietta\", \"RVSN USSR\", \"RVSN USSR\", \"General Dynamics\", \"RVSN USSR\", \"RVSN USSR\", \"RVSN USSR\", \"RVSN USSR\", \"RVSN USSR\", \"RVSN USSR\", \"Martin Marietta\", \"RVSN USSR\", \"RVSN USSR\", \"RVSN USSR\", \"RVSN USSR\", \"RVSN USSR\", \"RVSN USSR\", \"ASI\", \"RVSN USSR\", \"RVSN USSR\", \"RVSN USSR\", \"RVSN USSR\", \"RVSN USSR\", \"RVSN USSR\", \"RVSN USSR\", \"RVSN USSR\", \"RVSN USSR\", \"US Air Force\", \"RVSN USSR\", \"RVSN USSR\", \"RVSN USSR\", \"RVSN USSR\", \"RVSN USSR\", \"RVSN USSR\", \"RVSN USSR\", \"General Dynamics\", \"RVSN USSR\", \"RVSN USSR\", \"RVSN USSR\", \"RVSN USSR\", \"RVSN USSR\", \"RVSN USSR\", \"RVSN USSR\", \"RVSN USSR\", \"RVSN USSR\", \"RVSN USSR\", \"RVSN USSR\", \"US Air Force\", \"RVSN USSR\", \"Martin Marietta\", \"RVSN USSR\", \"RVSN USSR\", \"RVSN USSR\", \"RVSN USSR\", \"RVSN USSR\", \"RVSN USSR\", \"RVSN USSR\", \"RVSN USSR\", \"RVSN USSR\", \"RVSN USSR\", \"RVSN USSR\", \"RVSN USSR\", \"RVSN USSR\", \"RVSN USSR\", \"RVSN USSR\", \"Martin Marietta\", \"RVSN USSR\", \"RVSN USSR\", \"RVSN USSR\", \"RVSN USSR\", \"RVSN USSR\", \"RVSN USSR\", \"RVSN USSR\", \"RVSN USSR\", \"RVSN USSR\", \"ASI\", \"US Air Force\", \"RVSN USSR\", \"RVSN USSR\", \"ISAS\", \"RVSN USSR\", \"RVSN USSR\", \"RVSN USSR\", \"RVSN USSR\", \"RVSN USSR\", \"RVSN USSR\", \"RVSN USSR\", \"RVSN USSR\", \"RVSN USSR\", \"RVSN USSR\", \"RVSN USSR\", \"RVSN USSR\", \"Martin Marietta\", \"RVSN USSR\", \"RVSN USSR\", \"RVSN USSR\", \"RVSN USSR\", \"RVSN USSR\", \"RVSN USSR\", \"RVSN USSR\", \"RVSN USSR\", \"NASA\", \"RVSN USSR\", \"Martin Marietta\", \"RVSN USSR\", \"General Dynamics\", \"RVSN USSR\", \"RVSN USSR\", \"RVSN USSR\", \"RVSN USSR\", \"RVSN USSR\", \"RVSN USSR\", \"RVSN USSR\", \"RVSN USSR\", \"RVSN USSR\", \"RVSN USSR\", \"RVSN USSR\", \"RVSN USSR\", \"RVSN USSR\", \"RVSN USSR\", \"US Air Force\", \"RVSN USSR\", \"RVSN USSR\", \"RVSN USSR\", \"RVSN USSR\", \"RVSN USSR\", \"RVSN USSR\", \"RVSN USSR\", \"RVSN USSR\", \"RVSN USSR\", \"General Dynamics\", \"RVSN USSR\", \"Martin Marietta\", \"RVSN USSR\", \"RVSN USSR\", \"NASA\", \"RVSN USSR\", \"Martin Marietta\", \"RVSN USSR\", \"RVSN USSR\", \"RVSN USSR\", \"RVSN USSR\", \"RVSN USSR\", \"Martin Marietta\", \"RVSN USSR\", \"RVSN USSR\", \"RVSN USSR\", \"RVSN USSR\", \"RVSN USSR\", \"RVSN USSR\", \"NASA\", \"RVSN USSR\", \"RVSN USSR\", \"RVSN USSR\", \"RVSN USSR\", \"US Air Force\", \"NASA\", \"RVSN USSR\", \"RVSN USSR\", \"RVSN USSR\", \"RVSN USSR\", \"RVSN USSR\", \"General Dynamics\", \"RVSN USSR\", \"RVSN USSR\", \"RVSN USSR\", \"RVSN USSR\", \"Martin Marietta\", \"General Dynamics\", \"RVSN USSR\", \"RVSN USSR\", \"RVSN USSR\", \"RVSN USSR\", \"RVSN USSR\", \"RVSN USSR\", \"RVSN USSR\", \"RVSN USSR\", \"RVSN USSR\", \"RVSN USSR\", \"RVSN USSR\", \"RVSN USSR\", \"RVSN USSR\", \"US Air Force\", \"RVSN USSR\", \"General Dynamics\", \"NASA\", \"RVSN USSR\", \"RVSN USSR\", \"RVSN USSR\", \"RVSN USSR\", \"RVSN USSR\", \"ASI\", \"RVSN USSR\", \"RVSN USSR\", \"RVSN USSR\", \"RVSN USSR\", \"RVSN USSR\", \"RVSN USSR\", \"RVSN USSR\", \"RVSN USSR\", \"Martin Marietta\", \"RVSN USSR\", \"RVSN USSR\", \"General Dynamics\", \"RVSN USSR\", \"RVSN USSR\", \"RVSN USSR\", \"RVSN USSR\", \"RVSN USSR\", \"US Air Force\", \"RVSN USSR\", \"RVSN USSR\", \"RVSN USSR\", \"General Dynamics\", \"ISAS\", \"RVSN USSR\", \"RVSN USSR\", \"CASC\", \"RVSN USSR\", \"RVSN USSR\", \"RVSN USSR\", \"RVSN USSR\", \"RVSN USSR\", \"Martin Marietta\", \"RVSN USSR\", \"RVSN USSR\", \"RVSN USSR\", \"RVSN USSR\", \"RVSN USSR\", \"RVSN USSR\", \"RVSN USSR\", \"RVSN USSR\", \"RVSN USSR\", \"General Dynamics\", \"RVSN USSR\", \"RVSN USSR\", \"RVSN USSR\", \"RVSN USSR\", \"RVSN USSR\", \"RVSN USSR\", \"RVSN USSR\", \"NASA\", \"RVSN USSR\", \"RVSN USSR\", \"RVSN USSR\", \"RVSN USSR\", \"RVSN USSR\", \"RVSN USSR\", \"RVSN USSR\", \"RVSN USSR\", \"RVSN USSR\", \"RVSN USSR\", \"RVSN USSR\", \"RVSN USSR\", \"US Air Force\", \"RVSN USSR\", \"RVSN USSR\", \"General Dynamics\", \"RVSN USSR\", \"Martin Marietta\", \"RVSN USSR\", \"RVSN USSR\", \"RVSN USSR\", \"RVSN USSR\", \"RVSN USSR\", \"RVSN USSR\", \"General Dynamics\", \"Martin Marietta\", \"RVSN USSR\", \"RVSN USSR\", \"RVSN USSR\", \"RVSN USSR\", \"General Dynamics\", \"RVSN USSR\", \"RVSN USSR\", \"RVSN USSR\", \"RVSN USSR\", \"RVSN USSR\", \"RVSN USSR\", \"RVSN USSR\", \"RVSN USSR\", \"RVSN USSR\", \"RVSN USSR\", \"RVSN USSR\", \"RVSN USSR\", \"RVSN USSR\", \"RVSN USSR\", \"RVSN USSR\", \"RVSN USSR\", \"ASI\", \"Martin Marietta\", \"RVSN USSR\", \"RAE\", \"US Air Force\", \"RVSN USSR\", \"RVSN USSR\", \"RVSN USSR\", \"RVSN USSR\", \"RVSN USSR\", \"RVSN USSR\", \"RVSN USSR\", \"ISAS\", \"RVSN USSR\", \"RVSN USSR\", \"RVSN USSR\", \"RVSN USSR\", \"RVSN USSR\", \"RVSN USSR\", \"RVSN USSR\", \"US Air Force\", \"RVSN USSR\", \"General Dynamics\", \"RVSN USSR\", \"RVSN USSR\", \"RVSN USSR\", \"RVSN USSR\", \"NASA\", \"RVSN USSR\", \"RVSN USSR\", \"RVSN USSR\", \"RVSN USSR\", \"Martin Marietta\", \"RVSN USSR\", \"RVSN USSR\", \"RVSN USSR\", \"RVSN USSR\", \"General Dynamics\", \"RVSN USSR\", \"RVSN USSR\", \"RVSN USSR\", \"RVSN USSR\", \"RVSN USSR\", \"RVSN USSR\", \"RVSN USSR\", \"RVSN USSR\", \"RVSN USSR\", \"RVSN USSR\", \"RVSN USSR\", \"Martin Marietta\", \"RVSN USSR\", \"RVSN USSR\", \"ASI\", \"RVSN USSR\", \"US Air Force\", \"RVSN USSR\", \"RVSN USSR\", \"RVSN USSR\", \"CNES\", \"RVSN USSR\", \"RVSN USSR\", \"RVSN USSR\", \"RVSN USSR\", \"RVSN USSR\", \"RVSN USSR\", \"Martin Marietta\", \"RVSN USSR\", \"RVSN USSR\", \"CASC\", \"RVSN USSR\", \"RVSN USSR\", \"RVSN USSR\", \"ISAS\", \"RVSN USSR\", \"RVSN USSR\", \"ISAS\", \"RVSN USSR\", \"NASA\", \"RVSN USSR\", \"General Dynamics\", \"US Air Force\", \"RVSN USSR\", \"RVSN USSR\", \"RVSN USSR\", \"RVSN USSR\", \"RVSN USSR\", \"RVSN USSR\", \"RVSN USSR\", \"RVSN USSR\", \"RVSN USSR\", \"RVSN USSR\", \"CNES\", \"ASI\", \"RVSN USSR\", \"RVSN USSR\", \"RVSN USSR\", \"RVSN USSR\", \"RVSN USSR\", \"RVSN USSR\", \"RVSN USSR\", \"RVSN USSR\", \"RVSN USSR\", \"RVSN USSR\", \"RVSN USSR\", \"RVSN USSR\", \"US Air Force\", \"RVSN USSR\", \"RVSN USSR\", \"RVSN USSR\", \"RVSN USSR\", \"RVSN USSR\", \"RVSN USSR\", \"RVSN USSR\", \"RVSN USSR\", \"RVSN USSR\", \"RVSN USSR\", \"RVSN USSR\", \"RVSN USSR\", \"RVSN USSR\", \"RVSN USSR\", \"RVSN USSR\", \"RVSN USSR\", \"RVSN USSR\", \"RVSN USSR\", \"RVSN USSR\", \"General Dynamics\", \"RVSN USSR\", \"RVSN USSR\", \"US Air Force\", \"RVSN USSR\", \"RVSN USSR\", \"RVSN USSR\", \"RVSN USSR\", \"RVSN USSR\", \"RVSN USSR\", \"RVSN USSR\", \"RVSN USSR\", \"RVSN USSR\", \"RVSN USSR\", \"RVSN USSR\", \"US Air Force\", \"RVSN USSR\", \"General Dynamics\", \"RVSN USSR\", \"RVSN USSR\", \"RVSN USSR\", \"RVSN USSR\", \"Roscosmos\", \"RVSN USSR\", \"RVSN USSR\", \"RVSN USSR\", \"RVSN USSR\", \"RVSN USSR\", \"CASC\", \"RVSN USSR\", \"US Air Force\", \"RVSN USSR\", \"NASA\", \"RVSN USSR\", \"Martin Marietta\", \"RVSN USSR\", \"RVSN USSR\", \"RVSN USSR\", \"RVSN USSR\", \"RVSN USSR\", \"RVSN USSR\", \"CNES\", \"RVSN USSR\", \"RVSN USSR\", \"RVSN USSR\", \"UT\", \"RVSN USSR\", \"RVSN USSR\", \"RVSN USSR\", \"RVSN USSR\", \"RVSN USSR\", \"US Air Force\", \"RVSN USSR\", \"RVSN USSR\", \"RVSN USSR\", \"RVSN USSR\", \"RVSN USSR\", \"RVSN USSR\", \"RVSN USSR\", \"RVSN USSR\", \"RVSN USSR\", \"RVSN USSR\", \"NASA\", \"RVSN USSR\", \"RVSN USSR\", \"Yuzhmash\", \"US Air Force\", \"RVSN USSR\", \"RVSN USSR\", \"RVSN USSR\", \"RVSN USSR\", \"RVSN USSR\", \"RVSN USSR\", \"RVSN USSR\", \"RVSN USSR\", \"RVSN USSR\", \"RVSN USSR\", \"RVSN USSR\", \"RVSN USSR\", \"RVSN USSR\", \"RVSN USSR\", \"RVSN USSR\", \"RVSN USSR\", \"US Air Force\", \"RVSN USSR\", \"RVSN USSR\", \"RVSN USSR\", \"RVSN USSR\", \"General Dynamics\", \"RVSN USSR\", \"RVSN USSR\", \"RVSN USSR\", \"RVSN USSR\", \"NASA\", \"RVSN USSR\", \"RVSN USSR\", \"RVSN USSR\", \"RVSN USSR\", \"RVSN USSR\", \"US Air Force\", \"RVSN USSR\", \"RVSN USSR\", \"RVSN USSR\", \"Martin Marietta\", \"RVSN USSR\", \"NASA\", \"RVSN USSR\", \"US Air Force\", \"RVSN USSR\", \"General Dynamics\", \"RVSN USSR\", \"RVSN USSR\", \"RVSN USSR\", \"RVSN USSR\", \"RVSN USSR\", \"General Dynamics\", \"RVSN USSR\", \"RVSN USSR\", \"General Dynamics\", \"RVSN USSR\", \"RVSN USSR\", \"RVSN USSR\", \"RVSN USSR\", \"RVSN USSR\", \"US Air Force\", \"NASA\", \"RVSN USSR\", \"RVSN USSR\", \"General Dynamics\", \"Martin Marietta\", \"RVSN USSR\", \"RVSN USSR\", \"US Air Force\", \"RVSN USSR\", \"RVSN USSR\", \"RVSN USSR\", \"RVSN USSR\", \"RVSN USSR\", \"RVSN USSR\", \"NASA\", \"RVSN USSR\", \"RVSN USSR\", \"RVSN USSR\", \"RVSN USSR\", \"General Dynamics\", \"US Air Force\", \"RVSN USSR\", \"RVSN USSR\", \"RVSN USSR\", \"CECLES\", \"RVSN USSR\", \"RVSN USSR\", \"RVSN USSR\", \"RVSN USSR\", \"US Air Force\", \"RVSN USSR\", \"RVSN USSR\", \"RVSN USSR\", \"RVSN USSR\", \"RVSN USSR\", \"RVSN USSR\", \"RVSN USSR\", \"NASA\", \"RVSN USSR\", \"RVSN USSR\", \"RVSN USSR\", \"RVSN USSR\", \"Martin Marietta\", \"RVSN USSR\", \"RVSN USSR\", \"RVSN USSR\", \"RVSN USSR\", \"RVSN USSR\", \"RVSN USSR\", \"RVSN USSR\", \"RVSN USSR\", \"RVSN USSR\", \"RVSN USSR\", \"US Air Force\", \"US Air Force\", \"General Dynamics\", \"RVSN USSR\", \"RVSN USSR\", \"RVSN USSR\", \"General Dynamics\", \"RVSN USSR\", \"RVSN USSR\", \"RVSN USSR\", \"RVSN USSR\", \"RVSN USSR\", \"RVSN USSR\", \"Martin Marietta\", \"RVSN USSR\", \"RVSN USSR\", \"US Air Force\", \"RVSN USSR\", \"RVSN USSR\", \"RVSN USSR\", \"RVSN USSR\", \"RVSN USSR\", \"RVSN USSR\", \"RVSN USSR\", \"RVSN USSR\", \"RVSN USSR\", \"RVSN USSR\", \"RVSN USSR\", \"US Air Force\", \"RVSN USSR\", \"RVSN USSR\", \"RVSN USSR\", \"RVSN USSR\", \"General Dynamics\", \"RVSN USSR\", \"OKB-586\", \"RVSN USSR\", \"RVSN USSR\", \"RVSN USSR\", \"RVSN USSR\", \"US Air Force\", \"RVSN USSR\", \"RVSN USSR\", \"General Dynamics\", \"RVSN USSR\", \"RVSN USSR\", \"RVSN USSR\", \"NASA\", \"RVSN USSR\", \"US Air Force\", \"RVSN USSR\", \"General Dynamics\", \"RVSN USSR\", \"RVSN USSR\", \"RVSN USSR\", \"RVSN USSR\", \"US Air Force\", \"RVSN USSR\", \"AMBA\", \"RVSN USSR\", \"RVSN USSR\", \"RVSN USSR\", \"NASA\", \"General Dynamics\", \"General Dynamics\", \"RVSN USSR\", \"RVSN USSR\", \"RVSN USSR\", \"RVSN USSR\", \"RVSN USSR\", \"RVSN USSR\", \"US Air Force\", \"RVSN USSR\", \"RVSN USSR\", \"RVSN USSR\", \"RVSN USSR\", \"OKB-586\", \"RVSN USSR\", \"RVSN USSR\", \"RVSN USSR\", \"RVSN USSR\", \"US Air Force\", \"RVSN USSR\", \"RVSN USSR\", \"RVSN USSR\", \"RVSN USSR\", \"General Dynamics\", \"RVSN USSR\", \"RVSN USSR\", \"US Air Force\", \"RVSN USSR\", \"RVSN USSR\", \"General Dynamics\", \"RVSN USSR\", \"RVSN USSR\", \"General Dynamics\", \"RVSN USSR\", \"Martin Marietta\", \"RVSN USSR\", \"General Dynamics\", \"RVSN USSR\", \"RVSN USSR\", \"RVSN USSR\", \"RVSN USSR\", \"General Dynamics\", \"RVSN USSR\", \"RVSN USSR\", \"General Dynamics\", \"RVSN USSR\", \"RVSN USSR\", \"RVSN USSR\", \"RVSN USSR\", \"General Dynamics\", \"Martin Marietta\", \"RVSN USSR\", \"ASI\", \"RVSN USSR\", \"General Dynamics\", \"RVSN USSR\", \"RVSN USSR\", \"RVSN USSR\", \"RVSN USSR\", \"RVSN USSR\", \"RVSN USSR\", \"RVSN USSR\", \"RVSN USSR\", \"RVSN USSR\", \"RVSN USSR\", \"RVSN USSR\", \"US Air Force\", \"Arm??e de l'Air\", \"RVSN USSR\", \"RVSN USSR\", \"RVSN USSR\", \"General Dynamics\", \"General Dynamics\", \"RVSN USSR\", \"RVSN USSR\", \"Martin Marietta\", \"RVSN USSR\", \"RVSN USSR\", \"RVSN USSR\", \"US Air Force\", \"RVSN USSR\", \"General Dynamics\", \"General Dynamics\", \"General Dynamics\", \"RVSN USSR\", \"RVSN USSR\", \"RVSN USSR\", \"RVSN USSR\", \"NASA\", \"General Dynamics\", \"General Dynamics\", \"Martin Marietta\", \"General Dynamics\", \"General Dynamics\", \"RVSN USSR\", \"RVSN USSR\", \"RVSN USSR\", \"RVSN USSR\", \"General Dynamics\", \"General Dynamics\", \"US Air Force\", \"General Dynamics\", \"General Dynamics\", \"NASA\", \"General Dynamics\", \"RVSN USSR\", \"NASA\", \"RVSN USSR\", \"General Dynamics\", \"General Dynamics\", \"General Dynamics\", \"RVSN USSR\", \"US Air Force\", \"RVSN USSR\", \"RVSN USSR\", \"NASA\", \"General Dynamics\", \"RVSN USSR\", \"General Dynamics\", \"RVSN USSR\", \"RVSN USSR\", \"NASA\", \"RVSN USSR\", \"RVSN USSR\", \"Martin Marietta\", \"RVSN USSR\", \"General Dynamics\", \"General Dynamics\", \"General Dynamics\", \"General Dynamics\", \"RVSN USSR\", \"General Dynamics\", \"RVSN USSR\", \"RVSN USSR\", \"RVSN USSR\", \"RVSN USSR\", \"RVSN USSR\", \"General Dynamics\", \"General Dynamics\", \"RVSN USSR\", \"RVSN USSR\", \"General Dynamics\", \"RVSN USSR\", \"General Dynamics\", \"RVSN USSR\", \"General Dynamics\", \"NASA\", \"RVSN USSR\", \"RVSN USSR\", \"Arm??e de l'Air\", \"General Dynamics\", \"RVSN USSR\", \"RVSN USSR\", \"RVSN USSR\", \"RVSN USSR\", \"RVSN USSR\", \"General Dynamics\", \"RVSN USSR\", \"RVSN USSR\", \"RVSN USSR\", \"RVSN USSR\", \"NASA\", \"RVSN USSR\", \"NASA\", \"RVSN USSR\", \"RVSN USSR\", \"Arm??e de l'Air\", \"RVSN USSR\", \"RVSN USSR\", \"RVSN USSR\", \"General Dynamics\", \"RVSN USSR\", \"RVSN USSR\", \"RVSN USSR\", \"RVSN USSR\", \"RVSN USSR\", \"RVSN USSR\", \"General Dynamics\", \"RVSN USSR\", \"General Dynamics\", \"RVSN USSR\", \"RVSN USSR\", \"RVSN USSR\", \"RVSN USSR\", \"RVSN USSR\", \"NASA\", \"RVSN USSR\", \"General Dynamics\", \"General Dynamics\", \"RVSN USSR\", \"NASA\", \"RVSN USSR\", \"General Dynamics\", \"RVSN USSR\", \"RVSN USSR\", \"RVSN USSR\", \"RVSN USSR\", \"General Dynamics\", \"RVSN USSR\", \"Martin Marietta\", \"RVSN USSR\", \"RVSN USSR\", \"NASA\", \"General Dynamics\", \"RVSN USSR\", \"NASA\", \"RVSN USSR\", \"RVSN USSR\", \"US Air Force\", \"General Dynamics\", \"RVSN USSR\", \"RVSN USSR\", \"General Dynamics\", \"RVSN USSR\", \"NASA\", \"General Dynamics\", \"RVSN USSR\", \"RVSN USSR\", \"General Dynamics\", \"RVSN USSR\", \"RVSN USSR\", \"RVSN USSR\", \"RVSN USSR\", \"RVSN USSR\", \"General Dynamics\", \"NASA\", \"US Air Force\", \"RVSN USSR\", \"General Dynamics\", \"NASA\", \"RVSN USSR\", \"US Air Force\", \"RVSN USSR\", \"General Dynamics\", \"RVSN USSR\", \"General Dynamics\", \"RVSN USSR\", \"RVSN USSR\", \"General Dynamics\", \"RVSN USSR\", \"RVSN USSR\", \"RVSN USSR\", \"RVSN USSR\", \"General Dynamics\", \"NASA\", \"RVSN USSR\", \"General Dynamics\", \"RVSN USSR\", \"RVSN USSR\", \"RVSN USSR\", \"RVSN USSR\", \"General Dynamics\", \"RVSN USSR\", \"RVSN USSR\", \"General Dynamics\", \"General Dynamics\", \"RVSN USSR\", \"RVSN USSR\", \"General Dynamics\", \"RVSN USSR\", \"RVSN USSR\", \"RVSN USSR\", \"RVSN USSR\", \"NASA\", \"General Dynamics\", \"RVSN USSR\", \"RVSN USSR\", \"General Dynamics\", \"RVSN USSR\", \"NASA\", \"RVSN USSR\", \"RVSN USSR\", \"RVSN USSR\", \"General Dynamics\", \"RVSN USSR\", \"General Dynamics\", \"General Dynamics\", \"RVSN USSR\", \"NASA\", \"NASA\", \"RVSN USSR\", \"General Dynamics\", \"RVSN USSR\", \"General Dynamics\", \"RVSN USSR\", \"RVSN USSR\", \"RVSN USSR\", \"General Dynamics\", \"RVSN USSR\", \"General Dynamics\", \"General Dynamics\", \"RVSN USSR\", \"General Dynamics\", \"General Dynamics\", \"US Air Force\", \"RVSN USSR\", \"US Air Force\", \"RVSN USSR\", \"RVSN USSR\", \"RVSN USSR\", \"NASA\", \"General Dynamics\", \"RVSN USSR\", \"RVSN USSR\", \"RVSN USSR\", \"RVSN USSR\", \"RVSN USSR\", \"US Air Force\", \"RVSN USSR\", \"US Air Force\", \"NASA\", \"US Air Force\", \"US Air Force\", \"US Air Force\", \"US Air Force\", \"US Air Force\", \"General Dynamics\", \"US Air Force\", \"RVSN USSR\", \"US Air Force\", \"US Air Force\", \"US Air Force\", \"RVSN USSR\", \"General Dynamics\", \"RVSN USSR\", \"US Air Force\", \"NASA\", \"US Air Force\", \"US Air Force\", \"US Air Force\", \"RVSN USSR\", \"US Air Force\", \"US Air Force\", \"US Air Force\", \"US Air Force\", \"General Dynamics\", \"US Air Force\", \"RVSN USSR\", \"RVSN USSR\", \"RVSN USSR\", \"General Dynamics\", \"US Air Force\", \"RVSN USSR\", \"US Air Force\", \"US Air Force\", \"General Dynamics\", \"US Air Force\", \"RVSN USSR\", \"US Air Force\", \"US Air Force\", \"US Air Force\", \"US Air Force\", \"General Dynamics\", \"US Air Force\", \"US Air Force\", \"RVSN USSR\", \"NASA\", \"US Air Force\", \"US Air Force\", \"General Dynamics\", \"US Air Force\", \"RVSN USSR\", \"RVSN USSR\", \"General Dynamics\", \"US Air Force\", \"General Dynamics\", \"RVSN USSR\", \"RVSN USSR\", \"General Dynamics\", \"US Air Force\", \"US Air Force\", \"NASA\", \"US Air Force\", \"US Air Force\", \"NASA\", \"US Air Force\", \"US Air Force\", \"US Air Force\", \"US Air Force\", \"NASA\", \"US Air Force\", \"US Air Force\", \"US Air Force\", \"RVSN USSR\", \"NASA\", \"General Dynamics\", \"US Air Force\", \"US Air Force\", \"US Air Force\", \"US Air Force\", \"NASA\", \"RVSN USSR\", \"US Air Force\", \"US Air Force\", \"RVSN USSR\", \"NASA\", \"RVSN USSR\", \"US Air Force\", \"NASA\", \"US Air Force\", \"US Air Force\", \"NASA\", \"RVSN USSR\", \"General Dynamics\", \"NASA\", \"US Air Force\", \"NASA\", \"US Air Force\", \"RVSN USSR\", \"US Air Force\", \"US Air Force\", \"US Air Force\", \"US Air Force\", \"RVSN USSR\", \"US Air Force\", \"US Air Force\", \"US Air Force\", \"US Air Force\", \"General Dynamics\", \"RVSN USSR\", \"US Air Force\", \"US Air Force\", \"US Air Force\", \"US Air Force\", \"US Air Force\", \"RVSN USSR\", \"RVSN USSR\", \"US Air Force\", \"US Air Force\", \"US Air Force\", \"US Air Force\", \"US Navy\", \"US Air Force\", \"AMBA\", \"RVSN USSR\", \"AMBA\", \"US Navy\", \"AMBA\", \"RVSN USSR\", \"RVSN USSR\"], \"xaxis\": \"x\", \"y\": [\"Success\", \"Success\", \"Success\", \"Success\", \"Success\", \"Success\", \"Success\", \"Success\", \"Success\", \"Success\", \"Success\", \"Success\", \"Success\", \"Success\", \"Success\", \"Success\", \"Success\", \"Success\", \"Success\", \"Success\", \"Success\", \"Success\", \"Success\", \"Success\", \"Success\", \"Success\", \"Success\", \"Success\", \"Success\", \"Success\", \"Success\", \"Success\", \"Success\", \"Success\", \"Success\", \"Success\", \"Success\", \"Success\", \"Success\", \"Success\", \"Success\", \"Success\", \"Success\", \"Success\", \"Success\", \"Success\", \"Success\", \"Success\", \"Success\", \"Success\", \"Success\", \"Success\", \"Success\", \"Success\", \"Success\", \"Success\", \"Success\", \"Success\", \"Success\", \"Success\", \"Success\", \"Success\", \"Success\", \"Success\", \"Success\", \"Success\", \"Success\", \"Success\", \"Success\", \"Success\", \"Success\", \"Success\", \"Success\", \"Success\", \"Success\", \"Success\", \"Success\", \"Success\", \"Success\", \"Success\", \"Success\", \"Success\", \"Success\", \"Success\", \"Success\", \"Success\", \"Success\", \"Success\", \"Success\", \"Success\", \"Success\", \"Success\", \"Success\", \"Success\", \"Success\", \"Success\", \"Success\", \"Success\", \"Success\", \"Success\", \"Success\", \"Success\", \"Success\", \"Success\", \"Success\", \"Success\", \"Success\", \"Success\", \"Success\", \"Success\", \"Success\", \"Success\", \"Success\", \"Success\", \"Success\", \"Success\", \"Success\", \"Success\", \"Success\", \"Success\", \"Success\", \"Success\", \"Success\", \"Success\", \"Success\", \"Success\", \"Success\", \"Success\", \"Success\", \"Success\", \"Success\", \"Success\", \"Success\", \"Success\", \"Success\", \"Success\", \"Success\", \"Success\", \"Success\", \"Success\", \"Success\", \"Success\", \"Success\", \"Success\", \"Success\", \"Success\", \"Success\", \"Success\", \"Success\", \"Success\", \"Success\", \"Success\", \"Success\", \"Success\", \"Success\", \"Success\", \"Success\", \"Success\", \"Success\", \"Success\", \"Success\", \"Success\", \"Success\", \"Success\", \"Success\", \"Success\", \"Success\", \"Success\", \"Success\", \"Success\", \"Success\", \"Success\", \"Success\", \"Success\", \"Success\", \"Success\", \"Success\", \"Success\", \"Success\", \"Success\", \"Success\", \"Success\", \"Success\", \"Success\", \"Success\", \"Success\", \"Success\", \"Success\", \"Success\", \"Success\", \"Success\", \"Success\", \"Success\", \"Success\", \"Success\", \"Success\", \"Success\", \"Success\", \"Success\", \"Success\", \"Success\", \"Success\", \"Success\", \"Success\", \"Success\", \"Success\", \"Success\", \"Success\", \"Success\", \"Success\", \"Success\", \"Success\", \"Success\", \"Success\", \"Success\", \"Success\", \"Success\", \"Success\", \"Success\", \"Success\", \"Success\", \"Success\", \"Success\", \"Success\", \"Success\", \"Success\", \"Success\", \"Success\", \"Success\", \"Success\", \"Success\", \"Success\", \"Success\", \"Success\", \"Success\", \"Success\", \"Success\", \"Success\", \"Success\", \"Success\", \"Success\", \"Success\", \"Success\", \"Success\", \"Success\", \"Success\", \"Success\", \"Success\", \"Success\", \"Success\", \"Success\", \"Success\", \"Success\", \"Success\", \"Success\", \"Success\", \"Success\", \"Success\", \"Success\", \"Success\", \"Success\", \"Success\", \"Success\", \"Success\", \"Success\", \"Success\", \"Success\", \"Success\", \"Success\", \"Success\", \"Success\", \"Success\", \"Success\", \"Success\", \"Success\", \"Success\", \"Success\", \"Success\", \"Success\", \"Success\", \"Success\", \"Success\", \"Success\", \"Success\", \"Success\", \"Success\", \"Success\", \"Success\", \"Success\", \"Success\", \"Success\", \"Success\", \"Success\", \"Success\", \"Success\", \"Success\", \"Success\", \"Success\", \"Success\", \"Success\", \"Success\", \"Success\", \"Success\", \"Success\", \"Success\", \"Success\", \"Success\", \"Success\", \"Success\", \"Success\", \"Success\", \"Success\", \"Success\", \"Success\", \"Success\", \"Success\", \"Success\", \"Success\", \"Success\", \"Success\", \"Success\", \"Success\", \"Success\", \"Success\", \"Success\", \"Success\", \"Success\", \"Success\", \"Success\", \"Success\", \"Success\", \"Success\", \"Success\", \"Success\", \"Success\", \"Success\", \"Success\", \"Success\", \"Success\", \"Success\", \"Success\", \"Success\", \"Success\", \"Success\", \"Success\", \"Success\", \"Success\", \"Success\", \"Success\", \"Success\", \"Success\", \"Success\", \"Success\", \"Success\", \"Success\", \"Success\", \"Success\", \"Success\", \"Success\", \"Success\", \"Success\", \"Success\", \"Success\", \"Success\", \"Success\", \"Success\", \"Success\", \"Success\", \"Success\", \"Success\", \"Success\", \"Success\", \"Success\", \"Success\", \"Success\", \"Success\", \"Success\", \"Success\", \"Success\", \"Success\", \"Success\", \"Success\", \"Success\", \"Success\", \"Success\", \"Success\", \"Success\", \"Success\", \"Success\", \"Success\", \"Success\", \"Success\", \"Success\", \"Success\", \"Success\", \"Success\", \"Success\", \"Success\", \"Success\", \"Success\", \"Success\", \"Success\", \"Success\", \"Success\", \"Success\", \"Success\", \"Success\", \"Success\", \"Success\", \"Success\", \"Success\", \"Success\", \"Success\", \"Success\", \"Success\", \"Success\", \"Success\", \"Success\", \"Success\", \"Success\", \"Success\", \"Success\", \"Success\", \"Success\", \"Success\", \"Success\", \"Success\", \"Success\", \"Success\", \"Success\", \"Success\", \"Success\", \"Success\", \"Success\", \"Success\", \"Success\", \"Success\", \"Success\", \"Success\", \"Success\", \"Success\", \"Success\", \"Success\", \"Success\", \"Success\", \"Success\", \"Success\", \"Success\", \"Success\", \"Success\", \"Success\", \"Success\", \"Success\", \"Success\", \"Success\", \"Success\", \"Success\", \"Success\", \"Success\", \"Success\", \"Success\", \"Success\", \"Success\", \"Success\", \"Success\", \"Success\", \"Success\", \"Success\", \"Success\", \"Success\", \"Success\", \"Success\", \"Success\", \"Success\", \"Success\", \"Success\", \"Success\", \"Success\", \"Success\", \"Success\", \"Success\", \"Success\", \"Success\", \"Success\", \"Success\", \"Success\", \"Success\", \"Success\", \"Success\", \"Success\", \"Success\", \"Success\", \"Success\", \"Success\", \"Success\", \"Success\", \"Success\", \"Success\", \"Success\", \"Success\", \"Success\", \"Success\", \"Success\", \"Success\", \"Success\", \"Success\", \"Success\", \"Success\", \"Success\", \"Success\", \"Success\", \"Success\", \"Success\", \"Success\", \"Success\", \"Success\", \"Success\", \"Success\", \"Success\", \"Success\", \"Success\", \"Success\", \"Success\", \"Success\", \"Success\", \"Success\", \"Success\", \"Success\", \"Success\", \"Success\", \"Success\", \"Success\", \"Success\", \"Success\", \"Success\", \"Success\", \"Success\", \"Success\", \"Success\", \"Success\", \"Success\", \"Success\", \"Success\", \"Success\", \"Success\", \"Success\", \"Success\", \"Success\", \"Success\", \"Success\", \"Success\", \"Success\", \"Success\", \"Success\", \"Success\", \"Success\", \"Success\", \"Success\", \"Success\", \"Success\", \"Success\", \"Success\", \"Success\", \"Success\", \"Success\", \"Success\", \"Success\", \"Success\", \"Success\", \"Success\", \"Success\", \"Success\", \"Success\", \"Success\", \"Success\", \"Success\", \"Success\", \"Success\", \"Success\", \"Success\", \"Success\", \"Success\", \"Success\", \"Success\", \"Success\", \"Success\", \"Success\", \"Success\", \"Success\", \"Success\", \"Success\", \"Success\", \"Success\", \"Success\", \"Success\", \"Success\", \"Success\", \"Success\", \"Success\", \"Success\", \"Success\", \"Success\", \"Success\", \"Success\", \"Success\", \"Success\", \"Success\", \"Success\", \"Success\", \"Success\", \"Success\", \"Success\", \"Success\", \"Success\", \"Success\", \"Success\", \"Success\", \"Success\", \"Success\", \"Success\", \"Success\", \"Success\", \"Success\", \"Success\", \"Success\", \"Success\", \"Success\", \"Success\", \"Success\", \"Success\", \"Success\", \"Success\", \"Success\", \"Success\", \"Success\", \"Success\", \"Success\", \"Success\", \"Success\", \"Success\", \"Success\", \"Success\", \"Success\", \"Success\", \"Success\", \"Success\", \"Success\", \"Success\", \"Success\", \"Success\", \"Success\", \"Success\", \"Success\", \"Success\", \"Success\", \"Success\", \"Success\", \"Success\", \"Success\", \"Success\", \"Success\", \"Success\", \"Success\", \"Success\", \"Success\", \"Success\", \"Success\", \"Success\", \"Success\", \"Success\", \"Success\", \"Success\", \"Success\", \"Success\", \"Success\", \"Success\", \"Success\", \"Success\", \"Success\", \"Success\", \"Success\", \"Success\", \"Success\", \"Success\", \"Success\", \"Success\", \"Success\", \"Success\", \"Success\", \"Success\", \"Success\", \"Success\", \"Success\", \"Success\", \"Success\", \"Success\", \"Success\", \"Success\", \"Success\", \"Success\", \"Success\", \"Success\", \"Success\", \"Success\", \"Success\", \"Success\", \"Success\", \"Success\", \"Success\", \"Success\", \"Success\", \"Success\", \"Success\", \"Success\", \"Success\", \"Success\", \"Success\", \"Success\", \"Success\", \"Success\", \"Success\", \"Success\", \"Success\", \"Success\", \"Success\", \"Success\", \"Success\", \"Success\", \"Success\", \"Success\", \"Success\", \"Success\", \"Success\", \"Success\", \"Success\", \"Success\", \"Success\", \"Success\", \"Success\", \"Success\", \"Success\", \"Success\", \"Success\", \"Success\", \"Success\", \"Success\", \"Success\", \"Success\", \"Success\", \"Success\", \"Success\", \"Success\", \"Success\", \"Success\", \"Success\", \"Success\", \"Success\", \"Success\", \"Success\", \"Success\", \"Success\", \"Success\", \"Success\", \"Success\", \"Success\", \"Success\", \"Success\", \"Success\", \"Success\", \"Success\", \"Success\", \"Success\", \"Success\", \"Success\", \"Success\", \"Success\", \"Success\", \"Success\", \"Success\", \"Success\", \"Success\", \"Success\", \"Success\", \"Success\", \"Success\", \"Success\", \"Success\", \"Success\", \"Success\", \"Success\", \"Success\", \"Success\", \"Success\", \"Success\", \"Success\", \"Success\", \"Success\", \"Success\", \"Success\", \"Success\", \"Success\", \"Success\", \"Success\", \"Success\", \"Success\", \"Success\", \"Success\", \"Success\", \"Success\", \"Success\", \"Success\", \"Success\", \"Success\", \"Success\", \"Success\", \"Success\", \"Success\", \"Success\", \"Success\", \"Success\", \"Success\", \"Success\", \"Success\", \"Success\", \"Success\", \"Success\", \"Success\", \"Success\", \"Success\", \"Success\", \"Success\", \"Success\", \"Success\", \"Success\", \"Success\", \"Success\", \"Success\", \"Success\", \"Success\", \"Success\", \"Success\", \"Success\", \"Success\", \"Success\", \"Success\", \"Success\", \"Success\", \"Success\", \"Success\", \"Success\", \"Success\", \"Success\", \"Success\", \"Success\", \"Success\", \"Success\", \"Success\", \"Success\", \"Success\", \"Success\", \"Success\", \"Success\", \"Success\", \"Success\", \"Success\", \"Success\", \"Success\", \"Success\", \"Success\", \"Success\", \"Success\", \"Success\", \"Success\", \"Success\", \"Success\", \"Success\", \"Success\", \"Success\", \"Success\", \"Success\", \"Success\", \"Success\", \"Success\", \"Success\", \"Success\", \"Success\", \"Success\", \"Success\", \"Success\", \"Success\", \"Success\", \"Success\", \"Success\", \"Success\", \"Success\", \"Success\", \"Success\", \"Success\", \"Success\", \"Success\", \"Success\", \"Success\", \"Success\", \"Success\", \"Success\", \"Success\", \"Success\", \"Success\", \"Success\", \"Success\", \"Success\", \"Success\", \"Success\", \"Success\", \"Success\", \"Success\", \"Success\", \"Success\", \"Success\", \"Success\", \"Success\", \"Success\", \"Success\", \"Success\", \"Success\", \"Success\", \"Success\", \"Success\", \"Success\", \"Success\", \"Success\", \"Success\", \"Success\", \"Success\", \"Success\", \"Success\", \"Success\", \"Success\", \"Success\", \"Success\", \"Success\", \"Success\", \"Success\", \"Success\", \"Success\", \"Success\", \"Success\", \"Success\", \"Success\", \"Success\", \"Success\", \"Success\", \"Success\", \"Success\", \"Success\", \"Success\", \"Success\", \"Success\", \"Success\", \"Success\", \"Success\", \"Success\", \"Success\", \"Success\", \"Success\", \"Success\", \"Success\", \"Success\", \"Success\", \"Success\", \"Success\", \"Success\", \"Success\", \"Success\", \"Success\", \"Success\", \"Success\", \"Success\", \"Success\", \"Success\", \"Success\", \"Success\", \"Success\", \"Success\", \"Success\", \"Success\", \"Success\", \"Success\", \"Success\", \"Success\", \"Success\", \"Success\", \"Success\", \"Success\", \"Success\", \"Success\", \"Success\", \"Success\", \"Success\", \"Success\", \"Success\", \"Success\", \"Success\", \"Success\", \"Success\", \"Success\", \"Success\", \"Success\", \"Success\", \"Success\", \"Success\", \"Success\", \"Success\", \"Success\", \"Success\", \"Success\", \"Success\", \"Success\", \"Success\", \"Success\", \"Success\", \"Success\", \"Success\", \"Success\", \"Success\", \"Success\", \"Success\", \"Success\", \"Success\", \"Success\", \"Success\", \"Success\", \"Success\", \"Success\", \"Success\", \"Success\", \"Success\", \"Success\", \"Success\", \"Success\", \"Success\", \"Success\", \"Success\", \"Success\", \"Success\", \"Success\", \"Success\", \"Success\", \"Success\", \"Success\", \"Success\", \"Success\", \"Success\", \"Success\", \"Success\", \"Success\", \"Success\", \"Success\", \"Success\", \"Success\", \"Success\", \"Success\", \"Success\", \"Success\", \"Success\", \"Success\", \"Success\", \"Success\", \"Success\", \"Success\", \"Success\", \"Success\", \"Success\", \"Success\", \"Success\", \"Success\", \"Success\", \"Success\", \"Success\", \"Success\", \"Success\", \"Success\", \"Success\", \"Success\", \"Success\", \"Success\", \"Success\", \"Success\", \"Success\", \"Success\", \"Success\", \"Success\", \"Success\", \"Success\", \"Success\", \"Success\", \"Success\", \"Success\", \"Success\", \"Success\", \"Success\", \"Success\", \"Success\", \"Success\", \"Success\", \"Success\", \"Success\", \"Success\", \"Success\", \"Success\", \"Success\", \"Success\", \"Success\", \"Success\", \"Success\", \"Success\", \"Success\", \"Success\", \"Success\", \"Success\", \"Success\", \"Success\", \"Success\", \"Success\", \"Success\", \"Success\", \"Success\", \"Success\", \"Success\", \"Success\", \"Success\", \"Success\", \"Success\", \"Success\", \"Success\", \"Success\", \"Success\", \"Success\", \"Success\", \"Success\", \"Success\", \"Success\", \"Success\", \"Success\", \"Success\", \"Success\", \"Success\", \"Success\", \"Success\", \"Success\", \"Success\", \"Success\", \"Success\", \"Success\", \"Success\", \"Success\", \"Success\", \"Success\", \"Success\", \"Success\", \"Success\", \"Success\", \"Success\", \"Success\", \"Success\", \"Success\", \"Success\", \"Success\", \"Success\", \"Success\", \"Success\", \"Success\", \"Success\", \"Success\", \"Success\", \"Success\", \"Success\", \"Success\", \"Success\", \"Success\", \"Success\", \"Success\", \"Success\", \"Success\", \"Success\", \"Success\", \"Success\", \"Success\", \"Success\", \"Success\", \"Success\", \"Success\", \"Success\", \"Success\", \"Success\", \"Success\", \"Success\", \"Success\", \"Success\", \"Success\", \"Success\", \"Success\", \"Success\", \"Success\", \"Success\", \"Success\", \"Success\", \"Success\", \"Success\", \"Success\", \"Success\", \"Success\", \"Success\", \"Success\", \"Success\", \"Success\", \"Success\", \"Success\", \"Success\", \"Success\", \"Success\", \"Success\", \"Success\", \"Success\", \"Success\", \"Success\", \"Success\", \"Success\", \"Success\", \"Success\", \"Success\", \"Success\", \"Success\", \"Success\", \"Success\", \"Success\", \"Success\", \"Success\", \"Success\", \"Success\", \"Success\", \"Success\", \"Success\", \"Success\", \"Success\", \"Success\", \"Success\", \"Success\", \"Success\", \"Success\", \"Success\", \"Success\", \"Success\", \"Success\", \"Success\", \"Success\", \"Success\", \"Success\", \"Success\", \"Success\", \"Success\", \"Success\", \"Success\", \"Success\", \"Success\", \"Success\", \"Success\", \"Success\", \"Success\", \"Success\", \"Success\", \"Success\", \"Success\", \"Success\", \"Success\", \"Success\", \"Success\", \"Success\", \"Success\", \"Success\", \"Success\", \"Success\", \"Success\", \"Success\", \"Success\", \"Success\", \"Success\", \"Success\", \"Success\", \"Success\", \"Success\", \"Success\", \"Success\", \"Success\", \"Success\", \"Success\", \"Success\", \"Success\", \"Success\", \"Success\", \"Success\", \"Success\", \"Success\", \"Success\", \"Success\", \"Success\", \"Success\", \"Success\", \"Success\", \"Success\", \"Success\", \"Success\", \"Success\", \"Success\", \"Success\", \"Success\", \"Success\", \"Success\", \"Success\", \"Success\", \"Success\", \"Success\", \"Success\", \"Success\", \"Success\", \"Success\", \"Success\", \"Success\", \"Success\", \"Success\", \"Success\", \"Success\", \"Success\", \"Success\", \"Success\", \"Success\", \"Success\", \"Success\", \"Success\", \"Success\", \"Success\", \"Success\", \"Success\", \"Success\", \"Success\", \"Success\", \"Success\", \"Success\", \"Success\", \"Success\", \"Success\", \"Success\", \"Success\", \"Success\", \"Success\", \"Success\", \"Success\", \"Success\", \"Success\", \"Success\", \"Success\", \"Success\", \"Success\", \"Success\", \"Success\", \"Success\", \"Success\", \"Success\", \"Success\", \"Success\", \"Success\", \"Success\", \"Success\", \"Success\", \"Success\", \"Success\", \"Success\", \"Success\", \"Success\", \"Success\", \"Success\", \"Success\", \"Success\", \"Success\", \"Success\", \"Success\", \"Success\", \"Success\", \"Success\", \"Success\", \"Success\", \"Success\", \"Success\", \"Success\", \"Success\", \"Success\", \"Success\", \"Success\", \"Success\", \"Success\", \"Success\", \"Success\", \"Success\", \"Success\", \"Success\", \"Success\", \"Success\", \"Success\", \"Success\", \"Success\", \"Success\", \"Success\", \"Success\", \"Success\", \"Success\", \"Success\", \"Success\", \"Success\", \"Success\", \"Success\", \"Success\", \"Success\", \"Success\", \"Success\", \"Success\", \"Success\", \"Success\", \"Success\", \"Success\", \"Success\", \"Success\", \"Success\", \"Success\", \"Success\", \"Success\", \"Success\", \"Success\", \"Success\", \"Success\", \"Success\", \"Success\", \"Success\", \"Success\", \"Success\", \"Success\", \"Success\", \"Success\", \"Success\", \"Success\", \"Success\", \"Success\", \"Success\", \"Success\", \"Success\", \"Success\", \"Success\", \"Success\", \"Success\", \"Success\", \"Success\", \"Success\", \"Success\", \"Success\", \"Success\", \"Success\", \"Success\", \"Success\", \"Success\", \"Success\", \"Success\", \"Success\", \"Success\", \"Success\", \"Success\", \"Success\", \"Success\", \"Success\", \"Success\", \"Success\", \"Success\", \"Success\", \"Success\", \"Success\", \"Success\", \"Success\", \"Success\", \"Success\", \"Success\", \"Success\", \"Success\", \"Success\", \"Success\", \"Success\", \"Success\", \"Success\", \"Success\", \"Success\", \"Success\", \"Success\", \"Success\", \"Success\", \"Success\", \"Success\", \"Success\", \"Success\", \"Success\", \"Success\", \"Success\", \"Success\", \"Success\", \"Success\", \"Success\", \"Success\", \"Success\", \"Success\", \"Success\", \"Success\", \"Success\", \"Success\", \"Success\", \"Success\", \"Success\", \"Success\", \"Success\", \"Success\", \"Success\", \"Success\", \"Success\", \"Success\", \"Success\", \"Success\", \"Success\", \"Success\", \"Success\", \"Success\", \"Success\", \"Success\", \"Success\", \"Success\", \"Success\", \"Success\", \"Success\", \"Success\", \"Success\", \"Success\", \"Success\", \"Success\", \"Success\", \"Success\", \"Success\", \"Success\", \"Success\", \"Success\", \"Success\", \"Success\", \"Success\", \"Success\", \"Success\", \"Success\", \"Success\", \"Success\", \"Success\", \"Success\", \"Success\", \"Success\", \"Success\", \"Success\", \"Success\", \"Success\", \"Success\", \"Success\", \"Success\", \"Success\", \"Success\", \"Success\", \"Success\", \"Success\", \"Success\", \"Success\", \"Success\", \"Success\", \"Success\", \"Success\", \"Success\", \"Success\", \"Success\", \"Success\", \"Success\", \"Success\", \"Success\", \"Success\", \"Success\", \"Success\", \"Success\", \"Success\", \"Success\", \"Success\", \"Success\", \"Success\", \"Success\", \"Success\", \"Success\", \"Success\", \"Success\", \"Success\", \"Success\", \"Success\", \"Success\", \"Success\", \"Success\", \"Success\", \"Success\", \"Success\", \"Success\", \"Success\", \"Success\", \"Success\", \"Success\", \"Success\", \"Success\", \"Success\", \"Success\", \"Success\", \"Success\", \"Success\", \"Success\", \"Success\", \"Success\", \"Success\", \"Success\", \"Success\", \"Success\", \"Success\", \"Success\", \"Success\", \"Success\", \"Success\", \"Success\", \"Success\", \"Success\", \"Success\", \"Success\", \"Success\", \"Success\", \"Success\", \"Success\", \"Success\", \"Success\", \"Success\", \"Success\", \"Success\", \"Success\", \"Success\", \"Success\", \"Success\", \"Success\", \"Success\", \"Success\", \"Success\", \"Success\", \"Success\", \"Success\", \"Success\", \"Success\", \"Success\", \"Success\", \"Success\", \"Success\", \"Success\", \"Success\", \"Success\", \"Success\", \"Success\", \"Success\", \"Success\", \"Success\", \"Success\", \"Success\", \"Success\", \"Success\", \"Success\", \"Success\", \"Success\", \"Success\", \"Success\", \"Success\", \"Success\", \"Success\", \"Success\", \"Success\", \"Success\", \"Success\", \"Success\", \"Success\", \"Success\", \"Success\", \"Success\", \"Success\", \"Success\", \"Success\", \"Success\", \"Success\", \"Success\", \"Success\", \"Success\", \"Success\", \"Success\", \"Success\", \"Success\", \"Success\", \"Success\", \"Success\", \"Success\", \"Success\", \"Success\", \"Success\", \"Success\", \"Success\", \"Success\", \"Success\", \"Success\", \"Success\", \"Success\", \"Success\", \"Success\", \"Success\", \"Success\", \"Success\", \"Success\", \"Success\", \"Success\", \"Success\", \"Success\", \"Success\", \"Success\", \"Success\", \"Success\", \"Success\", \"Success\", \"Success\", \"Success\", \"Success\", \"Success\", \"Success\", \"Success\", \"Success\", \"Success\", \"Success\", \"Success\", \"Success\", \"Success\", \"Success\", \"Success\", \"Success\", \"Success\", \"Success\", \"Success\", \"Success\", \"Success\", \"Success\", \"Success\", \"Success\", \"Success\", \"Success\", \"Success\", \"Success\", \"Success\", \"Success\", \"Success\", \"Success\", \"Success\", \"Success\", \"Success\", \"Success\", \"Success\", \"Success\", \"Success\", \"Success\", \"Success\", \"Success\", \"Success\", \"Success\", \"Success\", \"Success\", \"Success\", \"Success\", \"Success\", \"Success\", \"Success\", \"Success\", \"Success\", \"Success\", \"Success\", \"Success\", \"Success\", \"Success\", \"Success\", \"Success\", \"Success\", \"Success\", \"Success\", \"Success\", \"Success\", \"Success\", \"Success\", \"Success\", \"Success\", \"Success\", \"Success\", \"Success\", \"Success\", \"Success\", \"Success\", \"Success\", \"Success\", \"Success\", \"Success\", \"Success\", \"Success\", \"Success\", \"Success\", \"Success\", \"Success\", \"Success\", \"Success\", \"Success\", \"Success\", \"Success\", \"Success\", \"Success\", \"Success\", \"Success\", \"Success\", \"Success\", \"Success\", \"Success\", \"Success\", \"Success\", \"Success\", \"Success\", \"Success\", \"Success\", \"Success\", \"Success\", \"Success\", \"Success\", \"Success\", \"Success\", \"Success\", \"Success\", \"Success\", \"Success\", \"Success\", \"Success\", \"Success\", \"Success\", \"Success\", \"Success\", \"Success\", \"Success\", \"Success\", \"Success\", \"Success\", \"Success\", \"Success\", \"Success\", \"Success\", \"Success\", \"Success\", \"Success\", \"Success\", \"Success\", \"Success\", \"Success\", \"Success\", \"Success\", \"Success\", \"Success\", \"Success\", \"Success\", \"Success\", \"Success\", \"Success\", \"Success\", \"Success\", \"Success\", \"Success\", \"Success\", \"Success\", \"Success\", \"Success\", \"Success\", \"Success\", \"Success\", \"Success\", \"Success\", \"Success\", \"Success\", \"Success\", \"Success\", \"Success\", \"Success\", \"Success\", \"Success\", \"Success\", \"Success\", \"Success\", \"Success\", \"Success\", \"Success\", \"Success\", \"Success\", \"Success\", \"Success\", \"Success\", \"Success\", \"Success\", \"Success\", \"Success\", \"Success\", \"Success\", \"Success\", \"Success\", \"Success\", \"Success\", \"Success\", \"Success\", \"Success\", \"Success\", \"Success\", \"Success\", \"Success\", \"Success\", \"Success\", \"Success\", \"Success\", \"Success\", \"Success\", \"Success\", \"Success\", \"Success\", \"Success\", \"Success\", \"Success\", \"Success\", \"Success\", \"Success\", \"Success\", \"Success\", \"Success\", \"Success\", \"Success\", \"Success\", \"Success\", \"Success\", \"Success\", \"Success\", \"Success\", \"Success\", \"Success\", \"Success\", \"Success\", \"Success\", \"Success\", \"Success\", \"Success\", \"Success\", \"Success\", \"Success\", \"Success\", \"Success\", \"Success\", \"Success\", \"Success\", \"Success\", \"Success\", \"Success\", \"Success\", \"Success\", \"Success\", \"Success\", \"Success\", \"Success\", \"Success\", \"Success\", \"Success\", \"Success\", \"Success\", \"Success\", \"Success\", \"Success\", \"Success\", \"Success\", \"Success\", \"Success\", \"Success\", \"Success\", \"Success\", \"Success\", \"Success\", \"Success\", \"Success\", \"Success\", \"Success\", \"Success\", \"Success\", \"Success\", \"Success\", \"Success\", \"Success\", \"Success\", \"Success\", \"Success\", \"Success\", \"Success\", \"Success\", \"Success\", \"Success\", \"Success\", \"Success\", \"Success\", \"Success\", \"Success\", \"Success\", \"Success\", \"Success\", \"Success\", \"Success\", \"Success\", \"Success\", \"Success\", \"Success\", \"Success\", \"Success\", \"Success\", \"Success\", \"Success\", \"Success\", \"Success\", \"Success\", \"Success\", \"Success\", \"Success\", \"Success\", \"Success\", \"Success\", \"Success\", \"Success\", \"Success\", \"Success\", \"Success\", \"Success\", \"Success\", \"Success\", \"Success\", \"Success\", \"Success\", \"Success\", \"Success\", \"Success\", \"Success\", \"Success\", \"Success\", \"Success\", \"Success\", \"Success\", \"Success\", \"Success\", \"Success\", \"Success\", \"Success\", \"Success\", \"Success\", \"Success\", \"Success\", \"Success\", \"Success\", \"Success\", \"Success\", \"Success\", \"Success\", \"Success\", \"Success\", \"Success\", \"Success\", \"Success\", \"Success\", \"Success\", \"Success\", \"Success\", \"Success\", \"Success\", \"Success\", \"Success\", \"Success\", \"Success\", \"Success\", \"Success\", \"Success\", \"Success\", \"Success\", \"Success\", \"Success\", \"Success\", \"Success\", \"Success\", \"Success\", \"Success\", \"Success\", \"Success\", \"Success\", \"Success\", \"Success\", \"Success\", \"Success\", \"Success\", \"Success\", \"Success\", \"Success\", \"Success\", \"Success\", \"Success\", \"Success\", \"Success\", \"Success\", \"Success\", \"Success\", \"Success\", \"Success\", \"Success\", \"Success\", \"Success\", \"Success\", \"Success\", \"Success\", \"Success\", \"Success\", \"Success\", \"Success\", \"Success\", \"Success\", \"Success\", \"Success\", \"Success\", \"Success\", \"Success\", \"Success\", \"Success\", \"Success\", \"Success\", \"Success\", \"Success\", \"Success\", \"Success\", \"Success\", \"Success\", \"Success\", \"Success\", \"Success\", \"Success\", \"Success\", \"Success\", \"Success\", \"Success\", \"Success\", \"Success\", \"Success\", \"Success\", \"Success\", \"Success\", \"Success\", \"Success\", \"Success\", \"Success\", \"Success\", \"Success\", \"Success\", \"Success\", \"Success\", \"Success\", \"Success\", \"Success\", \"Success\", \"Success\", \"Success\", \"Success\", \"Success\", \"Success\", \"Success\", \"Success\", \"Success\", \"Success\", \"Success\", \"Success\", \"Success\", \"Success\", \"Success\", \"Success\", \"Success\", \"Success\", \"Success\", \"Success\", \"Success\", \"Success\", \"Success\", \"Success\", \"Success\", \"Success\", \"Success\", \"Success\", \"Success\", \"Success\", \"Success\", \"Success\", \"Success\", \"Success\", \"Success\", \"Success\", \"Success\", \"Success\", \"Success\", \"Success\", \"Success\", \"Success\", \"Success\", \"Success\", \"Success\", \"Success\", \"Success\", \"Success\", \"Success\", \"Success\", \"Success\", \"Success\", \"Success\", \"Success\", \"Success\", \"Success\", \"Success\", \"Success\", \"Success\", \"Success\", \"Success\", \"Success\", \"Success\", \"Success\", \"Success\", \"Success\", \"Success\", \"Success\", \"Success\", \"Success\", \"Success\", \"Success\", \"Success\", \"Success\", \"Success\", \"Success\", \"Success\", \"Success\", \"Success\", \"Success\", \"Success\", \"Success\", \"Success\", \"Success\", \"Success\", \"Success\", \"Success\", \"Success\", \"Success\", \"Success\", \"Success\", \"Success\", \"Success\", \"Success\", \"Success\", \"Success\", \"Success\", \"Success\", \"Success\", \"Success\", \"Success\", \"Success\", \"Success\", \"Success\", \"Success\", \"Success\", \"Success\", \"Success\", \"Success\", \"Success\", \"Success\", \"Success\", \"Success\", \"Success\", \"Success\", \"Success\", \"Success\", \"Success\", \"Success\", \"Success\", \"Success\", \"Success\", \"Success\", \"Success\", \"Success\", \"Success\", \"Success\", \"Success\", \"Success\", \"Success\", \"Success\", \"Success\", \"Success\", \"Success\", \"Success\", \"Success\", \"Success\", \"Success\", \"Success\", \"Success\", \"Success\", \"Success\", \"Success\", \"Success\", \"Success\", \"Success\", \"Success\", \"Success\", \"Success\", \"Success\", \"Success\", \"Success\", \"Success\", \"Success\", \"Success\", \"Success\", \"Success\", \"Success\", \"Success\", \"Success\", \"Success\", \"Success\", \"Success\", \"Success\", \"Success\", \"Success\", \"Success\", \"Success\", \"Success\", \"Success\", \"Success\", \"Success\", \"Success\", \"Success\", \"Success\", \"Success\", \"Success\", \"Success\", \"Success\", \"Success\", \"Success\", \"Success\", \"Success\", \"Success\", \"Success\", \"Success\", \"Success\", \"Success\", \"Success\", \"Success\", \"Success\", \"Success\", \"Success\", \"Success\", \"Success\", \"Success\", \"Success\", \"Success\", \"Success\", \"Success\", \"Success\", \"Success\", \"Success\", \"Success\", \"Success\", \"Success\", \"Success\", \"Success\", \"Success\", \"Success\", \"Success\", \"Success\", \"Success\", \"Success\", \"Success\", \"Success\", \"Success\", \"Success\", \"Success\", \"Success\", \"Success\", \"Success\", \"Success\", \"Success\", \"Success\", \"Success\", \"Success\", \"Success\", \"Success\", \"Success\", \"Success\", \"Success\", \"Success\", \"Success\", \"Success\", \"Success\", \"Success\", \"Success\", \"Success\", \"Success\", \"Success\", \"Success\", \"Success\", \"Success\", \"Success\", \"Success\", \"Success\", \"Success\", \"Success\", \"Success\", \"Success\", \"Success\", \"Success\", \"Success\", \"Success\", \"Success\", \"Success\", \"Success\", \"Success\", \"Success\", \"Success\", \"Success\", \"Success\", \"Success\", \"Success\", \"Success\", \"Success\", \"Success\", \"Success\", \"Success\", \"Success\", \"Success\", \"Success\", \"Success\", \"Success\", \"Success\", \"Success\", \"Success\", \"Success\", \"Success\", \"Success\", \"Success\", \"Success\", \"Success\", \"Success\", \"Success\", \"Success\", \"Success\", \"Success\", \"Success\", \"Success\", \"Success\", \"Success\", \"Success\", \"Success\", \"Success\", \"Success\", \"Success\", \"Success\", \"Success\", \"Success\", \"Success\", \"Success\", \"Success\", \"Success\", \"Success\", \"Success\", \"Success\", \"Success\", \"Success\", \"Success\", \"Success\", \"Success\", \"Success\", \"Success\", \"Success\", \"Success\", \"Success\", \"Success\", \"Success\", \"Success\", \"Success\", \"Success\", \"Success\", \"Success\", \"Success\", \"Success\", \"Success\", \"Success\", \"Success\", \"Success\", \"Success\", \"Success\", \"Success\", \"Success\", \"Success\", \"Success\", \"Success\", \"Success\", \"Success\", \"Success\", \"Success\", \"Success\", \"Success\", \"Success\", \"Success\", \"Success\", \"Success\", \"Success\", \"Success\", \"Success\", \"Success\", \"Success\", \"Success\", \"Success\", \"Success\", \"Success\", \"Success\", \"Success\", \"Success\", \"Success\", \"Success\", \"Success\", \"Success\", \"Success\", \"Success\", \"Success\", \"Success\", \"Success\", \"Success\", \"Success\", \"Success\", \"Success\", \"Success\", \"Success\", \"Success\", \"Success\", \"Success\", \"Success\", \"Success\", \"Success\", \"Success\", \"Success\", \"Success\", \"Success\", \"Success\", \"Success\", \"Success\", \"Success\", \"Success\", \"Success\", \"Success\", \"Success\", \"Success\", \"Success\", \"Success\", \"Success\", \"Success\", \"Success\", \"Success\", \"Success\", \"Success\", \"Success\", \"Success\", \"Success\", \"Success\", \"Success\", \"Success\", \"Success\", \"Success\", \"Success\", \"Success\", \"Success\", \"Success\", \"Success\", \"Success\", \"Success\", \"Success\", \"Success\", \"Success\", \"Success\", \"Success\", \"Success\", \"Success\", \"Success\", \"Success\", \"Success\", \"Success\", \"Success\", \"Success\", \"Success\", \"Success\", \"Success\", \"Success\", \"Success\", \"Success\", \"Success\", \"Success\", \"Success\", \"Success\", \"Success\", \"Success\", \"Success\", \"Success\", \"Success\", \"Success\", \"Success\", \"Success\", \"Success\", \"Success\", \"Success\", \"Success\", \"Success\", \"Success\", \"Success\", \"Success\", \"Success\", \"Success\", \"Success\", \"Success\", \"Success\", \"Success\", \"Success\", \"Success\", \"Success\", \"Success\", \"Success\", \"Success\", \"Success\", \"Success\", \"Success\", \"Success\", \"Success\", \"Success\", \"Success\", \"Success\", \"Success\", \"Success\", \"Success\", \"Success\", \"Success\", \"Success\", \"Success\", \"Success\", \"Success\", \"Success\", \"Success\", \"Success\", \"Success\", \"Success\", \"Success\", \"Success\", \"Success\", \"Success\", \"Success\", \"Success\", \"Success\", \"Success\", \"Success\", \"Success\", \"Success\", \"Success\", \"Success\", \"Success\", \"Success\", \"Success\", \"Success\", \"Success\", \"Success\", \"Success\", \"Success\", \"Success\", \"Success\", \"Success\", \"Success\", \"Success\", \"Success\", \"Success\", \"Success\", \"Success\", \"Success\", \"Success\", \"Success\", \"Success\", \"Success\", \"Success\", \"Success\", \"Success\", \"Success\", \"Success\", \"Success\", \"Success\", \"Success\", \"Success\", \"Success\", \"Success\", \"Success\", \"Success\", \"Success\", \"Success\", \"Success\", \"Success\", \"Success\", \"Success\", \"Success\", \"Success\", \"Success\", \"Success\", \"Success\", \"Success\", \"Success\", \"Success\", \"Success\", \"Success\", \"Success\", \"Success\", \"Success\", \"Success\", \"Success\", \"Success\", \"Success\", \"Success\", \"Success\", \"Success\", \"Success\", \"Success\", \"Success\", \"Success\", \"Success\", \"Success\", \"Success\", \"Success\", \"Success\", \"Success\", \"Success\", \"Success\", \"Success\", \"Success\", \"Success\", \"Success\", \"Success\", \"Success\", \"Success\", \"Success\", \"Success\", \"Success\", \"Success\", \"Success\", \"Success\", \"Success\", \"Success\", \"Success\", \"Success\", \"Success\", \"Success\", \"Success\", \"Success\", \"Success\", \"Success\", \"Success\", \"Success\", \"Success\", \"Success\", \"Success\", \"Success\", \"Success\", \"Success\", \"Success\", \"Success\", \"Success\", \"Success\", \"Success\", \"Success\", \"Success\", \"Success\", \"Success\", \"Success\", \"Success\", \"Success\", \"Success\", \"Success\", \"Success\", \"Success\", \"Success\", \"Success\", \"Success\", \"Success\", \"Success\", \"Success\", \"Success\", \"Success\", \"Success\", \"Success\", \"Success\", \"Success\", \"Success\", \"Success\", \"Success\", \"Success\", \"Success\", \"Success\", \"Success\", \"Success\", \"Success\", \"Success\", \"Success\", \"Success\", \"Success\", \"Success\", \"Success\", \"Success\", \"Success\", \"Success\", \"Success\", \"Success\", \"Success\", \"Success\", \"Success\", \"Success\", \"Success\", \"Success\", \"Success\", \"Success\", \"Success\", \"Success\", \"Success\", \"Success\", \"Success\", \"Success\", \"Success\", \"Success\", \"Success\", \"Success\", \"Success\", \"Success\", \"Success\", \"Success\", \"Success\", \"Success\", \"Success\", \"Success\", \"Success\", \"Success\", \"Success\", \"Success\", \"Success\", \"Success\", \"Success\", \"Success\", \"Success\", \"Success\", \"Success\", \"Success\", \"Success\", \"Success\", \"Success\", \"Success\", \"Success\", \"Success\", \"Success\", \"Success\", \"Success\", \"Success\", \"Success\", \"Success\", \"Success\", \"Success\", \"Success\", \"Success\", \"Success\", \"Success\", \"Success\", \"Success\", \"Success\", \"Success\", \"Success\", \"Success\", \"Success\", \"Success\", \"Success\", \"Success\", \"Success\", \"Success\", \"Success\", \"Success\", \"Success\", \"Success\", \"Success\", \"Success\", \"Success\", \"Success\", \"Success\", \"Success\", \"Success\", \"Success\", \"Success\", \"Success\", \"Success\", \"Success\", \"Success\", \"Success\", \"Success\", \"Success\", \"Success\", \"Success\", \"Success\", \"Success\", \"Success\", \"Success\", \"Success\", \"Success\", \"Success\", \"Success\", \"Success\", \"Success\", \"Success\", \"Success\", \"Success\", \"Success\", \"Success\", \"Success\", \"Success\", \"Success\", \"Success\", \"Success\", \"Success\", \"Success\", \"Success\", \"Success\", \"Success\", \"Success\", \"Success\", \"Success\", \"Success\", \"Success\", \"Success\", \"Success\", \"Success\", \"Success\", \"Success\", \"Success\", \"Success\", \"Success\", \"Success\", \"Success\", \"Success\", \"Success\", \"Success\", \"Success\", \"Success\", \"Success\", \"Success\", \"Success\", \"Success\", \"Success\", \"Success\", \"Success\", \"Success\", \"Success\", \"Success\", \"Success\", \"Success\", \"Success\", \"Success\", \"Success\", \"Success\", \"Success\", \"Success\", \"Success\", \"Success\", \"Success\", \"Success\", \"Success\", \"Success\", \"Success\", \"Success\", \"Success\", \"Success\", \"Success\", \"Success\", \"Success\", \"Success\", \"Success\", \"Success\", \"Success\", \"Success\", \"Success\", \"Success\", \"Success\", \"Success\", \"Success\", \"Success\", \"Success\", \"Success\", \"Success\", \"Success\", \"Success\", \"Success\", \"Success\", \"Success\", \"Success\", \"Success\", \"Success\", \"Success\", \"Success\", \"Success\", \"Success\", \"Success\", \"Success\", \"Success\", \"Success\", \"Success\", \"Success\", \"Success\", \"Success\", \"Success\", \"Success\", \"Success\", \"Success\", \"Success\", \"Success\", \"Success\", \"Success\", \"Success\", \"Success\", \"Success\", \"Success\", \"Success\", \"Success\", \"Success\", \"Success\", \"Success\", \"Success\", \"Success\", \"Success\", \"Success\", \"Success\", \"Success\", \"Success\", \"Success\", \"Success\", \"Success\", \"Success\", \"Success\", \"Success\", \"Success\", \"Success\", \"Success\", \"Success\", \"Success\", \"Success\", \"Success\", \"Success\", \"Success\", \"Success\", \"Success\", \"Success\", \"Success\", \"Success\", \"Success\", \"Success\", \"Success\", \"Success\", \"Success\", \"Success\", \"Success\", \"Success\", \"Success\", \"Success\", \"Success\", \"Success\", \"Success\", \"Success\", \"Success\", \"Success\", \"Success\", \"Success\", \"Success\", \"Success\", \"Success\", \"Success\", \"Success\", \"Success\", \"Success\", \"Success\", \"Success\", \"Success\", \"Success\", \"Success\", \"Success\", \"Success\", \"Success\", \"Success\", \"Success\", \"Success\", \"Success\", \"Success\", \"Success\", \"Success\", \"Success\", \"Success\", \"Success\", \"Success\", \"Success\", \"Success\", \"Success\", \"Success\", \"Success\", \"Success\", \"Success\", \"Success\", \"Success\", \"Success\", \"Success\", \"Success\", \"Success\", \"Success\", \"Success\", \"Success\", \"Success\", \"Success\", \"Success\", \"Success\", \"Success\", \"Success\", \"Success\", \"Success\", \"Success\", \"Success\", \"Success\", \"Success\", \"Success\", \"Success\", \"Success\", \"Success\", \"Success\", \"Success\", \"Success\", \"Success\", \"Success\", \"Success\", \"Success\", \"Success\", \"Success\", \"Success\", \"Success\", \"Success\", \"Success\", \"Success\", \"Success\", \"Success\", \"Success\", \"Success\", \"Success\", \"Success\", \"Success\", \"Success\", \"Success\", \"Success\", \"Success\", \"Success\", \"Success\", \"Success\", \"Success\", \"Success\", \"Success\", \"Success\", \"Success\", \"Success\", \"Success\", \"Success\", \"Success\", \"Success\", \"Success\", \"Success\", \"Success\", \"Success\", \"Success\", \"Success\", \"Success\", \"Success\", \"Success\", \"Success\", \"Success\", \"Success\", \"Success\", \"Success\", \"Success\", \"Success\", \"Success\", \"Success\", \"Success\", \"Success\", \"Success\", \"Success\", \"Success\", \"Success\", \"Success\", \"Success\", \"Success\", \"Success\", \"Success\", \"Success\", \"Success\", \"Success\", \"Success\", \"Success\", \"Success\", \"Success\", \"Success\", \"Success\", \"Success\", \"Success\", \"Success\", \"Success\", \"Success\", \"Success\", \"Success\", \"Success\", \"Success\", \"Success\", \"Success\", \"Success\", \"Success\", \"Success\", \"Success\", \"Success\", \"Success\", \"Success\", \"Success\", \"Success\", \"Success\", \"Success\", \"Success\", \"Success\", \"Success\", \"Success\", \"Success\", \"Success\", \"Success\", \"Success\", \"Success\", \"Success\", \"Success\", \"Success\", \"Success\", \"Success\", \"Success\", \"Success\", \"Success\", \"Success\", \"Success\", \"Success\", \"Success\", \"Success\", \"Success\", \"Success\", \"Success\", \"Success\", \"Success\", \"Success\", \"Success\", \"Success\", \"Success\", \"Success\", \"Success\", \"Success\", \"Success\", \"Success\", \"Success\", \"Success\", \"Success\", \"Success\", \"Success\", \"Success\", \"Success\", \"Success\", \"Success\", \"Success\", \"Success\", \"Success\", \"Success\", \"Success\", \"Success\", \"Success\", \"Success\", \"Success\", \"Success\", \"Success\", \"Success\", \"Success\", \"Success\", \"Success\", \"Success\", \"Success\", \"Success\", \"Success\", \"Success\", \"Success\", \"Success\", \"Success\", \"Success\", \"Success\", \"Success\", \"Success\", \"Success\", \"Success\", \"Success\", \"Success\", \"Success\", \"Success\", \"Success\", \"Success\", \"Success\", \"Success\", \"Success\", \"Success\", \"Success\", \"Success\", \"Success\", \"Success\", \"Success\", \"Success\", \"Success\", \"Success\", \"Success\", \"Success\", \"Success\", \"Success\", \"Success\", \"Success\", \"Success\", \"Success\", \"Success\", \"Success\", \"Success\", \"Success\", \"Success\", \"Success\", \"Success\", \"Success\", \"Success\", \"Success\", \"Success\", \"Success\", \"Success\", \"Success\", \"Success\", \"Success\", \"Success\", \"Success\", \"Success\", \"Success\", \"Success\", \"Success\", \"Success\", \"Success\", \"Success\", \"Success\", \"Success\", \"Success\", \"Success\", \"Success\", \"Success\", \"Success\", \"Success\", \"Success\", \"Success\", \"Success\", \"Success\", \"Success\", \"Success\", \"Success\", \"Success\", \"Success\", \"Success\", \"Success\", \"Success\", \"Success\", \"Success\", \"Success\", \"Success\", \"Success\", \"Success\", \"Success\", \"Success\", \"Success\", \"Success\", \"Success\", \"Success\", \"Success\", \"Success\", \"Success\", \"Success\", \"Success\", \"Success\", \"Success\", \"Success\", \"Success\", \"Success\", \"Success\", \"Success\", \"Success\", \"Success\", \"Success\", \"Success\", \"Success\", \"Success\", \"Success\", \"Success\", \"Success\", \"Success\", \"Success\", \"Success\", \"Success\", \"Success\", \"Success\", \"Success\", \"Success\", \"Success\", \"Success\", \"Success\", \"Success\", \"Success\", \"Success\", \"Success\", \"Success\", \"Success\", \"Success\", \"Success\", \"Success\", \"Success\", \"Success\", \"Success\", \"Success\", \"Success\", \"Success\", \"Success\", \"Success\", \"Success\", \"Success\", \"Success\", \"Success\", \"Success\", \"Success\", \"Success\", \"Success\", \"Success\", \"Success\", \"Success\", \"Success\", \"Success\", \"Success\", \"Success\", \"Success\", \"Success\", \"Success\", \"Success\", \"Success\", \"Success\", \"Success\", \"Success\", \"Success\", \"Success\", \"Success\", \"Success\", \"Success\", \"Success\", \"Success\", \"Success\", \"Success\", \"Success\", \"Success\", \"Success\", \"Success\", \"Success\", \"Success\", \"Success\", \"Success\", \"Success\", \"Success\", \"Success\", \"Success\", \"Success\", \"Success\", \"Success\", \"Success\", \"Success\", \"Success\", \"Success\", \"Success\", \"Success\", \"Success\", \"Success\", \"Success\", \"Success\", \"Success\", \"Success\", \"Success\", \"Success\", \"Success\", \"Success\", \"Success\", \"Success\", \"Success\", \"Success\", \"Success\", \"Success\", \"Success\", \"Success\", \"Success\", \"Success\", \"Success\", \"Success\", \"Success\", \"Success\", \"Success\", \"Success\", \"Success\", \"Success\", \"Success\", \"Success\", \"Success\", \"Success\", \"Success\", \"Success\", \"Success\", \"Success\", \"Success\", \"Success\", \"Success\", \"Success\", \"Success\", \"Success\", \"Success\", \"Success\", \"Success\", \"Success\", \"Success\", \"Success\", \"Success\", \"Success\", \"Success\", \"Success\", \"Success\", \"Success\", \"Success\", \"Success\", \"Success\", \"Success\", \"Success\", \"Success\", \"Success\", \"Success\", \"Success\", \"Success\", \"Success\", \"Success\", \"Success\", \"Success\", \"Success\", \"Success\", \"Success\", \"Success\", \"Success\", \"Success\", \"Success\", \"Success\", \"Success\", \"Success\", \"Success\", \"Success\", \"Success\", \"Success\", \"Success\", \"Success\", \"Success\", \"Success\", \"Success\", \"Success\", \"Success\", \"Success\", \"Success\", \"Success\", \"Success\", \"Success\", \"Success\", \"Success\", \"Success\", \"Success\", \"Success\", \"Success\", \"Success\", \"Success\", \"Success\", \"Success\", \"Success\", \"Success\", \"Success\", \"Success\", \"Success\", \"Success\", \"Success\", \"Success\", \"Success\", \"Success\", \"Success\", \"Success\", \"Success\", \"Success\", \"Success\", \"Success\", \"Success\", \"Success\", \"Success\", \"Success\", \"Success\", \"Success\", \"Success\", \"Success\", \"Success\", \"Success\", \"Success\", \"Success\", \"Success\", \"Success\", \"Success\", \"Success\", \"Success\", \"Success\", \"Success\", \"Success\", \"Success\", \"Success\", \"Success\", \"Success\", \"Success\", \"Success\", \"Success\", \"Success\", \"Success\", \"Success\", \"Success\", \"Success\", \"Success\", \"Success\", \"Success\", \"Success\", \"Success\", \"Success\", \"Success\", \"Success\", \"Success\", \"Success\", \"Success\", \"Success\", \"Success\", \"Success\", \"Success\", \"Success\", \"Success\", \"Success\", \"Success\", \"Success\", \"Success\", \"Success\", \"Success\", \"Success\", \"Success\", \"Success\", \"Success\", \"Success\", \"Success\", \"Success\", \"Success\", \"Success\", \"Success\", \"Success\", \"Success\", \"Success\", \"Success\", \"Success\", \"Success\", \"Success\", \"Success\", \"Success\", \"Success\", \"Success\", \"Success\", \"Success\", \"Success\", \"Success\", \"Success\", \"Success\", \"Success\", \"Success\", \"Success\", \"Success\", \"Success\", \"Success\", \"Success\", \"Success\", \"Success\", \"Success\", \"Success\", \"Success\", \"Success\", \"Success\", \"Success\", \"Success\", \"Success\", \"Success\", \"Success\", \"Success\", \"Success\", \"Success\", \"Success\", \"Success\", \"Success\", \"Success\", \"Success\", \"Success\", \"Success\", \"Success\", \"Success\", \"Success\", \"Success\", \"Success\", \"Success\", \"Success\", \"Success\", \"Success\", \"Success\", \"Success\", \"Success\", \"Success\", \"Success\", \"Success\", \"Success\", \"Success\", \"Success\", \"Success\", \"Success\", \"Success\", \"Success\", \"Success\", \"Success\", \"Success\", \"Success\", \"Success\", \"Success\", \"Success\", \"Success\", \"Success\", \"Success\", \"Success\", \"Success\", \"Success\", \"Success\", \"Success\", \"Success\", \"Success\", \"Success\", \"Success\", \"Success\", \"Success\", \"Success\", \"Success\", \"Success\", \"Success\", \"Success\", \"Success\", \"Success\", \"Success\", \"Success\", \"Success\", \"Success\", \"Success\", \"Success\", \"Success\", \"Success\", \"Success\", \"Success\", \"Success\", \"Success\", \"Success\", \"Success\", \"Success\", \"Success\", \"Success\", \"Success\", \"Success\", \"Success\", \"Success\", \"Success\", \"Success\", \"Success\", \"Success\", \"Success\", \"Success\", \"Success\", \"Success\", \"Success\", \"Success\", \"Success\", \"Success\", \"Success\", \"Success\", \"Success\", \"Success\", \"Success\", \"Success\", \"Success\", \"Success\", \"Success\", \"Success\", \"Success\", \"Success\", \"Success\", \"Success\", \"Success\", \"Success\", \"Success\", \"Success\", \"Success\", \"Success\", \"Success\", \"Success\", \"Success\", \"Success\", \"Success\", \"Success\", \"Success\", \"Success\", \"Success\", \"Success\", \"Success\", \"Success\", \"Success\", \"Success\", \"Success\", \"Success\", \"Success\", \"Success\", \"Success\", \"Success\", \"Success\", \"Success\", \"Success\", \"Success\", \"Success\", \"Success\", \"Success\", \"Success\", \"Success\", \"Success\", \"Success\"], \"yaxis\": \"y\"}, {\"alignmentgroup\": \"True\", \"hovertemplate\": \"Status Mission=%{y}<br>Company Name=%{x}<extra></extra>\", \"legendgroup\": \"Failure\", \"marker\": {\"color\": \"red\"}, \"name\": \"Failure\", \"offsetgroup\": \"Failure\", \"orientation\": \"v\", \"showlegend\": true, \"textposition\": \"auto\", \"type\": \"bar\", \"x\": [\"ExPace\", \"Rocket Lab\", \"Virgin Orbit\", \"CASC\", \"CASC\", \"ISA\", \"Exos\", \"Arianespace\", \"CASC\", \"OneSpace\", \"ISA\", \"ISA\", \"Landspace\", \"Roscosmos\", \"Roscosmos\", \"ISRO\", \"ISA\", \"CASC\", \"Rocket Lab\", \"JAXA\", \"Roscosmos\", \"CASC\", \"Sandia\", \"SpaceX\", \"ISA\", \"Northrop\", \"VKS RF\", \"Sea Launch\", \"ISA\", \"ISA\", \"KCST\", \"Northrop\", \"ISRO\", \"KARI\", \"ISRO\", \"KARI\", \"KCST\", \"Northrop\", \"ISA\", \"SpaceX\", \"SpaceX\", \"Sea Launch\", \"Kosmotras\", \"ISRO\", \"SpaceX\", \"Eurockot\", \"SRC\", \"VKS RF\", \"IAI\", \"MHI\", \"CASIC\", \"NASA\", \"Arianespace\", \"CASIC\", \"Northrop\", \"VKS RF\", \"VKS RF\", \"Sea Launch\", \"ISAS\", \"AEB\", \"MHI\", \"Boeing\", \"Lockheed\", \"Lockheed\", \"Lockheed\", \"VKS RF\", \"KCST\", \"Boeing\", \"Lockheed\", \"IAI\", \"AEB\", \"VKS RF\", \"Boeing\", \"Northrop\", \"ESA\", \"CASC\", \"EER\", \"Lockheed\", \"Northrop\", \"MITT\", \"CASC\", \"Arianespace\", \"Northrop\", \"VKS RF\", \"Arianespace\", \"Martin Marietta\", \"ISRO\", \"Martin Marietta\", \"General Dynamics\", \"CASC\", \"General Dynamics\", \"RVSN USSR\", \"RVSN USSR\", \"RVSN USSR\", \"General Dynamics\", \"RVSN USSR\", \"Martin Marietta\", \"Arianespace\", \"RVSN USSR\", \"ISRO\", \"General Dynamics\", \"ISRO\", \"RVSN USSR\", \"Arianespace\", \"Martin Marietta\", \"NASA\", \"RVSN USSR\", \"Arianespace\", \"Martin Marietta\", \"RVSN USSR\", \"RVSN USSR\", \"General Dynamics\", \"RVSN USSR\", \"RVSN USSR\", \"ESA\", \"RVSN USSR\", \"General Dynamics\", \"RVSN USSR\", \"General Dynamics\", \"General Dynamics\", \"ESA\", \"ISRO\", \"CASC\", \"Martin Marietta\", \"RVSN USSR\", \"General Dynamics\", \"RVSN USSR\", \"RVSN USSR\", \"CASC\", \"RVSN USSR\", \"ISAS\", \"RVSN USSR\", \"RVSN USSR\", \"Martin Marietta\", \"General Dynamics\", \"RVSN USSR\", \"General Dynamics\", \"CASC\", \"RVSN USSR\", \"CASC\", \"RVSN USSR\", \"RVSN USSR\", \"RVSN USSR\", \"Martin Marietta\", \"CASC\", \"RVSN USSR\", \"RVSN USSR\", \"US Air Force\", \"RVSN USSR\", \"CNES\", \"RVSN USSR\", \"RVSN USSR\", \"RVSN USSR\", \"RVSN USSR\", \"RVSN USSR\", \"US Air Force\", \"RVSN USSR\", \"Martin Marietta\", \"CNES\", \"General Dynamics\", \"RVSN USSR\", \"CECLES\", \"RVSN USSR\", \"RVSN USSR\", \"RVSN USSR\", \"RVSN USSR\", \"RVSN USSR\", \"General Dynamics\", \"RVSN USSR\", \"RVSN USSR\", \"RVSN USSR\", \"General Dynamics\", \"RAE\", \"ISAS\", \"RVSN USSR\", \"RVSN USSR\", \"CECLES\", \"RVSN USSR\", \"RVSN USSR\", \"RVSN USSR\", \"RVSN USSR\", \"RVSN USSR\", \"CASC\", \"RVSN USSR\", \"UT\", \"RVSN USSR\", \"RVSN USSR\", \"CECLES\", \"RVSN USSR\", \"RVSN USSR\", \"RVSN USSR\", \"RVSN USSR\", \"RVSN USSR\", \"RVSN USSR\", \"RVSN USSR\", \"RVSN USSR\", \"RVSN USSR\", \"General Dynamics\", \"RVSN USSR\", \"RVSN USSR\", \"RVSN USSR\", \"RVSN USSR\", \"RVSN USSR\", \"RVSN USSR\", \"RVSN USSR\", \"RVSN USSR\", \"RVSN USSR\", \"RVSN USSR\", \"RVSN USSR\", \"RVSN USSR\", \"US Air Force\", \"UT\", \"RVSN USSR\", \"NASA\", \"UT\", \"RVSN USSR\", \"UT\", \"RVSN USSR\", \"Martin Marietta\", \"General Dynamics\", \"RVSN USSR\", \"RVSN USSR\", \"RVSN USSR\", \"RVSN USSR\", \"RVSN USSR\", \"General Dynamics\", \"Martin Marietta\", \"RVSN USSR\", \"General Dynamics\", \"General Dynamics\", \"RVSN USSR\", \"General Dynamics\", \"RVSN USSR\", \"RVSN USSR\", \"General Dynamics\", \"RVSN USSR\", \"General Dynamics\", \"RVSN USSR\", \"General Dynamics\", \"US Air Force\", \"General Dynamics\", \"RVSN USSR\", \"RVSN USSR\", \"RVSN USSR\", \"RVSN USSR\", \"RVSN USSR\", \"RVSN USSR\", \"US Air Force\", \"RVSN USSR\", \"RVSN USSR\", \"General Dynamics\", \"RVSN USSR\", \"US Air Force\", \"RVSN USSR\", \"US Air Force\", \"RVSN USSR\", \"RVSN USSR\", \"General Dynamics\", \"RVSN USSR\", \"RVSN USSR\", \"RVSN USSR\", \"RVSN USSR\", \"RVSN USSR\", \"RVSN USSR\", \"General Dynamics\", \"RVSN USSR\", \"US Air Force\", \"US Air Force\", \"General Dynamics\", \"NASA\", \"US Air Force\", \"US Air Force\", \"RVSN USSR\", \"RVSN USSR\", \"General Dynamics\", \"General Dynamics\", \"US Air Force\", \"NASA\", \"RVSN USSR\", \"US Air Force\", \"General Dynamics\", \"General Dynamics\", \"US Air Force\", \"US Air Force\", \"NASA\", \"US Air Force\", \"NASA\", \"US Air Force\", \"RVSN USSR\", \"RVSN USSR\", \"General Dynamics\", \"NASA\", \"US Air Force\", \"NASA\", \"US Air Force\", \"RVSN USSR\", \"General Dynamics\", \"RVSN USSR\", \"General Dynamics\", \"US Air Force\", \"NASA\", \"RVSN USSR\", \"US Air Force\", \"US Air Force\", \"RVSN USSR\", \"RVSN USSR\", \"General Dynamics\", \"US Air Force\", \"US Air Force\", \"General Dynamics\", \"US Air Force\", \"US Air Force\", \"US Air Force\", \"US Navy\", \"RVSN USSR\", \"US Air Force\", \"US Navy\", \"US Air Force\", \"RVSN USSR\", \"NASA\", \"AMBA\", \"RVSN USSR\", \"US Navy\", \"RVSN USSR\", \"US Navy\", \"US Navy\", \"US Navy\", \"AMBA\", \"US Navy\", \"US Air Force\", \"US Navy\", \"US Navy\", \"US Navy\", \"US Navy\", \"US Navy\", \"RVSN USSR\", \"AMBA\", \"US Navy\", \"US Navy\"], \"xaxis\": \"x\", \"y\": [\"Failure\", \"Failure\", \"Failure\", \"Failure\", \"Failure\", \"Failure\", \"Failure\", \"Failure\", \"Failure\", \"Failure\", \"Failure\", \"Failure\", \"Failure\", \"Failure\", \"Failure\", \"Failure\", \"Failure\", \"Failure\", \"Failure\", \"Failure\", \"Failure\", \"Failure\", \"Failure\", \"Failure\", \"Failure\", \"Failure\", \"Failure\", \"Failure\", \"Failure\", \"Failure\", \"Failure\", \"Failure\", \"Failure\", \"Failure\", \"Failure\", \"Failure\", \"Failure\", \"Failure\", \"Failure\", \"Failure\", \"Failure\", \"Failure\", \"Failure\", \"Failure\", \"Failure\", \"Failure\", \"Failure\", \"Failure\", \"Failure\", \"Failure\", \"Failure\", \"Failure\", \"Failure\", \"Failure\", \"Failure\", \"Failure\", \"Failure\", \"Failure\", \"Failure\", \"Failure\", \"Failure\", \"Failure\", \"Failure\", \"Failure\", \"Failure\", \"Failure\", \"Failure\", \"Failure\", \"Failure\", \"Failure\", \"Failure\", \"Failure\", \"Failure\", \"Failure\", \"Failure\", \"Failure\", \"Failure\", \"Failure\", \"Failure\", \"Failure\", \"Failure\", \"Failure\", \"Failure\", \"Failure\", \"Failure\", \"Failure\", \"Failure\", \"Failure\", \"Failure\", \"Failure\", \"Failure\", \"Failure\", \"Failure\", \"Failure\", \"Failure\", \"Failure\", \"Failure\", \"Failure\", \"Failure\", \"Failure\", \"Failure\", \"Failure\", \"Failure\", \"Failure\", \"Failure\", \"Failure\", \"Failure\", \"Failure\", \"Failure\", \"Failure\", \"Failure\", \"Failure\", \"Failure\", \"Failure\", \"Failure\", \"Failure\", \"Failure\", \"Failure\", \"Failure\", \"Failure\", \"Failure\", \"Failure\", \"Failure\", \"Failure\", \"Failure\", \"Failure\", \"Failure\", \"Failure\", \"Failure\", \"Failure\", \"Failure\", \"Failure\", \"Failure\", \"Failure\", \"Failure\", \"Failure\", \"Failure\", \"Failure\", \"Failure\", \"Failure\", \"Failure\", \"Failure\", \"Failure\", \"Failure\", \"Failure\", \"Failure\", \"Failure\", \"Failure\", \"Failure\", \"Failure\", \"Failure\", \"Failure\", \"Failure\", \"Failure\", \"Failure\", \"Failure\", \"Failure\", \"Failure\", \"Failure\", \"Failure\", \"Failure\", \"Failure\", \"Failure\", \"Failure\", \"Failure\", \"Failure\", \"Failure\", \"Failure\", \"Failure\", \"Failure\", \"Failure\", \"Failure\", \"Failure\", \"Failure\", \"Failure\", \"Failure\", \"Failure\", \"Failure\", \"Failure\", \"Failure\", \"Failure\", \"Failure\", \"Failure\", \"Failure\", \"Failure\", \"Failure\", \"Failure\", \"Failure\", \"Failure\", \"Failure\", \"Failure\", \"Failure\", \"Failure\", \"Failure\", \"Failure\", \"Failure\", \"Failure\", \"Failure\", \"Failure\", \"Failure\", \"Failure\", \"Failure\", \"Failure\", \"Failure\", \"Failure\", \"Failure\", \"Failure\", \"Failure\", \"Failure\", \"Failure\", \"Failure\", \"Failure\", \"Failure\", \"Failure\", \"Failure\", \"Failure\", \"Failure\", \"Failure\", \"Failure\", \"Failure\", \"Failure\", \"Failure\", \"Failure\", \"Failure\", \"Failure\", \"Failure\", \"Failure\", \"Failure\", \"Failure\", \"Failure\", \"Failure\", \"Failure\", \"Failure\", \"Failure\", \"Failure\", \"Failure\", \"Failure\", \"Failure\", \"Failure\", \"Failure\", \"Failure\", \"Failure\", \"Failure\", \"Failure\", \"Failure\", \"Failure\", \"Failure\", \"Failure\", \"Failure\", \"Failure\", \"Failure\", \"Failure\", \"Failure\", \"Failure\", \"Failure\", \"Failure\", \"Failure\", \"Failure\", \"Failure\", \"Failure\", \"Failure\", \"Failure\", \"Failure\", \"Failure\", \"Failure\", \"Failure\", \"Failure\", \"Failure\", \"Failure\", \"Failure\", \"Failure\", \"Failure\", \"Failure\", \"Failure\", \"Failure\", \"Failure\", \"Failure\", \"Failure\", \"Failure\", \"Failure\", \"Failure\", \"Failure\", \"Failure\", \"Failure\", \"Failure\", \"Failure\", \"Failure\", \"Failure\", \"Failure\", \"Failure\", \"Failure\", \"Failure\", \"Failure\", \"Failure\", \"Failure\", \"Failure\", \"Failure\", \"Failure\", \"Failure\", \"Failure\", \"Failure\", \"Failure\", \"Failure\", \"Failure\", \"Failure\", \"Failure\", \"Failure\", \"Failure\", \"Failure\", \"Failure\", \"Failure\", \"Failure\", \"Failure\", \"Failure\", \"Failure\", \"Failure\", \"Failure\", \"Failure\", \"Failure\", \"Failure\", \"Failure\", \"Failure\", \"Failure\", \"Failure\", \"Failure\", \"Failure\", \"Failure\", \"Failure\", \"Failure\", \"Failure\", \"Failure\", \"Failure\", \"Failure\", \"Failure\", \"Failure\", \"Failure\", \"Failure\", \"Failure\", \"Failure\"], \"yaxis\": \"y\"}, {\"alignmentgroup\": \"True\", \"hovertemplate\": \"Status Mission=%{y}<br>Company Name=%{x}<extra></extra>\", \"legendgroup\": \"Prelaunch Failure\", \"marker\": {\"color\": \"#FFA15A\"}, \"name\": \"Prelaunch Failure\", \"offsetgroup\": \"Prelaunch Failure\", \"orientation\": \"v\", \"showlegend\": true, \"textposition\": \"auto\", \"type\": \"bar\", \"x\": [\"ISA\", \"SpaceX\", \"AEB\", \"RVSN USSR\"], \"xaxis\": \"x\", \"y\": [\"Prelaunch Failure\", \"Prelaunch Failure\", \"Prelaunch Failure\", \"Prelaunch Failure\"], \"yaxis\": \"y\"}, {\"alignmentgroup\": \"True\", \"hovertemplate\": \"Status Mission=%{y}<br>Company Name=%{x}<extra></extra>\", \"legendgroup\": \"Partial Failure\", \"marker\": {\"color\": \"rgb(200,120,98)\"}, \"name\": \"Partial Failure\", \"offsetgroup\": \"Partial Failure\", \"orientation\": \"v\", \"showlegend\": true, \"textposition\": \"auto\", \"type\": \"bar\", \"x\": [\"Exos\", \"Exos\", \"Exos\", \"Arianespace\", \"Roscosmos\", \"CASC\", \"CASC\", \"VKS RF\", \"Arianespace\", \"VKS RF\", \"SpaceX\", \"VKS RF\", \"Land Launch\", \"ISRO\", \"ULA\", \"VKS RF\", \"Boeing\", \"Arianespace\", \"ISRO\", \"VKS RF\", \"MHI\", \"ILS\", \"ESA\", \"ISRO\", \"CASC\", \"VKS RF\", \"Boeing\", \"ISAS\", \"CASC\", \"Northrop\", \"CASC\", \"Northrop\", \"RVSN USSR\", \"ISRO\", \"Martin Marietta\", \"RVSN USSR\", \"RVSN USSR\", \"RVSN USSR\", \"RVSN USSR\", \"RVSN USSR\", \"CASC\", \"RVSN USSR\", \"RVSN USSR\", \"RVSN USSR\", \"RVSN USSR\", \"General Dynamics\", \"ISRO\", \"RVSN USSR\", \"RVSN USSR\", \"RVSN USSR\", \"MHI\", \"RVSN USSR\", \"RVSN USSR\", \"RVSN USSR\", \"RVSN USSR\", \"RVSN USSR\", \"RVSN USSR\", \"RVSN USSR\", \"RVSN USSR\", \"RVSN USSR\", \"RVSN USSR\", \"Martin Marietta\", \"RVSN USSR\", \"RVSN USSR\", \"RVSN USSR\", \"RVSN USSR\", \"RVSN USSR\", \"General Dynamics\", \"RVSN USSR\", \"NASA\", \"RVSN USSR\", \"General Dynamics\", \"US Air Force\", \"RVSN USSR\", \"RVSN USSR\", \"RVSN USSR\", \"General Dynamics\", \"RVSN USSR\", \"Arm??e de l'Air\", \"RVSN USSR\", \"RVSN USSR\", \"General Dynamics\", \"General Dynamics\", \"NASA\", \"NASA\", \"General Dynamics\", \"RVSN USSR\", \"RVSN USSR\", \"Martin Marietta\", \"RVSN USSR\", \"General Dynamics\", \"RVSN USSR\", \"US Air Force\", \"General Dynamics\", \"General Dynamics\", \"General Dynamics\", \"NASA\", \"US Navy\", \"NASA\", \"RVSN USSR\", \"AMBA\", \"NASA\"], \"xaxis\": \"x\", \"y\": [\"Partial Failure\", \"Partial Failure\", \"Partial Failure\", \"Partial Failure\", \"Partial Failure\", \"Partial Failure\", \"Partial Failure\", \"Partial Failure\", \"Partial Failure\", \"Partial Failure\", \"Partial Failure\", \"Partial Failure\", \"Partial Failure\", \"Partial Failure\", \"Partial Failure\", \"Partial Failure\", \"Partial Failure\", \"Partial Failure\", \"Partial Failure\", \"Partial Failure\", \"Partial Failure\", \"Partial Failure\", \"Partial Failure\", \"Partial Failure\", \"Partial Failure\", \"Partial Failure\", \"Partial Failure\", \"Partial Failure\", \"Partial Failure\", \"Partial Failure\", \"Partial Failure\", \"Partial Failure\", \"Partial Failure\", \"Partial Failure\", \"Partial Failure\", \"Partial Failure\", \"Partial Failure\", \"Partial Failure\", \"Partial Failure\", \"Partial Failure\", \"Partial Failure\", \"Partial Failure\", \"Partial Failure\", \"Partial Failure\", \"Partial Failure\", \"Partial Failure\", \"Partial Failure\", \"Partial Failure\", \"Partial Failure\", \"Partial Failure\", \"Partial Failure\", \"Partial Failure\", \"Partial Failure\", \"Partial Failure\", \"Partial Failure\", \"Partial Failure\", \"Partial Failure\", \"Partial Failure\", \"Partial Failure\", \"Partial Failure\", \"Partial Failure\", \"Partial Failure\", \"Partial Failure\", \"Partial Failure\", \"Partial Failure\", \"Partial Failure\", \"Partial Failure\", \"Partial Failure\", \"Partial Failure\", \"Partial Failure\", \"Partial Failure\", \"Partial Failure\", \"Partial Failure\", \"Partial Failure\", \"Partial Failure\", \"Partial Failure\", \"Partial Failure\", \"Partial Failure\", \"Partial Failure\", \"Partial Failure\", \"Partial Failure\", \"Partial Failure\", \"Partial Failure\", \"Partial Failure\", \"Partial Failure\", \"Partial Failure\", \"Partial Failure\", \"Partial Failure\", \"Partial Failure\", \"Partial Failure\", \"Partial Failure\", \"Partial Failure\", \"Partial Failure\", \"Partial Failure\", \"Partial Failure\", \"Partial Failure\", \"Partial Failure\", \"Partial Failure\", \"Partial Failure\", \"Partial Failure\", \"Partial Failure\", \"Partial Failure\"], \"yaxis\": \"y\"}],                        {\"bargap\": 0.3, \"bargroupgap\": 0.1, \"barmode\": \"stack\", \"font\": {\"family\": \"Fira Code\"}, \"height\": 800, \"legend\": {\"title\": {\"text\": \"Status Mission\"}, \"tracegroupgap\": 0}, \"margin\": {\"b\": 10, \"l\": 80, \"r\": 80, \"t\": 80}, \"template\": {\"data\": {\"bar\": [{\"error_x\": {\"color\": \"#f2f5fa\"}, \"error_y\": {\"color\": \"#f2f5fa\"}, \"marker\": {\"line\": {\"color\": \"rgb(17,17,17)\", \"width\": 0.5}}, \"type\": \"bar\"}], \"barpolar\": [{\"marker\": {\"line\": {\"color\": \"rgb(17,17,17)\", \"width\": 0.5}}, \"type\": \"barpolar\"}], \"carpet\": [{\"aaxis\": {\"endlinecolor\": \"#A2B1C6\", \"gridcolor\": \"#506784\", \"linecolor\": \"#506784\", \"minorgridcolor\": \"#506784\", \"startlinecolor\": \"#A2B1C6\"}, \"baxis\": {\"endlinecolor\": \"#A2B1C6\", \"gridcolor\": \"#506784\", \"linecolor\": \"#506784\", \"minorgridcolor\": \"#506784\", \"startlinecolor\": \"#A2B1C6\"}, \"type\": \"carpet\"}], \"choropleth\": [{\"colorbar\": {\"outlinewidth\": 0, \"ticks\": \"\"}, \"type\": \"choropleth\"}], \"contour\": [{\"colorbar\": {\"outlinewidth\": 0, \"ticks\": \"\"}, \"colorscale\": [[0.0, \"#0d0887\"], [0.1111111111111111, \"#46039f\"], [0.2222222222222222, \"#7201a8\"], [0.3333333333333333, \"#9c179e\"], [0.4444444444444444, \"#bd3786\"], [0.5555555555555556, \"#d8576b\"], [0.6666666666666666, \"#ed7953\"], [0.7777777777777778, \"#fb9f3a\"], [0.8888888888888888, \"#fdca26\"], [1.0, \"#f0f921\"]], \"type\": \"contour\"}], \"contourcarpet\": [{\"colorbar\": {\"outlinewidth\": 0, \"ticks\": \"\"}, \"type\": \"contourcarpet\"}], \"heatmap\": [{\"colorbar\": {\"outlinewidth\": 0, \"ticks\": \"\"}, \"colorscale\": [[0.0, \"#0d0887\"], [0.1111111111111111, \"#46039f\"], [0.2222222222222222, \"#7201a8\"], [0.3333333333333333, \"#9c179e\"], [0.4444444444444444, \"#bd3786\"], [0.5555555555555556, \"#d8576b\"], [0.6666666666666666, \"#ed7953\"], [0.7777777777777778, \"#fb9f3a\"], [0.8888888888888888, \"#fdca26\"], [1.0, \"#f0f921\"]], \"type\": \"heatmap\"}], \"heatmapgl\": [{\"colorbar\": {\"outlinewidth\": 0, \"ticks\": \"\"}, \"colorscale\": [[0.0, \"#0d0887\"], [0.1111111111111111, \"#46039f\"], [0.2222222222222222, \"#7201a8\"], [0.3333333333333333, \"#9c179e\"], [0.4444444444444444, \"#bd3786\"], [0.5555555555555556, \"#d8576b\"], [0.6666666666666666, \"#ed7953\"], [0.7777777777777778, \"#fb9f3a\"], [0.8888888888888888, \"#fdca26\"], [1.0, \"#f0f921\"]], \"type\": \"heatmapgl\"}], \"histogram\": [{\"marker\": {\"colorbar\": {\"outlinewidth\": 0, \"ticks\": \"\"}}, \"type\": \"histogram\"}], \"histogram2d\": [{\"colorbar\": {\"outlinewidth\": 0, \"ticks\": \"\"}, \"colorscale\": [[0.0, \"#0d0887\"], [0.1111111111111111, \"#46039f\"], [0.2222222222222222, \"#7201a8\"], [0.3333333333333333, \"#9c179e\"], [0.4444444444444444, \"#bd3786\"], [0.5555555555555556, \"#d8576b\"], [0.6666666666666666, \"#ed7953\"], [0.7777777777777778, \"#fb9f3a\"], [0.8888888888888888, \"#fdca26\"], [1.0, \"#f0f921\"]], \"type\": \"histogram2d\"}], \"histogram2dcontour\": [{\"colorbar\": {\"outlinewidth\": 0, \"ticks\": \"\"}, \"colorscale\": [[0.0, \"#0d0887\"], [0.1111111111111111, \"#46039f\"], [0.2222222222222222, \"#7201a8\"], [0.3333333333333333, \"#9c179e\"], [0.4444444444444444, \"#bd3786\"], [0.5555555555555556, \"#d8576b\"], [0.6666666666666666, \"#ed7953\"], [0.7777777777777778, \"#fb9f3a\"], [0.8888888888888888, \"#fdca26\"], [1.0, \"#f0f921\"]], \"type\": \"histogram2dcontour\"}], \"mesh3d\": [{\"colorbar\": {\"outlinewidth\": 0, \"ticks\": \"\"}, \"type\": \"mesh3d\"}], \"parcoords\": [{\"line\": {\"colorbar\": {\"outlinewidth\": 0, \"ticks\": \"\"}}, \"type\": \"parcoords\"}], \"pie\": [{\"automargin\": true, \"type\": \"pie\"}], \"scatter\": [{\"marker\": {\"line\": {\"color\": \"#283442\"}}, \"type\": \"scatter\"}], \"scatter3d\": [{\"line\": {\"colorbar\": {\"outlinewidth\": 0, \"ticks\": \"\"}}, \"marker\": {\"colorbar\": {\"outlinewidth\": 0, \"ticks\": \"\"}}, \"type\": \"scatter3d\"}], \"scattercarpet\": [{\"marker\": {\"colorbar\": {\"outlinewidth\": 0, \"ticks\": \"\"}}, \"type\": \"scattercarpet\"}], \"scattergeo\": [{\"marker\": {\"colorbar\": {\"outlinewidth\": 0, \"ticks\": \"\"}}, \"type\": \"scattergeo\"}], \"scattergl\": [{\"marker\": {\"line\": {\"color\": \"#283442\"}}, \"type\": \"scattergl\"}], \"scattermapbox\": [{\"marker\": {\"colorbar\": {\"outlinewidth\": 0, \"ticks\": \"\"}}, \"type\": \"scattermapbox\"}], \"scatterpolar\": [{\"marker\": {\"colorbar\": {\"outlinewidth\": 0, \"ticks\": \"\"}}, \"type\": \"scatterpolar\"}], \"scatterpolargl\": [{\"marker\": {\"colorbar\": {\"outlinewidth\": 0, \"ticks\": \"\"}}, \"type\": \"scatterpolargl\"}], \"scatterternary\": [{\"marker\": {\"colorbar\": {\"outlinewidth\": 0, \"ticks\": \"\"}}, \"type\": \"scatterternary\"}], \"surface\": [{\"colorbar\": {\"outlinewidth\": 0, \"ticks\": \"\"}, \"colorscale\": [[0.0, \"#0d0887\"], [0.1111111111111111, \"#46039f\"], [0.2222222222222222, \"#7201a8\"], [0.3333333333333333, \"#9c179e\"], [0.4444444444444444, \"#bd3786\"], [0.5555555555555556, \"#d8576b\"], [0.6666666666666666, \"#ed7953\"], [0.7777777777777778, \"#fb9f3a\"], [0.8888888888888888, \"#fdca26\"], [1.0, \"#f0f921\"]], \"type\": \"surface\"}], \"table\": [{\"cells\": {\"fill\": {\"color\": \"#506784\"}, \"line\": {\"color\": \"rgb(17,17,17)\"}}, \"header\": {\"fill\": {\"color\": \"#2a3f5f\"}, \"line\": {\"color\": \"rgb(17,17,17)\"}}, \"type\": \"table\"}]}, \"layout\": {\"annotationdefaults\": {\"arrowcolor\": \"#f2f5fa\", \"arrowhead\": 0, \"arrowwidth\": 1}, \"autotypenumbers\": \"strict\", \"coloraxis\": {\"colorbar\": {\"outlinewidth\": 0, \"ticks\": \"\"}}, \"colorscale\": {\"diverging\": [[0, \"#8e0152\"], [0.1, \"#c51b7d\"], [0.2, \"#de77ae\"], [0.3, \"#f1b6da\"], [0.4, \"#fde0ef\"], [0.5, \"#f7f7f7\"], [0.6, \"#e6f5d0\"], [0.7, \"#b8e186\"], [0.8, \"#7fbc41\"], [0.9, \"#4d9221\"], [1, \"#276419\"]], \"sequential\": [[0.0, \"#0d0887\"], [0.1111111111111111, \"#46039f\"], [0.2222222222222222, \"#7201a8\"], [0.3333333333333333, \"#9c179e\"], [0.4444444444444444, \"#bd3786\"], [0.5555555555555556, \"#d8576b\"], [0.6666666666666666, \"#ed7953\"], [0.7777777777777778, \"#fb9f3a\"], [0.8888888888888888, \"#fdca26\"], [1.0, \"#f0f921\"]], \"sequentialminus\": [[0.0, \"#0d0887\"], [0.1111111111111111, \"#46039f\"], [0.2222222222222222, \"#7201a8\"], [0.3333333333333333, \"#9c179e\"], [0.4444444444444444, \"#bd3786\"], [0.5555555555555556, \"#d8576b\"], [0.6666666666666666, \"#ed7953\"], [0.7777777777777778, \"#fb9f3a\"], [0.8888888888888888, \"#fdca26\"], [1.0, \"#f0f921\"]]}, \"colorway\": [\"#636efa\", \"#EF553B\", \"#00cc96\", \"#ab63fa\", \"#FFA15A\", \"#19d3f3\", \"#FF6692\", \"#B6E880\", \"#FF97FF\", \"#FECB52\"], \"font\": {\"color\": \"#f2f5fa\"}, \"geo\": {\"bgcolor\": \"rgb(17,17,17)\", \"lakecolor\": \"rgb(17,17,17)\", \"landcolor\": \"rgb(17,17,17)\", \"showlakes\": true, \"showland\": true, \"subunitcolor\": \"#506784\"}, \"hoverlabel\": {\"align\": \"left\"}, \"hovermode\": \"closest\", \"mapbox\": {\"style\": \"dark\"}, \"paper_bgcolor\": \"rgb(17,17,17)\", \"plot_bgcolor\": \"rgb(17,17,17)\", \"polar\": {\"angularaxis\": {\"gridcolor\": \"#506784\", \"linecolor\": \"#506784\", \"ticks\": \"\"}, \"bgcolor\": \"rgb(17,17,17)\", \"radialaxis\": {\"gridcolor\": \"#506784\", \"linecolor\": \"#506784\", \"ticks\": \"\"}}, \"scene\": {\"xaxis\": {\"backgroundcolor\": \"rgb(17,17,17)\", \"gridcolor\": \"#506784\", \"gridwidth\": 2, \"linecolor\": \"#506784\", \"showbackground\": true, \"ticks\": \"\", \"zerolinecolor\": \"#C8D4E3\"}, \"yaxis\": {\"backgroundcolor\": \"rgb(17,17,17)\", \"gridcolor\": \"#506784\", \"gridwidth\": 2, \"linecolor\": \"#506784\", \"showbackground\": true, \"ticks\": \"\", \"zerolinecolor\": \"#C8D4E3\"}, \"zaxis\": {\"backgroundcolor\": \"rgb(17,17,17)\", \"gridcolor\": \"#506784\", \"gridwidth\": 2, \"linecolor\": \"#506784\", \"showbackground\": true, \"ticks\": \"\", \"zerolinecolor\": \"#C8D4E3\"}}, \"shapedefaults\": {\"line\": {\"color\": \"#f2f5fa\"}}, \"sliderdefaults\": {\"bgcolor\": \"#C8D4E3\", \"bordercolor\": \"rgb(17,17,17)\", \"borderwidth\": 1, \"tickwidth\": 0}, \"ternary\": {\"aaxis\": {\"gridcolor\": \"#506784\", \"linecolor\": \"#506784\", \"ticks\": \"\"}, \"baxis\": {\"gridcolor\": \"#506784\", \"linecolor\": \"#506784\", \"ticks\": \"\"}, \"bgcolor\": \"rgb(17,17,17)\", \"caxis\": {\"gridcolor\": \"#506784\", \"linecolor\": \"#506784\", \"ticks\": \"\"}}, \"title\": {\"x\": 0.05}, \"updatemenudefaults\": {\"bgcolor\": \"#506784\", \"borderwidth\": 0}, \"xaxis\": {\"automargin\": true, \"gridcolor\": \"#283442\", \"linecolor\": \"#506784\", \"ticks\": \"\", \"title\": {\"standoff\": 15}, \"zerolinecolor\": \"#283442\", \"zerolinewidth\": 2}, \"yaxis\": {\"automargin\": true, \"gridcolor\": \"#283442\", \"linecolor\": \"#506784\", \"ticks\": \"\", \"title\": {\"standoff\": 15}, \"zerolinecolor\": \"#283442\", \"zerolinewidth\": 2}}}, \"title\": {\"font\": {\"color\": \"#cacaca\"}, \"text\": \"<b>Status des missions pour chaque compagnies</b>\", \"x\": 0.5}, \"width\": 2000, \"xaxis\": {\"anchor\": \"y\", \"domain\": [0.0, 1.0], \"title\": {\"text\": \"Company Name\"}}, \"yaxis\": {\"anchor\": \"x\", \"categoryarray\": [\"Partial Failure\", \"Prelaunch Failure\", \"Failure\", \"Success\"], \"categoryorder\": \"array\", \"domain\": [0.0, 1.0], \"title\": {\"text\": \"Status Mission\"}}},                        {\"responsive\": true}                    ).then(function(){\n",
              "                            \n",
              "var gd = document.getElementById('4f20b4be-fb8c-4e02-a69b-c03f1b4d2a79');\n",
              "var x = new MutationObserver(function (mutations, observer) {{\n",
              "        var display = window.getComputedStyle(gd).display;\n",
              "        if (!display || display === 'none') {{\n",
              "            console.log([gd, 'removed!']);\n",
              "            Plotly.purge(gd);\n",
              "            observer.disconnect();\n",
              "        }}\n",
              "}});\n",
              "\n",
              "// Listen for the removal of the full notebook cells\n",
              "var notebookContainer = gd.closest('#notebook-container');\n",
              "if (notebookContainer) {{\n",
              "    x.observe(notebookContainer, {childList: true});\n",
              "}}\n",
              "\n",
              "// Listen for the clearing of the current output cell\n",
              "var outputEl = gd.closest('.output');\n",
              "if (outputEl) {{\n",
              "    x.observe(outputEl, {childList: true});\n",
              "}}\n",
              "\n",
              "                        })                };                            </script>        </div>\n",
              "</body>\n",
              "</html>"
            ]
          },
          "metadata": {
            "tags": []
          }
        }
      ]
    },
    {
      "cell_type": "code",
      "metadata": {
        "id": "uX_C8XIy3wK9"
      },
      "source": [
        "cout_comp_pivot_table = space_cor.pivot_table(values=\"Rocket\", index=\"Company Name\", aggfunc=\"sum\").sort_values(\"Rocket\",ascending=True)"
      ],
      "execution_count": null,
      "outputs": []
    },
    {
      "cell_type": "code",
      "metadata": {
        "id": "QBvNjN5p34Dk"
      },
      "source": [
        "cout_comp_pivot_table.reset_index(inplace=True)"
      ],
      "execution_count": null,
      "outputs": []
    },
    {
      "cell_type": "code",
      "metadata": {
        "colab": {
          "base_uri": "https://localhost:8080/",
          "height": 1000
        },
        "id": "lKjSQw428AXF",
        "outputId": "c182cff8-efb8-42ef-8e38-dbc574b67fd2"
      },
      "source": [
        "cout_comp_pivot_table"
      ],
      "execution_count": null,
      "outputs": [
        {
          "output_type": "execute_result",
          "data": {
            "text/html": [
              "<div>\n",
              "<style scoped>\n",
              "    .dataframe tbody tr th:only-of-type {\n",
              "        vertical-align: middle;\n",
              "    }\n",
              "\n",
              "    .dataframe tbody tr th {\n",
              "        vertical-align: top;\n",
              "    }\n",
              "\n",
              "    .dataframe thead th {\n",
              "        text-align: right;\n",
              "    }\n",
              "</style>\n",
              "<table border=\"1\" class=\"dataframe\">\n",
              "  <thead>\n",
              "    <tr style=\"text-align: right;\">\n",
              "      <th></th>\n",
              "      <th>Company Name</th>\n",
              "      <th>Rocket</th>\n",
              "    </tr>\n",
              "  </thead>\n",
              "  <tbody>\n",
              "    <tr>\n",
              "      <th>0</th>\n",
              "      <td>AEB</td>\n",
              "      <td>0.00</td>\n",
              "    </tr>\n",
              "    <tr>\n",
              "      <th>1</th>\n",
              "      <td>ISAS</td>\n",
              "      <td>0.00</td>\n",
              "    </tr>\n",
              "    <tr>\n",
              "      <th>2</th>\n",
              "      <td>KARI</td>\n",
              "      <td>0.00</td>\n",
              "    </tr>\n",
              "    <tr>\n",
              "      <th>3</th>\n",
              "      <td>KCST</td>\n",
              "      <td>0.00</td>\n",
              "    </tr>\n",
              "    <tr>\n",
              "      <th>4</th>\n",
              "      <td>Yuzhmash</td>\n",
              "      <td>0.00</td>\n",
              "    </tr>\n",
              "    <tr>\n",
              "      <th>5</th>\n",
              "      <td>Land Launch</td>\n",
              "      <td>0.00</td>\n",
              "    </tr>\n",
              "    <tr>\n",
              "      <th>6</th>\n",
              "      <td>Landspace</td>\n",
              "      <td>0.00</td>\n",
              "    </tr>\n",
              "    <tr>\n",
              "      <th>7</th>\n",
              "      <td>MITT</td>\n",
              "      <td>0.00</td>\n",
              "    </tr>\n",
              "    <tr>\n",
              "      <th>8</th>\n",
              "      <td>OKB-586</td>\n",
              "      <td>0.00</td>\n",
              "    </tr>\n",
              "    <tr>\n",
              "      <th>9</th>\n",
              "      <td>OneSpace</td>\n",
              "      <td>0.00</td>\n",
              "    </tr>\n",
              "    <tr>\n",
              "      <th>10</th>\n",
              "      <td>RAE</td>\n",
              "      <td>0.00</td>\n",
              "    </tr>\n",
              "    <tr>\n",
              "      <th>11</th>\n",
              "      <td>SRC</td>\n",
              "      <td>0.00</td>\n",
              "    </tr>\n",
              "    <tr>\n",
              "      <th>12</th>\n",
              "      <td>Sea Launch</td>\n",
              "      <td>0.00</td>\n",
              "    </tr>\n",
              "    <tr>\n",
              "      <th>13</th>\n",
              "      <td>Starsem</td>\n",
              "      <td>0.00</td>\n",
              "    </tr>\n",
              "    <tr>\n",
              "      <th>14</th>\n",
              "      <td>US Navy</td>\n",
              "      <td>0.00</td>\n",
              "    </tr>\n",
              "    <tr>\n",
              "      <th>15</th>\n",
              "      <td>UT</td>\n",
              "      <td>0.00</td>\n",
              "    </tr>\n",
              "    <tr>\n",
              "      <th>16</th>\n",
              "      <td>ISA</td>\n",
              "      <td>0.00</td>\n",
              "    </tr>\n",
              "    <tr>\n",
              "      <th>17</th>\n",
              "      <td>IRGC</td>\n",
              "      <td>0.00</td>\n",
              "    </tr>\n",
              "    <tr>\n",
              "      <th>18</th>\n",
              "      <td>Khrunichev</td>\n",
              "      <td>0.00</td>\n",
              "    </tr>\n",
              "    <tr>\n",
              "      <th>19</th>\n",
              "      <td>CASIC</td>\n",
              "      <td>0.00</td>\n",
              "    </tr>\n",
              "    <tr>\n",
              "      <th>20</th>\n",
              "      <td>AMBA</td>\n",
              "      <td>0.00</td>\n",
              "    </tr>\n",
              "    <tr>\n",
              "      <th>21</th>\n",
              "      <td>ASI</td>\n",
              "      <td>0.00</td>\n",
              "    </tr>\n",
              "    <tr>\n",
              "      <th>22</th>\n",
              "      <td>Arm??e de l'Air</td>\n",
              "      <td>0.00</td>\n",
              "    </tr>\n",
              "    <tr>\n",
              "      <th>23</th>\n",
              "      <td>Blue Origin</td>\n",
              "      <td>0.00</td>\n",
              "    </tr>\n",
              "    <tr>\n",
              "      <th>24</th>\n",
              "      <td>IAI</td>\n",
              "      <td>0.00</td>\n",
              "    </tr>\n",
              "    <tr>\n",
              "      <th>25</th>\n",
              "      <td>CECLES</td>\n",
              "      <td>0.00</td>\n",
              "    </tr>\n",
              "    <tr>\n",
              "      <th>26</th>\n",
              "      <td>CNES</td>\n",
              "      <td>0.00</td>\n",
              "    </tr>\n",
              "    <tr>\n",
              "      <th>27</th>\n",
              "      <td>Douglas</td>\n",
              "      <td>0.00</td>\n",
              "    </tr>\n",
              "    <tr>\n",
              "      <th>28</th>\n",
              "      <td>i-Space</td>\n",
              "      <td>0.00</td>\n",
              "    </tr>\n",
              "    <tr>\n",
              "      <th>29</th>\n",
              "      <td>General Dynamics</td>\n",
              "      <td>0.00</td>\n",
              "    </tr>\n",
              "    <tr>\n",
              "      <th>30</th>\n",
              "      <td>Exos</td>\n",
              "      <td>0.00</td>\n",
              "    </tr>\n",
              "    <tr>\n",
              "      <th>31</th>\n",
              "      <td>Virgin Orbit</td>\n",
              "      <td>12.00</td>\n",
              "    </tr>\n",
              "    <tr>\n",
              "      <th>32</th>\n",
              "      <td>Sandia</td>\n",
              "      <td>15.00</td>\n",
              "    </tr>\n",
              "    <tr>\n",
              "      <th>33</th>\n",
              "      <td>EER</td>\n",
              "      <td>20.00</td>\n",
              "    </tr>\n",
              "    <tr>\n",
              "      <th>34</th>\n",
              "      <td>ExPace</td>\n",
              "      <td>28.30</td>\n",
              "    </tr>\n",
              "    <tr>\n",
              "      <th>35</th>\n",
              "      <td>ESA</td>\n",
              "      <td>37.00</td>\n",
              "    </tr>\n",
              "    <tr>\n",
              "      <th>36</th>\n",
              "      <td>Rocket Lab</td>\n",
              "      <td>97.50</td>\n",
              "    </tr>\n",
              "    <tr>\n",
              "      <th>37</th>\n",
              "      <td>JAXA</td>\n",
              "      <td>168.00</td>\n",
              "    </tr>\n",
              "    <tr>\n",
              "      <th>38</th>\n",
              "      <td>Lockheed</td>\n",
              "      <td>280.00</td>\n",
              "    </tr>\n",
              "    <tr>\n",
              "      <th>39</th>\n",
              "      <td>Eurockot</td>\n",
              "      <td>543.40</td>\n",
              "    </tr>\n",
              "    <tr>\n",
              "      <th>40</th>\n",
              "      <td>Kosmotras</td>\n",
              "      <td>638.00</td>\n",
              "    </tr>\n",
              "    <tr>\n",
              "      <th>41</th>\n",
              "      <td>Martin Marietta</td>\n",
              "      <td>721.40</td>\n",
              "    </tr>\n",
              "    <tr>\n",
              "      <th>42</th>\n",
              "      <td>Roscosmos</td>\n",
              "      <td>1187.50</td>\n",
              "    </tr>\n",
              "    <tr>\n",
              "      <th>43</th>\n",
              "      <td>Boeing</td>\n",
              "      <td>1241.00</td>\n",
              "    </tr>\n",
              "    <tr>\n",
              "      <th>44</th>\n",
              "      <td>ILS</td>\n",
              "      <td>1320.00</td>\n",
              "    </tr>\n",
              "    <tr>\n",
              "      <th>45</th>\n",
              "      <td>VKS RF</td>\n",
              "      <td>1548.90</td>\n",
              "    </tr>\n",
              "    <tr>\n",
              "      <th>46</th>\n",
              "      <td>US Air Force</td>\n",
              "      <td>1550.92</td>\n",
              "    </tr>\n",
              "    <tr>\n",
              "      <th>47</th>\n",
              "      <td>ISRO</td>\n",
              "      <td>2177.00</td>\n",
              "    </tr>\n",
              "    <tr>\n",
              "      <th>48</th>\n",
              "      <td>MHI</td>\n",
              "      <td>3532.50</td>\n",
              "    </tr>\n",
              "    <tr>\n",
              "      <th>49</th>\n",
              "      <td>Northrop</td>\n",
              "      <td>3930.00</td>\n",
              "    </tr>\n",
              "    <tr>\n",
              "      <th>50</th>\n",
              "      <td>SpaceX</td>\n",
              "      <td>5444.00</td>\n",
              "    </tr>\n",
              "    <tr>\n",
              "      <th>51</th>\n",
              "      <td>CASC</td>\n",
              "      <td>6340.26</td>\n",
              "    </tr>\n",
              "    <tr>\n",
              "      <th>52</th>\n",
              "      <td>RVSN USSR</td>\n",
              "      <td>10000.00</td>\n",
              "    </tr>\n",
              "    <tr>\n",
              "      <th>53</th>\n",
              "      <td>ULA</td>\n",
              "      <td>14798.00</td>\n",
              "    </tr>\n",
              "    <tr>\n",
              "      <th>54</th>\n",
              "      <td>Arianespace</td>\n",
              "      <td>16345.00</td>\n",
              "    </tr>\n",
              "    <tr>\n",
              "      <th>55</th>\n",
              "      <td>NASA</td>\n",
              "      <td>76280.00</td>\n",
              "    </tr>\n",
              "  </tbody>\n",
              "</table>\n",
              "</div>"
            ],
            "text/plain": [
              "        Company Name    Rocket\n",
              "0                AEB      0.00\n",
              "1               ISAS      0.00\n",
              "2               KARI      0.00\n",
              "3               KCST      0.00\n",
              "4           Yuzhmash      0.00\n",
              "5        Land Launch      0.00\n",
              "6          Landspace      0.00\n",
              "7               MITT      0.00\n",
              "8            OKB-586      0.00\n",
              "9           OneSpace      0.00\n",
              "10               RAE      0.00\n",
              "11               SRC      0.00\n",
              "12        Sea Launch      0.00\n",
              "13           Starsem      0.00\n",
              "14           US Navy      0.00\n",
              "15                UT      0.00\n",
              "16               ISA      0.00\n",
              "17              IRGC      0.00\n",
              "18        Khrunichev      0.00\n",
              "19             CASIC      0.00\n",
              "20              AMBA      0.00\n",
              "21               ASI      0.00\n",
              "22   Arm??e de l'Air      0.00\n",
              "23       Blue Origin      0.00\n",
              "24               IAI      0.00\n",
              "25            CECLES      0.00\n",
              "26              CNES      0.00\n",
              "27           Douglas      0.00\n",
              "28           i-Space      0.00\n",
              "29  General Dynamics      0.00\n",
              "30              Exos      0.00\n",
              "31      Virgin Orbit     12.00\n",
              "32            Sandia     15.00\n",
              "33               EER     20.00\n",
              "34            ExPace     28.30\n",
              "35               ESA     37.00\n",
              "36        Rocket Lab     97.50\n",
              "37              JAXA    168.00\n",
              "38          Lockheed    280.00\n",
              "39          Eurockot    543.40\n",
              "40         Kosmotras    638.00\n",
              "41   Martin Marietta    721.40\n",
              "42         Roscosmos   1187.50\n",
              "43            Boeing   1241.00\n",
              "44               ILS   1320.00\n",
              "45            VKS RF   1548.90\n",
              "46      US Air Force   1550.92\n",
              "47              ISRO   2177.00\n",
              "48               MHI   3532.50\n",
              "49          Northrop   3930.00\n",
              "50            SpaceX   5444.00\n",
              "51              CASC   6340.26\n",
              "52         RVSN USSR  10000.00\n",
              "53               ULA  14798.00\n",
              "54       Arianespace  16345.00\n",
              "55              NASA  76280.00"
            ]
          },
          "metadata": {
            "tags": []
          },
          "execution_count": 101
        }
      ]
    },
    {
      "cell_type": "code",
      "metadata": {
        "colab": {
          "base_uri": "https://localhost:8080/",
          "height": 542
        },
        "id": "2kjskCZTJ_oy",
        "outputId": "1217aa06-a917-4578-8666-9b47b642fde1"
      },
      "source": [
        "TCP = fig = px.bar(cout_comp_pivot_table[46:56], y=\"Company Name\", x=\"Rocket\", orientation=\"h\" , color=\"Rocket\" ,color_discrete_sequence=px.colors.sequential.Plasma_r , labels={\"Rocket\":\"Amount\"} )\n",
        "      \n",
        "fig.update_layout(title = { 'text' : '<b>Les 10 compagnies les plus dépensiaires (en M $)</b>', 'x' : 0.5},template = 'plotly_dark')\n",
        "\n",
        "fig.show()"
      ],
      "execution_count": null,
      "outputs": [
        {
          "output_type": "display_data",
          "data": {
            "text/html": [
              "<html>\n",
              "<head><meta charset=\"utf-8\" /></head>\n",
              "<body>\n",
              "    <div>            <script src=\"https://cdnjs.cloudflare.com/ajax/libs/mathjax/2.7.5/MathJax.js?config=TeX-AMS-MML_SVG\"></script><script type=\"text/javascript\">if (window.MathJax) {MathJax.Hub.Config({SVG: {font: \"STIX-Web\"}});}</script>                <script type=\"text/javascript\">window.PlotlyConfig = {MathJaxConfig: 'local'};</script>\n",
              "        <script src=\"https://cdn.plot.ly/plotly-latest.min.js\"></script>                <div id=\"7427bab9-98ca-4f04-9e09-03482a6606a3\" class=\"plotly-graph-div\" style=\"height:525px; width:100%;\"></div>            <script type=\"text/javascript\">                                    window.PLOTLYENV=window.PLOTLYENV || {};                                    if (document.getElementById(\"7427bab9-98ca-4f04-9e09-03482a6606a3\")) {                    Plotly.newPlot(                        \"7427bab9-98ca-4f04-9e09-03482a6606a3\",                        [{\"alignmentgroup\": \"True\", \"hovertemplate\": \"Amount=%{marker.color}<br>Company Name=%{y}<extra></extra>\", \"legendgroup\": \"\", \"marker\": {\"color\": [1550.92, 2177.0, 3532.5, 3930.0, 5444.0, 6340.260000000005, 10000.0, 14798.0, 16345.0, 76280.0], \"coloraxis\": \"coloraxis\"}, \"name\": \"\", \"offsetgroup\": \"\", \"orientation\": \"h\", \"showlegend\": false, \"textposition\": \"auto\", \"type\": \"bar\", \"x\": [1550.92, 2177.0, 3532.5, 3930.0, 5444.0, 6340.260000000005, 10000.0, 14798.0, 16345.0, 76280.0], \"xaxis\": \"x\", \"y\": [\"US Air Force\", \"ISRO\", \"MHI\", \"Northrop\", \"SpaceX\", \"CASC\", \"RVSN USSR\", \"ULA\", \"Arianespace\", \"NASA\"], \"yaxis\": \"y\"}],                        {\"barmode\": \"relative\", \"coloraxis\": {\"colorbar\": {\"title\": {\"text\": \"Amount\"}}, \"colorscale\": [[0.0, \"#0d0887\"], [0.1111111111111111, \"#46039f\"], [0.2222222222222222, \"#7201a8\"], [0.3333333333333333, \"#9c179e\"], [0.4444444444444444, \"#bd3786\"], [0.5555555555555556, \"#d8576b\"], [0.6666666666666666, \"#ed7953\"], [0.7777777777777778, \"#fb9f3a\"], [0.8888888888888888, \"#fdca26\"], [1.0, \"#f0f921\"]]}, \"legend\": {\"tracegroupgap\": 0}, \"margin\": {\"t\": 60}, \"template\": {\"data\": {\"bar\": [{\"error_x\": {\"color\": \"#f2f5fa\"}, \"error_y\": {\"color\": \"#f2f5fa\"}, \"marker\": {\"line\": {\"color\": \"rgb(17,17,17)\", \"width\": 0.5}}, \"type\": \"bar\"}], \"barpolar\": [{\"marker\": {\"line\": {\"color\": \"rgb(17,17,17)\", \"width\": 0.5}}, \"type\": \"barpolar\"}], \"carpet\": [{\"aaxis\": {\"endlinecolor\": \"#A2B1C6\", \"gridcolor\": \"#506784\", \"linecolor\": \"#506784\", \"minorgridcolor\": \"#506784\", \"startlinecolor\": \"#A2B1C6\"}, \"baxis\": {\"endlinecolor\": \"#A2B1C6\", \"gridcolor\": \"#506784\", \"linecolor\": \"#506784\", \"minorgridcolor\": \"#506784\", \"startlinecolor\": \"#A2B1C6\"}, \"type\": \"carpet\"}], \"choropleth\": [{\"colorbar\": {\"outlinewidth\": 0, \"ticks\": \"\"}, \"type\": \"choropleth\"}], \"contour\": [{\"colorbar\": {\"outlinewidth\": 0, \"ticks\": \"\"}, \"colorscale\": [[0.0, \"#0d0887\"], [0.1111111111111111, \"#46039f\"], [0.2222222222222222, \"#7201a8\"], [0.3333333333333333, \"#9c179e\"], [0.4444444444444444, \"#bd3786\"], [0.5555555555555556, \"#d8576b\"], [0.6666666666666666, \"#ed7953\"], [0.7777777777777778, \"#fb9f3a\"], [0.8888888888888888, \"#fdca26\"], [1.0, \"#f0f921\"]], \"type\": \"contour\"}], \"contourcarpet\": [{\"colorbar\": {\"outlinewidth\": 0, \"ticks\": \"\"}, \"type\": \"contourcarpet\"}], \"heatmap\": [{\"colorbar\": {\"outlinewidth\": 0, \"ticks\": \"\"}, \"colorscale\": [[0.0, \"#0d0887\"], [0.1111111111111111, \"#46039f\"], [0.2222222222222222, \"#7201a8\"], [0.3333333333333333, \"#9c179e\"], [0.4444444444444444, \"#bd3786\"], [0.5555555555555556, \"#d8576b\"], [0.6666666666666666, \"#ed7953\"], [0.7777777777777778, \"#fb9f3a\"], [0.8888888888888888, \"#fdca26\"], [1.0, \"#f0f921\"]], \"type\": \"heatmap\"}], \"heatmapgl\": [{\"colorbar\": {\"outlinewidth\": 0, \"ticks\": \"\"}, \"colorscale\": [[0.0, \"#0d0887\"], [0.1111111111111111, \"#46039f\"], [0.2222222222222222, \"#7201a8\"], [0.3333333333333333, \"#9c179e\"], [0.4444444444444444, \"#bd3786\"], [0.5555555555555556, \"#d8576b\"], [0.6666666666666666, \"#ed7953\"], [0.7777777777777778, \"#fb9f3a\"], [0.8888888888888888, \"#fdca26\"], [1.0, \"#f0f921\"]], \"type\": \"heatmapgl\"}], \"histogram\": [{\"marker\": {\"colorbar\": {\"outlinewidth\": 0, \"ticks\": \"\"}}, \"type\": \"histogram\"}], \"histogram2d\": [{\"colorbar\": {\"outlinewidth\": 0, \"ticks\": \"\"}, \"colorscale\": [[0.0, \"#0d0887\"], [0.1111111111111111, \"#46039f\"], [0.2222222222222222, \"#7201a8\"], [0.3333333333333333, \"#9c179e\"], [0.4444444444444444, \"#bd3786\"], [0.5555555555555556, \"#d8576b\"], [0.6666666666666666, \"#ed7953\"], [0.7777777777777778, \"#fb9f3a\"], [0.8888888888888888, \"#fdca26\"], [1.0, \"#f0f921\"]], \"type\": \"histogram2d\"}], \"histogram2dcontour\": [{\"colorbar\": {\"outlinewidth\": 0, \"ticks\": \"\"}, \"colorscale\": [[0.0, \"#0d0887\"], [0.1111111111111111, \"#46039f\"], [0.2222222222222222, \"#7201a8\"], [0.3333333333333333, \"#9c179e\"], [0.4444444444444444, \"#bd3786\"], [0.5555555555555556, \"#d8576b\"], [0.6666666666666666, \"#ed7953\"], [0.7777777777777778, \"#fb9f3a\"], [0.8888888888888888, \"#fdca26\"], [1.0, \"#f0f921\"]], \"type\": \"histogram2dcontour\"}], \"mesh3d\": [{\"colorbar\": {\"outlinewidth\": 0, \"ticks\": \"\"}, \"type\": \"mesh3d\"}], \"parcoords\": [{\"line\": {\"colorbar\": {\"outlinewidth\": 0, \"ticks\": \"\"}}, \"type\": \"parcoords\"}], \"pie\": [{\"automargin\": true, \"type\": \"pie\"}], \"scatter\": [{\"marker\": {\"line\": {\"color\": \"#283442\"}}, \"type\": \"scatter\"}], \"scatter3d\": [{\"line\": {\"colorbar\": {\"outlinewidth\": 0, \"ticks\": \"\"}}, \"marker\": {\"colorbar\": {\"outlinewidth\": 0, \"ticks\": \"\"}}, \"type\": \"scatter3d\"}], \"scattercarpet\": [{\"marker\": {\"colorbar\": {\"outlinewidth\": 0, \"ticks\": \"\"}}, \"type\": \"scattercarpet\"}], \"scattergeo\": [{\"marker\": {\"colorbar\": {\"outlinewidth\": 0, \"ticks\": \"\"}}, \"type\": \"scattergeo\"}], \"scattergl\": [{\"marker\": {\"line\": {\"color\": \"#283442\"}}, \"type\": \"scattergl\"}], \"scattermapbox\": [{\"marker\": {\"colorbar\": {\"outlinewidth\": 0, \"ticks\": \"\"}}, \"type\": \"scattermapbox\"}], \"scatterpolar\": [{\"marker\": {\"colorbar\": {\"outlinewidth\": 0, \"ticks\": \"\"}}, \"type\": \"scatterpolar\"}], \"scatterpolargl\": [{\"marker\": {\"colorbar\": {\"outlinewidth\": 0, \"ticks\": \"\"}}, \"type\": \"scatterpolargl\"}], \"scatterternary\": [{\"marker\": {\"colorbar\": {\"outlinewidth\": 0, \"ticks\": \"\"}}, \"type\": \"scatterternary\"}], \"surface\": [{\"colorbar\": {\"outlinewidth\": 0, \"ticks\": \"\"}, \"colorscale\": [[0.0, \"#0d0887\"], [0.1111111111111111, \"#46039f\"], [0.2222222222222222, \"#7201a8\"], [0.3333333333333333, \"#9c179e\"], [0.4444444444444444, \"#bd3786\"], [0.5555555555555556, \"#d8576b\"], [0.6666666666666666, \"#ed7953\"], [0.7777777777777778, \"#fb9f3a\"], [0.8888888888888888, \"#fdca26\"], [1.0, \"#f0f921\"]], \"type\": \"surface\"}], \"table\": [{\"cells\": {\"fill\": {\"color\": \"#506784\"}, \"line\": {\"color\": \"rgb(17,17,17)\"}}, \"header\": {\"fill\": {\"color\": \"#2a3f5f\"}, \"line\": {\"color\": \"rgb(17,17,17)\"}}, \"type\": \"table\"}]}, \"layout\": {\"annotationdefaults\": {\"arrowcolor\": \"#f2f5fa\", \"arrowhead\": 0, \"arrowwidth\": 1}, \"autotypenumbers\": \"strict\", \"coloraxis\": {\"colorbar\": {\"outlinewidth\": 0, \"ticks\": \"\"}}, \"colorscale\": {\"diverging\": [[0, \"#8e0152\"], [0.1, \"#c51b7d\"], [0.2, \"#de77ae\"], [0.3, \"#f1b6da\"], [0.4, \"#fde0ef\"], [0.5, \"#f7f7f7\"], [0.6, \"#e6f5d0\"], [0.7, \"#b8e186\"], [0.8, \"#7fbc41\"], [0.9, \"#4d9221\"], [1, \"#276419\"]], \"sequential\": [[0.0, \"#0d0887\"], [0.1111111111111111, \"#46039f\"], [0.2222222222222222, \"#7201a8\"], [0.3333333333333333, \"#9c179e\"], [0.4444444444444444, \"#bd3786\"], [0.5555555555555556, \"#d8576b\"], [0.6666666666666666, \"#ed7953\"], [0.7777777777777778, \"#fb9f3a\"], [0.8888888888888888, \"#fdca26\"], [1.0, \"#f0f921\"]], \"sequentialminus\": [[0.0, \"#0d0887\"], [0.1111111111111111, \"#46039f\"], [0.2222222222222222, \"#7201a8\"], [0.3333333333333333, \"#9c179e\"], [0.4444444444444444, \"#bd3786\"], [0.5555555555555556, \"#d8576b\"], [0.6666666666666666, \"#ed7953\"], [0.7777777777777778, \"#fb9f3a\"], [0.8888888888888888, \"#fdca26\"], [1.0, \"#f0f921\"]]}, \"colorway\": [\"#636efa\", \"#EF553B\", \"#00cc96\", \"#ab63fa\", \"#FFA15A\", \"#19d3f3\", \"#FF6692\", \"#B6E880\", \"#FF97FF\", \"#FECB52\"], \"font\": {\"color\": \"#f2f5fa\"}, \"geo\": {\"bgcolor\": \"rgb(17,17,17)\", \"lakecolor\": \"rgb(17,17,17)\", \"landcolor\": \"rgb(17,17,17)\", \"showlakes\": true, \"showland\": true, \"subunitcolor\": \"#506784\"}, \"hoverlabel\": {\"align\": \"left\"}, \"hovermode\": \"closest\", \"mapbox\": {\"style\": \"dark\"}, \"paper_bgcolor\": \"rgb(17,17,17)\", \"plot_bgcolor\": \"rgb(17,17,17)\", \"polar\": {\"angularaxis\": {\"gridcolor\": \"#506784\", \"linecolor\": \"#506784\", \"ticks\": \"\"}, \"bgcolor\": \"rgb(17,17,17)\", \"radialaxis\": {\"gridcolor\": \"#506784\", \"linecolor\": \"#506784\", \"ticks\": \"\"}}, \"scene\": {\"xaxis\": {\"backgroundcolor\": \"rgb(17,17,17)\", \"gridcolor\": \"#506784\", \"gridwidth\": 2, \"linecolor\": \"#506784\", \"showbackground\": true, \"ticks\": \"\", \"zerolinecolor\": \"#C8D4E3\"}, \"yaxis\": {\"backgroundcolor\": \"rgb(17,17,17)\", \"gridcolor\": \"#506784\", \"gridwidth\": 2, \"linecolor\": \"#506784\", \"showbackground\": true, \"ticks\": \"\", \"zerolinecolor\": \"#C8D4E3\"}, \"zaxis\": {\"backgroundcolor\": \"rgb(17,17,17)\", \"gridcolor\": \"#506784\", \"gridwidth\": 2, \"linecolor\": \"#506784\", \"showbackground\": true, \"ticks\": \"\", \"zerolinecolor\": \"#C8D4E3\"}}, \"shapedefaults\": {\"line\": {\"color\": \"#f2f5fa\"}}, \"sliderdefaults\": {\"bgcolor\": \"#C8D4E3\", \"bordercolor\": \"rgb(17,17,17)\", \"borderwidth\": 1, \"tickwidth\": 0}, \"ternary\": {\"aaxis\": {\"gridcolor\": \"#506784\", \"linecolor\": \"#506784\", \"ticks\": \"\"}, \"baxis\": {\"gridcolor\": \"#506784\", \"linecolor\": \"#506784\", \"ticks\": \"\"}, \"bgcolor\": \"rgb(17,17,17)\", \"caxis\": {\"gridcolor\": \"#506784\", \"linecolor\": \"#506784\", \"ticks\": \"\"}}, \"title\": {\"x\": 0.05}, \"updatemenudefaults\": {\"bgcolor\": \"#506784\", \"borderwidth\": 0}, \"xaxis\": {\"automargin\": true, \"gridcolor\": \"#283442\", \"linecolor\": \"#506784\", \"ticks\": \"\", \"title\": {\"standoff\": 15}, \"zerolinecolor\": \"#283442\", \"zerolinewidth\": 2}, \"yaxis\": {\"automargin\": true, \"gridcolor\": \"#283442\", \"linecolor\": \"#506784\", \"ticks\": \"\", \"title\": {\"standoff\": 15}, \"zerolinecolor\": \"#283442\", \"zerolinewidth\": 2}}}, \"title\": {\"text\": \"<b>Les 10 compagnies les plus d\\u00e9pensiaires (en M $)</b>\", \"x\": 0.5}, \"xaxis\": {\"anchor\": \"y\", \"domain\": [0.0, 1.0], \"title\": {\"text\": \"Amount\"}}, \"yaxis\": {\"anchor\": \"x\", \"domain\": [0.0, 1.0], \"title\": {\"text\": \"Company Name\"}}},                        {\"responsive\": true}                    ).then(function(){\n",
              "                            \n",
              "var gd = document.getElementById('7427bab9-98ca-4f04-9e09-03482a6606a3');\n",
              "var x = new MutationObserver(function (mutations, observer) {{\n",
              "        var display = window.getComputedStyle(gd).display;\n",
              "        if (!display || display === 'none') {{\n",
              "            console.log([gd, 'removed!']);\n",
              "            Plotly.purge(gd);\n",
              "            observer.disconnect();\n",
              "        }}\n",
              "}});\n",
              "\n",
              "// Listen for the removal of the full notebook cells\n",
              "var notebookContainer = gd.closest('#notebook-container');\n",
              "if (notebookContainer) {{\n",
              "    x.observe(notebookContainer, {childList: true});\n",
              "}}\n",
              "\n",
              "// Listen for the clearing of the current output cell\n",
              "var outputEl = gd.closest('.output');\n",
              "if (outputEl) {{\n",
              "    x.observe(outputEl, {childList: true});\n",
              "}}\n",
              "\n",
              "                        })                };                            </script>        </div>\n",
              "</body>\n",
              "</html>"
            ]
          },
          "metadata": {
            "tags": []
          }
        }
      ]
    },
    {
      "cell_type": "code",
      "metadata": {
        "id": "MTvojzTQJ_iG"
      },
      "source": [
        ""
      ],
      "execution_count": null,
      "outputs": []
    },
    {
      "cell_type": "code",
      "metadata": {
        "colab": {
          "base_uri": "https://localhost:8080/",
          "height": 407
        },
        "id": "2fnXhGH9G7zo",
        "outputId": "90ecafcc-e137-4958-d92a-45e8381494c8"
      },
      "source": [
        "space_cor.loc[(space_cor[\"Company Name\"].str.contains(\"Ariane\"))]"
      ],
      "execution_count": null,
      "outputs": [
        {
          "output_type": "execute_result",
          "data": {
            "text/html": [
              "<div>\n",
              "<style scoped>\n",
              "    .dataframe tbody tr th:only-of-type {\n",
              "        vertical-align: middle;\n",
              "    }\n",
              "\n",
              "    .dataframe tbody tr th {\n",
              "        vertical-align: top;\n",
              "    }\n",
              "\n",
              "    .dataframe thead th {\n",
              "        text-align: right;\n",
              "    }\n",
              "</style>\n",
              "<table border=\"1\" class=\"dataframe\">\n",
              "  <thead>\n",
              "    <tr style=\"text-align: right;\">\n",
              "      <th></th>\n",
              "      <th>Company Name</th>\n",
              "      <th>Country</th>\n",
              "      <th>Launcher</th>\n",
              "      <th>Shuttle</th>\n",
              "      <th>Rocket</th>\n",
              "      <th>Status Rocket</th>\n",
              "      <th>Year</th>\n",
              "      <th>Month</th>\n",
              "      <th>Status Mission</th>\n",
              "    </tr>\n",
              "  </thead>\n",
              "  <tbody>\n",
              "    <tr>\n",
              "      <th>40</th>\n",
              "      <td>Arianespace</td>\n",
              "      <td>Kazakhstan</td>\n",
              "      <td>Soyuz 2.1b/Fregat</td>\n",
              "      <td>OneWeb #3</td>\n",
              "      <td>48.5</td>\n",
              "      <td>StatusActive</td>\n",
              "      <td>2020</td>\n",
              "      <td>3</td>\n",
              "      <td>Success</td>\n",
              "    </tr>\n",
              "    <tr>\n",
              "      <th>48</th>\n",
              "      <td>Arianespace</td>\n",
              "      <td>France</td>\n",
              "      <td>Ariane 5 ECA</td>\n",
              "      <td>JCSAT-17 &amp; GEO-KOMPSAT 2B</td>\n",
              "      <td>200.0</td>\n",
              "      <td>StatusActive</td>\n",
              "      <td>2020</td>\n",
              "      <td>2</td>\n",
              "      <td>Success</td>\n",
              "    </tr>\n",
              "    <tr>\n",
              "      <th>54</th>\n",
              "      <td>Arianespace</td>\n",
              "      <td>Kazakhstan</td>\n",
              "      <td>Soyuz 2.1b/Fregat</td>\n",
              "      <td>OneWeb #2</td>\n",
              "      <td>48.5</td>\n",
              "      <td>StatusActive</td>\n",
              "      <td>2020</td>\n",
              "      <td>2</td>\n",
              "      <td>Success</td>\n",
              "    </tr>\n",
              "    <tr>\n",
              "      <th>58</th>\n",
              "      <td>Arianespace</td>\n",
              "      <td>France</td>\n",
              "      <td>Ariane 5 ECA</td>\n",
              "      <td>Eutelsat Konnect BB4A &amp; GSAT-30</td>\n",
              "      <td>200.0</td>\n",
              "      <td>StatusActive</td>\n",
              "      <td>2020</td>\n",
              "      <td>1</td>\n",
              "      <td>Success</td>\n",
              "    </tr>\n",
              "    <tr>\n",
              "      <th>68</th>\n",
              "      <td>Arianespace</td>\n",
              "      <td>France</td>\n",
              "      <td>Soyuz ST-A/Fregat-M</td>\n",
              "      <td>CSG-1, CHEOPS &amp; Others</td>\n",
              "      <td>NaN</td>\n",
              "      <td>StatusActive</td>\n",
              "      <td>2019</td>\n",
              "      <td>12</td>\n",
              "      <td>Success</td>\n",
              "    </tr>\n",
              "    <tr>\n",
              "      <th>...</th>\n",
              "      <td>...</td>\n",
              "      <td>...</td>\n",
              "      <td>...</td>\n",
              "      <td>...</td>\n",
              "      <td>...</td>\n",
              "      <td>...</td>\n",
              "      <td>...</td>\n",
              "      <td>...</td>\n",
              "      <td>...</td>\n",
              "    </tr>\n",
              "    <tr>\n",
              "      <th>2135</th>\n",
              "      <td>Arianespace</td>\n",
              "      <td>France</td>\n",
              "      <td>Ariane 3</td>\n",
              "      <td>GStar-1, Telecom 1B</td>\n",
              "      <td>NaN</td>\n",
              "      <td>StatusRetired</td>\n",
              "      <td>1985</td>\n",
              "      <td>5</td>\n",
              "      <td>Success</td>\n",
              "    </tr>\n",
              "    <tr>\n",
              "      <th>2148</th>\n",
              "      <td>Arianespace</td>\n",
              "      <td>France</td>\n",
              "      <td>Ariane 3</td>\n",
              "      <td>Arabsat-1A, Brasilsat-A1</td>\n",
              "      <td>NaN</td>\n",
              "      <td>StatusRetired</td>\n",
              "      <td>1985</td>\n",
              "      <td>2</td>\n",
              "      <td>Success</td>\n",
              "    </tr>\n",
              "    <tr>\n",
              "      <th>2167</th>\n",
              "      <td>Arianespace</td>\n",
              "      <td>France</td>\n",
              "      <td>Ariane 3</td>\n",
              "      <td>Spacenet 2, MARECS-2</td>\n",
              "      <td>NaN</td>\n",
              "      <td>StatusRetired</td>\n",
              "      <td>1984</td>\n",
              "      <td>11</td>\n",
              "      <td>Success</td>\n",
              "    </tr>\n",
              "    <tr>\n",
              "      <th>2187</th>\n",
              "      <td>Arianespace</td>\n",
              "      <td>France</td>\n",
              "      <td>Ariane 3</td>\n",
              "      <td>Eutelsat-1 F2, Telecom 1A</td>\n",
              "      <td>NaN</td>\n",
              "      <td>StatusRetired</td>\n",
              "      <td>1984</td>\n",
              "      <td>8</td>\n",
              "      <td>Success</td>\n",
              "    </tr>\n",
              "    <tr>\n",
              "      <th>2203</th>\n",
              "      <td>Arianespace</td>\n",
              "      <td>France</td>\n",
              "      <td>Ariane 1</td>\n",
              "      <td>Spacenet F1</td>\n",
              "      <td>NaN</td>\n",
              "      <td>StatusRetired</td>\n",
              "      <td>1984</td>\n",
              "      <td>5</td>\n",
              "      <td>Success</td>\n",
              "    </tr>\n",
              "  </tbody>\n",
              "</table>\n",
              "<p>279 rows × 9 columns</p>\n",
              "</div>"
            ],
            "text/plain": [
              "     Company Name     Country              Launcher  ...  Year  Month Status Mission\n",
              "40    Arianespace  Kazakhstan    Soyuz 2.1b/Fregat   ...  2020      3        Success\n",
              "48    Arianespace      France         Ariane 5 ECA   ...  2020      2        Success\n",
              "54    Arianespace  Kazakhstan    Soyuz 2.1b/Fregat   ...  2020      2        Success\n",
              "58    Arianespace      France         Ariane 5 ECA   ...  2020      1        Success\n",
              "68    Arianespace      France  Soyuz ST-A/Fregat-M   ...  2019     12        Success\n",
              "...           ...         ...                   ...  ...   ...    ...            ...\n",
              "2135  Arianespace      France             Ariane 3   ...  1985      5        Success\n",
              "2148  Arianespace      France             Ariane 3   ...  1985      2        Success\n",
              "2167  Arianespace      France             Ariane 3   ...  1984     11        Success\n",
              "2187  Arianespace      France             Ariane 3   ...  1984      8        Success\n",
              "2203  Arianespace      France             Ariane 1   ...  1984      5        Success\n",
              "\n",
              "[279 rows x 9 columns]"
            ]
          },
          "metadata": {
            "tags": []
          },
          "execution_count": 103
        }
      ]
    },
    {
      "cell_type": "code",
      "metadata": {
        "colab": {
          "base_uri": "https://localhost:8080/"
        },
        "id": "S8IxpEYrDLJj",
        "outputId": "8b8f36cb-b251-48cb-d3dd-899a4ecc6c1e"
      },
      "source": [
        "import plotly.io as pio\n",
        "list(pio.templates)"
      ],
      "execution_count": null,
      "outputs": [
        {
          "output_type": "execute_result",
          "data": {
            "text/plain": [
              "['ggplot2',\n",
              " 'seaborn',\n",
              " 'simple_white',\n",
              " 'plotly',\n",
              " 'plotly_white',\n",
              " 'plotly_dark',\n",
              " 'presentation',\n",
              " 'xgridoff',\n",
              " 'ygridoff',\n",
              " 'gridon',\n",
              " 'none']"
            ]
          },
          "metadata": {
            "tags": []
          },
          "execution_count": 104
        }
      ]
    },
    {
      "cell_type": "markdown",
      "metadata": {
        "id": "kemcDn4kwSIh"
      },
      "source": [
        "#Etude \"Launcher\""
      ]
    },
    {
      "cell_type": "code",
      "metadata": {
        "id": "AcBYOOsLzB8o"
      },
      "source": [
        "space_cor_launcher= space_cor.pivot_table(values=\"Rocket\", index=[\"Launcher\",\"Country\"], aggfunc=\"sum\")"
      ],
      "execution_count": null,
      "outputs": []
    },
    {
      "cell_type": "code",
      "metadata": {
        "id": "OSR9fMGKtTyf"
      },
      "source": [
        "space_cor_launcher.reset_index(inplace=True)"
      ],
      "execution_count": null,
      "outputs": []
    },
    {
      "cell_type": "code",
      "metadata": {
        "id": "3hj8jZERtcfN"
      },
      "source": [
        "space_cor_launcher=space_cor_launcher.sort_values(\"Rocket\",ascending=False)"
      ],
      "execution_count": null,
      "outputs": []
    },
    {
      "cell_type": "code",
      "metadata": {
        "colab": {
          "base_uri": "https://localhost:8080/",
          "height": 407
        },
        "id": "YWtLP3c0xDSB",
        "outputId": "e21ed9cb-17c1-4189-a143-f2f4e1e920dc"
      },
      "source": [
        "space_cor_launcher"
      ],
      "execution_count": null,
      "outputs": [
        {
          "output_type": "execute_result",
          "data": {
            "text/html": [
              "<div>\n",
              "<style scoped>\n",
              "    .dataframe tbody tr th:only-of-type {\n",
              "        vertical-align: middle;\n",
              "    }\n",
              "\n",
              "    .dataframe tbody tr th {\n",
              "        vertical-align: top;\n",
              "    }\n",
              "\n",
              "    .dataframe thead th {\n",
              "        text-align: right;\n",
              "    }\n",
              "</style>\n",
              "<table border=\"1\" class=\"dataframe\">\n",
              "  <thead>\n",
              "    <tr style=\"text-align: right;\">\n",
              "      <th></th>\n",
              "      <th>Launcher</th>\n",
              "      <th>Country</th>\n",
              "      <th>Rocket</th>\n",
              "    </tr>\n",
              "  </thead>\n",
              "  <tbody>\n",
              "    <tr>\n",
              "      <th>301</th>\n",
              "      <td>Space Shuttle Discovery</td>\n",
              "      <td>USA</td>\n",
              "      <td>17550.0</td>\n",
              "    </tr>\n",
              "    <tr>\n",
              "      <th>255</th>\n",
              "      <td>Saturn V</td>\n",
              "      <td>USA</td>\n",
              "      <td>15080.0</td>\n",
              "    </tr>\n",
              "    <tr>\n",
              "      <th>18</th>\n",
              "      <td>Ariane 5 ECA</td>\n",
              "      <td>France</td>\n",
              "      <td>15000.0</td>\n",
              "    </tr>\n",
              "    <tr>\n",
              "      <th>298</th>\n",
              "      <td>Space Shuttle Atlantis</td>\n",
              "      <td>USA</td>\n",
              "      <td>14850.0</td>\n",
              "    </tr>\n",
              "    <tr>\n",
              "      <th>300</th>\n",
              "      <td>Space Shuttle Columbia</td>\n",
              "      <td>USA</td>\n",
              "      <td>12600.0</td>\n",
              "    </tr>\n",
              "    <tr>\n",
              "      <th>...</th>\n",
              "      <td>...</td>\n",
              "      <td>...</td>\n",
              "      <td>...</td>\n",
              "    </tr>\n",
              "    <tr>\n",
              "      <th>142</th>\n",
              "      <td>H-I UM-129A (9SO)</td>\n",
              "      <td>Japan</td>\n",
              "      <td>0.0</td>\n",
              "    </tr>\n",
              "    <tr>\n",
              "      <th>141</th>\n",
              "      <td>H-I UM-129A (6SO)</td>\n",
              "      <td>Japan</td>\n",
              "      <td>0.0</td>\n",
              "    </tr>\n",
              "    <tr>\n",
              "      <th>140</th>\n",
              "      <td>H-I (9 SO)</td>\n",
              "      <td>Japan</td>\n",
              "      <td>0.0</td>\n",
              "    </tr>\n",
              "    <tr>\n",
              "      <th>136</th>\n",
              "      <td>Feng Bao 1</td>\n",
              "      <td>China</td>\n",
              "      <td>0.0</td>\n",
              "    </tr>\n",
              "    <tr>\n",
              "      <th>366</th>\n",
              "      <td>ZhuQue-1</td>\n",
              "      <td>China</td>\n",
              "      <td>0.0</td>\n",
              "    </tr>\n",
              "  </tbody>\n",
              "</table>\n",
              "<p>367 rows × 3 columns</p>\n",
              "</div>"
            ],
            "text/plain": [
              "                     Launcher Country   Rocket\n",
              "301  Space Shuttle Discovery      USA  17550.0\n",
              "255                 Saturn V      USA  15080.0\n",
              "18              Ariane 5 ECA   France  15000.0\n",
              "298   Space Shuttle Atlantis      USA  14850.0\n",
              "300   Space Shuttle Columbia      USA  12600.0\n",
              "..                        ...     ...      ...\n",
              "142        H-I UM-129A (9SO)    Japan      0.0\n",
              "141        H-I UM-129A (6SO)    Japan      0.0\n",
              "140               H-I (9 SO)    Japan      0.0\n",
              "136               Feng Bao 1    China      0.0\n",
              "366                 ZhuQue-1    China      0.0\n",
              "\n",
              "[367 rows x 3 columns]"
            ]
          },
          "metadata": {
            "tags": []
          },
          "execution_count": 51
        }
      ]
    },
    {
      "cell_type": "code",
      "metadata": {
        "colab": {
          "base_uri": "https://localhost:8080/",
          "height": 542
        },
        "id": "qCnYT1w-wUD1",
        "outputId": "bdbf3d10-b3f5-4754-9669-3631abda148c"
      },
      "source": [
        "TMC = fig = px.bar(space_cor_launcher[:10], y=\"Launcher\", x=\"Rocket\", orientation=\"h\" , color=\"Country\" , labels={\"Rocket\":\"Amount\"} )\n",
        "      \n",
        "fig.update_layout(title = { 'text' : '<b>Les 10 missions les plus couteuses (en M $)</b>', 'x' : 0.5},template = 'plotly_dark')\n",
        "\n",
        "fig.show()"
      ],
      "execution_count": null,
      "outputs": [
        {
          "output_type": "display_data",
          "data": {
            "text/html": [
              "<html>\n",
              "<head><meta charset=\"utf-8\" /></head>\n",
              "<body>\n",
              "    <div>            <script src=\"https://cdnjs.cloudflare.com/ajax/libs/mathjax/2.7.5/MathJax.js?config=TeX-AMS-MML_SVG\"></script><script type=\"text/javascript\">if (window.MathJax) {MathJax.Hub.Config({SVG: {font: \"STIX-Web\"}});}</script>                <script type=\"text/javascript\">window.PlotlyConfig = {MathJaxConfig: 'local'};</script>\n",
              "        <script src=\"https://cdn.plot.ly/plotly-latest.min.js\"></script>                <div id=\"cf24439d-0ab5-40c5-9ec6-0cc9fd8f0f52\" class=\"plotly-graph-div\" style=\"height:525px; width:100%;\"></div>            <script type=\"text/javascript\">                                    window.PLOTLYENV=window.PLOTLYENV || {};                                    if (document.getElementById(\"cf24439d-0ab5-40c5-9ec6-0cc9fd8f0f52\")) {                    Plotly.newPlot(                        \"cf24439d-0ab5-40c5-9ec6-0cc9fd8f0f52\",                        [{\"alignmentgroup\": \"True\", \"hovertemplate\": \"Country=USA<br>Amount=%{x}<br>Launcher=%{y}<extra></extra>\", \"legendgroup\": \"USA\", \"marker\": {\"color\": \"#636efa\"}, \"name\": \"USA\", \"offsetgroup\": \"USA\", \"orientation\": \"h\", \"showlegend\": true, \"textposition\": \"auto\", \"type\": \"bar\", \"x\": [17550.0, 15080.0, 14850.0, 12600.0, 11250.0, 4500.0, 4033.0], \"xaxis\": \"x\", \"y\": [\"Space Shuttle Discovery \", \"Saturn V \", \"Space Shuttle Atlantis \", \"Space Shuttle Columbia \", \"Space Shuttle Endeavour \", \"Space Shuttle Challenger \", \"Atlas V 401 \"], \"yaxis\": \"y\"}, {\"alignmentgroup\": \"True\", \"hovertemplate\": \"Country=France<br>Amount=%{x}<br>Launcher=%{y}<extra></extra>\", \"legendgroup\": \"France\", \"marker\": {\"color\": \"#EF553B\"}, \"name\": \"France\", \"offsetgroup\": \"France\", \"orientation\": \"h\", \"showlegend\": true, \"textposition\": \"auto\", \"type\": \"bar\", \"x\": [15000.0], \"xaxis\": \"x\", \"y\": [\"Ariane 5 ECA \"], \"yaxis\": \"y\"}, {\"alignmentgroup\": \"True\", \"hovertemplate\": \"Country=Kazakhstan<br>Amount=%{x}<br>Launcher=%{y}<extra></extra>\", \"legendgroup\": \"Kazakhstan\", \"marker\": {\"color\": \"#00cc96\"}, \"name\": \"Kazakhstan\", \"offsetgroup\": \"Kazakhstan\", \"orientation\": \"h\", \"showlegend\": true, \"textposition\": \"auto\", \"type\": \"bar\", \"x\": [5000.0, 5000.0], \"xaxis\": \"x\", \"y\": [\"Energiya/Buran \", \"Energiya/Polyus \"], \"yaxis\": \"y\"}],                        {\"barmode\": \"relative\", \"legend\": {\"title\": {\"text\": \"Country\"}, \"tracegroupgap\": 0}, \"margin\": {\"t\": 60}, \"template\": {\"data\": {\"bar\": [{\"error_x\": {\"color\": \"#f2f5fa\"}, \"error_y\": {\"color\": \"#f2f5fa\"}, \"marker\": {\"line\": {\"color\": \"rgb(17,17,17)\", \"width\": 0.5}}, \"type\": \"bar\"}], \"barpolar\": [{\"marker\": {\"line\": {\"color\": \"rgb(17,17,17)\", \"width\": 0.5}}, \"type\": \"barpolar\"}], \"carpet\": [{\"aaxis\": {\"endlinecolor\": \"#A2B1C6\", \"gridcolor\": \"#506784\", \"linecolor\": \"#506784\", \"minorgridcolor\": \"#506784\", \"startlinecolor\": \"#A2B1C6\"}, \"baxis\": {\"endlinecolor\": \"#A2B1C6\", \"gridcolor\": \"#506784\", \"linecolor\": \"#506784\", \"minorgridcolor\": \"#506784\", \"startlinecolor\": \"#A2B1C6\"}, \"type\": \"carpet\"}], \"choropleth\": [{\"colorbar\": {\"outlinewidth\": 0, \"ticks\": \"\"}, \"type\": \"choropleth\"}], \"contour\": [{\"colorbar\": {\"outlinewidth\": 0, \"ticks\": \"\"}, \"colorscale\": [[0.0, \"#0d0887\"], [0.1111111111111111, \"#46039f\"], [0.2222222222222222, \"#7201a8\"], [0.3333333333333333, \"#9c179e\"], [0.4444444444444444, \"#bd3786\"], [0.5555555555555556, \"#d8576b\"], [0.6666666666666666, \"#ed7953\"], [0.7777777777777778, \"#fb9f3a\"], [0.8888888888888888, \"#fdca26\"], [1.0, \"#f0f921\"]], \"type\": \"contour\"}], \"contourcarpet\": [{\"colorbar\": {\"outlinewidth\": 0, \"ticks\": \"\"}, \"type\": \"contourcarpet\"}], \"heatmap\": [{\"colorbar\": {\"outlinewidth\": 0, \"ticks\": \"\"}, \"colorscale\": [[0.0, \"#0d0887\"], [0.1111111111111111, \"#46039f\"], [0.2222222222222222, \"#7201a8\"], [0.3333333333333333, \"#9c179e\"], [0.4444444444444444, \"#bd3786\"], [0.5555555555555556, \"#d8576b\"], [0.6666666666666666, \"#ed7953\"], [0.7777777777777778, \"#fb9f3a\"], [0.8888888888888888, \"#fdca26\"], [1.0, \"#f0f921\"]], \"type\": \"heatmap\"}], \"heatmapgl\": [{\"colorbar\": {\"outlinewidth\": 0, \"ticks\": \"\"}, \"colorscale\": [[0.0, \"#0d0887\"], [0.1111111111111111, \"#46039f\"], [0.2222222222222222, \"#7201a8\"], [0.3333333333333333, \"#9c179e\"], [0.4444444444444444, \"#bd3786\"], [0.5555555555555556, \"#d8576b\"], [0.6666666666666666, \"#ed7953\"], [0.7777777777777778, \"#fb9f3a\"], [0.8888888888888888, \"#fdca26\"], [1.0, \"#f0f921\"]], \"type\": \"heatmapgl\"}], \"histogram\": [{\"marker\": {\"colorbar\": {\"outlinewidth\": 0, \"ticks\": \"\"}}, \"type\": \"histogram\"}], \"histogram2d\": [{\"colorbar\": {\"outlinewidth\": 0, \"ticks\": \"\"}, \"colorscale\": [[0.0, \"#0d0887\"], [0.1111111111111111, \"#46039f\"], [0.2222222222222222, \"#7201a8\"], [0.3333333333333333, \"#9c179e\"], [0.4444444444444444, \"#bd3786\"], [0.5555555555555556, \"#d8576b\"], [0.6666666666666666, \"#ed7953\"], [0.7777777777777778, \"#fb9f3a\"], [0.8888888888888888, \"#fdca26\"], [1.0, \"#f0f921\"]], \"type\": \"histogram2d\"}], \"histogram2dcontour\": [{\"colorbar\": {\"outlinewidth\": 0, \"ticks\": \"\"}, \"colorscale\": [[0.0, \"#0d0887\"], [0.1111111111111111, \"#46039f\"], [0.2222222222222222, \"#7201a8\"], [0.3333333333333333, \"#9c179e\"], [0.4444444444444444, \"#bd3786\"], [0.5555555555555556, \"#d8576b\"], [0.6666666666666666, \"#ed7953\"], [0.7777777777777778, \"#fb9f3a\"], [0.8888888888888888, \"#fdca26\"], [1.0, \"#f0f921\"]], \"type\": \"histogram2dcontour\"}], \"mesh3d\": [{\"colorbar\": {\"outlinewidth\": 0, \"ticks\": \"\"}, \"type\": \"mesh3d\"}], \"parcoords\": [{\"line\": {\"colorbar\": {\"outlinewidth\": 0, \"ticks\": \"\"}}, \"type\": \"parcoords\"}], \"pie\": [{\"automargin\": true, \"type\": \"pie\"}], \"scatter\": [{\"marker\": {\"line\": {\"color\": \"#283442\"}}, \"type\": \"scatter\"}], \"scatter3d\": [{\"line\": {\"colorbar\": {\"outlinewidth\": 0, \"ticks\": \"\"}}, \"marker\": {\"colorbar\": {\"outlinewidth\": 0, \"ticks\": \"\"}}, \"type\": \"scatter3d\"}], \"scattercarpet\": [{\"marker\": {\"colorbar\": {\"outlinewidth\": 0, \"ticks\": \"\"}}, \"type\": \"scattercarpet\"}], \"scattergeo\": [{\"marker\": {\"colorbar\": {\"outlinewidth\": 0, \"ticks\": \"\"}}, \"type\": \"scattergeo\"}], \"scattergl\": [{\"marker\": {\"line\": {\"color\": \"#283442\"}}, \"type\": \"scattergl\"}], \"scattermapbox\": [{\"marker\": {\"colorbar\": {\"outlinewidth\": 0, \"ticks\": \"\"}}, \"type\": \"scattermapbox\"}], \"scatterpolar\": [{\"marker\": {\"colorbar\": {\"outlinewidth\": 0, \"ticks\": \"\"}}, \"type\": \"scatterpolar\"}], \"scatterpolargl\": [{\"marker\": {\"colorbar\": {\"outlinewidth\": 0, \"ticks\": \"\"}}, \"type\": \"scatterpolargl\"}], \"scatterternary\": [{\"marker\": {\"colorbar\": {\"outlinewidth\": 0, \"ticks\": \"\"}}, \"type\": \"scatterternary\"}], \"surface\": [{\"colorbar\": {\"outlinewidth\": 0, \"ticks\": \"\"}, \"colorscale\": [[0.0, \"#0d0887\"], [0.1111111111111111, \"#46039f\"], [0.2222222222222222, \"#7201a8\"], [0.3333333333333333, \"#9c179e\"], [0.4444444444444444, \"#bd3786\"], [0.5555555555555556, \"#d8576b\"], [0.6666666666666666, \"#ed7953\"], [0.7777777777777778, \"#fb9f3a\"], [0.8888888888888888, \"#fdca26\"], [1.0, \"#f0f921\"]], \"type\": \"surface\"}], \"table\": [{\"cells\": {\"fill\": {\"color\": \"#506784\"}, \"line\": {\"color\": \"rgb(17,17,17)\"}}, \"header\": {\"fill\": {\"color\": \"#2a3f5f\"}, \"line\": {\"color\": \"rgb(17,17,17)\"}}, \"type\": \"table\"}]}, \"layout\": {\"annotationdefaults\": {\"arrowcolor\": \"#f2f5fa\", \"arrowhead\": 0, \"arrowwidth\": 1}, \"autotypenumbers\": \"strict\", \"coloraxis\": {\"colorbar\": {\"outlinewidth\": 0, \"ticks\": \"\"}}, \"colorscale\": {\"diverging\": [[0, \"#8e0152\"], [0.1, \"#c51b7d\"], [0.2, \"#de77ae\"], [0.3, \"#f1b6da\"], [0.4, \"#fde0ef\"], [0.5, \"#f7f7f7\"], [0.6, \"#e6f5d0\"], [0.7, \"#b8e186\"], [0.8, \"#7fbc41\"], [0.9, \"#4d9221\"], [1, \"#276419\"]], \"sequential\": [[0.0, \"#0d0887\"], [0.1111111111111111, \"#46039f\"], [0.2222222222222222, \"#7201a8\"], [0.3333333333333333, \"#9c179e\"], [0.4444444444444444, \"#bd3786\"], [0.5555555555555556, \"#d8576b\"], [0.6666666666666666, \"#ed7953\"], [0.7777777777777778, \"#fb9f3a\"], [0.8888888888888888, \"#fdca26\"], [1.0, \"#f0f921\"]], \"sequentialminus\": [[0.0, \"#0d0887\"], [0.1111111111111111, \"#46039f\"], [0.2222222222222222, \"#7201a8\"], [0.3333333333333333, \"#9c179e\"], [0.4444444444444444, \"#bd3786\"], [0.5555555555555556, \"#d8576b\"], [0.6666666666666666, \"#ed7953\"], [0.7777777777777778, \"#fb9f3a\"], [0.8888888888888888, \"#fdca26\"], [1.0, \"#f0f921\"]]}, \"colorway\": [\"#636efa\", \"#EF553B\", \"#00cc96\", \"#ab63fa\", \"#FFA15A\", \"#19d3f3\", \"#FF6692\", \"#B6E880\", \"#FF97FF\", \"#FECB52\"], \"font\": {\"color\": \"#f2f5fa\"}, \"geo\": {\"bgcolor\": \"rgb(17,17,17)\", \"lakecolor\": \"rgb(17,17,17)\", \"landcolor\": \"rgb(17,17,17)\", \"showlakes\": true, \"showland\": true, \"subunitcolor\": \"#506784\"}, \"hoverlabel\": {\"align\": \"left\"}, \"hovermode\": \"closest\", \"mapbox\": {\"style\": \"dark\"}, \"paper_bgcolor\": \"rgb(17,17,17)\", \"plot_bgcolor\": \"rgb(17,17,17)\", \"polar\": {\"angularaxis\": {\"gridcolor\": \"#506784\", \"linecolor\": \"#506784\", \"ticks\": \"\"}, \"bgcolor\": \"rgb(17,17,17)\", \"radialaxis\": {\"gridcolor\": \"#506784\", \"linecolor\": \"#506784\", \"ticks\": \"\"}}, \"scene\": {\"xaxis\": {\"backgroundcolor\": \"rgb(17,17,17)\", \"gridcolor\": \"#506784\", \"gridwidth\": 2, \"linecolor\": \"#506784\", \"showbackground\": true, \"ticks\": \"\", \"zerolinecolor\": \"#C8D4E3\"}, \"yaxis\": {\"backgroundcolor\": \"rgb(17,17,17)\", \"gridcolor\": \"#506784\", \"gridwidth\": 2, \"linecolor\": \"#506784\", \"showbackground\": true, \"ticks\": \"\", \"zerolinecolor\": \"#C8D4E3\"}, \"zaxis\": {\"backgroundcolor\": \"rgb(17,17,17)\", \"gridcolor\": \"#506784\", \"gridwidth\": 2, \"linecolor\": \"#506784\", \"showbackground\": true, \"ticks\": \"\", \"zerolinecolor\": \"#C8D4E3\"}}, \"shapedefaults\": {\"line\": {\"color\": \"#f2f5fa\"}}, \"sliderdefaults\": {\"bgcolor\": \"#C8D4E3\", \"bordercolor\": \"rgb(17,17,17)\", \"borderwidth\": 1, \"tickwidth\": 0}, \"ternary\": {\"aaxis\": {\"gridcolor\": \"#506784\", \"linecolor\": \"#506784\", \"ticks\": \"\"}, \"baxis\": {\"gridcolor\": \"#506784\", \"linecolor\": \"#506784\", \"ticks\": \"\"}, \"bgcolor\": \"rgb(17,17,17)\", \"caxis\": {\"gridcolor\": \"#506784\", \"linecolor\": \"#506784\", \"ticks\": \"\"}}, \"title\": {\"x\": 0.05}, \"updatemenudefaults\": {\"bgcolor\": \"#506784\", \"borderwidth\": 0}, \"xaxis\": {\"automargin\": true, \"gridcolor\": \"#283442\", \"linecolor\": \"#506784\", \"ticks\": \"\", \"title\": {\"standoff\": 15}, \"zerolinecolor\": \"#283442\", \"zerolinewidth\": 2}, \"yaxis\": {\"automargin\": true, \"gridcolor\": \"#283442\", \"linecolor\": \"#506784\", \"ticks\": \"\", \"title\": {\"standoff\": 15}, \"zerolinecolor\": \"#283442\", \"zerolinewidth\": 2}}}, \"title\": {\"text\": \"<b>Les 10 missions les plus couteuses (en M $)</b>\", \"x\": 0.5}, \"xaxis\": {\"anchor\": \"y\", \"domain\": [0.0, 1.0], \"title\": {\"text\": \"Amount\"}}, \"yaxis\": {\"anchor\": \"x\", \"domain\": [0.0, 1.0], \"title\": {\"text\": \"Launcher\"}}},                        {\"responsive\": true}                    ).then(function(){\n",
              "                            \n",
              "var gd = document.getElementById('cf24439d-0ab5-40c5-9ec6-0cc9fd8f0f52');\n",
              "var x = new MutationObserver(function (mutations, observer) {{\n",
              "        var display = window.getComputedStyle(gd).display;\n",
              "        if (!display || display === 'none') {{\n",
              "            console.log([gd, 'removed!']);\n",
              "            Plotly.purge(gd);\n",
              "            observer.disconnect();\n",
              "        }}\n",
              "}});\n",
              "\n",
              "// Listen for the removal of the full notebook cells\n",
              "var notebookContainer = gd.closest('#notebook-container');\n",
              "if (notebookContainer) {{\n",
              "    x.observe(notebookContainer, {childList: true});\n",
              "}}\n",
              "\n",
              "// Listen for the clearing of the current output cell\n",
              "var outputEl = gd.closest('.output');\n",
              "if (outputEl) {{\n",
              "    x.observe(outputEl, {childList: true});\n",
              "}}\n",
              "\n",
              "                        })                };                            </script>        </div>\n",
              "</body>\n",
              "</html>"
            ]
          },
          "metadata": {
            "tags": []
          }
        }
      ]
    },
    {
      "cell_type": "markdown",
      "metadata": {
        "id": "47feZ_LEwj0T"
      },
      "source": [
        "#Etude \"Year\" & \"Month\""
      ]
    },
    {
      "cell_type": "code",
      "metadata": {
        "colab": {
          "base_uri": "https://localhost:8080/",
          "height": 542
        },
        "id": "hNANyB6fARUt",
        "outputId": "584a14b0-6fcd-45c2-fe93-c917ce82beb0"
      },
      "source": [
        "LA = fig = px.bar(space_cor[\"Year\"].value_counts(), color=space_cor[\"Year\"].value_counts(), color_continuous_scale=px.colors.sequential.Plasma, labels={'value':'Launches', 'index':'Year','color':'None'})\n",
        "\n",
        "fig.update_layout(template=\"plotly_dark\",title_text=\"Lancement par années\")\n",
        "fig.show()"
      ],
      "execution_count": null,
      "outputs": [
        {
          "output_type": "display_data",
          "data": {
            "text/html": [
              "<html>\n",
              "<head><meta charset=\"utf-8\" /></head>\n",
              "<body>\n",
              "    <div>            <script src=\"https://cdnjs.cloudflare.com/ajax/libs/mathjax/2.7.5/MathJax.js?config=TeX-AMS-MML_SVG\"></script><script type=\"text/javascript\">if (window.MathJax) {MathJax.Hub.Config({SVG: {font: \"STIX-Web\"}});}</script>                <script type=\"text/javascript\">window.PlotlyConfig = {MathJaxConfig: 'local'};</script>\n",
              "        <script src=\"https://cdn.plot.ly/plotly-latest.min.js\"></script>                <div id=\"f31bc8b4-c282-4f82-b740-30414fe18d39\" class=\"plotly-graph-div\" style=\"height:525px; width:100%;\"></div>            <script type=\"text/javascript\">                                    window.PLOTLYENV=window.PLOTLYENV || {};                                    if (document.getElementById(\"f31bc8b4-c282-4f82-b740-30414fe18d39\")) {                    Plotly.newPlot(                        \"f31bc8b4-c282-4f82-b740-30414fe18d39\",                        [{\"alignmentgroup\": \"True\", \"hovertemplate\": \"Year=%{x}<br>Launches=%{y}<br>None=%{marker.color}<extra></extra>\", \"legendgroup\": \"\", \"marker\": {\"color\": [119, 117, 114, 113, 113, 109, 107, 106, 103, 103, 103, 101, 99, 98, 97, 92, 90, 87, 82, 80, 74, 71, 70, 69, 68, 67, 66, 64, 63, 62, 62, 61, 61, 60, 60, 59, 59, 57, 57, 56, 55, 53, 52, 52, 52, 52, 50, 50, 49, 49, 49, 48, 46, 43, 42, 41, 40, 39, 38, 37, 37, 28, 20, 3], \"coloraxis\": \"coloraxis\"}, \"name\": \"\", \"offsetgroup\": \"\", \"orientation\": \"v\", \"showlegend\": false, \"textposition\": \"auto\", \"type\": \"bar\", \"x\": [1971, 2018, 1977, 1976, 1975, 2019, 1970, 1967, 1968, 1969, 1973, 1966, 1972, 1974, 1978, 2017, 2016, 1965, 1962, 1990, 1985, 1981, 1997, 1984, 1998, 1982, 1983, 1994, 2020, 1986, 1992, 1995, 1993, 1996, 1964, 1991, 1988, 2000, 1999, 1987, 1980, 2014, 2003, 1989, 2015, 1961, 2009, 2007, 1979, 2002, 2006, 2008, 2013, 2001, 2011, 1963, 2004, 1960, 2012, 2005, 2010, 1958, 1959, 1957], \"xaxis\": \"x\", \"y\": [119, 117, 114, 113, 113, 109, 107, 106, 103, 103, 103, 101, 99, 98, 97, 92, 90, 87, 82, 80, 74, 71, 70, 69, 68, 67, 66, 64, 63, 62, 62, 61, 61, 60, 60, 59, 59, 57, 57, 56, 55, 53, 52, 52, 52, 52, 50, 50, 49, 49, 49, 48, 46, 43, 42, 41, 40, 39, 38, 37, 37, 28, 20, 3], \"yaxis\": \"y\"}],                        {\"barmode\": \"relative\", \"coloraxis\": {\"colorbar\": {\"title\": {\"text\": \"None\"}}, \"colorscale\": [[0.0, \"#0d0887\"], [0.1111111111111111, \"#46039f\"], [0.2222222222222222, \"#7201a8\"], [0.3333333333333333, \"#9c179e\"], [0.4444444444444444, \"#bd3786\"], [0.5555555555555556, \"#d8576b\"], [0.6666666666666666, \"#ed7953\"], [0.7777777777777778, \"#fb9f3a\"], [0.8888888888888888, \"#fdca26\"], [1.0, \"#f0f921\"]]}, \"legend\": {\"tracegroupgap\": 0}, \"margin\": {\"t\": 60}, \"template\": {\"data\": {\"bar\": [{\"error_x\": {\"color\": \"#f2f5fa\"}, \"error_y\": {\"color\": \"#f2f5fa\"}, \"marker\": {\"line\": {\"color\": \"rgb(17,17,17)\", \"width\": 0.5}}, \"type\": \"bar\"}], \"barpolar\": [{\"marker\": {\"line\": {\"color\": \"rgb(17,17,17)\", \"width\": 0.5}}, \"type\": \"barpolar\"}], \"carpet\": [{\"aaxis\": {\"endlinecolor\": \"#A2B1C6\", \"gridcolor\": \"#506784\", \"linecolor\": \"#506784\", \"minorgridcolor\": \"#506784\", \"startlinecolor\": \"#A2B1C6\"}, \"baxis\": {\"endlinecolor\": \"#A2B1C6\", \"gridcolor\": \"#506784\", \"linecolor\": \"#506784\", \"minorgridcolor\": \"#506784\", \"startlinecolor\": \"#A2B1C6\"}, \"type\": \"carpet\"}], \"choropleth\": [{\"colorbar\": {\"outlinewidth\": 0, \"ticks\": \"\"}, \"type\": \"choropleth\"}], \"contour\": [{\"colorbar\": {\"outlinewidth\": 0, \"ticks\": \"\"}, \"colorscale\": [[0.0, \"#0d0887\"], [0.1111111111111111, \"#46039f\"], [0.2222222222222222, \"#7201a8\"], [0.3333333333333333, \"#9c179e\"], [0.4444444444444444, \"#bd3786\"], [0.5555555555555556, \"#d8576b\"], [0.6666666666666666, \"#ed7953\"], [0.7777777777777778, \"#fb9f3a\"], [0.8888888888888888, \"#fdca26\"], [1.0, \"#f0f921\"]], \"type\": \"contour\"}], \"contourcarpet\": [{\"colorbar\": {\"outlinewidth\": 0, \"ticks\": \"\"}, \"type\": \"contourcarpet\"}], \"heatmap\": [{\"colorbar\": {\"outlinewidth\": 0, \"ticks\": \"\"}, \"colorscale\": [[0.0, \"#0d0887\"], [0.1111111111111111, \"#46039f\"], [0.2222222222222222, \"#7201a8\"], [0.3333333333333333, \"#9c179e\"], [0.4444444444444444, \"#bd3786\"], [0.5555555555555556, \"#d8576b\"], [0.6666666666666666, \"#ed7953\"], [0.7777777777777778, \"#fb9f3a\"], [0.8888888888888888, \"#fdca26\"], [1.0, \"#f0f921\"]], \"type\": \"heatmap\"}], \"heatmapgl\": [{\"colorbar\": {\"outlinewidth\": 0, \"ticks\": \"\"}, \"colorscale\": [[0.0, \"#0d0887\"], [0.1111111111111111, \"#46039f\"], [0.2222222222222222, \"#7201a8\"], [0.3333333333333333, \"#9c179e\"], [0.4444444444444444, \"#bd3786\"], [0.5555555555555556, \"#d8576b\"], [0.6666666666666666, \"#ed7953\"], [0.7777777777777778, \"#fb9f3a\"], [0.8888888888888888, \"#fdca26\"], [1.0, \"#f0f921\"]], \"type\": \"heatmapgl\"}], \"histogram\": [{\"marker\": {\"colorbar\": {\"outlinewidth\": 0, \"ticks\": \"\"}}, \"type\": \"histogram\"}], \"histogram2d\": [{\"colorbar\": {\"outlinewidth\": 0, \"ticks\": \"\"}, \"colorscale\": [[0.0, \"#0d0887\"], [0.1111111111111111, \"#46039f\"], [0.2222222222222222, \"#7201a8\"], [0.3333333333333333, \"#9c179e\"], [0.4444444444444444, \"#bd3786\"], [0.5555555555555556, \"#d8576b\"], [0.6666666666666666, \"#ed7953\"], [0.7777777777777778, \"#fb9f3a\"], [0.8888888888888888, \"#fdca26\"], [1.0, \"#f0f921\"]], \"type\": \"histogram2d\"}], \"histogram2dcontour\": [{\"colorbar\": {\"outlinewidth\": 0, \"ticks\": \"\"}, \"colorscale\": [[0.0, \"#0d0887\"], [0.1111111111111111, \"#46039f\"], [0.2222222222222222, \"#7201a8\"], [0.3333333333333333, \"#9c179e\"], [0.4444444444444444, \"#bd3786\"], [0.5555555555555556, \"#d8576b\"], [0.6666666666666666, \"#ed7953\"], [0.7777777777777778, \"#fb9f3a\"], [0.8888888888888888, \"#fdca26\"], [1.0, \"#f0f921\"]], \"type\": \"histogram2dcontour\"}], \"mesh3d\": [{\"colorbar\": {\"outlinewidth\": 0, \"ticks\": \"\"}, \"type\": \"mesh3d\"}], \"parcoords\": [{\"line\": {\"colorbar\": {\"outlinewidth\": 0, \"ticks\": \"\"}}, \"type\": \"parcoords\"}], \"pie\": [{\"automargin\": true, \"type\": \"pie\"}], \"scatter\": [{\"marker\": {\"line\": {\"color\": \"#283442\"}}, \"type\": \"scatter\"}], \"scatter3d\": [{\"line\": {\"colorbar\": {\"outlinewidth\": 0, \"ticks\": \"\"}}, \"marker\": {\"colorbar\": {\"outlinewidth\": 0, \"ticks\": \"\"}}, \"type\": \"scatter3d\"}], \"scattercarpet\": [{\"marker\": {\"colorbar\": {\"outlinewidth\": 0, \"ticks\": \"\"}}, \"type\": \"scattercarpet\"}], \"scattergeo\": [{\"marker\": {\"colorbar\": {\"outlinewidth\": 0, \"ticks\": \"\"}}, \"type\": \"scattergeo\"}], \"scattergl\": [{\"marker\": {\"line\": {\"color\": \"#283442\"}}, \"type\": \"scattergl\"}], \"scattermapbox\": [{\"marker\": {\"colorbar\": {\"outlinewidth\": 0, \"ticks\": \"\"}}, \"type\": \"scattermapbox\"}], \"scatterpolar\": [{\"marker\": {\"colorbar\": {\"outlinewidth\": 0, \"ticks\": \"\"}}, \"type\": \"scatterpolar\"}], \"scatterpolargl\": [{\"marker\": {\"colorbar\": {\"outlinewidth\": 0, \"ticks\": \"\"}}, \"type\": \"scatterpolargl\"}], \"scatterternary\": [{\"marker\": {\"colorbar\": {\"outlinewidth\": 0, \"ticks\": \"\"}}, \"type\": \"scatterternary\"}], \"surface\": [{\"colorbar\": {\"outlinewidth\": 0, \"ticks\": \"\"}, \"colorscale\": [[0.0, \"#0d0887\"], [0.1111111111111111, \"#46039f\"], [0.2222222222222222, \"#7201a8\"], [0.3333333333333333, \"#9c179e\"], [0.4444444444444444, \"#bd3786\"], [0.5555555555555556, \"#d8576b\"], [0.6666666666666666, \"#ed7953\"], [0.7777777777777778, \"#fb9f3a\"], [0.8888888888888888, \"#fdca26\"], [1.0, \"#f0f921\"]], \"type\": \"surface\"}], \"table\": [{\"cells\": {\"fill\": {\"color\": \"#506784\"}, \"line\": {\"color\": \"rgb(17,17,17)\"}}, \"header\": {\"fill\": {\"color\": \"#2a3f5f\"}, \"line\": {\"color\": \"rgb(17,17,17)\"}}, \"type\": \"table\"}]}, \"layout\": {\"annotationdefaults\": {\"arrowcolor\": \"#f2f5fa\", \"arrowhead\": 0, \"arrowwidth\": 1}, \"autotypenumbers\": \"strict\", \"coloraxis\": {\"colorbar\": {\"outlinewidth\": 0, \"ticks\": \"\"}}, \"colorscale\": {\"diverging\": [[0, \"#8e0152\"], [0.1, \"#c51b7d\"], [0.2, \"#de77ae\"], [0.3, \"#f1b6da\"], [0.4, \"#fde0ef\"], [0.5, \"#f7f7f7\"], [0.6, \"#e6f5d0\"], [0.7, \"#b8e186\"], [0.8, \"#7fbc41\"], [0.9, \"#4d9221\"], [1, \"#276419\"]], \"sequential\": [[0.0, \"#0d0887\"], [0.1111111111111111, \"#46039f\"], [0.2222222222222222, \"#7201a8\"], [0.3333333333333333, \"#9c179e\"], [0.4444444444444444, \"#bd3786\"], [0.5555555555555556, \"#d8576b\"], [0.6666666666666666, \"#ed7953\"], [0.7777777777777778, \"#fb9f3a\"], [0.8888888888888888, \"#fdca26\"], [1.0, \"#f0f921\"]], \"sequentialminus\": [[0.0, \"#0d0887\"], [0.1111111111111111, \"#46039f\"], [0.2222222222222222, \"#7201a8\"], [0.3333333333333333, \"#9c179e\"], [0.4444444444444444, \"#bd3786\"], [0.5555555555555556, \"#d8576b\"], [0.6666666666666666, \"#ed7953\"], [0.7777777777777778, \"#fb9f3a\"], [0.8888888888888888, \"#fdca26\"], [1.0, \"#f0f921\"]]}, \"colorway\": [\"#636efa\", \"#EF553B\", \"#00cc96\", \"#ab63fa\", \"#FFA15A\", \"#19d3f3\", \"#FF6692\", \"#B6E880\", \"#FF97FF\", \"#FECB52\"], \"font\": {\"color\": \"#f2f5fa\"}, \"geo\": {\"bgcolor\": \"rgb(17,17,17)\", \"lakecolor\": \"rgb(17,17,17)\", \"landcolor\": \"rgb(17,17,17)\", \"showlakes\": true, \"showland\": true, \"subunitcolor\": \"#506784\"}, \"hoverlabel\": {\"align\": \"left\"}, \"hovermode\": \"closest\", \"mapbox\": {\"style\": \"dark\"}, \"paper_bgcolor\": \"rgb(17,17,17)\", \"plot_bgcolor\": \"rgb(17,17,17)\", \"polar\": {\"angularaxis\": {\"gridcolor\": \"#506784\", \"linecolor\": \"#506784\", \"ticks\": \"\"}, \"bgcolor\": \"rgb(17,17,17)\", \"radialaxis\": {\"gridcolor\": \"#506784\", \"linecolor\": \"#506784\", \"ticks\": \"\"}}, \"scene\": {\"xaxis\": {\"backgroundcolor\": \"rgb(17,17,17)\", \"gridcolor\": \"#506784\", \"gridwidth\": 2, \"linecolor\": \"#506784\", \"showbackground\": true, \"ticks\": \"\", \"zerolinecolor\": \"#C8D4E3\"}, \"yaxis\": {\"backgroundcolor\": \"rgb(17,17,17)\", \"gridcolor\": \"#506784\", \"gridwidth\": 2, \"linecolor\": \"#506784\", \"showbackground\": true, \"ticks\": \"\", \"zerolinecolor\": \"#C8D4E3\"}, \"zaxis\": {\"backgroundcolor\": \"rgb(17,17,17)\", \"gridcolor\": \"#506784\", \"gridwidth\": 2, \"linecolor\": \"#506784\", \"showbackground\": true, \"ticks\": \"\", \"zerolinecolor\": \"#C8D4E3\"}}, \"shapedefaults\": {\"line\": {\"color\": \"#f2f5fa\"}}, \"sliderdefaults\": {\"bgcolor\": \"#C8D4E3\", \"bordercolor\": \"rgb(17,17,17)\", \"borderwidth\": 1, \"tickwidth\": 0}, \"ternary\": {\"aaxis\": {\"gridcolor\": \"#506784\", \"linecolor\": \"#506784\", \"ticks\": \"\"}, \"baxis\": {\"gridcolor\": \"#506784\", \"linecolor\": \"#506784\", \"ticks\": \"\"}, \"bgcolor\": \"rgb(17,17,17)\", \"caxis\": {\"gridcolor\": \"#506784\", \"linecolor\": \"#506784\", \"ticks\": \"\"}}, \"title\": {\"x\": 0.05}, \"updatemenudefaults\": {\"bgcolor\": \"#506784\", \"borderwidth\": 0}, \"xaxis\": {\"automargin\": true, \"gridcolor\": \"#283442\", \"linecolor\": \"#506784\", \"ticks\": \"\", \"title\": {\"standoff\": 15}, \"zerolinecolor\": \"#283442\", \"zerolinewidth\": 2}, \"yaxis\": {\"automargin\": true, \"gridcolor\": \"#283442\", \"linecolor\": \"#506784\", \"ticks\": \"\", \"title\": {\"standoff\": 15}, \"zerolinecolor\": \"#283442\", \"zerolinewidth\": 2}}}, \"title\": {\"text\": \"Lancement par ann\\u00e9es\"}, \"xaxis\": {\"anchor\": \"y\", \"domain\": [0.0, 1.0], \"title\": {\"text\": \"Year\"}}, \"yaxis\": {\"anchor\": \"x\", \"domain\": [0.0, 1.0], \"title\": {\"text\": \"Launches\"}}},                        {\"responsive\": true}                    ).then(function(){\n",
              "                            \n",
              "var gd = document.getElementById('f31bc8b4-c282-4f82-b740-30414fe18d39');\n",
              "var x = new MutationObserver(function (mutations, observer) {{\n",
              "        var display = window.getComputedStyle(gd).display;\n",
              "        if (!display || display === 'none') {{\n",
              "            console.log([gd, 'removed!']);\n",
              "            Plotly.purge(gd);\n",
              "            observer.disconnect();\n",
              "        }}\n",
              "}});\n",
              "\n",
              "// Listen for the removal of the full notebook cells\n",
              "var notebookContainer = gd.closest('#notebook-container');\n",
              "if (notebookContainer) {{\n",
              "    x.observe(notebookContainer, {childList: true});\n",
              "}}\n",
              "\n",
              "// Listen for the clearing of the current output cell\n",
              "var outputEl = gd.closest('.output');\n",
              "if (outputEl) {{\n",
              "    x.observe(outputEl, {childList: true});\n",
              "}}\n",
              "\n",
              "                        })                };                            </script>        </div>\n",
              "</body>\n",
              "</html>"
            ]
          },
          "metadata": {
            "tags": []
          }
        }
      ]
    },
    {
      "cell_type": "code",
      "metadata": {
        "id": "4cOdCfxLjOGB"
      },
      "source": [
        "space_cor_failed=space_cor[(space_cor[\"Status Mission\"].str.contains(\"Failure\"))]"
      ],
      "execution_count": null,
      "outputs": []
    },
    {
      "cell_type": "code",
      "metadata": {
        "id": "S1IOZ51HkWjx"
      },
      "source": [
        "space_cor_success=space_cor[(space_cor[\"Status Mission\"].str.contains(\"Success\"))]"
      ],
      "execution_count": null,
      "outputs": []
    },
    {
      "cell_type": "code",
      "metadata": {
        "id": "GZtyBa42lIee"
      },
      "source": [
        "space_cor_failed = space_cor_failed.pivot_table(values=\"Launcher\", index=\"Year\", aggfunc=\"count\")"
      ],
      "execution_count": null,
      "outputs": []
    },
    {
      "cell_type": "code",
      "metadata": {
        "id": "C2HTt2PHl831"
      },
      "source": [
        "space_cor_failed.reset_index(inplace=True)"
      ],
      "execution_count": null,
      "outputs": []
    },
    {
      "cell_type": "code",
      "metadata": {
        "id": "kxxf0LRwmSaM"
      },
      "source": [
        "space_cor_success = space_cor_success.pivot_table(values=\"Launcher\", index=\"Year\", aggfunc=\"count\")"
      ],
      "execution_count": null,
      "outputs": []
    },
    {
      "cell_type": "code",
      "metadata": {
        "id": "CjlW6uuAmSIR"
      },
      "source": [
        "space_cor_success.reset_index(inplace=True)"
      ],
      "execution_count": null,
      "outputs": []
    },
    {
      "cell_type": "code",
      "metadata": {
        "colab": {
          "base_uri": "https://localhost:8080/",
          "height": 542
        },
        "id": "K19yLm4Sj7RX",
        "outputId": "a665363f-3dac-49e3-d092-3b9434b285b7"
      },
      "source": [
        "SFA = fig = go.Figure()\n",
        "\n",
        "# Add traces\n",
        "fig.add_trace(go.Scatter(x=space_cor_failed[\"Year\"], y=space_cor_failed[\"Launcher\"],\n",
        "                    mode='lines+markers',\n",
        "                    name='Failure'))\n",
        "fig.add_trace(go.Scatter(x=space_cor_success[\"Year\"], y=space_cor_success[\"Launcher\"],\n",
        "                    mode='lines+markers',\n",
        "                    name='Success'))\n",
        "\n",
        "fig.update_layout(template=\"plotly_dark\",title_text=\"Success & Failure par années\")\n",
        "\n",
        "fig.show()"
      ],
      "execution_count": null,
      "outputs": [
        {
          "output_type": "display_data",
          "data": {
            "text/html": [
              "<html>\n",
              "<head><meta charset=\"utf-8\" /></head>\n",
              "<body>\n",
              "    <div>            <script src=\"https://cdnjs.cloudflare.com/ajax/libs/mathjax/2.7.5/MathJax.js?config=TeX-AMS-MML_SVG\"></script><script type=\"text/javascript\">if (window.MathJax) {MathJax.Hub.Config({SVG: {font: \"STIX-Web\"}});}</script>                <script type=\"text/javascript\">window.PlotlyConfig = {MathJaxConfig: 'local'};</script>\n",
              "        <script src=\"https://cdn.plot.ly/plotly-latest.min.js\"></script>                <div id=\"5d8b774c-bce8-4cc6-83d2-bbf6fc7a567a\" class=\"plotly-graph-div\" style=\"height:525px; width:100%;\"></div>            <script type=\"text/javascript\">                                    window.PLOTLYENV=window.PLOTLYENV || {};                                    if (document.getElementById(\"5d8b774c-bce8-4cc6-83d2-bbf6fc7a567a\")) {                    Plotly.newPlot(                        \"5d8b774c-bce8-4cc6-83d2-bbf6fc7a567a\",                        [{\"mode\": \"lines+markers\", \"name\": \"Failure\", \"type\": \"scatter\", \"x\": [1957, 1958, 1959, 1960, 1961, 1962, 1963, 1964, 1965, 1966, 1967, 1968, 1969, 1970, 1971, 1972, 1973, 1974, 1975, 1976, 1977, 1978, 1979, 1980, 1981, 1982, 1983, 1984, 1985, 1986, 1987, 1988, 1989, 1990, 1991, 1992, 1993, 1994, 1995, 1996, 1997, 1998, 1999, 2000, 2001, 2002, 2003, 2004, 2005, 2006, 2007, 2008, 2009, 2010, 2011, 2012, 2013, 2014, 2015, 2016, 2017, 2018, 2019, 2020], \"y\": [1, 22, 12, 20, 20, 17, 12, 12, 13, 20, 19, 11, 18, 14, 14, 10, 7, 8, 6, 5, 4, 3, 3, 6, 6, 5, 1, 3, 6, 6, 3, 2, 2, 4, 5, 3, 4, 6, 8, 4, 6, 7, 6, 4, 3, 2, 4, 3, 3, 3, 4, 3, 3, 3, 2, 4, 3, 2, 4, 4, 8, 4, 9, 6]}, {\"mode\": \"lines+markers\", \"name\": \"Success\", \"type\": \"scatter\", \"x\": [1957, 1958, 1959, 1960, 1961, 1962, 1963, 1964, 1965, 1966, 1967, 1968, 1969, 1970, 1971, 1972, 1973, 1974, 1975, 1976, 1977, 1978, 1979, 1980, 1981, 1982, 1983, 1984, 1985, 1986, 1987, 1988, 1989, 1990, 1991, 1992, 1993, 1994, 1995, 1996, 1997, 1998, 1999, 2000, 2001, 2002, 2003, 2004, 2005, 2006, 2007, 2008, 2009, 2010, 2011, 2012, 2013, 2014, 2015, 2016, 2017, 2018, 2019, 2020], \"y\": [2, 6, 8, 19, 32, 65, 29, 48, 74, 81, 87, 92, 85, 93, 105, 89, 96, 90, 107, 108, 110, 94, 46, 49, 65, 62, 65, 66, 68, 56, 53, 57, 50, 76, 54, 59, 57, 58, 53, 56, 64, 61, 51, 53, 40, 47, 48, 37, 34, 46, 46, 45, 47, 34, 40, 34, 43, 51, 48, 86, 84, 113, 100, 57]}],                        {\"template\": {\"data\": {\"bar\": [{\"error_x\": {\"color\": \"#f2f5fa\"}, \"error_y\": {\"color\": \"#f2f5fa\"}, \"marker\": {\"line\": {\"color\": \"rgb(17,17,17)\", \"width\": 0.5}}, \"type\": \"bar\"}], \"barpolar\": [{\"marker\": {\"line\": {\"color\": \"rgb(17,17,17)\", \"width\": 0.5}}, \"type\": \"barpolar\"}], \"carpet\": [{\"aaxis\": {\"endlinecolor\": \"#A2B1C6\", \"gridcolor\": \"#506784\", \"linecolor\": \"#506784\", \"minorgridcolor\": \"#506784\", \"startlinecolor\": \"#A2B1C6\"}, \"baxis\": {\"endlinecolor\": \"#A2B1C6\", \"gridcolor\": \"#506784\", \"linecolor\": \"#506784\", \"minorgridcolor\": \"#506784\", \"startlinecolor\": \"#A2B1C6\"}, \"type\": \"carpet\"}], \"choropleth\": [{\"colorbar\": {\"outlinewidth\": 0, \"ticks\": \"\"}, \"type\": \"choropleth\"}], \"contour\": [{\"colorbar\": {\"outlinewidth\": 0, \"ticks\": \"\"}, \"colorscale\": [[0.0, \"#0d0887\"], [0.1111111111111111, \"#46039f\"], [0.2222222222222222, \"#7201a8\"], [0.3333333333333333, \"#9c179e\"], [0.4444444444444444, \"#bd3786\"], [0.5555555555555556, \"#d8576b\"], [0.6666666666666666, \"#ed7953\"], [0.7777777777777778, \"#fb9f3a\"], [0.8888888888888888, \"#fdca26\"], [1.0, \"#f0f921\"]], \"type\": \"contour\"}], \"contourcarpet\": [{\"colorbar\": {\"outlinewidth\": 0, \"ticks\": \"\"}, \"type\": \"contourcarpet\"}], \"heatmap\": [{\"colorbar\": {\"outlinewidth\": 0, \"ticks\": \"\"}, \"colorscale\": [[0.0, \"#0d0887\"], [0.1111111111111111, \"#46039f\"], [0.2222222222222222, \"#7201a8\"], [0.3333333333333333, \"#9c179e\"], [0.4444444444444444, \"#bd3786\"], [0.5555555555555556, \"#d8576b\"], [0.6666666666666666, \"#ed7953\"], [0.7777777777777778, \"#fb9f3a\"], [0.8888888888888888, \"#fdca26\"], [1.0, \"#f0f921\"]], \"type\": \"heatmap\"}], \"heatmapgl\": [{\"colorbar\": {\"outlinewidth\": 0, \"ticks\": \"\"}, \"colorscale\": [[0.0, \"#0d0887\"], [0.1111111111111111, \"#46039f\"], [0.2222222222222222, \"#7201a8\"], [0.3333333333333333, \"#9c179e\"], [0.4444444444444444, \"#bd3786\"], [0.5555555555555556, \"#d8576b\"], [0.6666666666666666, \"#ed7953\"], [0.7777777777777778, \"#fb9f3a\"], [0.8888888888888888, \"#fdca26\"], [1.0, \"#f0f921\"]], \"type\": \"heatmapgl\"}], \"histogram\": [{\"marker\": {\"colorbar\": {\"outlinewidth\": 0, \"ticks\": \"\"}}, \"type\": \"histogram\"}], \"histogram2d\": [{\"colorbar\": {\"outlinewidth\": 0, \"ticks\": \"\"}, \"colorscale\": [[0.0, \"#0d0887\"], [0.1111111111111111, \"#46039f\"], [0.2222222222222222, \"#7201a8\"], [0.3333333333333333, \"#9c179e\"], [0.4444444444444444, \"#bd3786\"], [0.5555555555555556, \"#d8576b\"], [0.6666666666666666, \"#ed7953\"], [0.7777777777777778, \"#fb9f3a\"], [0.8888888888888888, \"#fdca26\"], [1.0, \"#f0f921\"]], \"type\": \"histogram2d\"}], \"histogram2dcontour\": [{\"colorbar\": {\"outlinewidth\": 0, \"ticks\": \"\"}, \"colorscale\": [[0.0, \"#0d0887\"], [0.1111111111111111, \"#46039f\"], [0.2222222222222222, \"#7201a8\"], [0.3333333333333333, \"#9c179e\"], [0.4444444444444444, \"#bd3786\"], [0.5555555555555556, \"#d8576b\"], [0.6666666666666666, \"#ed7953\"], [0.7777777777777778, \"#fb9f3a\"], [0.8888888888888888, \"#fdca26\"], [1.0, \"#f0f921\"]], \"type\": \"histogram2dcontour\"}], \"mesh3d\": [{\"colorbar\": {\"outlinewidth\": 0, \"ticks\": \"\"}, \"type\": \"mesh3d\"}], \"parcoords\": [{\"line\": {\"colorbar\": {\"outlinewidth\": 0, \"ticks\": \"\"}}, \"type\": \"parcoords\"}], \"pie\": [{\"automargin\": true, \"type\": \"pie\"}], \"scatter\": [{\"marker\": {\"line\": {\"color\": \"#283442\"}}, \"type\": \"scatter\"}], \"scatter3d\": [{\"line\": {\"colorbar\": {\"outlinewidth\": 0, \"ticks\": \"\"}}, \"marker\": {\"colorbar\": {\"outlinewidth\": 0, \"ticks\": \"\"}}, \"type\": \"scatter3d\"}], \"scattercarpet\": [{\"marker\": {\"colorbar\": {\"outlinewidth\": 0, \"ticks\": \"\"}}, \"type\": \"scattercarpet\"}], \"scattergeo\": [{\"marker\": {\"colorbar\": {\"outlinewidth\": 0, \"ticks\": \"\"}}, \"type\": \"scattergeo\"}], \"scattergl\": [{\"marker\": {\"line\": {\"color\": \"#283442\"}}, \"type\": \"scattergl\"}], \"scattermapbox\": [{\"marker\": {\"colorbar\": {\"outlinewidth\": 0, \"ticks\": \"\"}}, \"type\": \"scattermapbox\"}], \"scatterpolar\": [{\"marker\": {\"colorbar\": {\"outlinewidth\": 0, \"ticks\": \"\"}}, \"type\": \"scatterpolar\"}], \"scatterpolargl\": [{\"marker\": {\"colorbar\": {\"outlinewidth\": 0, \"ticks\": \"\"}}, \"type\": \"scatterpolargl\"}], \"scatterternary\": [{\"marker\": {\"colorbar\": {\"outlinewidth\": 0, \"ticks\": \"\"}}, \"type\": \"scatterternary\"}], \"surface\": [{\"colorbar\": {\"outlinewidth\": 0, \"ticks\": \"\"}, \"colorscale\": [[0.0, \"#0d0887\"], [0.1111111111111111, \"#46039f\"], [0.2222222222222222, \"#7201a8\"], [0.3333333333333333, \"#9c179e\"], [0.4444444444444444, \"#bd3786\"], [0.5555555555555556, \"#d8576b\"], [0.6666666666666666, \"#ed7953\"], [0.7777777777777778, \"#fb9f3a\"], [0.8888888888888888, \"#fdca26\"], [1.0, \"#f0f921\"]], \"type\": \"surface\"}], \"table\": [{\"cells\": {\"fill\": {\"color\": \"#506784\"}, \"line\": {\"color\": \"rgb(17,17,17)\"}}, \"header\": {\"fill\": {\"color\": \"#2a3f5f\"}, \"line\": {\"color\": \"rgb(17,17,17)\"}}, \"type\": \"table\"}]}, \"layout\": {\"annotationdefaults\": {\"arrowcolor\": \"#f2f5fa\", \"arrowhead\": 0, \"arrowwidth\": 1}, \"autotypenumbers\": \"strict\", \"coloraxis\": {\"colorbar\": {\"outlinewidth\": 0, \"ticks\": \"\"}}, \"colorscale\": {\"diverging\": [[0, \"#8e0152\"], [0.1, \"#c51b7d\"], [0.2, \"#de77ae\"], [0.3, \"#f1b6da\"], [0.4, \"#fde0ef\"], [0.5, \"#f7f7f7\"], [0.6, \"#e6f5d0\"], [0.7, \"#b8e186\"], [0.8, \"#7fbc41\"], [0.9, \"#4d9221\"], [1, \"#276419\"]], \"sequential\": [[0.0, \"#0d0887\"], [0.1111111111111111, \"#46039f\"], [0.2222222222222222, \"#7201a8\"], [0.3333333333333333, \"#9c179e\"], [0.4444444444444444, \"#bd3786\"], [0.5555555555555556, \"#d8576b\"], [0.6666666666666666, \"#ed7953\"], [0.7777777777777778, \"#fb9f3a\"], [0.8888888888888888, \"#fdca26\"], [1.0, \"#f0f921\"]], \"sequentialminus\": [[0.0, \"#0d0887\"], [0.1111111111111111, \"#46039f\"], [0.2222222222222222, \"#7201a8\"], [0.3333333333333333, \"#9c179e\"], [0.4444444444444444, \"#bd3786\"], [0.5555555555555556, \"#d8576b\"], [0.6666666666666666, \"#ed7953\"], [0.7777777777777778, \"#fb9f3a\"], [0.8888888888888888, \"#fdca26\"], [1.0, \"#f0f921\"]]}, \"colorway\": [\"#636efa\", \"#EF553B\", \"#00cc96\", \"#ab63fa\", \"#FFA15A\", \"#19d3f3\", \"#FF6692\", \"#B6E880\", \"#FF97FF\", \"#FECB52\"], \"font\": {\"color\": \"#f2f5fa\"}, \"geo\": {\"bgcolor\": \"rgb(17,17,17)\", \"lakecolor\": \"rgb(17,17,17)\", \"landcolor\": \"rgb(17,17,17)\", \"showlakes\": true, \"showland\": true, \"subunitcolor\": \"#506784\"}, \"hoverlabel\": {\"align\": \"left\"}, \"hovermode\": \"closest\", \"mapbox\": {\"style\": \"dark\"}, \"paper_bgcolor\": \"rgb(17,17,17)\", \"plot_bgcolor\": \"rgb(17,17,17)\", \"polar\": {\"angularaxis\": {\"gridcolor\": \"#506784\", \"linecolor\": \"#506784\", \"ticks\": \"\"}, \"bgcolor\": \"rgb(17,17,17)\", \"radialaxis\": {\"gridcolor\": \"#506784\", \"linecolor\": \"#506784\", \"ticks\": \"\"}}, \"scene\": {\"xaxis\": {\"backgroundcolor\": \"rgb(17,17,17)\", \"gridcolor\": \"#506784\", \"gridwidth\": 2, \"linecolor\": \"#506784\", \"showbackground\": true, \"ticks\": \"\", \"zerolinecolor\": \"#C8D4E3\"}, \"yaxis\": {\"backgroundcolor\": \"rgb(17,17,17)\", \"gridcolor\": \"#506784\", \"gridwidth\": 2, \"linecolor\": \"#506784\", \"showbackground\": true, \"ticks\": \"\", \"zerolinecolor\": \"#C8D4E3\"}, \"zaxis\": {\"backgroundcolor\": \"rgb(17,17,17)\", \"gridcolor\": \"#506784\", \"gridwidth\": 2, \"linecolor\": \"#506784\", \"showbackground\": true, \"ticks\": \"\", \"zerolinecolor\": \"#C8D4E3\"}}, \"shapedefaults\": {\"line\": {\"color\": \"#f2f5fa\"}}, \"sliderdefaults\": {\"bgcolor\": \"#C8D4E3\", \"bordercolor\": \"rgb(17,17,17)\", \"borderwidth\": 1, \"tickwidth\": 0}, \"ternary\": {\"aaxis\": {\"gridcolor\": \"#506784\", \"linecolor\": \"#506784\", \"ticks\": \"\"}, \"baxis\": {\"gridcolor\": \"#506784\", \"linecolor\": \"#506784\", \"ticks\": \"\"}, \"bgcolor\": \"rgb(17,17,17)\", \"caxis\": {\"gridcolor\": \"#506784\", \"linecolor\": \"#506784\", \"ticks\": \"\"}}, \"title\": {\"x\": 0.05}, \"updatemenudefaults\": {\"bgcolor\": \"#506784\", \"borderwidth\": 0}, \"xaxis\": {\"automargin\": true, \"gridcolor\": \"#283442\", \"linecolor\": \"#506784\", \"ticks\": \"\", \"title\": {\"standoff\": 15}, \"zerolinecolor\": \"#283442\", \"zerolinewidth\": 2}, \"yaxis\": {\"automargin\": true, \"gridcolor\": \"#283442\", \"linecolor\": \"#506784\", \"ticks\": \"\", \"title\": {\"standoff\": 15}, \"zerolinecolor\": \"#283442\", \"zerolinewidth\": 2}}}, \"title\": {\"text\": \"Success & Failure par ann\\u00e9es\"}},                        {\"responsive\": true}                    ).then(function(){\n",
              "                            \n",
              "var gd = document.getElementById('5d8b774c-bce8-4cc6-83d2-bbf6fc7a567a');\n",
              "var x = new MutationObserver(function (mutations, observer) {{\n",
              "        var display = window.getComputedStyle(gd).display;\n",
              "        if (!display || display === 'none') {{\n",
              "            console.log([gd, 'removed!']);\n",
              "            Plotly.purge(gd);\n",
              "            observer.disconnect();\n",
              "        }}\n",
              "}});\n",
              "\n",
              "// Listen for the removal of the full notebook cells\n",
              "var notebookContainer = gd.closest('#notebook-container');\n",
              "if (notebookContainer) {{\n",
              "    x.observe(notebookContainer, {childList: true});\n",
              "}}\n",
              "\n",
              "// Listen for the clearing of the current output cell\n",
              "var outputEl = gd.closest('.output');\n",
              "if (outputEl) {{\n",
              "    x.observe(outputEl, {childList: true});\n",
              "}}\n",
              "\n",
              "                        })                };                            </script>        </div>\n",
              "</body>\n",
              "</html>"
            ]
          },
          "metadata": {
            "tags": []
          }
        }
      ]
    },
    {
      "cell_type": "code",
      "metadata": {
        "id": "kCAFH3cAnxtg"
      },
      "source": [
        "space_cor_2018=space_cor[(space_cor[\"Year\"]==2018) & (space_cor[\"Status Mission\"]==\"Success\")]\n",
        "space_cor_1977=space_cor[(space_cor[\"Year\"]==1977) & (space_cor[\"Status Mission\"]==\"Success\")]"
      ],
      "execution_count": null,
      "outputs": []
    },
    {
      "cell_type": "code",
      "metadata": {
        "id": "t4Oe99D6oGT9"
      },
      "source": [
        "space_cor_2018=space_cor_2018.pivot_table(values=\"Launcher\", index=\"Country\", aggfunc=\"count\")"
      ],
      "execution_count": null,
      "outputs": []
    },
    {
      "cell_type": "code",
      "metadata": {
        "id": "q2zb4Ztrostr"
      },
      "source": [
        "space_cor_2018.reset_index(inplace=True)"
      ],
      "execution_count": null,
      "outputs": []
    },
    {
      "cell_type": "code",
      "metadata": {
        "id": "uy-X3wImqJoT"
      },
      "source": [
        "space_cor_2018=space_cor_2018.sort_values(\"Launcher\",ascending=False)"
      ],
      "execution_count": null,
      "outputs": []
    },
    {
      "cell_type": "code",
      "metadata": {
        "colab": {
          "base_uri": "https://localhost:8080/",
          "height": 288
        },
        "id": "PXt6rEQHqVrw",
        "outputId": "6e095b30-e58e-40fb-d0e0-be079afc5767"
      },
      "source": [
        "space_cor_2018"
      ],
      "execution_count": null,
      "outputs": [
        {
          "output_type": "execute_result",
          "data": {
            "text/html": [
              "<div>\n",
              "<style scoped>\n",
              "    .dataframe tbody tr th:only-of-type {\n",
              "        vertical-align: middle;\n",
              "    }\n",
              "\n",
              "    .dataframe tbody tr th {\n",
              "        vertical-align: top;\n",
              "    }\n",
              "\n",
              "    .dataframe thead th {\n",
              "        text-align: right;\n",
              "    }\n",
              "</style>\n",
              "<table border=\"1\" class=\"dataframe\">\n",
              "  <thead>\n",
              "    <tr style=\"text-align: right;\">\n",
              "      <th></th>\n",
              "      <th>Country</th>\n",
              "      <th>Launcher</th>\n",
              "    </tr>\n",
              "  </thead>\n",
              "  <tbody>\n",
              "    <tr>\n",
              "      <th>0</th>\n",
              "      <td>China</td>\n",
              "      <td>38</td>\n",
              "    </tr>\n",
              "    <tr>\n",
              "      <th>7</th>\n",
              "      <td>USA</td>\n",
              "      <td>33</td>\n",
              "    </tr>\n",
              "    <tr>\n",
              "      <th>1</th>\n",
              "      <td>France</td>\n",
              "      <td>10</td>\n",
              "    </tr>\n",
              "    <tr>\n",
              "      <th>4</th>\n",
              "      <td>Kazakhstan</td>\n",
              "      <td>8</td>\n",
              "    </tr>\n",
              "    <tr>\n",
              "      <th>6</th>\n",
              "      <td>Russian Federation</td>\n",
              "      <td>8</td>\n",
              "    </tr>\n",
              "    <tr>\n",
              "      <th>2</th>\n",
              "      <td>India</td>\n",
              "      <td>7</td>\n",
              "    </tr>\n",
              "    <tr>\n",
              "      <th>3</th>\n",
              "      <td>Japan</td>\n",
              "      <td>6</td>\n",
              "    </tr>\n",
              "    <tr>\n",
              "      <th>5</th>\n",
              "      <td>New Zealand</td>\n",
              "      <td>3</td>\n",
              "    </tr>\n",
              "  </tbody>\n",
              "</table>\n",
              "</div>"
            ],
            "text/plain": [
              "              Country  Launcher\n",
              "0               China        38\n",
              "7                 USA        33\n",
              "1              France        10\n",
              "4          Kazakhstan         8\n",
              "6  Russian Federation         8\n",
              "2               India         7\n",
              "3               Japan         6\n",
              "5         New Zealand         3"
            ]
          },
          "metadata": {
            "tags": []
          },
          "execution_count": 65
        }
      ]
    },
    {
      "cell_type": "code",
      "metadata": {
        "colab": {
          "base_uri": "https://localhost:8080/",
          "height": 542
        },
        "id": "3c23MW0Yo0B2",
        "outputId": "90d0a48a-4e59-4d4b-8f0d-353243f22503"
      },
      "source": [
        "df = px.data.tips()\n",
        "MRP = fig = px.bar(space_cor_2018, x=\"Country\" , y='Launcher',color=\"Country\", color_discrete_sequence=px.colors.qualitative.Plotly , title=\"Mission réussi en 2018 par pays\" , template = 'plotly_dark', labels={\"x\":\"Country\"})\n",
        "fig.show()"
      ],
      "execution_count": null,
      "outputs": [
        {
          "output_type": "display_data",
          "data": {
            "text/html": [
              "<html>\n",
              "<head><meta charset=\"utf-8\" /></head>\n",
              "<body>\n",
              "    <div>            <script src=\"https://cdnjs.cloudflare.com/ajax/libs/mathjax/2.7.5/MathJax.js?config=TeX-AMS-MML_SVG\"></script><script type=\"text/javascript\">if (window.MathJax) {MathJax.Hub.Config({SVG: {font: \"STIX-Web\"}});}</script>                <script type=\"text/javascript\">window.PlotlyConfig = {MathJaxConfig: 'local'};</script>\n",
              "        <script src=\"https://cdn.plot.ly/plotly-latest.min.js\"></script>                <div id=\"d52c2623-ef26-454b-8316-b74051b8f86b\" class=\"plotly-graph-div\" style=\"height:525px; width:100%;\"></div>            <script type=\"text/javascript\">                                    window.PLOTLYENV=window.PLOTLYENV || {};                                    if (document.getElementById(\"d52c2623-ef26-454b-8316-b74051b8f86b\")) {                    Plotly.newPlot(                        \"d52c2623-ef26-454b-8316-b74051b8f86b\",                        [{\"alignmentgroup\": \"True\", \"hovertemplate\": \"Country=%{x}<br>Launcher=%{y}<extra></extra>\", \"legendgroup\": \"China\", \"marker\": {\"color\": \"#636EFA\"}, \"name\": \"China\", \"offsetgroup\": \"China\", \"orientation\": \"v\", \"showlegend\": true, \"textposition\": \"auto\", \"type\": \"bar\", \"x\": [\"China\"], \"xaxis\": \"x\", \"y\": [38], \"yaxis\": \"y\"}, {\"alignmentgroup\": \"True\", \"hovertemplate\": \"Country=%{x}<br>Launcher=%{y}<extra></extra>\", \"legendgroup\": \"USA\", \"marker\": {\"color\": \"#EF553B\"}, \"name\": \"USA\", \"offsetgroup\": \"USA\", \"orientation\": \"v\", \"showlegend\": true, \"textposition\": \"auto\", \"type\": \"bar\", \"x\": [\"USA\"], \"xaxis\": \"x\", \"y\": [33], \"yaxis\": \"y\"}, {\"alignmentgroup\": \"True\", \"hovertemplate\": \"Country=%{x}<br>Launcher=%{y}<extra></extra>\", \"legendgroup\": \"France\", \"marker\": {\"color\": \"#00CC96\"}, \"name\": \"France\", \"offsetgroup\": \"France\", \"orientation\": \"v\", \"showlegend\": true, \"textposition\": \"auto\", \"type\": \"bar\", \"x\": [\"France\"], \"xaxis\": \"x\", \"y\": [10], \"yaxis\": \"y\"}, {\"alignmentgroup\": \"True\", \"hovertemplate\": \"Country=%{x}<br>Launcher=%{y}<extra></extra>\", \"legendgroup\": \"Kazakhstan\", \"marker\": {\"color\": \"#AB63FA\"}, \"name\": \"Kazakhstan\", \"offsetgroup\": \"Kazakhstan\", \"orientation\": \"v\", \"showlegend\": true, \"textposition\": \"auto\", \"type\": \"bar\", \"x\": [\"Kazakhstan\"], \"xaxis\": \"x\", \"y\": [8], \"yaxis\": \"y\"}, {\"alignmentgroup\": \"True\", \"hovertemplate\": \"Country=%{x}<br>Launcher=%{y}<extra></extra>\", \"legendgroup\": \"Russian Federation\", \"marker\": {\"color\": \"#FFA15A\"}, \"name\": \"Russian Federation\", \"offsetgroup\": \"Russian Federation\", \"orientation\": \"v\", \"showlegend\": true, \"textposition\": \"auto\", \"type\": \"bar\", \"x\": [\"Russian Federation\"], \"xaxis\": \"x\", \"y\": [8], \"yaxis\": \"y\"}, {\"alignmentgroup\": \"True\", \"hovertemplate\": \"Country=%{x}<br>Launcher=%{y}<extra></extra>\", \"legendgroup\": \"India\", \"marker\": {\"color\": \"#19D3F3\"}, \"name\": \"India\", \"offsetgroup\": \"India\", \"orientation\": \"v\", \"showlegend\": true, \"textposition\": \"auto\", \"type\": \"bar\", \"x\": [\"India\"], \"xaxis\": \"x\", \"y\": [7], \"yaxis\": \"y\"}, {\"alignmentgroup\": \"True\", \"hovertemplate\": \"Country=%{x}<br>Launcher=%{y}<extra></extra>\", \"legendgroup\": \"Japan\", \"marker\": {\"color\": \"#FF6692\"}, \"name\": \"Japan\", \"offsetgroup\": \"Japan\", \"orientation\": \"v\", \"showlegend\": true, \"textposition\": \"auto\", \"type\": \"bar\", \"x\": [\"Japan\"], \"xaxis\": \"x\", \"y\": [6], \"yaxis\": \"y\"}, {\"alignmentgroup\": \"True\", \"hovertemplate\": \"Country=%{x}<br>Launcher=%{y}<extra></extra>\", \"legendgroup\": \"New Zealand\", \"marker\": {\"color\": \"#B6E880\"}, \"name\": \"New Zealand\", \"offsetgroup\": \"New Zealand\", \"orientation\": \"v\", \"showlegend\": true, \"textposition\": \"auto\", \"type\": \"bar\", \"x\": [\"New Zealand\"], \"xaxis\": \"x\", \"y\": [3], \"yaxis\": \"y\"}],                        {\"barmode\": \"relative\", \"legend\": {\"title\": {\"text\": \"Country\"}, \"tracegroupgap\": 0}, \"template\": {\"data\": {\"bar\": [{\"error_x\": {\"color\": \"#f2f5fa\"}, \"error_y\": {\"color\": \"#f2f5fa\"}, \"marker\": {\"line\": {\"color\": \"rgb(17,17,17)\", \"width\": 0.5}}, \"type\": \"bar\"}], \"barpolar\": [{\"marker\": {\"line\": {\"color\": \"rgb(17,17,17)\", \"width\": 0.5}}, \"type\": \"barpolar\"}], \"carpet\": [{\"aaxis\": {\"endlinecolor\": \"#A2B1C6\", \"gridcolor\": \"#506784\", \"linecolor\": \"#506784\", \"minorgridcolor\": \"#506784\", \"startlinecolor\": \"#A2B1C6\"}, \"baxis\": {\"endlinecolor\": \"#A2B1C6\", \"gridcolor\": \"#506784\", \"linecolor\": \"#506784\", \"minorgridcolor\": \"#506784\", \"startlinecolor\": \"#A2B1C6\"}, \"type\": \"carpet\"}], \"choropleth\": [{\"colorbar\": {\"outlinewidth\": 0, \"ticks\": \"\"}, \"type\": \"choropleth\"}], \"contour\": [{\"colorbar\": {\"outlinewidth\": 0, \"ticks\": \"\"}, \"colorscale\": [[0.0, \"#0d0887\"], [0.1111111111111111, \"#46039f\"], [0.2222222222222222, \"#7201a8\"], [0.3333333333333333, \"#9c179e\"], [0.4444444444444444, \"#bd3786\"], [0.5555555555555556, \"#d8576b\"], [0.6666666666666666, \"#ed7953\"], [0.7777777777777778, \"#fb9f3a\"], [0.8888888888888888, \"#fdca26\"], [1.0, \"#f0f921\"]], \"type\": \"contour\"}], \"contourcarpet\": [{\"colorbar\": {\"outlinewidth\": 0, \"ticks\": \"\"}, \"type\": \"contourcarpet\"}], \"heatmap\": [{\"colorbar\": {\"outlinewidth\": 0, \"ticks\": \"\"}, \"colorscale\": [[0.0, \"#0d0887\"], [0.1111111111111111, \"#46039f\"], [0.2222222222222222, \"#7201a8\"], [0.3333333333333333, \"#9c179e\"], [0.4444444444444444, \"#bd3786\"], [0.5555555555555556, \"#d8576b\"], [0.6666666666666666, \"#ed7953\"], [0.7777777777777778, \"#fb9f3a\"], [0.8888888888888888, \"#fdca26\"], [1.0, \"#f0f921\"]], \"type\": \"heatmap\"}], \"heatmapgl\": [{\"colorbar\": {\"outlinewidth\": 0, \"ticks\": \"\"}, \"colorscale\": [[0.0, \"#0d0887\"], [0.1111111111111111, \"#46039f\"], [0.2222222222222222, \"#7201a8\"], [0.3333333333333333, \"#9c179e\"], [0.4444444444444444, \"#bd3786\"], [0.5555555555555556, \"#d8576b\"], [0.6666666666666666, \"#ed7953\"], [0.7777777777777778, \"#fb9f3a\"], [0.8888888888888888, \"#fdca26\"], [1.0, \"#f0f921\"]], \"type\": \"heatmapgl\"}], \"histogram\": [{\"marker\": {\"colorbar\": {\"outlinewidth\": 0, \"ticks\": \"\"}}, \"type\": \"histogram\"}], \"histogram2d\": [{\"colorbar\": {\"outlinewidth\": 0, \"ticks\": \"\"}, \"colorscale\": [[0.0, \"#0d0887\"], [0.1111111111111111, \"#46039f\"], [0.2222222222222222, \"#7201a8\"], [0.3333333333333333, \"#9c179e\"], [0.4444444444444444, \"#bd3786\"], [0.5555555555555556, \"#d8576b\"], [0.6666666666666666, \"#ed7953\"], [0.7777777777777778, \"#fb9f3a\"], [0.8888888888888888, \"#fdca26\"], [1.0, \"#f0f921\"]], \"type\": \"histogram2d\"}], \"histogram2dcontour\": [{\"colorbar\": {\"outlinewidth\": 0, \"ticks\": \"\"}, \"colorscale\": [[0.0, \"#0d0887\"], [0.1111111111111111, \"#46039f\"], [0.2222222222222222, \"#7201a8\"], [0.3333333333333333, \"#9c179e\"], [0.4444444444444444, \"#bd3786\"], [0.5555555555555556, \"#d8576b\"], [0.6666666666666666, \"#ed7953\"], [0.7777777777777778, \"#fb9f3a\"], [0.8888888888888888, \"#fdca26\"], [1.0, \"#f0f921\"]], \"type\": \"histogram2dcontour\"}], \"mesh3d\": [{\"colorbar\": {\"outlinewidth\": 0, \"ticks\": \"\"}, \"type\": \"mesh3d\"}], \"parcoords\": [{\"line\": {\"colorbar\": {\"outlinewidth\": 0, \"ticks\": \"\"}}, \"type\": \"parcoords\"}], \"pie\": [{\"automargin\": true, \"type\": \"pie\"}], \"scatter\": [{\"marker\": {\"line\": {\"color\": \"#283442\"}}, \"type\": \"scatter\"}], \"scatter3d\": [{\"line\": {\"colorbar\": {\"outlinewidth\": 0, \"ticks\": \"\"}}, \"marker\": {\"colorbar\": {\"outlinewidth\": 0, \"ticks\": \"\"}}, \"type\": \"scatter3d\"}], \"scattercarpet\": [{\"marker\": {\"colorbar\": {\"outlinewidth\": 0, \"ticks\": \"\"}}, \"type\": \"scattercarpet\"}], \"scattergeo\": [{\"marker\": {\"colorbar\": {\"outlinewidth\": 0, \"ticks\": \"\"}}, \"type\": \"scattergeo\"}], \"scattergl\": [{\"marker\": {\"line\": {\"color\": \"#283442\"}}, \"type\": \"scattergl\"}], \"scattermapbox\": [{\"marker\": {\"colorbar\": {\"outlinewidth\": 0, \"ticks\": \"\"}}, \"type\": \"scattermapbox\"}], \"scatterpolar\": [{\"marker\": {\"colorbar\": {\"outlinewidth\": 0, \"ticks\": \"\"}}, \"type\": \"scatterpolar\"}], \"scatterpolargl\": [{\"marker\": {\"colorbar\": {\"outlinewidth\": 0, \"ticks\": \"\"}}, \"type\": \"scatterpolargl\"}], \"scatterternary\": [{\"marker\": {\"colorbar\": {\"outlinewidth\": 0, \"ticks\": \"\"}}, \"type\": \"scatterternary\"}], \"surface\": [{\"colorbar\": {\"outlinewidth\": 0, \"ticks\": \"\"}, \"colorscale\": [[0.0, \"#0d0887\"], [0.1111111111111111, \"#46039f\"], [0.2222222222222222, \"#7201a8\"], [0.3333333333333333, \"#9c179e\"], [0.4444444444444444, \"#bd3786\"], [0.5555555555555556, \"#d8576b\"], [0.6666666666666666, \"#ed7953\"], [0.7777777777777778, \"#fb9f3a\"], [0.8888888888888888, \"#fdca26\"], [1.0, \"#f0f921\"]], \"type\": \"surface\"}], \"table\": [{\"cells\": {\"fill\": {\"color\": \"#506784\"}, \"line\": {\"color\": \"rgb(17,17,17)\"}}, \"header\": {\"fill\": {\"color\": \"#2a3f5f\"}, \"line\": {\"color\": \"rgb(17,17,17)\"}}, \"type\": \"table\"}]}, \"layout\": {\"annotationdefaults\": {\"arrowcolor\": \"#f2f5fa\", \"arrowhead\": 0, \"arrowwidth\": 1}, \"autotypenumbers\": \"strict\", \"coloraxis\": {\"colorbar\": {\"outlinewidth\": 0, \"ticks\": \"\"}}, \"colorscale\": {\"diverging\": [[0, \"#8e0152\"], [0.1, \"#c51b7d\"], [0.2, \"#de77ae\"], [0.3, \"#f1b6da\"], [0.4, \"#fde0ef\"], [0.5, \"#f7f7f7\"], [0.6, \"#e6f5d0\"], [0.7, \"#b8e186\"], [0.8, \"#7fbc41\"], [0.9, \"#4d9221\"], [1, \"#276419\"]], \"sequential\": [[0.0, \"#0d0887\"], [0.1111111111111111, \"#46039f\"], [0.2222222222222222, \"#7201a8\"], [0.3333333333333333, \"#9c179e\"], [0.4444444444444444, \"#bd3786\"], [0.5555555555555556, \"#d8576b\"], [0.6666666666666666, \"#ed7953\"], [0.7777777777777778, \"#fb9f3a\"], [0.8888888888888888, \"#fdca26\"], [1.0, \"#f0f921\"]], \"sequentialminus\": [[0.0, \"#0d0887\"], [0.1111111111111111, \"#46039f\"], [0.2222222222222222, \"#7201a8\"], [0.3333333333333333, \"#9c179e\"], [0.4444444444444444, \"#bd3786\"], [0.5555555555555556, \"#d8576b\"], [0.6666666666666666, \"#ed7953\"], [0.7777777777777778, \"#fb9f3a\"], [0.8888888888888888, \"#fdca26\"], [1.0, \"#f0f921\"]]}, \"colorway\": [\"#636efa\", \"#EF553B\", \"#00cc96\", \"#ab63fa\", \"#FFA15A\", \"#19d3f3\", \"#FF6692\", \"#B6E880\", \"#FF97FF\", \"#FECB52\"], \"font\": {\"color\": \"#f2f5fa\"}, \"geo\": {\"bgcolor\": \"rgb(17,17,17)\", \"lakecolor\": \"rgb(17,17,17)\", \"landcolor\": \"rgb(17,17,17)\", \"showlakes\": true, \"showland\": true, \"subunitcolor\": \"#506784\"}, \"hoverlabel\": {\"align\": \"left\"}, \"hovermode\": \"closest\", \"mapbox\": {\"style\": \"dark\"}, \"paper_bgcolor\": \"rgb(17,17,17)\", \"plot_bgcolor\": \"rgb(17,17,17)\", \"polar\": {\"angularaxis\": {\"gridcolor\": \"#506784\", \"linecolor\": \"#506784\", \"ticks\": \"\"}, \"bgcolor\": \"rgb(17,17,17)\", \"radialaxis\": {\"gridcolor\": \"#506784\", \"linecolor\": \"#506784\", \"ticks\": \"\"}}, \"scene\": {\"xaxis\": {\"backgroundcolor\": \"rgb(17,17,17)\", \"gridcolor\": \"#506784\", \"gridwidth\": 2, \"linecolor\": \"#506784\", \"showbackground\": true, \"ticks\": \"\", \"zerolinecolor\": \"#C8D4E3\"}, \"yaxis\": {\"backgroundcolor\": \"rgb(17,17,17)\", \"gridcolor\": \"#506784\", \"gridwidth\": 2, \"linecolor\": \"#506784\", \"showbackground\": true, \"ticks\": \"\", \"zerolinecolor\": \"#C8D4E3\"}, \"zaxis\": {\"backgroundcolor\": \"rgb(17,17,17)\", \"gridcolor\": \"#506784\", \"gridwidth\": 2, \"linecolor\": \"#506784\", \"showbackground\": true, \"ticks\": \"\", \"zerolinecolor\": \"#C8D4E3\"}}, \"shapedefaults\": {\"line\": {\"color\": \"#f2f5fa\"}}, \"sliderdefaults\": {\"bgcolor\": \"#C8D4E3\", \"bordercolor\": \"rgb(17,17,17)\", \"borderwidth\": 1, \"tickwidth\": 0}, \"ternary\": {\"aaxis\": {\"gridcolor\": \"#506784\", \"linecolor\": \"#506784\", \"ticks\": \"\"}, \"baxis\": {\"gridcolor\": \"#506784\", \"linecolor\": \"#506784\", \"ticks\": \"\"}, \"bgcolor\": \"rgb(17,17,17)\", \"caxis\": {\"gridcolor\": \"#506784\", \"linecolor\": \"#506784\", \"ticks\": \"\"}}, \"title\": {\"x\": 0.05}, \"updatemenudefaults\": {\"bgcolor\": \"#506784\", \"borderwidth\": 0}, \"xaxis\": {\"automargin\": true, \"gridcolor\": \"#283442\", \"linecolor\": \"#506784\", \"ticks\": \"\", \"title\": {\"standoff\": 15}, \"zerolinecolor\": \"#283442\", \"zerolinewidth\": 2}, \"yaxis\": {\"automargin\": true, \"gridcolor\": \"#283442\", \"linecolor\": \"#506784\", \"ticks\": \"\", \"title\": {\"standoff\": 15}, \"zerolinecolor\": \"#283442\", \"zerolinewidth\": 2}}}, \"title\": {\"text\": \"Mission r\\u00e9ussi en 2018 par pays\"}, \"xaxis\": {\"anchor\": \"y\", \"categoryarray\": [\"China\", \"USA\", \"France\", \"Kazakhstan\", \"Russian Federation\", \"India\", \"Japan\", \"New Zealand\"], \"categoryorder\": \"array\", \"domain\": [0.0, 1.0], \"title\": {\"text\": \"Country\"}}, \"yaxis\": {\"anchor\": \"x\", \"domain\": [0.0, 1.0], \"title\": {\"text\": \"Launcher\"}}},                        {\"responsive\": true}                    ).then(function(){\n",
              "                            \n",
              "var gd = document.getElementById('d52c2623-ef26-454b-8316-b74051b8f86b');\n",
              "var x = new MutationObserver(function (mutations, observer) {{\n",
              "        var display = window.getComputedStyle(gd).display;\n",
              "        if (!display || display === 'none') {{\n",
              "            console.log([gd, 'removed!']);\n",
              "            Plotly.purge(gd);\n",
              "            observer.disconnect();\n",
              "        }}\n",
              "}});\n",
              "\n",
              "// Listen for the removal of the full notebook cells\n",
              "var notebookContainer = gd.closest('#notebook-container');\n",
              "if (notebookContainer) {{\n",
              "    x.observe(notebookContainer, {childList: true});\n",
              "}}\n",
              "\n",
              "// Listen for the clearing of the current output cell\n",
              "var outputEl = gd.closest('.output');\n",
              "if (outputEl) {{\n",
              "    x.observe(outputEl, {childList: true});\n",
              "}}\n",
              "\n",
              "                        })                };                            </script>        </div>\n",
              "</body>\n",
              "</html>"
            ]
          },
          "metadata": {
            "tags": []
          }
        }
      ]
    },
    {
      "cell_type": "code",
      "metadata": {
        "id": "21dv7pjmqpwy"
      },
      "source": [
        "space_cor_1977=space_cor_1977.pivot_table(values=\"Launcher\", index=\"Country\", aggfunc=\"count\")\n",
        "space_cor_1977.reset_index(inplace=True)\n",
        "space_cor_1977=space_cor_1977.sort_values(\"Launcher\",ascending=False)"
      ],
      "execution_count": null,
      "outputs": []
    },
    {
      "cell_type": "code",
      "metadata": {
        "colab": {
          "base_uri": "https://localhost:8080/",
          "height": 542
        },
        "id": "71q9MZR1q3-G",
        "outputId": "1acc8d71-7aad-43ed-e16b-6fdb8a4fe2ed"
      },
      "source": [
        "df = px.data.tips()\n",
        "LAO = fig = px.bar(space_cor_1977, x=\"Country\" , y='Launcher',color=\"Country\", color_discrete_sequence=px.colors.qualitative.Plotly , title=\"Mission réussi en 1977 par pays\" , template = 'plotly_dark', labels={\"x\":\"Country\"})\n",
        "fig.show()"
      ],
      "execution_count": null,
      "outputs": [
        {
          "output_type": "display_data",
          "data": {
            "text/html": [
              "<html>\n",
              "<head><meta charset=\"utf-8\" /></head>\n",
              "<body>\n",
              "    <div>            <script src=\"https://cdnjs.cloudflare.com/ajax/libs/mathjax/2.7.5/MathJax.js?config=TeX-AMS-MML_SVG\"></script><script type=\"text/javascript\">if (window.MathJax) {MathJax.Hub.Config({SVG: {font: \"STIX-Web\"}});}</script>                <script type=\"text/javascript\">window.PlotlyConfig = {MathJaxConfig: 'local'};</script>\n",
              "        <script src=\"https://cdn.plot.ly/plotly-latest.min.js\"></script>                <div id=\"19ef08ba-5699-496a-8626-f6faccf78bae\" class=\"plotly-graph-div\" style=\"height:525px; width:100%;\"></div>            <script type=\"text/javascript\">                                    window.PLOTLYENV=window.PLOTLYENV || {};                                    if (document.getElementById(\"19ef08ba-5699-496a-8626-f6faccf78bae\")) {                    Plotly.newPlot(                        \"19ef08ba-5699-496a-8626-f6faccf78bae\",                        [{\"alignmentgroup\": \"True\", \"hovertemplate\": \"Country=%{x}<br>Launcher=%{y}<extra></extra>\", \"legendgroup\": \"Russian Federation\", \"marker\": {\"color\": \"#636EFA\"}, \"name\": \"Russian Federation\", \"offsetgroup\": \"Russian Federation\", \"orientation\": \"v\", \"showlegend\": true, \"textposition\": \"auto\", \"type\": \"bar\", \"x\": [\"Russian Federation\"], \"xaxis\": \"x\", \"y\": [71], \"yaxis\": \"y\"}, {\"alignmentgroup\": \"True\", \"hovertemplate\": \"Country=%{x}<br>Launcher=%{y}<extra></extra>\", \"legendgroup\": \"Kazakhstan\", \"marker\": {\"color\": \"#EF553B\"}, \"name\": \"Kazakhstan\", \"offsetgroup\": \"Kazakhstan\", \"orientation\": \"v\", \"showlegend\": true, \"textposition\": \"auto\", \"type\": \"bar\", \"x\": [\"Kazakhstan\"], \"xaxis\": \"x\", \"y\": [23], \"yaxis\": \"y\"}, {\"alignmentgroup\": \"True\", \"hovertemplate\": \"Country=%{x}<br>Launcher=%{y}<extra></extra>\", \"legendgroup\": \"USA\", \"marker\": {\"color\": \"#00CC96\"}, \"name\": \"USA\", \"offsetgroup\": \"USA\", \"orientation\": \"v\", \"showlegend\": true, \"textposition\": \"auto\", \"type\": \"bar\", \"x\": [\"USA\"], \"xaxis\": \"x\", \"y\": [13], \"yaxis\": \"y\"}, {\"alignmentgroup\": \"True\", \"hovertemplate\": \"Country=%{x}<br>Launcher=%{y}<extra></extra>\", \"legendgroup\": \"Japan\", \"marker\": {\"color\": \"#AB63FA\"}, \"name\": \"Japan\", \"offsetgroup\": \"Japan\", \"orientation\": \"v\", \"showlegend\": true, \"textposition\": \"auto\", \"type\": \"bar\", \"x\": [\"Japan\"], \"xaxis\": \"x\", \"y\": [2], \"yaxis\": \"y\"}, {\"alignmentgroup\": \"True\", \"hovertemplate\": \"Country=%{x}<br>Launcher=%{y}<extra></extra>\", \"legendgroup\": \"China\", \"marker\": {\"color\": \"#FFA15A\"}, \"name\": \"China\", \"offsetgroup\": \"China\", \"orientation\": \"v\", \"showlegend\": true, \"textposition\": \"auto\", \"type\": \"bar\", \"x\": [\"China\"], \"xaxis\": \"x\", \"y\": [1], \"yaxis\": \"y\"}],                        {\"barmode\": \"relative\", \"legend\": {\"title\": {\"text\": \"Country\"}, \"tracegroupgap\": 0}, \"template\": {\"data\": {\"bar\": [{\"error_x\": {\"color\": \"#f2f5fa\"}, \"error_y\": {\"color\": \"#f2f5fa\"}, \"marker\": {\"line\": {\"color\": \"rgb(17,17,17)\", \"width\": 0.5}}, \"type\": \"bar\"}], \"barpolar\": [{\"marker\": {\"line\": {\"color\": \"rgb(17,17,17)\", \"width\": 0.5}}, \"type\": \"barpolar\"}], \"carpet\": [{\"aaxis\": {\"endlinecolor\": \"#A2B1C6\", \"gridcolor\": \"#506784\", \"linecolor\": \"#506784\", \"minorgridcolor\": \"#506784\", \"startlinecolor\": \"#A2B1C6\"}, \"baxis\": {\"endlinecolor\": \"#A2B1C6\", \"gridcolor\": \"#506784\", \"linecolor\": \"#506784\", \"minorgridcolor\": \"#506784\", \"startlinecolor\": \"#A2B1C6\"}, \"type\": \"carpet\"}], \"choropleth\": [{\"colorbar\": {\"outlinewidth\": 0, \"ticks\": \"\"}, \"type\": \"choropleth\"}], \"contour\": [{\"colorbar\": {\"outlinewidth\": 0, \"ticks\": \"\"}, \"colorscale\": [[0.0, \"#0d0887\"], [0.1111111111111111, \"#46039f\"], [0.2222222222222222, \"#7201a8\"], [0.3333333333333333, \"#9c179e\"], [0.4444444444444444, \"#bd3786\"], [0.5555555555555556, \"#d8576b\"], [0.6666666666666666, \"#ed7953\"], [0.7777777777777778, \"#fb9f3a\"], [0.8888888888888888, \"#fdca26\"], [1.0, \"#f0f921\"]], \"type\": \"contour\"}], \"contourcarpet\": [{\"colorbar\": {\"outlinewidth\": 0, \"ticks\": \"\"}, \"type\": \"contourcarpet\"}], \"heatmap\": [{\"colorbar\": {\"outlinewidth\": 0, \"ticks\": \"\"}, \"colorscale\": [[0.0, \"#0d0887\"], [0.1111111111111111, \"#46039f\"], [0.2222222222222222, \"#7201a8\"], [0.3333333333333333, \"#9c179e\"], [0.4444444444444444, \"#bd3786\"], [0.5555555555555556, \"#d8576b\"], [0.6666666666666666, \"#ed7953\"], [0.7777777777777778, \"#fb9f3a\"], [0.8888888888888888, \"#fdca26\"], [1.0, \"#f0f921\"]], \"type\": \"heatmap\"}], \"heatmapgl\": [{\"colorbar\": {\"outlinewidth\": 0, \"ticks\": \"\"}, \"colorscale\": [[0.0, \"#0d0887\"], [0.1111111111111111, \"#46039f\"], [0.2222222222222222, \"#7201a8\"], [0.3333333333333333, \"#9c179e\"], [0.4444444444444444, \"#bd3786\"], [0.5555555555555556, \"#d8576b\"], [0.6666666666666666, \"#ed7953\"], [0.7777777777777778, \"#fb9f3a\"], [0.8888888888888888, \"#fdca26\"], [1.0, \"#f0f921\"]], \"type\": \"heatmapgl\"}], \"histogram\": [{\"marker\": {\"colorbar\": {\"outlinewidth\": 0, \"ticks\": \"\"}}, \"type\": \"histogram\"}], \"histogram2d\": [{\"colorbar\": {\"outlinewidth\": 0, \"ticks\": \"\"}, \"colorscale\": [[0.0, \"#0d0887\"], [0.1111111111111111, \"#46039f\"], [0.2222222222222222, \"#7201a8\"], [0.3333333333333333, \"#9c179e\"], [0.4444444444444444, \"#bd3786\"], [0.5555555555555556, \"#d8576b\"], [0.6666666666666666, \"#ed7953\"], [0.7777777777777778, \"#fb9f3a\"], [0.8888888888888888, \"#fdca26\"], [1.0, \"#f0f921\"]], \"type\": \"histogram2d\"}], \"histogram2dcontour\": [{\"colorbar\": {\"outlinewidth\": 0, \"ticks\": \"\"}, \"colorscale\": [[0.0, \"#0d0887\"], [0.1111111111111111, \"#46039f\"], [0.2222222222222222, \"#7201a8\"], [0.3333333333333333, \"#9c179e\"], [0.4444444444444444, \"#bd3786\"], [0.5555555555555556, \"#d8576b\"], [0.6666666666666666, \"#ed7953\"], [0.7777777777777778, \"#fb9f3a\"], [0.8888888888888888, \"#fdca26\"], [1.0, \"#f0f921\"]], \"type\": \"histogram2dcontour\"}], \"mesh3d\": [{\"colorbar\": {\"outlinewidth\": 0, \"ticks\": \"\"}, \"type\": \"mesh3d\"}], \"parcoords\": [{\"line\": {\"colorbar\": {\"outlinewidth\": 0, \"ticks\": \"\"}}, \"type\": \"parcoords\"}], \"pie\": [{\"automargin\": true, \"type\": \"pie\"}], \"scatter\": [{\"marker\": {\"line\": {\"color\": \"#283442\"}}, \"type\": \"scatter\"}], \"scatter3d\": [{\"line\": {\"colorbar\": {\"outlinewidth\": 0, \"ticks\": \"\"}}, \"marker\": {\"colorbar\": {\"outlinewidth\": 0, \"ticks\": \"\"}}, \"type\": \"scatter3d\"}], \"scattercarpet\": [{\"marker\": {\"colorbar\": {\"outlinewidth\": 0, \"ticks\": \"\"}}, \"type\": \"scattercarpet\"}], \"scattergeo\": [{\"marker\": {\"colorbar\": {\"outlinewidth\": 0, \"ticks\": \"\"}}, \"type\": \"scattergeo\"}], \"scattergl\": [{\"marker\": {\"line\": {\"color\": \"#283442\"}}, \"type\": \"scattergl\"}], \"scattermapbox\": [{\"marker\": {\"colorbar\": {\"outlinewidth\": 0, \"ticks\": \"\"}}, \"type\": \"scattermapbox\"}], \"scatterpolar\": [{\"marker\": {\"colorbar\": {\"outlinewidth\": 0, \"ticks\": \"\"}}, \"type\": \"scatterpolar\"}], \"scatterpolargl\": [{\"marker\": {\"colorbar\": {\"outlinewidth\": 0, \"ticks\": \"\"}}, \"type\": \"scatterpolargl\"}], \"scatterternary\": [{\"marker\": {\"colorbar\": {\"outlinewidth\": 0, \"ticks\": \"\"}}, \"type\": \"scatterternary\"}], \"surface\": [{\"colorbar\": {\"outlinewidth\": 0, \"ticks\": \"\"}, \"colorscale\": [[0.0, \"#0d0887\"], [0.1111111111111111, \"#46039f\"], [0.2222222222222222, \"#7201a8\"], [0.3333333333333333, \"#9c179e\"], [0.4444444444444444, \"#bd3786\"], [0.5555555555555556, \"#d8576b\"], [0.6666666666666666, \"#ed7953\"], [0.7777777777777778, \"#fb9f3a\"], [0.8888888888888888, \"#fdca26\"], [1.0, \"#f0f921\"]], \"type\": \"surface\"}], \"table\": [{\"cells\": {\"fill\": {\"color\": \"#506784\"}, \"line\": {\"color\": \"rgb(17,17,17)\"}}, \"header\": {\"fill\": {\"color\": \"#2a3f5f\"}, \"line\": {\"color\": \"rgb(17,17,17)\"}}, \"type\": \"table\"}]}, \"layout\": {\"annotationdefaults\": {\"arrowcolor\": \"#f2f5fa\", \"arrowhead\": 0, \"arrowwidth\": 1}, \"autotypenumbers\": \"strict\", \"coloraxis\": {\"colorbar\": {\"outlinewidth\": 0, \"ticks\": \"\"}}, \"colorscale\": {\"diverging\": [[0, \"#8e0152\"], [0.1, \"#c51b7d\"], [0.2, \"#de77ae\"], [0.3, \"#f1b6da\"], [0.4, \"#fde0ef\"], [0.5, \"#f7f7f7\"], [0.6, \"#e6f5d0\"], [0.7, \"#b8e186\"], [0.8, \"#7fbc41\"], [0.9, \"#4d9221\"], [1, \"#276419\"]], \"sequential\": [[0.0, \"#0d0887\"], [0.1111111111111111, \"#46039f\"], [0.2222222222222222, \"#7201a8\"], [0.3333333333333333, \"#9c179e\"], [0.4444444444444444, \"#bd3786\"], [0.5555555555555556, \"#d8576b\"], [0.6666666666666666, \"#ed7953\"], [0.7777777777777778, \"#fb9f3a\"], [0.8888888888888888, \"#fdca26\"], [1.0, \"#f0f921\"]], \"sequentialminus\": [[0.0, \"#0d0887\"], [0.1111111111111111, \"#46039f\"], [0.2222222222222222, \"#7201a8\"], [0.3333333333333333, \"#9c179e\"], [0.4444444444444444, \"#bd3786\"], [0.5555555555555556, \"#d8576b\"], [0.6666666666666666, \"#ed7953\"], [0.7777777777777778, \"#fb9f3a\"], [0.8888888888888888, \"#fdca26\"], [1.0, \"#f0f921\"]]}, \"colorway\": [\"#636efa\", \"#EF553B\", \"#00cc96\", \"#ab63fa\", \"#FFA15A\", \"#19d3f3\", \"#FF6692\", \"#B6E880\", \"#FF97FF\", \"#FECB52\"], \"font\": {\"color\": \"#f2f5fa\"}, \"geo\": {\"bgcolor\": \"rgb(17,17,17)\", \"lakecolor\": \"rgb(17,17,17)\", \"landcolor\": \"rgb(17,17,17)\", \"showlakes\": true, \"showland\": true, \"subunitcolor\": \"#506784\"}, \"hoverlabel\": {\"align\": \"left\"}, \"hovermode\": \"closest\", \"mapbox\": {\"style\": \"dark\"}, \"paper_bgcolor\": \"rgb(17,17,17)\", \"plot_bgcolor\": \"rgb(17,17,17)\", \"polar\": {\"angularaxis\": {\"gridcolor\": \"#506784\", \"linecolor\": \"#506784\", \"ticks\": \"\"}, \"bgcolor\": \"rgb(17,17,17)\", \"radialaxis\": {\"gridcolor\": \"#506784\", \"linecolor\": \"#506784\", \"ticks\": \"\"}}, \"scene\": {\"xaxis\": {\"backgroundcolor\": \"rgb(17,17,17)\", \"gridcolor\": \"#506784\", \"gridwidth\": 2, \"linecolor\": \"#506784\", \"showbackground\": true, \"ticks\": \"\", \"zerolinecolor\": \"#C8D4E3\"}, \"yaxis\": {\"backgroundcolor\": \"rgb(17,17,17)\", \"gridcolor\": \"#506784\", \"gridwidth\": 2, \"linecolor\": \"#506784\", \"showbackground\": true, \"ticks\": \"\", \"zerolinecolor\": \"#C8D4E3\"}, \"zaxis\": {\"backgroundcolor\": \"rgb(17,17,17)\", \"gridcolor\": \"#506784\", \"gridwidth\": 2, \"linecolor\": \"#506784\", \"showbackground\": true, \"ticks\": \"\", \"zerolinecolor\": \"#C8D4E3\"}}, \"shapedefaults\": {\"line\": {\"color\": \"#f2f5fa\"}}, \"sliderdefaults\": {\"bgcolor\": \"#C8D4E3\", \"bordercolor\": \"rgb(17,17,17)\", \"borderwidth\": 1, \"tickwidth\": 0}, \"ternary\": {\"aaxis\": {\"gridcolor\": \"#506784\", \"linecolor\": \"#506784\", \"ticks\": \"\"}, \"baxis\": {\"gridcolor\": \"#506784\", \"linecolor\": \"#506784\", \"ticks\": \"\"}, \"bgcolor\": \"rgb(17,17,17)\", \"caxis\": {\"gridcolor\": \"#506784\", \"linecolor\": \"#506784\", \"ticks\": \"\"}}, \"title\": {\"x\": 0.05}, \"updatemenudefaults\": {\"bgcolor\": \"#506784\", \"borderwidth\": 0}, \"xaxis\": {\"automargin\": true, \"gridcolor\": \"#283442\", \"linecolor\": \"#506784\", \"ticks\": \"\", \"title\": {\"standoff\": 15}, \"zerolinecolor\": \"#283442\", \"zerolinewidth\": 2}, \"yaxis\": {\"automargin\": true, \"gridcolor\": \"#283442\", \"linecolor\": \"#506784\", \"ticks\": \"\", \"title\": {\"standoff\": 15}, \"zerolinecolor\": \"#283442\", \"zerolinewidth\": 2}}}, \"title\": {\"text\": \"Mission r\\u00e9ussi en 1977 par pays\"}, \"xaxis\": {\"anchor\": \"y\", \"categoryarray\": [\"Russian Federation\", \"Kazakhstan\", \"USA\", \"Japan\", \"China\"], \"categoryorder\": \"array\", \"domain\": [0.0, 1.0], \"title\": {\"text\": \"Country\"}}, \"yaxis\": {\"anchor\": \"x\", \"domain\": [0.0, 1.0], \"title\": {\"text\": \"Launcher\"}}},                        {\"responsive\": true}                    ).then(function(){\n",
              "                            \n",
              "var gd = document.getElementById('19ef08ba-5699-496a-8626-f6faccf78bae');\n",
              "var x = new MutationObserver(function (mutations, observer) {{\n",
              "        var display = window.getComputedStyle(gd).display;\n",
              "        if (!display || display === 'none') {{\n",
              "            console.log([gd, 'removed!']);\n",
              "            Plotly.purge(gd);\n",
              "            observer.disconnect();\n",
              "        }}\n",
              "}});\n",
              "\n",
              "// Listen for the removal of the full notebook cells\n",
              "var notebookContainer = gd.closest('#notebook-container');\n",
              "if (notebookContainer) {{\n",
              "    x.observe(notebookContainer, {childList: true});\n",
              "}}\n",
              "\n",
              "// Listen for the clearing of the current output cell\n",
              "var outputEl = gd.closest('.output');\n",
              "if (outputEl) {{\n",
              "    x.observe(outputEl, {childList: true});\n",
              "}}\n",
              "\n",
              "                        })                };                            </script>        </div>\n",
              "</body>\n",
              "</html>"
            ]
          },
          "metadata": {
            "tags": []
          }
        }
      ]
    },
    {
      "cell_type": "code",
      "metadata": {
        "id": "2eA156tUrAIa"
      },
      "source": [
        "space_cor_2020=space_cor[(space_cor[\"Year\"]==2020)]"
      ],
      "execution_count": null,
      "outputs": []
    },
    {
      "cell_type": "code",
      "metadata": {
        "colab": {
          "base_uri": "https://localhost:8080/",
          "height": 542
        },
        "id": "Af0T4M_WrAE7",
        "outputId": "05bccc9c-d459-446e-84d9-193d3caf2343"
      },
      "source": [
        "fig = px.bar(space_cor_2020, x=\"Country\" , y='Launcher',color=\"Status Mission\", color_discrete_sequence=px.colors.qualitative.Plotly , title=\"Mission en 2020 par pays\" , template = 'plotly_dark', labels={\"x\":\"Country\"})\n",
        "fig.show()"
      ],
      "execution_count": null,
      "outputs": [
        {
          "output_type": "display_data",
          "data": {
            "text/html": [
              "<html>\n",
              "<head><meta charset=\"utf-8\" /></head>\n",
              "<body>\n",
              "    <div>            <script src=\"https://cdnjs.cloudflare.com/ajax/libs/mathjax/2.7.5/MathJax.js?config=TeX-AMS-MML_SVG\"></script><script type=\"text/javascript\">if (window.MathJax) {MathJax.Hub.Config({SVG: {font: \"STIX-Web\"}});}</script>                <script type=\"text/javascript\">window.PlotlyConfig = {MathJaxConfig: 'local'};</script>\n",
              "        <script src=\"https://cdn.plot.ly/plotly-latest.min.js\"></script>                <div id=\"b2a65553-2f09-4106-a8ad-51e99c6d4df5\" class=\"plotly-graph-div\" style=\"height:525px; width:100%;\"></div>            <script type=\"text/javascript\">                                    window.PLOTLYENV=window.PLOTLYENV || {};                                    if (document.getElementById(\"b2a65553-2f09-4106-a8ad-51e99c6d4df5\")) {                    Plotly.newPlot(                        \"b2a65553-2f09-4106-a8ad-51e99c6d4df5\",                        [{\"alignmentgroup\": \"True\", \"hovertemplate\": \"Status Mission=Success<br>Country=%{x}<br>Launcher=%{y}<extra></extra>\", \"legendgroup\": \"Success\", \"marker\": {\"color\": \"#636EFA\"}, \"name\": \"Success\", \"offsetgroup\": \"Success\", \"orientation\": \"v\", \"showlegend\": true, \"textposition\": \"auto\", \"type\": \"bar\", \"x\": [\"USA\", \"China\", \"USA\", \"Kazakhstan\", \"USA\", \"China\", \"Kazakhstan\", \"China\", \"USA\", \"Japan\", \"USA\", \"China\", \"Israel\", \"China\", \"China\", \"USA\", \"China\", \"China\", \"USA\", \"New Zealand\", \"China\", \"USA\", \"China\", \"USA\", \"China\", \"Russian Federation\", \"Japan\", \"USA\", \"China\", \"China\", \"Kazakhstan\", \"USA\", \"Iran\", \"Kazakhstan\", \"USA\", \"China\", \"Kazakhstan\", \"USA\", \"Russian Federation\", \"China\", \"USA\", \"Russian Federation\", \"China\", \"France\", \"USA\", \"USA\", \"USA\", \"Japan\", \"Kazakhstan\", \"New Zealand\", \"USA\", \"USA\", \"France\", \"China\", \"China\", \"China\", \"USA\"], \"xaxis\": \"x\", \"y\": [\"Falcon 9 Block 5 \", \"Long March 2D \", \"Starship Prototype \", \"Proton-M/Briz-M \", \"Atlas V 541 \", \"Long March 4B \", \"Soyuz 2.1a \", \"Long March 5 \", \"Falcon 9 Block 5 \", \"H-IIA 202 \", \"Minotaur IV \", \"Long March 3B/E \", \"Shavit-2 \", \"Long March 2D \", \"Long March 4B \", \"Falcon 9 Block 5 \", \"Long March 3B/E \", \"Long March 2D \", \"Falcon 9 Block 5 \", \"Electron/Curie \", \"Long March 2C \", \"Falcon 9 Block 5 \", \"Long March 2D \", \"Falcon 9 Block 5 \", \"Long March 11 \", \"Soyuz 2.1b/Fregat-M \", \"H-IIB \", \"Atlas V 501 \", \"Kuaizhou 1A \", \"Long March 5B \", \"Soyuz 2.1a \", \"Falcon 9 Block 5 \", \"Qased \", \"Soyuz 2.1a \", \"Atlas V 551 \", \"Long March 2C \", \"Soyuz 2.1b/Fregat \", \"Falcon 9 Block 5 \", \"Soyuz 2.1b/Fregat-M \", \"Long March 3B/E \", \"Falcon 9 Block 5 \", \"Soyuz 2.1a/Fregat-M \", \"Long March 2D \", \"Ariane 5 ECA \", \"Falcon 9 Block 5 \", \"Antares 230+ \", \"Atlas V 411 \", \"H-IIA 202 \", \"Soyuz 2.1b/Fregat \", \"Electron/Curie \", \"Falcon 9 Block 5 \", \"Falcon 9 Block 5 \", \"Ariane 5 ECA \", \"Kuaizhou 1A \", \"Long March 2D \", \"Long March 3B/E \", \"Falcon 9 Block 5 \"], \"yaxis\": \"y\"}, {\"alignmentgroup\": \"True\", \"hovertemplate\": \"Status Mission=Failure<br>Country=%{x}<br>Launcher=%{y}<extra></extra>\", \"legendgroup\": \"Failure\", \"marker\": {\"color\": \"#EF553B\"}, \"name\": \"Failure\", \"offsetgroup\": \"Failure\", \"orientation\": \"v\", \"showlegend\": true, \"textposition\": \"auto\", \"type\": \"bar\", \"x\": [\"China\", \"New Zealand\", \"USA\", \"China\", \"China\", \"Iran\"], \"xaxis\": \"x\", \"y\": [\"Kuaizhou 11 \", \"Electron/Curie \", \"LauncherOne \", \"Long March 3B/E \", \"Long March 7A \", \"Simorgh \"], \"yaxis\": \"y\"}],                        {\"barmode\": \"relative\", \"legend\": {\"title\": {\"text\": \"Status Mission\"}, \"tracegroupgap\": 0}, \"template\": {\"data\": {\"bar\": [{\"error_x\": {\"color\": \"#f2f5fa\"}, \"error_y\": {\"color\": \"#f2f5fa\"}, \"marker\": {\"line\": {\"color\": \"rgb(17,17,17)\", \"width\": 0.5}}, \"type\": \"bar\"}], \"barpolar\": [{\"marker\": {\"line\": {\"color\": \"rgb(17,17,17)\", \"width\": 0.5}}, \"type\": \"barpolar\"}], \"carpet\": [{\"aaxis\": {\"endlinecolor\": \"#A2B1C6\", \"gridcolor\": \"#506784\", \"linecolor\": \"#506784\", \"minorgridcolor\": \"#506784\", \"startlinecolor\": \"#A2B1C6\"}, \"baxis\": {\"endlinecolor\": \"#A2B1C6\", \"gridcolor\": \"#506784\", \"linecolor\": \"#506784\", \"minorgridcolor\": \"#506784\", \"startlinecolor\": \"#A2B1C6\"}, \"type\": \"carpet\"}], \"choropleth\": [{\"colorbar\": {\"outlinewidth\": 0, \"ticks\": \"\"}, \"type\": \"choropleth\"}], \"contour\": [{\"colorbar\": {\"outlinewidth\": 0, \"ticks\": \"\"}, \"colorscale\": [[0.0, \"#0d0887\"], [0.1111111111111111, \"#46039f\"], [0.2222222222222222, \"#7201a8\"], [0.3333333333333333, \"#9c179e\"], [0.4444444444444444, \"#bd3786\"], [0.5555555555555556, \"#d8576b\"], [0.6666666666666666, \"#ed7953\"], [0.7777777777777778, \"#fb9f3a\"], [0.8888888888888888, \"#fdca26\"], [1.0, \"#f0f921\"]], \"type\": \"contour\"}], \"contourcarpet\": [{\"colorbar\": {\"outlinewidth\": 0, \"ticks\": \"\"}, \"type\": \"contourcarpet\"}], \"heatmap\": [{\"colorbar\": {\"outlinewidth\": 0, \"ticks\": \"\"}, \"colorscale\": [[0.0, \"#0d0887\"], [0.1111111111111111, \"#46039f\"], [0.2222222222222222, \"#7201a8\"], [0.3333333333333333, \"#9c179e\"], [0.4444444444444444, \"#bd3786\"], [0.5555555555555556, \"#d8576b\"], [0.6666666666666666, \"#ed7953\"], [0.7777777777777778, \"#fb9f3a\"], [0.8888888888888888, \"#fdca26\"], [1.0, \"#f0f921\"]], \"type\": \"heatmap\"}], \"heatmapgl\": [{\"colorbar\": {\"outlinewidth\": 0, \"ticks\": \"\"}, \"colorscale\": [[0.0, \"#0d0887\"], [0.1111111111111111, \"#46039f\"], [0.2222222222222222, \"#7201a8\"], [0.3333333333333333, \"#9c179e\"], [0.4444444444444444, \"#bd3786\"], [0.5555555555555556, \"#d8576b\"], [0.6666666666666666, \"#ed7953\"], [0.7777777777777778, \"#fb9f3a\"], [0.8888888888888888, \"#fdca26\"], [1.0, \"#f0f921\"]], \"type\": \"heatmapgl\"}], \"histogram\": [{\"marker\": {\"colorbar\": {\"outlinewidth\": 0, \"ticks\": \"\"}}, \"type\": \"histogram\"}], \"histogram2d\": [{\"colorbar\": {\"outlinewidth\": 0, \"ticks\": \"\"}, \"colorscale\": [[0.0, \"#0d0887\"], [0.1111111111111111, \"#46039f\"], [0.2222222222222222, \"#7201a8\"], [0.3333333333333333, \"#9c179e\"], [0.4444444444444444, \"#bd3786\"], [0.5555555555555556, \"#d8576b\"], [0.6666666666666666, \"#ed7953\"], [0.7777777777777778, \"#fb9f3a\"], [0.8888888888888888, \"#fdca26\"], [1.0, \"#f0f921\"]], \"type\": \"histogram2d\"}], \"histogram2dcontour\": [{\"colorbar\": {\"outlinewidth\": 0, \"ticks\": \"\"}, \"colorscale\": [[0.0, \"#0d0887\"], [0.1111111111111111, \"#46039f\"], [0.2222222222222222, \"#7201a8\"], [0.3333333333333333, \"#9c179e\"], [0.4444444444444444, \"#bd3786\"], [0.5555555555555556, \"#d8576b\"], [0.6666666666666666, \"#ed7953\"], [0.7777777777777778, \"#fb9f3a\"], [0.8888888888888888, \"#fdca26\"], [1.0, \"#f0f921\"]], \"type\": \"histogram2dcontour\"}], \"mesh3d\": [{\"colorbar\": {\"outlinewidth\": 0, \"ticks\": \"\"}, \"type\": \"mesh3d\"}], \"parcoords\": [{\"line\": {\"colorbar\": {\"outlinewidth\": 0, \"ticks\": \"\"}}, \"type\": \"parcoords\"}], \"pie\": [{\"automargin\": true, \"type\": \"pie\"}], \"scatter\": [{\"marker\": {\"line\": {\"color\": \"#283442\"}}, \"type\": \"scatter\"}], \"scatter3d\": [{\"line\": {\"colorbar\": {\"outlinewidth\": 0, \"ticks\": \"\"}}, \"marker\": {\"colorbar\": {\"outlinewidth\": 0, \"ticks\": \"\"}}, \"type\": \"scatter3d\"}], \"scattercarpet\": [{\"marker\": {\"colorbar\": {\"outlinewidth\": 0, \"ticks\": \"\"}}, \"type\": \"scattercarpet\"}], \"scattergeo\": [{\"marker\": {\"colorbar\": {\"outlinewidth\": 0, \"ticks\": \"\"}}, \"type\": \"scattergeo\"}], \"scattergl\": [{\"marker\": {\"line\": {\"color\": \"#283442\"}}, \"type\": \"scattergl\"}], \"scattermapbox\": [{\"marker\": {\"colorbar\": {\"outlinewidth\": 0, \"ticks\": \"\"}}, \"type\": \"scattermapbox\"}], \"scatterpolar\": [{\"marker\": {\"colorbar\": {\"outlinewidth\": 0, \"ticks\": \"\"}}, \"type\": \"scatterpolar\"}], \"scatterpolargl\": [{\"marker\": {\"colorbar\": {\"outlinewidth\": 0, \"ticks\": \"\"}}, \"type\": \"scatterpolargl\"}], \"scatterternary\": [{\"marker\": {\"colorbar\": {\"outlinewidth\": 0, \"ticks\": \"\"}}, \"type\": \"scatterternary\"}], \"surface\": [{\"colorbar\": {\"outlinewidth\": 0, \"ticks\": \"\"}, \"colorscale\": [[0.0, \"#0d0887\"], [0.1111111111111111, \"#46039f\"], [0.2222222222222222, \"#7201a8\"], [0.3333333333333333, \"#9c179e\"], [0.4444444444444444, \"#bd3786\"], [0.5555555555555556, \"#d8576b\"], [0.6666666666666666, \"#ed7953\"], [0.7777777777777778, \"#fb9f3a\"], [0.8888888888888888, \"#fdca26\"], [1.0, \"#f0f921\"]], \"type\": \"surface\"}], \"table\": [{\"cells\": {\"fill\": {\"color\": \"#506784\"}, \"line\": {\"color\": \"rgb(17,17,17)\"}}, \"header\": {\"fill\": {\"color\": \"#2a3f5f\"}, \"line\": {\"color\": \"rgb(17,17,17)\"}}, \"type\": \"table\"}]}, \"layout\": {\"annotationdefaults\": {\"arrowcolor\": \"#f2f5fa\", \"arrowhead\": 0, \"arrowwidth\": 1}, \"autotypenumbers\": \"strict\", \"coloraxis\": {\"colorbar\": {\"outlinewidth\": 0, \"ticks\": \"\"}}, \"colorscale\": {\"diverging\": [[0, \"#8e0152\"], [0.1, \"#c51b7d\"], [0.2, \"#de77ae\"], [0.3, \"#f1b6da\"], [0.4, \"#fde0ef\"], [0.5, \"#f7f7f7\"], [0.6, \"#e6f5d0\"], [0.7, \"#b8e186\"], [0.8, \"#7fbc41\"], [0.9, \"#4d9221\"], [1, \"#276419\"]], \"sequential\": [[0.0, \"#0d0887\"], [0.1111111111111111, \"#46039f\"], [0.2222222222222222, \"#7201a8\"], [0.3333333333333333, \"#9c179e\"], [0.4444444444444444, \"#bd3786\"], [0.5555555555555556, \"#d8576b\"], [0.6666666666666666, \"#ed7953\"], [0.7777777777777778, \"#fb9f3a\"], [0.8888888888888888, \"#fdca26\"], [1.0, \"#f0f921\"]], \"sequentialminus\": [[0.0, \"#0d0887\"], [0.1111111111111111, \"#46039f\"], [0.2222222222222222, \"#7201a8\"], [0.3333333333333333, \"#9c179e\"], [0.4444444444444444, \"#bd3786\"], [0.5555555555555556, \"#d8576b\"], [0.6666666666666666, \"#ed7953\"], [0.7777777777777778, \"#fb9f3a\"], [0.8888888888888888, \"#fdca26\"], [1.0, \"#f0f921\"]]}, \"colorway\": [\"#636efa\", \"#EF553B\", \"#00cc96\", \"#ab63fa\", \"#FFA15A\", \"#19d3f3\", \"#FF6692\", \"#B6E880\", \"#FF97FF\", \"#FECB52\"], \"font\": {\"color\": \"#f2f5fa\"}, \"geo\": {\"bgcolor\": \"rgb(17,17,17)\", \"lakecolor\": \"rgb(17,17,17)\", \"landcolor\": \"rgb(17,17,17)\", \"showlakes\": true, \"showland\": true, \"subunitcolor\": \"#506784\"}, \"hoverlabel\": {\"align\": \"left\"}, \"hovermode\": \"closest\", \"mapbox\": {\"style\": \"dark\"}, \"paper_bgcolor\": \"rgb(17,17,17)\", \"plot_bgcolor\": \"rgb(17,17,17)\", \"polar\": {\"angularaxis\": {\"gridcolor\": \"#506784\", \"linecolor\": \"#506784\", \"ticks\": \"\"}, \"bgcolor\": \"rgb(17,17,17)\", \"radialaxis\": {\"gridcolor\": \"#506784\", \"linecolor\": \"#506784\", \"ticks\": \"\"}}, \"scene\": {\"xaxis\": {\"backgroundcolor\": \"rgb(17,17,17)\", \"gridcolor\": \"#506784\", \"gridwidth\": 2, \"linecolor\": \"#506784\", \"showbackground\": true, \"ticks\": \"\", \"zerolinecolor\": \"#C8D4E3\"}, \"yaxis\": {\"backgroundcolor\": \"rgb(17,17,17)\", \"gridcolor\": \"#506784\", \"gridwidth\": 2, \"linecolor\": \"#506784\", \"showbackground\": true, \"ticks\": \"\", \"zerolinecolor\": \"#C8D4E3\"}, \"zaxis\": {\"backgroundcolor\": \"rgb(17,17,17)\", \"gridcolor\": \"#506784\", \"gridwidth\": 2, \"linecolor\": \"#506784\", \"showbackground\": true, \"ticks\": \"\", \"zerolinecolor\": \"#C8D4E3\"}}, \"shapedefaults\": {\"line\": {\"color\": \"#f2f5fa\"}}, \"sliderdefaults\": {\"bgcolor\": \"#C8D4E3\", \"bordercolor\": \"rgb(17,17,17)\", \"borderwidth\": 1, \"tickwidth\": 0}, \"ternary\": {\"aaxis\": {\"gridcolor\": \"#506784\", \"linecolor\": \"#506784\", \"ticks\": \"\"}, \"baxis\": {\"gridcolor\": \"#506784\", \"linecolor\": \"#506784\", \"ticks\": \"\"}, \"bgcolor\": \"rgb(17,17,17)\", \"caxis\": {\"gridcolor\": \"#506784\", \"linecolor\": \"#506784\", \"ticks\": \"\"}}, \"title\": {\"x\": 0.05}, \"updatemenudefaults\": {\"bgcolor\": \"#506784\", \"borderwidth\": 0}, \"xaxis\": {\"automargin\": true, \"gridcolor\": \"#283442\", \"linecolor\": \"#506784\", \"ticks\": \"\", \"title\": {\"standoff\": 15}, \"zerolinecolor\": \"#283442\", \"zerolinewidth\": 2}, \"yaxis\": {\"automargin\": true, \"gridcolor\": \"#283442\", \"linecolor\": \"#506784\", \"ticks\": \"\", \"title\": {\"standoff\": 15}, \"zerolinecolor\": \"#283442\", \"zerolinewidth\": 2}}}, \"title\": {\"text\": \"Mission en 2020 par pays\"}, \"xaxis\": {\"anchor\": \"y\", \"domain\": [0.0, 1.0], \"title\": {\"text\": \"Country\"}}, \"yaxis\": {\"anchor\": \"x\", \"domain\": [0.0, 1.0], \"title\": {\"text\": \"Launcher\"}}},                        {\"responsive\": true}                    ).then(function(){\n",
              "                            \n",
              "var gd = document.getElementById('b2a65553-2f09-4106-a8ad-51e99c6d4df5');\n",
              "var x = new MutationObserver(function (mutations, observer) {{\n",
              "        var display = window.getComputedStyle(gd).display;\n",
              "        if (!display || display === 'none') {{\n",
              "            console.log([gd, 'removed!']);\n",
              "            Plotly.purge(gd);\n",
              "            observer.disconnect();\n",
              "        }}\n",
              "}});\n",
              "\n",
              "// Listen for the removal of the full notebook cells\n",
              "var notebookContainer = gd.closest('#notebook-container');\n",
              "if (notebookContainer) {{\n",
              "    x.observe(notebookContainer, {childList: true});\n",
              "}}\n",
              "\n",
              "// Listen for the clearing of the current output cell\n",
              "var outputEl = gd.closest('.output');\n",
              "if (outputEl) {{\n",
              "    x.observe(outputEl, {childList: true});\n",
              "}}\n",
              "\n",
              "                        })                };                            </script>        </div>\n",
              "</body>\n",
              "</html>"
            ]
          },
          "metadata": {
            "tags": []
          }
        }
      ]
    },
    {
      "cell_type": "code",
      "metadata": {
        "id": "C2gRBOj_rACC"
      },
      "source": [
        ""
      ],
      "execution_count": null,
      "outputs": []
    },
    {
      "cell_type": "code",
      "metadata": {
        "id": "gCC_rgTdq_4A"
      },
      "source": [
        ""
      ],
      "execution_count": null,
      "outputs": []
    },
    {
      "cell_type": "markdown",
      "metadata": {
        "id": "2aj3ismLwjw3"
      },
      "source": [
        "#Etude \"Status Mission\""
      ]
    },
    {
      "cell_type": "code",
      "metadata": {
        "colab": {
          "base_uri": "https://localhost:8080/"
        },
        "id": "NlxNJV0CZFad",
        "outputId": "6456360e-d654-4f64-b178-62fc23e1e0d8"
      },
      "source": [
        "space_cor[\"Status Mission\"].unique()"
      ],
      "execution_count": null,
      "outputs": [
        {
          "output_type": "execute_result",
          "data": {
            "text/plain": [
              "array(['Success', 'Failure', 'Prelaunch Failure', 'Partial Failure'],\n",
              "      dtype=object)"
            ]
          },
          "metadata": {
            "tags": []
          },
          "execution_count": 71
        }
      ]
    },
    {
      "cell_type": "code",
      "metadata": {
        "colab": {
          "base_uri": "https://localhost:8080/",
          "height": 168
        },
        "id": "ZlQpPGmHARSZ",
        "outputId": "8aab014d-95dd-4f96-fa40-74facbb59221"
      },
      "source": [
        "space_cor.loc[(space_cor[\"Status Mission\"]==\"Prelaunch Failure\")]"
      ],
      "execution_count": null,
      "outputs": [
        {
          "output_type": "execute_result",
          "data": {
            "text/html": [
              "<div>\n",
              "<style scoped>\n",
              "    .dataframe tbody tr th:only-of-type {\n",
              "        vertical-align: middle;\n",
              "    }\n",
              "\n",
              "    .dataframe tbody tr th {\n",
              "        vertical-align: top;\n",
              "    }\n",
              "\n",
              "    .dataframe thead th {\n",
              "        text-align: right;\n",
              "    }\n",
              "</style>\n",
              "<table border=\"1\" class=\"dataframe\">\n",
              "  <thead>\n",
              "    <tr style=\"text-align: right;\">\n",
              "      <th></th>\n",
              "      <th>Company Name</th>\n",
              "      <th>Country</th>\n",
              "      <th>Launcher</th>\n",
              "      <th>Shuttle</th>\n",
              "      <th>Rocket</th>\n",
              "      <th>Status Rocket</th>\n",
              "      <th>Year</th>\n",
              "      <th>Month</th>\n",
              "      <th>Status Mission</th>\n",
              "    </tr>\n",
              "  </thead>\n",
              "  <tbody>\n",
              "    <tr>\n",
              "      <th>106</th>\n",
              "      <td>ISA</td>\n",
              "      <td>Iran</td>\n",
              "      <td>Safir-1B+</td>\n",
              "      <td>Nahid-1</td>\n",
              "      <td>NaN</td>\n",
              "      <td>StatusActive</td>\n",
              "      <td>2019</td>\n",
              "      <td>8</td>\n",
              "      <td>Prelaunch Failure</td>\n",
              "    </tr>\n",
              "    <tr>\n",
              "      <th>413</th>\n",
              "      <td>SpaceX</td>\n",
              "      <td>USA</td>\n",
              "      <td>Falcon 9 Block 3</td>\n",
              "      <td>AMOS-6</td>\n",
              "      <td>62.0</td>\n",
              "      <td>StatusRetired</td>\n",
              "      <td>2016</td>\n",
              "      <td>9</td>\n",
              "      <td>Prelaunch Failure</td>\n",
              "    </tr>\n",
              "    <tr>\n",
              "      <th>1032</th>\n",
              "      <td>AEB</td>\n",
              "      <td>Brazil</td>\n",
              "      <td>VLS-1</td>\n",
              "      <td>SATEC, UNOSAT</td>\n",
              "      <td>NaN</td>\n",
              "      <td>StatusActive</td>\n",
              "      <td>2003</td>\n",
              "      <td>8</td>\n",
              "      <td>Prelaunch Failure</td>\n",
              "    </tr>\n",
              "    <tr>\n",
              "      <th>3816</th>\n",
              "      <td>RVSN USSR</td>\n",
              "      <td>Kazakhstan</td>\n",
              "      <td>Soyuz</td>\n",
              "      <td>Soyuz 7K-OK n†­1</td>\n",
              "      <td>NaN</td>\n",
              "      <td>StatusRetired</td>\n",
              "      <td>1966</td>\n",
              "      <td>12</td>\n",
              "      <td>Prelaunch Failure</td>\n",
              "    </tr>\n",
              "  </tbody>\n",
              "</table>\n",
              "</div>"
            ],
            "text/plain": [
              "     Company Name     Country  ... Month     Status Mission\n",
              "106           ISA        Iran  ...     8  Prelaunch Failure\n",
              "413        SpaceX         USA  ...     9  Prelaunch Failure\n",
              "1032          AEB      Brazil  ...     8  Prelaunch Failure\n",
              "3816    RVSN USSR  Kazakhstan  ...    12  Prelaunch Failure\n",
              "\n",
              "[4 rows x 9 columns]"
            ]
          },
          "metadata": {
            "tags": []
          },
          "execution_count": 72
        }
      ]
    },
    {
      "cell_type": "code",
      "metadata": {
        "colab": {
          "base_uri": "https://localhost:8080/",
          "height": 168
        },
        "id": "n4Mf1-u_WKvk",
        "outputId": "375375ce-aebe-4c4c-af5c-223b66aca95e"
      },
      "source": [
        "space_cor.loc[(space_cor[\"Status Mission\"]==\"Failure\") & (space_cor[\"Year\"]==1986)]"
      ],
      "execution_count": null,
      "outputs": [
        {
          "output_type": "execute_result",
          "data": {
            "text/html": [
              "<div>\n",
              "<style scoped>\n",
              "    .dataframe tbody tr th:only-of-type {\n",
              "        vertical-align: middle;\n",
              "    }\n",
              "\n",
              "    .dataframe tbody tr th {\n",
              "        vertical-align: top;\n",
              "    }\n",
              "\n",
              "    .dataframe thead th {\n",
              "        text-align: right;\n",
              "    }\n",
              "</style>\n",
              "<table border=\"1\" class=\"dataframe\">\n",
              "  <thead>\n",
              "    <tr style=\"text-align: right;\">\n",
              "      <th></th>\n",
              "      <th>Company Name</th>\n",
              "      <th>Country</th>\n",
              "      <th>Launcher</th>\n",
              "      <th>Shuttle</th>\n",
              "      <th>Rocket</th>\n",
              "      <th>Status Rocket</th>\n",
              "      <th>Year</th>\n",
              "      <th>Month</th>\n",
              "      <th>Status Mission</th>\n",
              "    </tr>\n",
              "  </thead>\n",
              "  <tbody>\n",
              "    <tr>\n",
              "      <th>2040</th>\n",
              "      <td>RVSN USSR</td>\n",
              "      <td>Russian Federation</td>\n",
              "      <td>Tsyklon-3</td>\n",
              "      <td>Cosmos 1786 to 1791</td>\n",
              "      <td>NaN</td>\n",
              "      <td>StatusRetired</td>\n",
              "      <td>1986</td>\n",
              "      <td>10</td>\n",
              "      <td>Failure</td>\n",
              "    </tr>\n",
              "    <tr>\n",
              "      <th>2061</th>\n",
              "      <td>Arianespace</td>\n",
              "      <td>France</td>\n",
              "      <td>Ariane 2</td>\n",
              "      <td>Intelsat-5A 14</td>\n",
              "      <td>NaN</td>\n",
              "      <td>StatusRetired</td>\n",
              "      <td>1986</td>\n",
              "      <td>5</td>\n",
              "      <td>Failure</td>\n",
              "    </tr>\n",
              "    <tr>\n",
              "      <th>2066</th>\n",
              "      <td>Martin Marietta</td>\n",
              "      <td>USA</td>\n",
              "      <td>Titan 34D</td>\n",
              "      <td>KH-9</td>\n",
              "      <td>NaN</td>\n",
              "      <td>StatusRetired</td>\n",
              "      <td>1986</td>\n",
              "      <td>4</td>\n",
              "      <td>Failure</td>\n",
              "    </tr>\n",
              "    <tr>\n",
              "      <th>2079</th>\n",
              "      <td>NASA</td>\n",
              "      <td>USA</td>\n",
              "      <td>Space Shuttle Challenger</td>\n",
              "      <td>STS-51-L</td>\n",
              "      <td>450.0</td>\n",
              "      <td>StatusRetired</td>\n",
              "      <td>1986</td>\n",
              "      <td>1</td>\n",
              "      <td>Failure</td>\n",
              "    </tr>\n",
              "  </tbody>\n",
              "</table>\n",
              "</div>"
            ],
            "text/plain": [
              "         Company Name             Country  ... Month Status Mission\n",
              "2040        RVSN USSR  Russian Federation  ...    10        Failure\n",
              "2061      Arianespace              France  ...     5        Failure\n",
              "2066  Martin Marietta                 USA  ...     4        Failure\n",
              "2079             NASA                 USA  ...     1        Failure\n",
              "\n",
              "[4 rows x 9 columns]"
            ]
          },
          "metadata": {
            "tags": []
          },
          "execution_count": 73
        }
      ]
    },
    {
      "cell_type": "code",
      "metadata": {
        "colab": {
          "base_uri": "https://localhost:8080/",
          "height": 407
        },
        "id": "7Rmrs_RgWKtR",
        "outputId": "90e8a8ac-f91a-421b-c5b1-f56b14062752"
      },
      "source": [
        "space_cor.loc[(space_cor[\"Status Mission\"]==\"Partial Failure\")]"
      ],
      "execution_count": null,
      "outputs": [
        {
          "output_type": "execute_result",
          "data": {
            "text/html": [
              "<div>\n",
              "<style scoped>\n",
              "    .dataframe tbody tr th:only-of-type {\n",
              "        vertical-align: middle;\n",
              "    }\n",
              "\n",
              "    .dataframe tbody tr th {\n",
              "        vertical-align: top;\n",
              "    }\n",
              "\n",
              "    .dataframe thead th {\n",
              "        text-align: right;\n",
              "    }\n",
              "</style>\n",
              "<table border=\"1\" class=\"dataframe\">\n",
              "  <thead>\n",
              "    <tr style=\"text-align: right;\">\n",
              "      <th></th>\n",
              "      <th>Company Name</th>\n",
              "      <th>Country</th>\n",
              "      <th>Launcher</th>\n",
              "      <th>Shuttle</th>\n",
              "      <th>Rocket</th>\n",
              "      <th>Status Rocket</th>\n",
              "      <th>Year</th>\n",
              "      <th>Month</th>\n",
              "      <th>Status Mission</th>\n",
              "    </tr>\n",
              "  </thead>\n",
              "  <tbody>\n",
              "    <tr>\n",
              "      <th>127</th>\n",
              "      <td>Exos</td>\n",
              "      <td>USA</td>\n",
              "      <td>SARGE</td>\n",
              "      <td>Launch 3</td>\n",
              "      <td>NaN</td>\n",
              "      <td>StatusActive</td>\n",
              "      <td>2019</td>\n",
              "      <td>6</td>\n",
              "      <td>Partial Failure</td>\n",
              "    </tr>\n",
              "    <tr>\n",
              "      <th>157</th>\n",
              "      <td>Exos</td>\n",
              "      <td>USA</td>\n",
              "      <td>SARGE</td>\n",
              "      <td>Launch 2</td>\n",
              "      <td>NaN</td>\n",
              "      <td>StatusActive</td>\n",
              "      <td>2019</td>\n",
              "      <td>3</td>\n",
              "      <td>Partial Failure</td>\n",
              "    </tr>\n",
              "    <tr>\n",
              "      <th>219</th>\n",
              "      <td>Exos</td>\n",
              "      <td>USA</td>\n",
              "      <td>SARGE</td>\n",
              "      <td>Launch 1</td>\n",
              "      <td>NaN</td>\n",
              "      <td>StatusActive</td>\n",
              "      <td>2018</td>\n",
              "      <td>8</td>\n",
              "      <td>Partial Failure</td>\n",
              "    </tr>\n",
              "    <tr>\n",
              "      <th>277</th>\n",
              "      <td>Arianespace</td>\n",
              "      <td>France</td>\n",
              "      <td>Ariane 5 ECA</td>\n",
              "      <td>SES-14/GOLD &amp; Al Yah-3</td>\n",
              "      <td>200.0</td>\n",
              "      <td>StatusActive</td>\n",
              "      <td>2018</td>\n",
              "      <td>1</td>\n",
              "      <td>Partial Failure</td>\n",
              "    </tr>\n",
              "    <tr>\n",
              "      <th>336</th>\n",
              "      <td>Roscosmos</td>\n",
              "      <td>Kazakhstan</td>\n",
              "      <td>Soyuz 2.1a/Fregat</td>\n",
              "      <td>Kanopus-V IK &amp; Rideshares</td>\n",
              "      <td>48.5</td>\n",
              "      <td>StatusActive</td>\n",
              "      <td>2017</td>\n",
              "      <td>7</td>\n",
              "      <td>Partial Failure</td>\n",
              "    </tr>\n",
              "    <tr>\n",
              "      <th>...</th>\n",
              "      <td>...</td>\n",
              "      <td>...</td>\n",
              "      <td>...</td>\n",
              "      <td>...</td>\n",
              "      <td>...</td>\n",
              "      <td>...</td>\n",
              "      <td>...</td>\n",
              "      <td>...</td>\n",
              "      <td>...</td>\n",
              "    </tr>\n",
              "    <tr>\n",
              "      <th>4277</th>\n",
              "      <td>US Navy</td>\n",
              "      <td>USA</td>\n",
              "      <td>Vanguard</td>\n",
              "      <td>Vanguard 3</td>\n",
              "      <td>NaN</td>\n",
              "      <td>StatusRetired</td>\n",
              "      <td>1959</td>\n",
              "      <td>9</td>\n",
              "      <td>Partial Failure</td>\n",
              "    </tr>\n",
              "    <tr>\n",
              "      <th>4280</th>\n",
              "      <td>NASA</td>\n",
              "      <td>USA</td>\n",
              "      <td>Atlas-D Mercury</td>\n",
              "      <td>Big Joe 1</td>\n",
              "      <td>NaN</td>\n",
              "      <td>StatusRetired</td>\n",
              "      <td>1959</td>\n",
              "      <td>9</td>\n",
              "      <td>Partial Failure</td>\n",
              "    </tr>\n",
              "    <tr>\n",
              "      <th>4292</th>\n",
              "      <td>RVSN USSR</td>\n",
              "      <td>Kazakhstan</td>\n",
              "      <td>Vostok</td>\n",
              "      <td>Luna-1</td>\n",
              "      <td>NaN</td>\n",
              "      <td>StatusRetired</td>\n",
              "      <td>1959</td>\n",
              "      <td>1</td>\n",
              "      <td>Partial Failure</td>\n",
              "    </tr>\n",
              "    <tr>\n",
              "      <th>4294</th>\n",
              "      <td>AMBA</td>\n",
              "      <td>USA</td>\n",
              "      <td>Juno II</td>\n",
              "      <td>Pioneer 3</td>\n",
              "      <td>NaN</td>\n",
              "      <td>StatusRetired</td>\n",
              "      <td>1958</td>\n",
              "      <td>12</td>\n",
              "      <td>Partial Failure</td>\n",
              "    </tr>\n",
              "    <tr>\n",
              "      <th>4299</th>\n",
              "      <td>NASA</td>\n",
              "      <td>USA</td>\n",
              "      <td>Thor-DM 18 Able I</td>\n",
              "      <td>Pioneer 1</td>\n",
              "      <td>NaN</td>\n",
              "      <td>StatusRetired</td>\n",
              "      <td>1958</td>\n",
              "      <td>10</td>\n",
              "      <td>Partial Failure</td>\n",
              "    </tr>\n",
              "  </tbody>\n",
              "</table>\n",
              "<p>102 rows × 9 columns</p>\n",
              "</div>"
            ],
            "text/plain": [
              "     Company Name     Country            Launcher  ...  Year  Month   Status Mission\n",
              "127          Exos         USA              SARGE   ...  2019      6  Partial Failure\n",
              "157          Exos         USA              SARGE   ...  2019      3  Partial Failure\n",
              "219          Exos         USA              SARGE   ...  2018      8  Partial Failure\n",
              "277   Arianespace      France       Ariane 5 ECA   ...  2018      1  Partial Failure\n",
              "336     Roscosmos  Kazakhstan  Soyuz 2.1a/Fregat   ...  2017      7  Partial Failure\n",
              "...           ...         ...                 ...  ...   ...    ...              ...\n",
              "4277      US Navy         USA           Vanguard   ...  1959      9  Partial Failure\n",
              "4280         NASA         USA    Atlas-D Mercury   ...  1959      9  Partial Failure\n",
              "4292    RVSN USSR  Kazakhstan             Vostok   ...  1959      1  Partial Failure\n",
              "4294         AMBA         USA            Juno II   ...  1958     12  Partial Failure\n",
              "4299         NASA         USA  Thor-DM 18 Able I   ...  1958     10  Partial Failure\n",
              "\n",
              "[102 rows x 9 columns]"
            ]
          },
          "metadata": {
            "tags": []
          },
          "execution_count": 74
        }
      ]
    },
    {
      "cell_type": "code",
      "metadata": {
        "id": "vc8UPNGzWKb-"
      },
      "source": [
        ""
      ],
      "execution_count": null,
      "outputs": []
    },
    {
      "cell_type": "code",
      "metadata": {
        "id": "vuvh0WvhWKZf"
      },
      "source": [
        "!pip install datapane "
      ],
      "execution_count": null,
      "outputs": []
    },
    {
      "cell_type": "code",
      "metadata": {
        "id": "2NZwhEEP3K9K"
      },
      "source": [
        "import datapane as dp"
      ],
      "execution_count": null,
      "outputs": []
    },
    {
      "cell_type": "code",
      "metadata": {
        "colab": {
          "base_uri": "https://localhost:8080/",
          "height": 54
        },
        "id": "5UZJDylG3MfV",
        "outputId": "e9e90ccc-44d0-4636-b6ab-f90bfe837d17"
      },
      "source": [
        "your_token = '4ae0d73560f248d240c71910b9beac09a86828ea'\n",
        "dp.login(token=your_token)"
      ],
      "execution_count": null,
      "outputs": [
        {
          "output_type": "stream",
          "text": [
            "\u001b[32mConnected successfully to https://datapane.com as ramdanetlemcani\u001b[0m\n"
          ],
          "name": "stdout"
        },
        {
          "output_type": "execute_result",
          "data": {
            "application/vnd.google.colaboratory.intrinsic+json": {
              "type": "string"
            },
            "text/plain": [
              "'ramdanetlemcani'"
            ]
          },
          "metadata": {
            "tags": []
          },
          "execution_count": 79
        }
      ]
    },
    {
      "cell_type": "code",
      "metadata": {
        "id": "sRxhSTgXBtmL"
      },
      "source": [
        "report=dp.Report(\"Analysis of space missions\",\n",
        "    dp.Group(\n",
        "        dp.Table(cout_pivot_table, caption=f'Dépense par Pays'),\n",
        "        dp.Table(space_cor_2018, caption=f'Lanceur par Pays'),        \n",
        "        columns=2,label = 'Dépense des Pays'),\n",
        "    dp.Group(\n",
        "        dp.Plot(CMS, caption=f'Missions Status per Counrty'),\n",
        "        dp.Plot(CcMS, caption=f'Company and Mission Status'),\n",
        "        columns=2),\n",
        "    dp.Group(\n",
        "        dp.Plot(CQC, caption=f\"Company quantity/Country\"),\n",
        "        columns=1, label='Number of Compnay per Country'),\n",
        "    dp.Group(\n",
        "        dp.Plot(ECMS, caption=f'Status des missions pour chaque compagnies'),\n",
        "        columns=1),\n",
        "    dp.Group(\n",
        "        dp.Plot(CCMS, caption=f'Status des missions pour chaque compagnies'),\n",
        "        columns=1),\n",
        "    dp.Group(\n",
        "        dp.Plot(TCP, caption=f'10 Compagnies les plus dépensieres'),\n",
        "        dp.Plot(DPP, caption=f'Dépense des pays pour les projets spatiaux (en M de $)'),\n",
        "        columns=2),\n",
        "    dp.Group(\n",
        "        dp.Plot(TMC, caption=f'10 Lanceur les plus dépensieres'),\n",
        "        columns=1),\n",
        "    dp.Group(\n",
        "        dp.Plot(LA, caption=f'Taux de réussite VS Echec'),\n",
        "        columns=1),\n",
        "    dp.Group(\n",
        "        dp.Plot(LAO, caption=f'Taux de réussite VS Echec'),\n",
        "        dp.Plot(MRP, caption=f'Taux de réussite VS Echec'),\n",
        "        columns=2),\n",
        "    dp.Group(\n",
        "        dp.Plot(SFA, caption=f'Taux de réussite VS Echec'),\n",
        "        columns=1),\n",
        "        \n",
        "    type=dp.ReportType.DASHBOARD)"
      ],
      "execution_count": null,
      "outputs": []
    },
    {
      "cell_type": "code",
      "metadata": {
        "colab": {
          "base_uri": "https://localhost:8080/"
        },
        "id": "6mCs4pKKDpy_",
        "outputId": "85715c6e-9adb-4bb6-a394-57f1a306a7c4"
      },
      "source": [
        "report.publish(name = \"Etudes des missions spatiales depuis 1957\")"
      ],
      "execution_count": null,
      "outputs": [
        {
          "output_type": "stream",
          "text": [
            "Publishing document and associated data - *please wait...*\n",
            "Report successfully published at https://datapane.com/u/ramdanetlemcani/reports/test/ - you can edit and add additional text from the link\n"
          ],
          "name": "stdout"
        }
      ]
    }
  ]
}